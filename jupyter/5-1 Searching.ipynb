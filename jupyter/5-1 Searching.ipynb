{
 "cells": [
  {
   "cell_type": "markdown",
   "metadata": {},
   "source": [
    "그가 찔림은 우리의 허물 때문이요 그가 상함은 우리의 죄악 때문이라 그가 징계를 받으므로 우리는 평화를 누리고 그가 채찍에 맞으므로 우리는 나음을 받았도다 우리는 다 양 같아서 그릇 행하여 각기 제 길로 갔거늘 여호와께서는 우리 모두의 죄악을 그에게 담당시키셨도다 (사53:5-6)\n",
    "\n",
    "-------\n",
    "<center><img src=\"https://github.com/idebtor/DSpy/blob/6b3676c3de29f85d2e7f30679676d1fd96d88b17/images/WelcomeToDataStructures.jpg?raw=true\" width=1000></center>\n",
    "\n",
    "__NOTE:__ The following materials have been compiled and adapted from the numerous sources including my own. Please help me to keep this tutorial up-to-date by reporting any issues or questions. Send any comments or criticisms to `idebtor@gmail.com` Your assistances and comments will be appreciated.\n",
    "\n",
    "--------"
   ]
  },
  {
   "cell_type": "markdown",
   "metadata": {},
   "source": [
    "\n",
    "<b style=\"font-size:30px\"> Chapter 5. Searching, Sorting and Hashing </b>\n",
    "\n",
    ": 데이터를 저장하고 탐색하는 방식인 Searching, Sorting, and Hashing에 대해 배웁니다.  \n",
    "\n",
    "--------------\n",
    "제 5장에서는 검색(Searching), 정렬(Sorting) 그리고 해싱(Hashing)에 대해 알아봅니다. 이는 데이터의 저장과 열람을 효과적으로 수행할 수 있게 하며, 많은 알고리즘과 데이터베이스 기술에 사용되는 등 중요한 자료구조 내용입니다. 어떻게 하면 더 효율적이게 구현할 수 있을지, 어떤 장단점이 있는지 등을 생각하며 재미있게 배우시면 좋겠습니다!"
   ]
  },
  {
   "cell_type": "markdown",
   "metadata": {},
   "source": [
    "<b style=\"font-size:20px\"> Objectives: </b>\n",
    ": Chapter 5에서 배우고자하는 목표를 살펴봅시다."
   ]
  },
  {
   "cell_type": "markdown",
   "metadata": {},
   "source": [
    "* 순차적 검색(sequential search) 및 이진 검색(binary search)을 설명하고 구현할 수 있습니다.\n",
    "\n",
    "* 선택(selection) 정렬, 버블(bubble) 정렬, 병합(merge) 정렬, 빠른(quick) 정렬, 삽입(insertion) 정렬 및 셸(shell) 정렬을 설명하고 구현할 수 있습니다.\n",
    "\n",
    "* 여러 검색 기법 중 해싱의 개념을 이해하는 것.\n",
    "\n",
    "* 맵(map) 추상 데이터 유형을 소개합니다.\n",
    "\n",
    "* 해시를 사용하여 맵(map) 추상 데이터 유형을 구현합니다."
   ]
  },
  {
   "cell_type": "markdown",
   "metadata": {},
   "source": [
    "<b style=\"font-size:30px\"> Chapter 5.1 Searching </b>\n",
    "\n",
    "# 검색 \n",
    ": 저장된 데이터를 효율적으로 검색하는 방법을 배웁니다.\n",
    "\n",
    "1.1 순차적 검색 (Sequential Search)  \n",
    "1.2 이진 검색 (Binary Search)"
   ]
  },
  {
   "cell_type": "markdown",
   "metadata": {},
   "source": [
    "컴퓨터 연산에서 가장 많이 다루게 되는 문제 중 하나인 검색(searching)을 배워보도록 하겠습니다. 검색이란, 여러 데이터의 컬렉션 속에서 특정 데이터를 찾는 알고리즘 과정입니다. 보통 검색은, 해당 원소가 저장공간 내에 존재하는지를 참/거짓의 불리언 값으로 리턴하게 되는데, 어떠한 경우에는 해당 원소가 저장된 위치를 리턴하는 경우도 존재합니다. 우리는 먼저 데이터의 존재 유무에 대해 관심을 갖도록 하겠습니다."
   ]
  },
  {
   "cell_type": "markdown",
   "metadata": {},
   "source": [
    "파이썬에서는 이 과정이 아주 간단하게 구현되어있습니다. 한 원소가 리스트에 있는지 확인하려면 `in` 연산자를 사용하면 됩니다."
   ]
  },
  {
   "cell_type": "code",
   "execution_count": null,
   "metadata": {},
   "outputs": [],
   "source": [
    "print(15 in [3,5,2,4,1,10])\n",
    "print(4 in [3,5,2,4,1,10])"
   ]
  },
  {
   "cell_type": "markdown",
   "metadata": {},
   "source": [
    "이렇게나 간단히 구현할 수 있지만, 우리는 이 연산자에 대한 기저 연산 과정을 이해해야합니다.  \n",
    "검색에는 참 많은 방법이 존재합니다. 이번 챕터에서는 다양한 검색 방법을 공부하고, 각 검색방법을 비교해보도록 하겠습니다."
   ]
  },
  {
   "cell_type": "markdown",
   "metadata": {},
   "source": [
    "## 순차적 검색 (Sequential Search)\n",
    ": 가장 단순하고 직관적인 순차적 검색 방법에 대해 배웁니다."
   ]
  },
  {
   "cell_type": "markdown",
   "metadata": {},
   "source": [
    "일반적으로 데이터를 리스트와 같은 컬렉션에 저장하게 될때, 우리는 데이터들이 선형 관계, 혹은 순차적 관계를 갖는다고 말합니다. 각 데이터는 서로에 대한 상대적인 위치를 갖고, 파이썬에서는 이를 인덱스로 나타냅니다. 이때, 인덱스가 순차적으로 정렬되어있기 때문에, 우리는 리스트에 있는 정보를 순차적으로 접근할 수 있게 되는 것입니다. 이러한 과정은 우리가 가장 먼저 배울 __순차적 검색__의 기반이 됩니다."
   ]
  },
  {
   "cell_type": "markdown",
   "metadata": {},
   "source": [
    "그림 1은 순차적 검색이 이루어지는 과정을 나타낸 그림입니다. 리스트의 첫번째 원소를 시작으로, 내제된 순차적 순서에 따라 데이터를 확인하게됩니다. 리스트의 끝까지 탐색이 완료되었는데 찾는 원소를 발견하지 못했다면 리스트에 해당 원소가 없다고 말할 수 있습니다."
   ]
  },
  {
   "cell_type": "markdown",
   "metadata": {},
   "source": [
    "<center><img src=\"https://github.com/idebtor/DSpy/blob/main/images/chap5/ch5-1.jpg?raw=true\" width=\"500\" title=\"Figure 1. Sequential Search of a List of Integers\"></center>\n",
    "<center>그림 1. 정수 리스트의 순차적 검색 예시<center><br>"
   ]
  },
  {
   "cell_type": "markdown",
   "metadata": {},
   "source": [
    "해당 알고리즘에 대한 파이썬 구현은 목차 1과 같습니다. 데이터를 저장한 리스트와 찾고자하는 데이터를 주면, 존재 유무를 불리언 값으로 리턴시켜줍니다."
   ]
  },
  {
   "cell_type": "code",
   "execution_count": null,
   "metadata": {},
   "outputs": [],
   "source": [
    "# 목차 1\n",
    "def sequentialSearch(alist, item):\n",
    "    pos = 0\n",
    "    found = False\n",
    "\n",
    "    while pos < len(alist) and not found:\n",
    "        if alist[pos] == item:\n",
    "            found = True\n",
    "        else:\n",
    "            pos = pos+1\n",
    "\n",
    "    return found\n",
    "\n",
    "testlist = [1, 2, 32, 8, 17, 19, 42, 13, 0]\n",
    "print(sequentialSearch(testlist, 3))\n",
    "print(sequentialSearch(testlist, 13))"
   ]
  },
  {
   "cell_type": "markdown",
   "metadata": {},
   "source": [
    "### 순차적 검색의 분석"
   ]
  },
  {
   "cell_type": "markdown",
   "metadata": {},
   "source": [
    "먼저 검색 알고리즘들을 분석하기 위해선, 연산의 기본 단위를 정해야합니다. 이 기본 단위는, 각 알고리즘을 통해 문제를 해결할 때 반복적으로 활용되는 가장 기초적인 단계입니다. 검색 문제의 경우, 비교 연산의 횟수를 비교하는 것이 합리적일 것입니다. 또한, 리스트에 저장된 데이터는 정렬되지 않음을 가정해야 할 것입니다."
   ]
  },
  {
   "cell_type": "markdown",
   "metadata": {},
   "source": [
    "리스트에 원하는 데이터가 없다는 것을 알기 위해선, 리스트에 있는 모든 데이터를 일일이 비교하는 수 밖에 없습니다. 만약 n개의 데이터가 있다고 가정한다면, 순차적 검색은 n번의 비교연산을 거쳐야만 리스트에 해당 데이터가 없음을 알 수 있습니다. 하지만 만약 데이터가 리스트에 존재한다면, 연산 횟수를 정확하게 정의하기 어렵습니다. 따라서 우리는 3가지 경우를 고려할 수 있습니다. 첫번째 데이터가 찾는 데이터일 경우(_Best Case_), 가장 마지막 위치에 찾는 데이터가 존재할 경우(_Worst Case_), 그리고 평균적으로 필요한 연산의 수(_Average Case_)입니다. 표 1은 이 경우를 정리한 것입니다."
   ]
  },
  {
   "cell_type": "markdown",
   "metadata": {},
   "source": [
    "|   Case   | Best Case | Worst Case | Average Case |\n",
    "|:--------:|:---------:|:----------:|:------------:|\n",
    "|item is present|  1   |      n     | $\\frac{n}{2}$|\n",
    "|item is not present| n|      n     |       n      |\n",
    "\n",
    "<center>표 1. 순차적 검색의 비교연산 횟수<center><br>"
   ]
  },
  {
   "cell_type": "markdown",
   "metadata": {},
   "source": [
    "이때, 평균적으로 n/2가 걸리는 Average Case 역시 n이 커지게 되면 Worst Case와 마찬가지로 *O(n)*이 됩니다.  \n",
    "\n",
    "지금까지는 저장된 데이터가 정렬되지 않은 경우를 고려했습니다. 만약 데이터가 정렬된 상태로 저장되어있다면 검색 알고리즘을 더 개선할 수 있을까요?  \n",
    "리스트의 원소들이 오름차순으로 정렬되었다고 가정합시다. 각 위치에 찾고자하는 데이터가 있을 확률과 특정 데이터를 찾을때 걸리는 연산 수는 여전히 같을 것입니다. 하지만, 리스트에 찾는 데이터가 존재하지 않을 경우 약간의 이득을 볼 수 있습니다. 챕터 3에서 링크드 리스트를 배울때 언급한 것 처럼, 검색의 종료 시점을 중간에 판별할 수 있기 때문에 검색을 중간에 중단할 수 있게 됩니다. 그림 2는 이를 그림으로 나타낸 것입니다. 목차 2는 이를 고려한 순차적 검색 코드를 작성한 것입니다."
   ]
  },
  {
   "cell_type": "markdown",
   "metadata": {},
   "source": [
    "<center><img src=\"https://github.com/idebtor/DSpy/blob/main/images/chap5/ch5-2.jpg?raw=true\" width=\"500\" title=\"Figure 2. Sequential Search of an Ordered List of Integers\"></center>\n",
    "<center>그림 2. 정렬된 정수 리스트의 순차적 검색 예시<center><br>"
   ]
  },
  {
   "cell_type": "code",
   "execution_count": null,
   "metadata": {},
   "outputs": [],
   "source": [
    "# 목차 2\n",
    "def orderedSequentialSearch(alist, item):\n",
    "    pos = 0\n",
    "    found = False\n",
    "    stop = False\n",
    "    while pos < len(alist) and not found and not stop:\n",
    "        if alist[pos] == item:\n",
    "            found = True\n",
    "        else:\n",
    "            if alist[pos] > item:\n",
    "                stop = True\n",
    "            else:\n",
    "                pos = pos+1\n",
    "\n",
    "    return found\n",
    "\n",
    "testlist = [0, 1, 2, 8, 13, 17, 19, 32, 42,]\n",
    "print(orderedSequentialSearch(testlist, 3))\n",
    "print(orderedSequentialSearch(testlist, 13))"
   ]
  },
  {
   "cell_type": "markdown",
   "metadata": {},
   "source": [
    "표 2는 위 결과를 표로 정리한 것입니다. "
   ]
  },
  {
   "cell_type": "markdown",
   "metadata": {},
   "source": [
    "|   Case   | Best Case | Worst Case | Average Case |\n",
    "|:--------:|:---------:|:----------:|:------------:|\n",
    "|item is present|  1   |      n     | $\\frac{n}{2}$|\n",
    "|item is not present| 1|      n     | $\\frac{n}{2}$|\n",
    "\n",
    "<center>표 2. 순차적 검색의 비교연산 횟수<center><br>"
   ]
  },
  {
   "cell_type": "markdown",
   "metadata": {},
   "source": [
    "## 이진 검색 (Binary Search)\n",
    ": 다른 검색 방식중 하나인 이진 검색을 배웁니다."
   ]
  },
  {
   "cell_type": "markdown",
   "metadata": {},
   "source": [
    "정렬된 리스트에서는 더 효율적인 비교 연산을 통해 성능을 높일 수 있습니다. 앞서 배운 순차적 검색은 첫번째 원소부터 비교를 하기 때문에, 이후 최대 n-1개의 원소를 더 비교해야합니다. 따라서 __이진 검색__은, 이렇게 앞에서부터 순차적으로 확인하는 것이 아니라 리스트의 중간부터 비교를 하게 됩니다.\n",
    "\n",
    "만약 중간 원소가 우리가 찾던 데이터라면 즉시 종료할 수 있습니다. 그렇지 않을 경우, 우리는 정렬된 속성을 이용하여 탐색할 리스트의 절반을 제거할 수 있게 됩니다. 리스트의 중간 원소가 찾고자하는 데이터보다 작은 값을 갖는다면 앞 절반을 탐색하면 되고, 그 반대의 경우 뒷 절반을 탐색하면 될 것입니다."
   ]
  },
  {
   "cell_type": "markdown",
   "metadata": {},
   "source": [
    "위 과정을 절반으로 줄어든 탐색범위에 반복적으로 적용하여 검색 속도를 향상시킬 수 있게 됩니다. 그림 3은 이진 검색을 통해 정수 54를 빠르게 찾는 모습을 그림으로 나타낸 것입니다. 완성된 코드는 목차 3에 작성되었습니다."
   ]
  },
  {
   "cell_type": "markdown",
   "metadata": {},
   "source": [
    "<center><img src=\"https://github.com/idebtor/DSpy/blob/main/images/chap5/ch5-3.jpg?raw=true\" width=\"500\" title=\"Figure 3. Binary Search of an Ordered List of Integers\"></center>\n",
    "<center>그림 3. 정렬된 정수 리스트에서 이진 검색의 예<center><br>"
   ]
  },
  {
   "cell_type": "code",
   "execution_count": null,
   "metadata": {},
   "outputs": [],
   "source": [
    "# 목차 3\n",
    "def binarySearch(alist, item):\n",
    "    first = 0\n",
    "    last = len(alist)-1\n",
    "    found = False\n",
    "    \n",
    "    while first<=last and not found:\n",
    "        mid = (first + last)//2\n",
    "        if alist[mid] == item:\n",
    "            found = True\n",
    "        else:\n",
    "            if item < alist[mid]:\n",
    "                last = mid-1\n",
    "            else:\n",
    "                first = mid+1\n",
    "                \n",
    "    return found"
   ]
  },
  {
   "cell_type": "markdown",
   "metadata": {},
   "source": [
    "### 이진 검색의 분석"
   ]
  },
  {
   "cell_type": "markdown",
   "metadata": {},
   "source": [
    "이진 검색 알고리즘은 비교 연산을 절반씩 줄여나가는 알고리즘입니다. 그렇다면, Worst Case인 찾고자하는 원소가 리스트에 없는 경우에는 총 몇번의 비교 연산이 시행될까요? 만약 n개의 원소가 있다고 가정한다면, 첫번째 비교 연산 이후 남은 원소들은 $\\frac n 2, \\frac n 4, \\frac n 8 ... \\frac {n} {2^i} $ 와 같이 줄어들게 될 것입니다. 표 3은 이를 정리하여 나타낸 것입니다."
   ]
  },
  {
   "cell_type": "markdown",
   "metadata": {},
   "source": [
    "| Comparisons | Approximate Number of Items Left |\n",
    "|:---:|:---:|\n",
    "|1|$\\frac{n}{2}$|\n",
    "|2|$\\frac{n}{4}$|\n",
    "|3|$\\frac{n}{8}$|\n",
    "|...|...|\n",
    "|i|$\\frac{n}{2^i}$|\n",
    "\n",
    "\n",
    "<center>표 3. 이진 검색의 비교연산 횟수<center><br>"
   ]
  },
  {
   "cell_type": "markdown",
   "metadata": {},
   "source": [
    "최종적으로 하나의 원소만 남을때까지 분활이 반복될 것 입니다. 즉, 비교 연산의 횟수는 $ \\frac {n} {2^i} = 1$ 를 만족하는 i값이 될 것이고, 이를 풀면 $ i = log(n) $이 됩니다. 따라서, 이진 검색의 시간 복잡도는 _O(log n)_ 이 됩니다."
   ]
  },
  {
   "cell_type": "markdown",
   "metadata": {},
   "source": [
    "# Summary\n",
    "\n",
    "이번 시간에는 가장 대표적으로 사용되는 검색 알고리즘인 순차적 검색과 이진 검색에 대해 배웠습니다. 이러한 알고리즘은 이후 알고리즘 강의에서도 배우겠지만, 언제나 시간복잡도와 연산량 등을 고려하여 더 나은 방법을 찾아내는 것이 중요하다는 것을 다시한번 생각하면 좋겠습니다."
   ]
  },
  {
   "cell_type": "markdown",
   "metadata": {},
   "source": [
    "# Problem Based Learning\n",
    "\n",
    "## Binary Search Using list and recursion\n",
    "앞서 목차 3에서 다룬 이진 검색 코드는 하나의 리스트를 더 작은 리스트로 나누면서 탐색을 진행합니다. 즉, 재귀(Recursion)를 활용하여 구현할 수 있습니다. 목차 3의 코드를 참고하여 직접 구현해보도록 하세요."
   ]
  },
  {
   "cell_type": "markdown",
   "metadata": {},
   "source": [
    "__Sample Run:__:\n",
    "```\n",
    "if __name__ == '__main__':\n",
    "    testlist = [0, 1, 2, 8, 13, 17, 19, 32, 42,]\n",
    "    for x in [3, 13, 33, 42]:\n",
    "        print(binarysearch_r1(testlist, x), end = ' ')\n",
    "```\n",
    "__Expected Output:__\n",
    "```\n",
    "False True False True\n",
    "```\n",
    "\n",
    "__Solution:__"
   ]
  },
  {
   "cell_type": "code",
   "execution_count": 4,
   "metadata": {},
   "outputs": [
    {
     "name": "stdout",
     "output_type": "stream",
     "text": [
      "None None None None "
     ]
    }
   ],
   "source": [
    "def binarysearch_r1(alist, item):\n",
    "    pass\n",
    "            \n",
    "if __name__ == '__main__':\n",
    "    testlist = [0, 1, 2, 8, 13, 17, 19, 32, 42,]\n",
    "    for x in [3, 13, 33, 42]:\n",
    "        print(binarysearch_r1(testlist, x), end=' ')"
   ]
  },
  {
   "cell_type": "markdown",
   "metadata": {},
   "source": [
    "## Binary Search Using list, recursion and helper function"
   ]
  },
  {
   "cell_type": "markdown",
   "metadata": {},
   "source": [
    "재귀를 활용한 이진 검색의 경우, 앞서 계산한 이진 검색의 시간복잡도와 달리, 리스트를 분할하여 넘겨주는 과정이 추가되어 연산량이 증가하게 됩니다. (일반적으로 파이썬에서의 리스트 분할은 O(k)의 시간복잡도를 갖는다.) 이는 리스트를 분할하는 것이 아닌, 분할된 리스트의 시작과 끝이 되는 인덱스를 넘겨줌으로서 해결할 수 있습니다. 1번에서 구현한 이진 검색 코드를 수정해보세요. Helper function search(alist, item) 제공하여 사용자가 좀 더 간단한 형식으로 호출할 수 있도록 하십시오.  "
   ]
  },
  {
   "cell_type": "markdown",
   "metadata": {},
   "source": [
    "__Sample Run:__:\n",
    "```\n",
    "if __name__ == '__main__':\n",
    "    testlist = [0, 1, 2, 8, 13, 17, 19, 32, 42,]\n",
    "    for x in [3, 13, 33, 42]:\n",
    "        print(search(testlist, x), end = ' ')\n",
    "```\n",
    "__Expected Output:__\n",
    "```\n",
    "False True False True\n",
    "```\n",
    "__Solution:__"
   ]
  },
  {
   "cell_type": "code",
   "execution_count": null,
   "metadata": {},
   "outputs": [],
   "source": [
    "def binarysearch_r2(alist, item, start, end):\n",
    "    #print(\"start: {} | end: {}\".format(start,end))\n",
    "    pass\n",
    "\n",
    "def search(alist, item):\n",
    "    pass\n",
    "    \n",
    "if __name__ == '__main__':\n",
    "    testlist = [0, 1, 2, 8, 13, 17, 19, 32, 42]\n",
    "    for x in [3, 13, 33, 42]:\n",
    "        print(search(testlist, x), end = ' ')"
   ]
  },
  {
   "cell_type": "markdown",
   "metadata": {},
   "source": [
    "## 스무고개 1\n",
    "\n",
    "Look at the following program that generates a random integer and then gives clues to a user trying to guess the number.\n",
    "- Guess the value of a secret number that is one of the n integers between 0 and n - 1. \n",
    "- Each time that you make a guess, you are told whether your guess is equal to the secret number, too high, or too low. \n",
    "\n",
    "```\n",
    "import random\n",
    "RANGE = 128\n",
    "secret = random.randrange(RANGE)\n",
    "print('I am thinking of a secret number between 0 and', RANGE - 1)\n",
    "guess = 0\n",
    "while guess != secret:\n",
    "    guess = int(input('What is your guess? '))\n",
    "    if    guess < secret: print('Too low')\n",
    "    elif  guess > secret: print('Too high')\n",
    "    else:                 print('Congrat!')\n",
    "```"
   ]
  },
  {
   "cell_type": "markdown",
   "metadata": {},
   "source": [
    "Improve the program a bit such that it shows the maximum number of guesses that the user can make.\n",
    "Print the message \"Nice try. I'm sure you'll do better next time\" if the user fails.   "
   ]
  },
  {
   "cell_type": "markdown",
   "metadata": {},
   "source": [
    "__Sample Run:__ \n",
    "```\n",
    "I am thinking of a secret number between 0 and 127\n",
    "What is your guess(chance:7)?  64\n",
    "Too low\n",
    "What is your guess(chance:6)?  96\n",
    "Too low\n",
    "What is your guess(chance:5)?  112\n",
    "Too high\n",
    "What is your guess(chance:4)?  94\n",
    "Too low\n",
    "What is your guess(chance:3)?  98\n",
    "Too low\n",
    "What is your guess(chance:2)?  100\n",
    "Too low\n",
    "What is your guess(chance:1)?  101\n",
    "Too low\n",
    "Nice try. I'm sure you'll do better next time.\n",
    "```\n",
    "\n",
    "__Solution:__"
   ]
  },
  {
   "cell_type": "code",
   "execution_count": 1,
   "metadata": {},
   "outputs": [
    {
     "name": "stdout",
     "output_type": "stream",
     "text": [
      "I am thinking of a secret number between 0 and 127\n"
     ]
    },
    {
     "name": "stdin",
     "output_type": "stream",
     "text": [
      "What is your guess?  64\n"
     ]
    },
    {
     "name": "stdout",
     "output_type": "stream",
     "text": [
      "Too high\n"
     ]
    },
    {
     "name": "stdin",
     "output_type": "stream",
     "text": [
      "What is your guess?  32\n"
     ]
    },
    {
     "name": "stdout",
     "output_type": "stream",
     "text": [
      "Too high\n"
     ]
    },
    {
     "name": "stdin",
     "output_type": "stream",
     "text": [
      "What is your guess?  16\n"
     ]
    },
    {
     "name": "stdout",
     "output_type": "stream",
     "text": [
      "Too high\n"
     ]
    },
    {
     "name": "stdin",
     "output_type": "stream",
     "text": [
      "What is your guess?  8\n"
     ]
    },
    {
     "name": "stdout",
     "output_type": "stream",
     "text": [
      "Too high\n"
     ]
    },
    {
     "name": "stdin",
     "output_type": "stream",
     "text": [
      "What is your guess?  4\n"
     ]
    },
    {
     "name": "stdout",
     "output_type": "stream",
     "text": [
      "Too high\n"
     ]
    },
    {
     "name": "stdin",
     "output_type": "stream",
     "text": [
      "What is your guess?  2\n"
     ]
    },
    {
     "name": "stdout",
     "output_type": "stream",
     "text": [
      "Too low\n"
     ]
    },
    {
     "name": "stdin",
     "output_type": "stream",
     "text": [
      "What is your guess?  3\n"
     ]
    },
    {
     "name": "stdout",
     "output_type": "stream",
     "text": [
      "Congrat!\n"
     ]
    }
   ],
   "source": [
    "import random\n",
    "RANGE = 128\n",
    "secret = random.randrange(RANGE)\n",
    "print('I am thinking of a secret number between 0 and', RANGE - 1)\n",
    "guess = 0\n",
    "while guess != secret:\n",
    "    guess = int(input('What is your guess? '))\n",
    "    if    guess < secret: print('Too low')\n",
    "    elif  guess > secret: print('Too high')\n",
    "    else:                 print('Congrat!')"
   ]
  },
  {
   "cell_type": "markdown",
   "metadata": {},
   "source": [
    "## 스무고개 2\n",
    "\n",
    "This script uses binary search to play the same game, but with the roles reversed: you choose the secret number, and the program guesses its value:\n",
    "- It asks the user to enter the number of guesses (or questions) k. \n",
    "- It displays the RANGE based on k such that the user can think of a number between 0 and `2^k – 1`.\n",
    "- Then the computer always guesses the answer with k questions.\n",
    "\n",
    "We use the notation `[lo, hi)` to denote all the integers greater than or equal to `lo` and less than (but not equal to) `hi`. \n",
    "`[lo, hi)` is called a __half-open interval__ which contains the left endpoint but not the right one.\n",
    "\n",
    "We start with `lo = 0` and `hi = n` and use the following recursive strategy. \n",
    "- Base case: If hi – lo equals 1, then the secret number is lo.\n",
    "- Recursive step: Otherwise, ask whether the secret number is greater than or equal to the number `mid = (hi + lo) // 2`. If so, look for the number in `[mid, hi)`; if not, look for the number in `[lo, mid)`."
   ]
  },
  {
   "cell_type": "markdown",
   "metadata": {},
   "source": [
    "__Sample Run:__\n",
    "```\n",
    "Enter the number of questions:  7\n",
    "Think of 0 and 127\n",
    "Greater than or equal to 64? ([y]/n):  \n",
    "Greater than or equal to 96? ([y]/n):  n\n",
    "Greater than or equal to 80? ([y]/n):  n\n",
    "Greater than or equal to 72? ([y]/n):  \n",
    "Greater than or equal to 76? ([y]/n):  \n",
    "Greater than or equal to 78? ([y]/n):  n\n",
    "Greater than or equal to 77? ([y]/n):  \n",
    "Your number is 77\n",
    "```\n",
    "__Note:__  `[y]` indicates a default. It means that user enters \"Enter\", accept it as a \"y\".\n",
    "\n",
    "__Solution:__"
   ]
  },
  {
   "cell_type": "code",
   "execution_count": null,
   "metadata": {},
   "outputs": [],
   "source": [
    "def search(lo, hi):\n",
    "    pass\n",
    "    while (1):\n",
    "        ans = input('Greater than or equal to ' + str(mid) + '? ([y]/n): ')\n",
    "        pass\n",
    "    pass\n",
    "\n",
    "if __name__ == '__main__':\n",
    "    k = int(input('Enter the number of questions: '))\n",
    "    n = 2 ** k\n",
    "    print('Think of 0 and ' + str(n - 1))\n",
    "    guess = search(0, n)\n",
    "    print('Your number is ' + str(guess))\n"
   ]
  },
  {
   "cell_type": "markdown",
   "metadata": {},
   "source": [
    "## Exception Filter \n",
    "\n",
    "The exception filter reads in a sorted array of strings from a file(which we refer to as the whitelist) and an arbitrary sequence of strings from standard input and write those in the sequence that are not in the whitelist.\u000b",
    "\n",
    "For example, when checking the spelling of a word, you need to know only whether your word is in the dictionary (or whitelist) and are not interested in the definition. \n",
    "Another examples, your email application might use an exception filter to reject any messages that are not on a whitelist that contains the email addresses of your friends.\n",
    "Your operating system might have an exception filter that disallows network connections to your computer from any device having an IP address that is not on a preapproved whitelist. \n",
    "\n",
    "In a computer search, we keep the whitelist sorted in order of the key. \n",
    "The array length n need not be a power of 2. \n",
    "\n",
    "The exception filter reads in a sorted array of strings from a file(which we refer to as the whitelist) and an arbitrary sequence of strings from standard input and write those in the sequence that are not in the whitelist.\n",
    "- When checking the spelling of a word, you need to know only whether your word is in the dictionary (or whitelist) and are not interested in the definition. \n",
    "- We keep the whitelist sorted in order of the key. \n",
    "- The array length n need not be a power of 2. "
   ]
  },
  {
   "cell_type": "markdown",
   "metadata": {},
   "source": [
    "__Task:__ \n",
    "\n",
    "Find and print all misspelled words in `words.txt` using binary search algorithm. The correct words in `dict.txt` are listed in sorted order. You create your own `dict.txt` and `words.txt` files as shown below, but a skeleton code for `exfilter` is provided.   \n",
    "\n",
    "The following `Sample Run` may not work at \"PowerShell\" in Windows, but `bash` or `cmd`. Then change it to `cmd` console on Windows. "
   ]
  },
  {
   "cell_type": "markdown",
   "metadata": {},
   "source": [
    "__Sample Run:__\n",
    "\n",
    "```\n",
    "$ more dict.txt\n",
    "accommodate\n",
    "broccoli\n",
    "conscience\n",
    "definitely\n",
    "embarrass\n",
    "necessary\n",
    "occurred\n",
    "publicly\n",
    "receive\n",
    "separate\n",
    "until\n",
    "```\n",
    "\n",
    "```\n",
    "$ more words.txt\n",
    "definately\n",
    "occured\n",
    "occurred\n",
    "untill\n",
    "until\n",
    "recieve\n",
    "acommodate\n",
    "seperate\n",
    "separate\n",
    "```\n",
    "\n",
    "```\n",
    "$ python exfilter.py < words.txt\n",
    "definately\n",
    "occured\n",
    "untill\n",
    "recieve\n",
    "acommodate\n",
    "seperate\n",
    "```"
   ]
  },
  {
   "cell_type": "code",
   "execution_count": 5,
   "metadata": {},
   "outputs": [
    {
     "name": "stdout",
     "output_type": "stream",
     "text": [
      "Microsoft Windows [Version 10.0.19042.1288]\n",
      "(c) Microsoft Corporation. All rights reserved.\n",
      "\n",
      "C:\\GitHub\\DSpyx\\jupyter>more dict.txt\n",
      "accommodate\n",
      "broccoli\n",
      "conscience\n",
      "definitely\n",
      "embarrass\n",
      "necessary\n",
      "occurred\n",
      "publicly\n",
      "receive\n",
      "separate\n",
      "until\n",
      "\n",
      "C:\\GitHub\\DSpyx\\jupyter>"
     ]
    }
   ],
   "source": [
    "%%cmd\n",
    "more dict.txt"
   ]
  },
  {
   "cell_type": "code",
   "execution_count": 4,
   "metadata": {},
   "outputs": [
    {
     "name": "stdout",
     "output_type": "stream",
     "text": [
      "Microsoft Windows [Version 10.0.19042.1288]\n",
      "(c) Microsoft Corporation. All rights reserved.\n",
      "\n",
      "C:\\GitHub\\DSpyx\\jupyter>more words.txt\n",
      "definately\n",
      "occured\n",
      "occurred\n",
      "untill\n",
      "until\n",
      "recieve\n",
      "acommodate\n",
      "seperate\n",
      "separate\n",
      "\n",
      "C:\\GitHub\\DSpyx\\jupyter>"
     ]
    }
   ],
   "source": [
    "%%cmd\n",
    "more words.txt"
   ]
  },
  {
   "cell_type": "code",
   "execution_count": null,
   "metadata": {},
   "outputs": [],
   "source": [
    "%%writefile exfilter.py\n",
    "import sys\n",
    "\n",
    "def binarysearch(arr, key, lo, hi):\n",
    "    pass\n",
    "    \n",
    "def search(arr, key):\n",
    "    pass\n",
    "\n",
    "if __name__ == \"__main__\":\n",
    "    with open('dict.txt') as f:\n",
    "        arr = f.read().splitlines()\n",
    "    for line in sys.stdin:\n",
    "        key = line.rstrip()\n",
    "        if search(arr, key) < 0:\n",
    "            print(key)              # not found in dict\n"
   ]
  },
  {
   "cell_type": "code",
   "execution_count": 2,
   "metadata": {},
   "outputs": [
    {
     "name": "stdout",
     "output_type": "stream",
     "text": [
      "Microsoft Windows [Version 10.0.19042.1288]\n",
      "(c) Microsoft Corporation. All rights reserved.\n",
      "\n",
      "C:\\GitHub\\DSpyx\\jupyter>python exfilter.py < words.txt\n",
      "definately\n",
      "occured\n",
      "untill\n",
      "recieve\n",
      "acommodate\n",
      "seperate\n",
      "\n",
      "C:\\GitHub\\DSpyx\\jupyter>"
     ]
    }
   ],
   "source": [
    "%%cmd\n",
    "python exfilter.py < words.txt"
   ]
  },
  {
   "cell_type": "code",
   "execution_count": 3,
   "metadata": {},
   "outputs": [
    {
     "name": "stdout",
     "output_type": "stream",
     "text": [
      "definately\n",
      "occured\n",
      "untill\n",
      "recieve\n",
      "acommodate\n",
      "seperate\n"
     ]
    }
   ],
   "source": [
    "%%bash\n",
    "python exfilter.py < words.txt"
   ]
  },
  {
   "cell_type": "markdown",
   "metadata": {},
   "source": [
    "# References\n",
    "- Problem Solving with Algorithms and Data Structures using Python, [Here](https://runestone.academy/runestone/books/published/pythonds3/Introduction/WhyStudyDataStructuresandAbstractDataTypes.html)\n",
    "- Searching [Here](https://runestone.academy/runestone/books/published/pythonds3/SortSearch/searching.html)"
   ]
  },
  {
   "cell_type": "markdown",
   "metadata": {},
   "source": [
    "------\n",
    "그가 찔림은 우리의 허물 때문이요 그가 상함은 우리의 죄악 때문이라 그가 징계를 받으므로 우리는 평화를 누리고 그가 채찍에 맞으므로 우리는 나음을 받았도다 우리는 다 양 같아서 그릇 행하여 각기 제 길로 갔거늘 여호와께서는 우리 모두의 죄악을 그에게 담당시키셨도다 (사53:5-6)"
   ]
  }
 ],
 "metadata": {
  "kernelspec": {
   "display_name": "Python 3 (ipykernel)",
   "language": "python",
   "name": "python3"
  },
  "language_info": {
   "codemirror_mode": {
    "name": "ipython",
    "version": 3
   },
   "file_extension": ".py",
   "mimetype": "text/x-python",
   "name": "python",
   "nbconvert_exporter": "python",
   "pygments_lexer": "ipython3",
   "version": "3.9.12"
  },
  "toc-autonumbering": false,
  "toc-showcode": false,
  "toc-showmarkdowntxt": true
 },
 "nbformat": 4,
 "nbformat_minor": 4
}
