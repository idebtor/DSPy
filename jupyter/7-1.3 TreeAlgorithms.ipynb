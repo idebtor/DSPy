{
 "cells": [
  {
   "cell_type": "markdown",
   "metadata": {},
   "source": [
    "네가 만일 네 입으로 예수를 주로 시인하며 또 하나님께서 그를 죽은 자 가운데서 살리신 것을 네 마음에 믿으면 구원을 받으리라 사람이 마음으로 믿어 의에 이르고 입으로 시인하여 구원에 이르느니라 (롬10:9-10)\n",
    "\n",
    "-------\n",
    "<center><img src=\"https://github.com/idebtor/DSpy/blob/6b3676c3de29f85d2e7f30679676d1fd96d88b17/images/WelcomeToDataStructures.jpg?raw=true\" width=1000></center>\n",
    "\n",
    "__NOTE:__ The following materials have been compiled and adapted from the numerous sources including my own. Please help me to keep this tutorial up-to-date by reporting any issues or questions. Send any comments or criticisms to `idebtor@gmail.com` Your assistances and comments will be appreciated.\n",
    "\n",
    "--------"
   ]
  },
  {
   "cell_type": "markdown",
   "metadata": {},
   "source": [
    "\n",
    "<b style=\"font-size:30px\">  Chapter 7-3 Tree Algorithms </b>\n",
    "\n",
    ": Tree(트리)라는 자료형이란 무엇이며 어떻게 활용되는지, 그리고 이를 효과적으로 활용할 수 있는 트리 알고리즘을 배웁니다.  \n",
    "\n",
    "제 7장에서는 트리(Tree) 자료형과 그에 활용되는 여러 트리 알고리즘(Tree Algorithm)에 대해 알아봅니다.\n"
   ]
  },
  {
   "cell_type": "markdown",
   "metadata": {},
   "source": [
    "# 파스 트리 (Parse Tree)\n",
    ": 실생활에 사용되는 트리 중 하나인 파스 트리에 대해 배웁니다."
   ]
  },
  {
   "cell_type": "markdown",
   "metadata": {},
   "source": [
    "지금까지 구현한 트리 구조체를 사용하여 실제 문제 해결에 사용되는 트리의 예를 살펴보도록 하겠습니다. __파스 트리(Parse Tree)__ 는 문장과 수식과 같은 실질적 분야에 사용됩니다."
   ]
  },
  {
   "cell_type": "markdown",
   "metadata": {},
   "source": [
    "<center><img src=\"https://github.com/idebtor/DSpy/blob/main/images/chap6/ch6-8.png?raw=true\" width=\"500\" title=\"Figure 8. A Parse Tree for a Simple Sentence\">\n",
    "<center>그림 1. 간단한 문장에 대한 파스 트리의 예<center><br>"
   ]
  },
  {
   "cell_type": "markdown",
   "metadata": {},
   "source": [
    "그림 1은 간단한 문장에 대한 계층적 구조를 나타낸 것입니다. 문장을 트리 구조로 나타내면, 문장의 계별 요소들을 subtree로서 다룰 수 있습니다."
   ]
  },
  {
   "cell_type": "markdown",
   "metadata": {},
   "source": [
    "<center><img src=\"https://github.com/idebtor/DSpy/blob/main/images/chap6/ch6-9.png?raw=true\" width=\"400\" title=\"Figure 9. Parse Tree for ((7+3)*(5-2))\">\n",
    "<center>그림 2. 간단한 수식에 대한 파스 트리의 예<center><br>"
   ]
  },
  {
   "cell_type": "markdown",
   "metadata": {},
   "source": [
    "그림 2와 같이, ((7 + 3) * (5 - 2)) 와 같은 수식 역시 파스 트리로 나타낼 수 있습니다. 우리는 이전에 fully parenthesized 표현에 대해 배운적이 있습니다. 이 식에서 어떤 것들을 알 수 있나요? 우선 곱셉 수식은 덧셈과 뺄셈보다 더 높은 우선순위를 갖는다는 것을 알 것입니다. 하지만, 괄호의 사용으로 인하여 덧셈과 뺄셈이 곱셈보다 우선적으로 계산하게 됩니다. 이처럼, 트리의 계층은 연산의 순서를 이해하는데에 유용한 정보를 제공합니다. 상위 층의 연산을 하기 이전에 subtree에 있는 덧셈과 뺄셈을 먼저 계산해야하게 되는 것입니다. 이 경우, 왼쪽 subtree의 덧셈은 10을 산출하고, 오른쪽 subtree의 뺄셈은 3을 산출하게 됩니다. 이후, 산출된 값은 해당 subtree 전체를 대체하여 계산에 사용될 수 있습니다. 이처럼 간단해진 트리는 그림 3에 나타나있습니다."
   ]
  },
  {
   "cell_type": "markdown",
   "metadata": {},
   "source": [
    "<center><img src=\"https://github.com/idebtor/DSpy/blob/main/images/chap6/ch6-10.png?raw=true\" width=\"200\" title=\"Figure 10. A Simplified Parse Tree for ((7+3)*(5-2))\">\n",
    "<center>그림 3. ((7+3)*(5-2))의 간소화한 파스 트리<center><br>"
   ]
  },
  {
   "cell_type": "markdown",
   "metadata": {},
   "source": [
    "이제 파스 트리에 대하여 더 깊게 알아보도록 하겠습니다. 특히, 다음과 같은 항목을 주의깊게 살펴볼 것입니다.  \n",
    "\n",
    "* Fully parenthesized 수식을 파스 트리로 구현하는 방법\n",
    "* 파스 트리로 나타낸 수식의 연산 방법\n",
    "* 파스 트리로부터 기존 수식을 복구하는 방법"
   ]
  },
  {
   "cell_type": "markdown",
   "metadata": {},
   "source": [
    "가장 먼저, 수식 문자열을 토큰(token)의 리스트로 나누어야 합니다. 이때, 4가지의 토큰이 존재할 수 있습니다: 여는 괄호, 닫는 괄호, 연산자 그리고 피연산자입니다. 우리는 여는 괄호가 나오면 새로운 수식이 시작된다는 것을 알고 있습니다. 따라서 여는 괄호가 발견되면, 새로운 트리를 만들게 됩니다. 그와 반대로, 닫는 괄호는 수식의 끝을 의미합니다. 또한 피연산자는 그에 상응하는 연산자의 자식이 될 것이고, leaf node는 언제나 피연산자가 될 것 입니다. 마지막으로, 모든 연산자는 왼쪽과 오른쪽 자식을 반드시 다 갖게됩니다."
   ]
  },
  {
   "cell_type": "markdown",
   "metadata": {},
   "source": [
    "이러한 정보를 활용하여 4가지의 규칙을 정의해볼 수 있습니다.\n",
    "\n",
    "1. 현재 토큰이 `'('`이라면, 새로운 노드를 왼쪽 자식에 붙이고 한 계층(left child로)을 내려갑니다.\n",
    "2. 현재 토큰이 리스트 `['+','-','/','*']`에 있다면, 현재 노드의 root 값을 현재 토큰인 연산자로 지정합니다. 이후, 새로운 노드를 생성하여 오른쪽 child에 붙이고 이동합니다.\n",
    "3. 현재 토큰이 숫자라면, 현재 노드의 root값으로 지정하고 부모 노드로 이동합니다.\n",
    "4. 현재 토큰이 `')'`이라면, 현재 노드의 부모 노드로 이동합니다."
   ]
  },
  {
   "cell_type": "markdown",
   "metadata": {},
   "source": [
    "이를 파이썬 코드로 작성하기 전에, 예제를 통해 위 규칙을 검증해보도록 하겠습니다. 수식 (3 + (4 * 5))을 사용해보도록 하겠습니다. 이 경우, 수식을 토큰의 리스트로 나누게 되면 `['(','3','+','(','4','*','5',')',')']` 가 됩니다. 최초의 파스 트리는 하나의 비어있는 root 노드로 시작합니다. 그림 4은 각 단계에 따른 파스 트리의 모습을 나타낸 것입니다."
   ]
  },
  {
   "cell_type": "markdown",
   "metadata": {},
   "source": [
    "<center><img src=\"https://github.com/idebtor/DSpy/blob/main/images/chap6/ch6-11.png?raw=true\" width=\"800\" title=\"Figure 11. Tracing Parse Tree Construction\">\n",
    "<center>그림 4. 파스 트리 구축 과정<center><br>"
   ]
  },
  {
   "cell_type": "markdown",
   "metadata": {},
   "source": [
    "그림 4을 보며 각 과정을 관찰해보겠습니다."
   ]
  },
  {
   "cell_type": "markdown",
   "metadata": {},
   "source": [
    "    a. 비어있는 트리를 생성합니다.\n",
    "    b. ( 토큰을 읽습니다. 규칙 1에 의하여 새로운 노드를 왼쪽 자식에 붙이고 이로 이동합니다.\n",
    "    c. 3 토큰을 읽습니다. 규칙 3에 의하여 현재 노드의 값을 3으로 지정하고 부모 노드로 이동합니다.\n",
    "    d. + 토큰을 읽습니다. 규칙 2에 의하여 현재 노드의 값을 +로 정하고 새로운 노드를 오른쪽 자식에 붙이고 이동합니다.\n",
    "    e. ( 토큰을 읽습니다. 규칙 1에 의하여 새로운 노드를 현재 노드의 왼쪽 자식으로 붙이고 이로 이동합니다.\n",
    "    f. 4 토큰을 읽습니다. 규칙 3에 의하여 현재 노드의 값을 4로 지정하고 부모 노드로 이동합니다.\n",
    "    g. * 토큰을 읽습니다. 규칙 2에 의하여 현재 노드의 값을 *로 정하고 새로운 노드를 오른쪽 자식에 붙이고 이동합니다.\n",
    "    h. 5 토큰을 읽습니다. 규칙 3에 의하여 현재 노드의 값을 5로 지정하고 부모 노드로 이동합니다.\n",
    "    i. ) 토큰을 읽습니다. 규칙 4에 의하여 현재 노드(*)의 부모 노드로 이동합니다.\n",
    "    j. ) 토큰을 읽습니다. 규칙 4에 의하여 현재 노드(+)의 부모 노드로 이동합니다. 이 경우, 현재 노드(+)의 부모가 존재하지 않으므로 종료합니다."
   ]
  },
  {
   "cell_type": "markdown",
   "metadata": {},
   "source": [
    "위 예시를 보면, 알고리즘을 진행시키는 동시에 현재 노드와 그의 부모 노드를 지속적으로 알고 있어야 한다는 것을 알 수 있습니다. \n",
    "\n",
    "트리 구조를 다루면서, 한 노드(node)에서 그의 자식 노드들은 node.left 혹은 node.right를 사용하여 쉽게 접근할 수 있습니다. 하지만 부모 노드는 어떻게 알 수 있을까요? 가장 쉬운 해결책은 스택을 사용하여 추적하는 것입니다. 현재 노드에서 자식 노드로 이동할 때마다 현재 노드를 스택에 push하고, 부모 노드로 올라갈 때마다 pop을 해주면 됩니다."
   ]
  },
  {
   "cell_type": "markdown",
   "metadata": {},
   "source": [
    "따라서, 위 규칙들과 `Stack`,`Node`의 연산들을 사용하면 파스 트리를 파이썬으로 구현할 수 있게 됩니다. 파스 트리를 구현하는 코드는 코드 4에 나타나있습니다.\n",
    "\n",
    "__Notice:__ \n",
    "\n",
    "여기서는 앞 단원에서 개발한 `Node.py` 모듈을 사용하고 있습니다. 현재 폴더에 해당 파일(모듈`Node.py`)이 존재하지 않는다면, 앞 단원으로 되돌아가서 `Node.py`모듈을 생성하십시오.  \n",
    "\n",
    "__Bonus! (+0.5p)__  \n",
    "- 아래 코드 4에 자신이 이해한만큼 주석을 달아주세요!\n",
    "\n",
    "\n",
    "## buildParseTree()"
   ]
  },
  {
   "cell_type": "code",
   "execution_count": 4,
   "metadata": {},
   "outputs": [],
   "source": [
    "# 코드 4\n",
    "from dspy.basic import Stack\n",
    "from node import Node\n",
    "\n",
    "def buildParseTree(fpexp):\n",
    "    fplist = fpexp.split()\n",
    "    pStack = Stack()\n",
    "    eTree = Node('')\n",
    "    pStack.push(eTree)\n",
    "    currentTree = eTree\n",
    "\n",
    "    for i in fplist:\n",
    "        if i == '(':\n",
    "            currentTree.insertLeft('')\n",
    "            pStack.push(currentTree)\n",
    "            currentTree = currentTree.left\n",
    "\n",
    "        elif i in ['+', '-', '*', '/']:\n",
    "            currentTree.key = i\n",
    "            currentTree.insertRight('')\n",
    "            pStack.push(currentTree)\n",
    "            currentTree = currentTree.right\n",
    "\n",
    "        elif i == ')':\n",
    "            currentTree = pStack.pop()\n",
    "\n",
    "        elif i not in ['+', '-', '*', '/', ')']:\n",
    "            try:\n",
    "                currentTree.key = int(i) \n",
    "                parent = pStack.pop()\n",
    "                currentTree = parent\n",
    "            except ValueError:\n",
    "                raise ValueError(\"token '{}' is not a valid integer\".format(i))\n",
    "    return eTree\n",
    "\n",
    "if __name__ == '__main__':\n",
    "    pt = buildParseTree(\"( ( 10 + 5 ) * 3 )\")\n",
    "    #postorder(pt)        # defined and explained in the next section"
   ]
  },
  {
   "cell_type": "markdown",
   "metadata": {},
   "source": [
    "위 4가지의 규칙은 각자 for 반복문의 if와 elif 문에 구현되어있습니다. 각 규칙에 해당하는 토큰을 구별하여 `Node`와 `Stack`을 통해 구현하였습니다. 이때, 식별되지 않는 토큰의 경우만 `ValueError` 예외문을 통하여 처리해줍니다."
   ]
  },
  {
   "cell_type": "markdown",
   "metadata": {},
   "source": [
    "이제 파스 트리를 구현하였으니 이를 계산하는 함수를 만들어보도록 하겠습니다. 이 함수를 만들기 위해선 트리의 계층적 성질을 이해할 필요가 있습니다. 그림 2를 다시 봅시다. 이 트리는 그림 3과 같이 간소화된 형태로 나타낼 수 있다는 것을 기억하세요. 이는 파스 트리에서 각 subtree에 대한 연산을 회귀적으로 계산할 수 있다는 것을 의미합니다."
   ]
  },
  {
   "cell_type": "markdown",
   "metadata": {},
   "source": [
    "이전 모든 회귀 알고리즘의 구현과 같이, 먼저 base case를 정의해봅니다. 일반적으로 base case는 현재 노드가 leaf node인지 확인할 것입니다. 파스 트리에서는 모든 leaf node는 피연산자입니다. 피연산자는 정수와 소수와 같이 추가적인 연산을 필요로하지 않기 때문에, `evaluate`함수는 해당 값을 단순히 반환하면 됩니다. 이와 같이, 하나의 노드에 대해 왼쪽과 오른쪽 자식에 `evaluate`함수를 회귀적으로 호출하게 되면 base case에 도달하며 트리의 leaf node까지 접근할 것입니다."
   ]
  },
  {
   "cell_type": "markdown",
   "metadata": {},
   "source": [
    "회귀 함수의 호출로 얻은 두개의 결과에 대한 연산은 부모 노드의 연산자를 사용합니다. 그림 3의 경우, 각 자식의 결과로 얻은 10과 3을 곱셈 연산자를 사용하여 30이라는 최종 값을 얻게 되는 것입니다. 이러한 연산을 수행하는 파이썬 코드는 목록 8에 구현되어있습니다.\n",
    "\n",
    "## evaluate()"
   ]
  },
  {
   "cell_type": "code",
   "execution_count": 3,
   "metadata": {},
   "outputs": [
    {
     "name": "stdout",
     "output_type": "stream",
     "text": [
      "45\n"
     ]
    }
   ],
   "source": [
    "# 목록 8\n",
    "import operator\n",
    "def evaluate(parseTree):\n",
    "    opers = {'+':operator.add, '-':operator.sub, '*':operator.mul, '/':operator.truediv}\n",
    "\n",
    "    leftC = parseTree.left\n",
    "    rightC = parseTree.right\n",
    "\n",
    "    if leftC and rightC:\n",
    "        fn = opers[parseTree.key]\n",
    "        return fn(evaluate(leftC),evaluate(rightC))\n",
    "    else:\n",
    "        return parseTree.key\n",
    "    \n",
    "if __name__ == '__main__':\n",
    "    pt = buildParseTree(\"( ( 10 + 5 ) * 3 )\")\n",
    "    print(evaluate(pt))"
   ]
  },
  {
   "cell_type": "markdown",
   "metadata": {},
   "source": [
    "`evaluate`함수가 회귀적으로 호출되면서 생성되는 결과를 그림 4과 비교하며 흐름을 따라가보길 바랍니다."
   ]
  },
  {
   "cell_type": "markdown",
   "metadata": {},
   "source": [
    "# More Tree Algorithms\n",
    "\n",
    "트리 데이터 구조에서 자주 사용하는 기본적인 알고리즘들 입니다. \n",
    "\n",
    "<center><img src=\"https://github.com/idebtor/DSpy/blob/7c796933439439eab68b10d8ef0ac63145c24c87/images/chap6/exercise2.png?raw=true\" width=\"300\" title=\"Figure 6. A test tree\">\n",
    "\n",
    "<center>그림 6. 알고리즘 테스트를 위한 트리의 예<center><br>"
   ]
  },
  {
   "cell_type": "markdown",
   "metadata": {},
   "source": [
    "## Tree Size\n",
    "\n",
    "이진 트리 크기를 하는 방법은 왼쪽 트리의 크기와 오른쪽 트리의 크기를 재귀적으로 각각 구하고, 자신의 크기 1을 더하여 반환합니다.  "
   ]
  },
  {
   "cell_type": "code",
   "execution_count": 10,
   "metadata": {},
   "outputs": [
    {
     "name": "stdout",
     "output_type": "stream",
     "text": [
      "size at root: 7\n",
      "left subtree: 4\n"
     ]
    }
   ],
   "source": [
    "from node import Node\n",
    "\n",
    "def size(node):\n",
    "    if node is None:       # base case \n",
    "        return 0           \n",
    "    return size(node.left) + 1 + size(node.right)\n",
    "    \n",
    "if __name__ == '__main__':\n",
    "    root = Node('A')\n",
    "    root.insertLeft('B')\n",
    "    root.insertRight('C')\n",
    "    root.left.insertLeft('D')\n",
    "    root.left.insertRight('E')\n",
    "    root.right.insertRight('G')\n",
    "    root.left.left.insertLeft('H')\n",
    "    print('size at root:', size(root))\n",
    "    print('left subtree:', size(root.left))"
   ]
  },
  {
   "cell_type": "markdown",
   "metadata": {},
   "source": [
    "## Tree Height\n",
    "\n",
    "이진 트리의 높이를 구하는 방법은 왼쪽 트리의 높이와 오른쪽 트리의 높이를 재귀적으로 각각 구하고, 그 둘 중에 더 큰 높이를 취하고 자신의 높이 1을 더하여 반환합니다. "
   ]
  },
  {
   "cell_type": "code",
   "execution_count": null,
   "metadata": {},
   "outputs": [],
   "source": [
    "def height(node):\n",
    "    if node is None:      # check if the binary tree is empty \n",
    "        return -1\n",
    "    # recursively call height of each node\n",
    "    leftHeight = height(node.left)\n",
    "    rightHeight = height(node.right)\n",
    " \n",
    "    # return max(leftHeight, rightHeight) at each iteration\n",
    "    return max(leftHeight, rightHeight) + 1\n",
    "\n",
    "if __name__ == '__main__':\n",
    "    root = Node('A')\n",
    "    root.insertLeft('B')\n",
    "    root.insertRight('C')\n",
    "    root.left.insertLeft('D')\n",
    "    root.left.insertRight('E')\n",
    "    root.right.insertRight('G')\n",
    "    root.left.left.insertLeft('H')\n",
    "    print('height:', height(root))"
   ]
  },
  {
   "cell_type": "markdown",
   "metadata": {},
   "source": [
    "## Tree Search\n",
    "이진 트리의 재귀를 활용하여 트리를 순회하며 주어진 key가 찾으면 True를 반환합니다. "
   ]
  },
  {
   "cell_type": "code",
   "execution_count": null,
   "metadata": {},
   "outputs": [],
   "source": [
    "from node import Node\n",
    "\n",
    "# return whether tree rooted at node contains key.\n",
    "def contains(node, key):\n",
    "    if node is None:                 \n",
    "        return False\n",
    "    if node.key == key: return True\n",
    "    return contains(node.left, key) or contains(node.right, key)\n",
    "\n",
    "if __name__ == '__main__':\n",
    "    root = Node('A')\n",
    "    root.insertLeft('B')\n",
    "    root.insertRight('C')\n",
    "    root.left.insertLeft('D')\n",
    "    root.left.insertRight('E')\n",
    "    root.right.insertRight('G')\n",
    "    root.left.left.insertLeft('H')\n",
    "    print('contains(\"H\"):', contains(root, 'H'))\n",
    "    print('contains(\"K\"):', contains(root, 'K'))        "
   ]
  },
  {
   "cell_type": "markdown",
   "metadata": {},
   "source": [
    "__Note:__ 위의 `contains()` 함수는 아래와 같이 한 줄로도 코딩이 가능합니다. 이런 코드가 어떻게 작동하는지 생각해보십시오. "
   ]
  },
  {
   "cell_type": "code",
   "execution_count": null,
   "metadata": {},
   "outputs": [],
   "source": [
    "def contains(node, key):\n",
    "    return node.key == key or (node.left and contains(node.left, key)) or (node.right and contains(node.right, key))\n",
    "\n",
    "if __name__ == '__main__':\n",
    "    print('contains(\"H\"):', contains(root, 'H'))\n",
    "    print('contains(\"K\"):', contains(root, 'K'))     "
   ]
  },
  {
   "cell_type": "markdown",
   "metadata": {},
   "source": [
    "## Find Parent by Key\n",
    "\n",
    "주어진 key의 Parent를 찾으면 출력하고 나면, 트리를 더 이상 순회하지 않고 종료합니다. "
   ]
  },
  {
   "cell_type": "code",
   "execution_count": null,
   "metadata": {},
   "outputs": [],
   "source": [
    "# Recursively find the parent of the given node's key and print parent's key\n",
    "def getParent(node, key):  \n",
    "    if node is None or node.key == key:   # base case: empty tree or root matches \n",
    "        return None\n",
    "    \n",
    "    # for all internal nodes or leaves: left & right child's key matches?\n",
    "    if node.left and (node.left.key == key) or node.right and (node.right.key == key):      \n",
    "        return node.key\n",
    "    \n",
    "    result = getParent(node.left, key)    # go for the leftside; None or key found\n",
    "    if result: return result              # if found, return \n",
    "\n",
    "    # not found in leftside, go for the rightside\n",
    "    result = getParent(node.right, key)   # go for the rightside; None or key found\n",
    "    if result: return result              # if found, return \n",
    "        \n",
    "if __name__ == '__main__':\n",
    "    root = Node('A')\n",
    "    root.insertLeft('B')\n",
    "    root.insertRight('C')\n",
    "    root.left.insertLeft('D')\n",
    "    root.left.insertRight('E')\n",
    "    root.right.insertRight('G')\n",
    "    root.left.left.insertLeft('H')\n",
    "    print(getParent(root, 'H'))\n",
    "    print(getParent(root, 'D'))\n",
    "    print(getParent(root, 'E'))\n",
    "    print(getParent(root, 'A'))\n",
    "    print(getParent(root, 'X'))"
   ]
  },
  {
   "cell_type": "markdown",
   "metadata": {},
   "source": [
    "## Print all parents (or ancestors) of a given node key\n",
    "\n",
    "주어진 key의 Parent를 찾은 후에도, 재귀적으로 계속해서 왼쪽과 오른쪽 트리를 순회(traversal)할 수 있도록 해야 합니다. 주어진 key가 트리에 없거나 root key이면, parent가 없으므로, 아무 것도 출력하지 않습니다.  "
   ]
  },
  {
   "cell_type": "code",
   "execution_count": null,
   "metadata": {
    "tags": []
   },
   "outputs": [],
   "source": [
    "# if key is present in tree, then prints the parents\n",
    "# and returns true, otherwise returns false\n",
    "def printParents(node, key):\n",
    "    if node == None:           # base case\n",
    "        return False\n",
    "    \n",
    "    if node.key == key:        # key found\n",
    "        return True\n",
    " \n",
    "    # if the given node key is found in either left or right subtree,\n",
    "    # the current node is a parent of a given node\n",
    "    if printParents(node.left, key) or printParents(node.right, key):\n",
    "        print(node.key)\n",
    "        return True\n",
    "    return False              # else return False\n",
    "\n",
    "if __name__ == '__main__':\n",
    "    root = Node('A')\n",
    "    root.insertLeft('B')\n",
    "    root.insertRight('C')\n",
    "    root.left.insertLeft('D')\n",
    "    root.left.insertRight('E')\n",
    "    root.right.insertRight('G')\n",
    "    root.left.left.insertLeft('H')\n",
    "    printParents(root, 'H')\n",
    "    print()\n",
    "    printParents(root, 'D')\n",
    "    print()\n",
    "    printParents(root, 'A')\n",
    "    printParents(root, 'X')"
   ]
  },
  {
   "cell_type": "markdown",
   "metadata": {},
   "source": [
    "# Problem Based Learning"
   ]
  },
  {
   "cell_type": "markdown",
   "metadata": {},
   "source": [
    "## Analysis of height()\n",
    "\n",
    "<center><img src=\"https://github.com/idebtor/DSpy/blob/7c796933439439eab68b10d8ef0ac63145c24c87/images/chap6/exercise2.png?raw=true\" width=\"300\" title=\"Figure 6. A test tree\"></center>\n",
    "\n",
    "위에 주어진 트리의 높이를 다음과 같은 `height()` 함수로 계산할 때 다음과 같은 질문에 답하십시오. \n",
    "\n",
    "1. `height()` 함수는 몇 번이나 recursive call이 있었습니까? (`main()`에서 처음 호출하는 것은 recursive call이 아닙니다) \n",
    "2. 각 노드(A through H)에서 반환하는 높이를 무엇입니까? \n",
    "3. 가장 처음으로 `return max(...)` 구문을 실행하면서 반환하는 값은 얼마입니까?"
   ]
  },
  {
   "cell_type": "code",
   "execution_count": null,
   "metadata": {},
   "outputs": [],
   "source": [
    "from node import Node\n",
    "\n",
    "def height(node):\n",
    "    if node is None:      # base case\n",
    "        return -1\n",
    "\n",
    "    left = height(node.left)\n",
    "    right = height(node.right)\n",
    " \n",
    "    return max(left, right) + 1\n",
    "\n",
    "if __name__ == '__main__':\n",
    "    root = Node('A')\n",
    "    root.insertLeft('B')\n",
    "    root.insertRight('C')\n",
    "    root.left.insertLeft('D')\n",
    "    root.left.insertRight('E')\n",
    "    root.right.insertRight('G')\n",
    "    root.left.left.insertLeft('H')\n",
    "    print('height:', height(root))"
   ]
  },
  {
   "cell_type": "markdown",
   "metadata": {},
   "source": [
    "## 이진트리 모듈(node.py and bt.py) 완성하기 \n",
    "\n",
    "지금까지 Node 클래스와 이진 트리 코드를 재구성하여 두 개의 파일 즉 node.py와 bt.py로 모듈을 나누어 보려고 합니다.\n",
    "\n",
    "재구성의 기본 원칙은 Node 클래스(node.py)는 `__init__(), __repr__(), __len__(), __iter__(), __contains__()`와 같은 기본적인 메소드로 구성하고, 그 외에 일반적인 이진트리의 `Node`를 지원하는 연산들은 모두 함수로 bt.py 파일에 정의합니다. 그래서, bt.py 모듈의 연산들을 다른 종류의 이진트리에서도 import하여 사용할 수 있도록 재구성합니다. \n",
    "\n",
    "- Node Class 모듈(node.py)에는 다음과 같은 메소드들을 포함합니다. \n",
    "\n",
    "```\n",
    "    - __repr__() - 이진트리의 모든 node들을 리스트 형식으로 반환합니다. repr()로 호출합니다. \n",
    "    - __len__() - node의 갯수를 반환합니다. len()로 호출합니다. \n",
    "    - __contains__() - in 연산자를 사용 가능하도록 합니다.  in 연산자로 호출합니다. \n",
    "    - __iter__() - iterator를 반환합니다. iter()로 호출합니다. \n",
    "```\n",
    "\n",
    "- Binary Tree 모듈(bt.py)에 포함할 함수는 다음과 같습니다. \n",
    "```\n",
    "    - contains()\n",
    "    - size()\n",
    "    - height()   \n",
    "    - insertLeft()\n",
    "    - insertRight()\n",
    "    - inorder() - inorder traversal한 결과를 list로 반환합니다. \n",
    "    - preorder() - preorder traversal한 결과를 list로 반환합니다.\n",
    "    - postorder() - postorder traversal한 결과를 list로 반환합니다.    \n",
    "    - serialize() - tree를 serialization한 결과를 list로 반환합니다. 이는 binarytree module의 build2()의 입력으로 사용하여 tree를 시각화할 수 있습니다.\n",
    "```"
   ]
  },
  {
   "cell_type": "markdown",
   "metadata": {},
   "source": [
    "__Sample Run:__\n",
    "```\n",
    "if __name__ == '__main__':\n",
    "    bt1 = Node(1)\n",
    "    insertRight(bt1, 2)\n",
    "    insertLeft(bt1.right, 3)\n",
    "    print('      size:', size(bt1))\n",
    "    print('    height:', height(bt1))\n",
    "    print('   inorder:', inorder(bt1))\n",
    "    print('  preorder:', preorder(bt1))\n",
    "    print(' postorder:', postorder(bt1))\n",
    "    print(' serialize:', serialize(bt1))\n",
    "    print(build2(serialize(bt1)))\n",
    "    \n",
    "    bt2 = Node(5)\n",
    "    # your code here\n",
    "    \n",
    "    bt3 = Node(2)\n",
    "    # your code here\n",
    "    \n",
    "    print('bt3 contains 1', contains(bt3, 1))\n",
    "    for x in [1, 3, 5, 7]:\n",
    "        print('bt3 contains', x, x in bt3)\n",
    "```"
   ]
  },
  {
   "cell_type": "markdown",
   "metadata": {},
   "source": [
    "__Expected Output:__\n",
    "```\n",
    "size: 3\n",
    "    height: 2\n",
    "   inorder: [Node(1), Node(3), Node(2)]\n",
    "  preorder: [Node(1), Node(2), Node(3)]\n",
    " postorder: [Node(3), Node(2), Node(1)]\n",
    " serialize: [1, None, 2, 3, None]\n",
    "\n",
    "1__\n",
    "   \\\n",
    "    2\n",
    "   /\n",
    "  3\n",
    "\n",
    "[5, 4, 7, 3, None, 2, None, -1, None, 9, None]\n",
    "\n",
    "       5____\n",
    "      /     \\\n",
    "     4       7\n",
    "    /       /\n",
    "  _3       2\n",
    " /        /\n",
    "-1       9\n",
    "\n",
    "      size: 5\n",
    "    height: 3\n",
    "   inorder: [Node(6), Node(5), Node(1), Node(3), Node(2)]\n",
    "  preorder: [Node(2), Node(5), Node(6), Node(3), Node(1)]\n",
    " postorder: [Node(6), Node(1), Node(3), Node(5), Node(2)]\n",
    " serialize: [2, 5, None, 6, 3, None, None, 1, None]\n",
    "\n",
    "    ____2\n",
    "   /\n",
    "  5__\n",
    " /   \\\n",
    "6     3\n",
    "     /\n",
    "    1\n",
    "\n",
    "bt3 contains 1 True\n",
    "bt3 contains 1 True\n",
    "bt3 contains 3 True\n",
    "bt3 contains 5 True\n",
    "bt3 contains 7 False\n",
    "```"
   ]
  },
  {
   "cell_type": "code",
   "execution_count": null,
   "metadata": {},
   "outputs": [],
   "source": [
    "%%writefile  node.py\n",
    "\n",
    "class  Node:\n",
    "    def __init__(self, key, left = None, right = None):\n",
    "        self.key = key\n",
    "        self.left = left\n",
    "        self.right = right\n",
    "        \n",
    "    # your code here\n",
    "    \n",
    "    def __iter__(self):\n",
    "        curr_nodes = [self]\n",
    "        while len(curr_nodes) > 0:\n",
    "            next_nodes = []\n",
    "            for node in curr_nodes:\n",
    "                yield node\n",
    "                if node.left is not None:\n",
    "                    next_nodes.append(node.left)\n",
    "                if node.right is not None:\n",
    "                    next_nodes.append(node.right)\n",
    "            curr_nodes = next_nodes"
   ]
  },
  {
   "cell_type": "code",
   "execution_count": null,
   "metadata": {},
   "outputs": [],
   "source": [
    "#%%writefile bt.py\n",
    "\n",
    "from node import Node\n",
    "from collections import deque\n",
    "from dspy.binarytree import build2\n",
    "\n",
    "########## binary tree oeprations: bt.py module #############\n",
    "\n",
    "def contains(root, key):          # utilize node's method\n",
    "    # your code here\n",
    "    pass\n",
    "\n",
    "def size(node):                    # utilize node's method\n",
    "    # your code here\n",
    "    pass\n",
    "\n",
    "# your code here\n",
    "\n",
    "def inorder(node):                # inoder() using stack w/o recursion\n",
    "    result = []                   # returns the result in a list\n",
    "    stack = []\n",
    "\n",
    "    while node or stack:\n",
    "        while node:\n",
    "            stack.append(node)\n",
    "            node = node.left\n",
    "        if stack:\n",
    "            node = stack.pop()\n",
    "            result.append(node)\n",
    "            node = node.right\n",
    "    return result\n",
    "\n",
    "def preorder(node):               # preorder() using stack w/o recursion\n",
    "    result = []                   # returns the result in a list\n",
    "    stack = [node]\n",
    "    \n",
    "    while stack:\n",
    "        node = stack.pop()\n",
    "        if node:\n",
    "            result.append(node)\n",
    "            stack.append(node.right)\n",
    "            stack.append(node.left)\n",
    "    return result\n",
    "\n",
    "def postorder(node):              # postoder() using stack w/o recursion\n",
    "    result = []                   # returns the result in a list\n",
    "    stack = [node]\n",
    "\n",
    "    while stack:\n",
    "        node = stack.pop()\n",
    "        if node:\n",
    "            result.append(node)\n",
    "            stack.append(node.left)\n",
    "            stack.append(node.right)\n",
    "    return result[::-1]\n",
    "\n",
    "###### optional ######\n",
    "\n",
    "def serialize(node):             # works like levelorder() \n",
    "    \"\"\"serialize the sequence of nodes: this is a compact form \"\"\"\n",
    "    queue = [node]\n",
    "    keys = []\n",
    "\n",
    "    while len(queue) > 0:\n",
    "        # your code here\n",
    "        \n",
    "    return keys\n",
    "\n",
    "def deserialize(values):         # values: compact form of serialization\n",
    "    \"\"\"deserialize the serialized sequence of nodes \"\"\"\n",
    "    queue = deque()\n",
    "    root = None\n",
    "\n",
    "    if values:\n",
    "        root = Node(values[0])\n",
    "        queue.append(root)\n",
    "\n",
    "    index = 1\n",
    "    while index < len(values):\n",
    "        node = queue.popleft()\n",
    "\n",
    "        if values[index] is not None:\n",
    "            node.left = Node(values[index])\n",
    "            queue.append(node.left)\n",
    "        index += 1\n",
    "\n",
    "        if index < len(values) and values[index] is not None:\n",
    "            node.right = Node(values[index])\n",
    "            queue.append(node.right)\n",
    "        index += 1\n",
    "        \n",
    "    return root\n",
    "\n",
    "if __name__ == '__main__':\n",
    "    bt1 = Node(1)\n",
    "    insertRight(bt1, 2)\n",
    "    insertLeft(bt1.right, 3)\n",
    "    print('      size:', size(bt1))\n",
    "    print('    height:', height(bt1))\n",
    "    print('   inorder:', inorder(bt1))\n",
    "    print('  preorder:', preorder(bt1))\n",
    "    print(' postorder:', postorder(bt1))\n",
    "    #print(' serialize:', serialize(bt1))\n",
    "    #print(build2(serialize(bt1)))\n",
    "    \n",
    "    bt2 = Node(5)\n",
    "    # your code here\n",
    "    \n",
    "    bt3 = Node(2)\n",
    "    # your code here\n",
    "    \n",
    "    print('bt3 contains 1', contains(bt3, 1))\n",
    "    for x in [1, 3, 5, 7]:\n",
    "        print('bt3 contains', x, x in bt3)"
   ]
  },
  {
   "cell_type": "markdown",
   "metadata": {},
   "source": [
    "# References\n",
    "- Problem Solving with Algorithms and Data Structures using Python, [Here](https://runestone.academy/runestone/books/published/pythonds3/Introduction/WhyStudyDataStructuresandAbstractDataTypes.html)\n",
    "    - 트리 순회 알고리즘 [Here](https://gingerkang.tistory.com/87)"
   ]
  },
  {
   "cell_type": "markdown",
   "metadata": {},
   "source": [
    "\n",
    "- Home: https://github.com/joowani/binarytree\n",
    "- Documentation: http://binarytree.readthedocs.io\n",
    "- https://binarytree.readthedocs.io/en/main/"
   ]
  },
  {
   "cell_type": "markdown",
   "metadata": {},
   "source": [
    "------\n",
    "네가 만일 네 입으로 예수를 주로 시인하며 또 하나님께서 그를 죽은 자 가운데서 살리신 것을 네 마음에 믿으면 구원을 받으리라 사람이 마음으로 믿어 의에 이르고 입으로 시인하여 구원에 이르느니라 (롬10:9-10)"
   ]
  }
 ],
 "metadata": {
  "kernelspec": {
   "display_name": "Python 3 (ipykernel)",
   "language": "python",
   "name": "python3"
  },
  "language_info": {
   "codemirror_mode": {
    "name": "ipython",
    "version": 3
   },
   "file_extension": ".py",
   "mimetype": "text/x-python",
   "name": "python",
   "nbconvert_exporter": "python",
   "pygments_lexer": "ipython3",
   "version": "3.9.12"
  },
  "toc-autonumbering": true
 },
 "nbformat": 4,
 "nbformat_minor": 4
}
