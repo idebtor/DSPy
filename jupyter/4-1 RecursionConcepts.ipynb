{
 "cells": [
  {
   "cell_type": "markdown",
   "id": "accepting-monitoring",
   "metadata": {},
   "source": [
    "태초에 하나님이 천지를 창조하시니라 땅이 혼돈하고 공허하며 흑암이 깊음 위에 있고 하나님의 영은 수면 위에 운행하시니라 하나님이 이르시되 빛이 있으라 하시니 빛이 있었고 빛이 하나님이 보시기에 좋았더라 하나님이 빛과 어둠을 나누사 하나님이 빛을 낮이라 부르시고 어둠을 밤이라 부르시니라 저녁이 되고 아침이 되니 이는 첫째 날이니라 (창1:1-5)\n",
    "\n",
    "-------\n",
    "<img src=\"https://github.com/idebtor/DSpy/blob/6b3676c3de29f85d2e7f30679676d1fd96d88b17/images/WelcomeToDataStructures.jpg?raw=true\" width=1000>\n",
    "\n",
    "__NOTE:__ The following materials have been compiled and adapted from the numerous sources including my own. Please help me to keep this tutorial up-to-date by reporting any issues or questions. Send any comments or criticisms to `idebtor@gmail.com` Your assistances and comments will be appreciated.\n",
    "\n",
    "--------"
   ]
  },
  {
   "cell_type": "markdown",
   "id": "second-safety",
   "metadata": {},
   "source": [
    "\n",
    "<b style=\"font-size:30px\"> Chapter 4. Recursion(재귀)</b>\n",
    "\n",
    ": recursion(재귀)란 무엇인가\n",
    "\n",
    "--------------\n",
    "제 4장에서는 재귀에 대해 알아봅니다. 재귀를 이용하면 복잡한 문제에 대해 간단한 재귀적 해결책을 가질 수 있습니다. 재귀가 어떻게 구현이 되고 진행이 되는지 살펴볼 것입니다.\n",
    "    \n",
    "1. Introduction\n",
    "1. Recursion Using Stack and Memoization\n",
    "1. Recursive Algorithms\n",
    "1. Recursive Graphics"
   ]
  },
  {
   "cell_type": "markdown",
   "id": "chubby-color",
   "metadata": {},
   "source": [
    "# Introduction\n",
    "\n",
    "1.1. Objectives  \n",
    "1.2. 재귀란 무엇인가?  \n",
    "1.3. 숫자로 구성된 Lists(리스트)의 합계산  \n",
    "1.4. 재귀의 3가지 법칙  "
   ]
  },
  {
   "cell_type": "markdown",
   "id": "elegant-conjunction",
   "metadata": {},
   "source": [
    "## Objectives\n",
    "\n",
    "* 재귀가 무엇인지 이해한다.\n",
    "* 재귀의 3가지 법칙을 이해하고 적용할 수 있다.\n",
    "* 재귀 공식을 구현할 수 있다."
   ]
  },
  {
   "cell_type": "markdown",
   "id": "sensitive-debut",
   "metadata": {},
   "source": [
    "## 재귀란 무엇인가?\n",
    "\n",
    "__재귀__ 는 주어진 문제를 점점 더 작은 하위 문제로 세분화하여 푸는 방법입니다. 일반적으로 재귀는 함수 자체를 호출합니다. 겉으로 보기에는 재귀의 잠재력이 잘 보이지 않을 수 있지만, 재귀는 프로그래밍하기 매우 어려울 수 있는 문제를 간단하게 해결해주기도 합니다."
   ]
  },
  {
   "cell_type": "markdown",
   "id": "arranged-nylon",
   "metadata": {},
   "source": [
    "## 숫자로 구성된 리스트의 합계산\n",
    "\n",
    "숫자로 구성된 리스트의 합을 계산하기 위해 재귀로 작성한 코드와 그렇지 않은 코드를 비교하면서 설명하도록 하겠습니다. 우선 [1,3,5,7,9]와 같은 리스트의 합을 계산하려고 한다고 가정합시다.   \n",
    "먼저 재귀를 사용하지 않고 작성한 코드를 보겠습니다."
   ]
  },
  {
   "cell_type": "code",
   "execution_count": null,
   "id": "restricted-anthony",
   "metadata": {},
   "outputs": [],
   "source": [
    "def list_sum(num_list):\n",
    "    the_sum = 0\n",
    "    for i in num_list:\n",
    "        the_sum = the_sum + i\n",
    "    return the_sum\n",
    "\n",
    "print(list_sum([1, 3, 5, 7, 9]))"
   ]
  },
  {
   "cell_type": "markdown",
   "id": "bronze-thompson",
   "metadata": {},
   "source": [
    "일반적으로 생각할 수 있는 방법은 __반복적으로__ 리스트에 있는 내용들을 하나씩 더해나가는 방법입니다. 하지만, __for__ 문이나 __while__ 문을 사용하지 않고 똑같은 문제를 구현하기 위해선 어떻게 해야 합니까? 이때 재귀를 사용하면 반복문을 사용하지 않고 문제를 풀 수 있습니다.  \n",
    "다음은 재귀를 사용한 코드입니다."
   ]
  },
  {
   "cell_type": "code",
   "execution_count": null,
   "id": "acceptable-error",
   "metadata": {},
   "outputs": [],
   "source": [
    "def list_sum(num_list):\n",
    "    if len(num_list) == 1:\n",
    "        return num_list[0]\n",
    "    else:\n",
    "        return num_list[0] + list_sum(num_list[1:])\n",
    "\n",
    "print(list_sum([1, 3, 5, 7, 9]))"
   ]
  },
  {
   "cell_type": "markdown",
   "id": "emerging-mention",
   "metadata": {},
   "source": [
    "이 리스트에는 살펴볼 몇가지 핵심 아이디어가 있습니다. 우선 2번 라인에서 리스트의 길이가 1인지 확인하고 있습니다. 이 점검은 매우 중요하며, 함수로부터의 탈출을 가능하게 하는 코드입니다.(흔히 base case라고 부릅니다.) 둘째, 5번 라인에서는 `list_num`함수가 스스로 호출되는 것을 볼 수 있습니다. 이것이 우리가 `list_num`을 재귀함수라고 부르는 이유입니다."
   ]
  },
  {
   "cell_type": "markdown",
   "id": "promotional-switzerland",
   "metadata": {},
   "source": [
    "<center><img src=\"https://github.com/idebtor/DSpy/blob/main/images/chap4/ch4-1.jpg?raw=true\" width=\"500\" title=\"그림1. list_num 재귀 호출\"></center>\n",
    "<center>그림 1. list_num 재귀 호출<center><br>"
   ]
  },
  {
   "cell_type": "markdown",
   "id": "talented-machine",
   "metadata": {},
   "source": [
    "그림 1은 [1,3,5,7,9] 리스트를 요약하는 데 필요한 일련의 재귀 호출을 보여줍니다. 이 일련의 호출을 통해 문제는 더욱 단순해집니다. 즉, 재귀적 호출을 할때마다 기존의 문제는 작은 문제로 나뉘어지고, 다시 그 문제는 더 작은 문제로 나뉘어지면서 문제를 해결할 수 있습니다. 이 과정은 문제가 더 작아질 수 없는 지점(base case)에 도달할 때까지 계속됩니다. 문제가 최대한 간단하게 해결될 수 있는 지점(base case)에 도달했을 때, 우리는 처음 문제가 해결될 때까지 각각의 작은 문제들의 해결책을 종합하기 시작합니다. "
   ]
  },
  {
   "cell_type": "markdown",
   "id": "centered-scientist",
   "metadata": {},
   "source": [
    "<center><img src=\"https://github.com/idebtor/DSpy/blob/main/images/chap4/ch4-2.jpg?raw=true\" width=\"500\" title=\"그림2. 재귀 반환\"></center>\n",
    "<center>그림 2. list_num 재귀 반환<center><br>"
   ]
  },
  {
   "cell_type": "markdown",
   "id": "stuck-electron",
   "metadata": {},
   "source": [
    "그림 2는 `list_sum`의 base case까지 간 후, 반환을 통해 다시 역방향으로 작동할 때 수행되는 과정을 보여줍니다. 작은 문제들의 해결책이 합쳐져서 최상위 문제로 다시 돌아왔을 때, 우리는 전체 문제에 대한 해결책을 가지게 됩니다."
   ]
  },
  {
   "cell_type": "markdown",
   "id": "printable-mathematics",
   "metadata": {},
   "source": [
    "## 재귀의 3가지 법칙"
   ]
  },
  {
   "cell_type": "markdown",
   "id": "indian-carroll",
   "metadata": {},
   "source": [
    "모든 재귀 알고리즘은 다음 3가지 중요한 법칙을 준수해야 합니다.  \n",
    "1. 재귀 알고리즘에는 기본 사례(base case)가 있어야 한다.\n",
    "1. 재귀 알고리즘은 상태를 변경하고 기본 사례(base case)쪽으로 이동해야 한다.\n",
    "1. 재귀 알고리즘은 자신을 재귀적으로 호출해야 한다."
   ]
  },
  {
   "cell_type": "markdown",
   "id": "fleet-pioneer",
   "metadata": {},
   "source": [
    "- 첫번째 법칙 : 기본 사례는 알고리즘이 재귀 중지를 허용하는 조건입니다. 기본 사례는 일반적으로 직접 해결할 수 있을 정도로 작은 문제입니다. `list_sum` 알고리즘에서 기본 사례는 길이 1의 리스트입니다."
   ]
  },
  {
   "cell_type": "markdown",
   "id": "polish-trance",
   "metadata": {},
   "source": [
    "- 두번째 법칙 : 이 법칙을 준수하기 위해서는 알고리즘을 기본 사례로 이동하는 상태 변화를 준비해야 합니다. 상태 변경이란 알고리즘에서 사용 중인 일부 데이터가 수정되었음을 의미합니다. 보통 문제를 나타내는 주요 데이터의 크기가 줄어드는 것이 일반적입니다. `list_sum` 알고리즘에서 우리의 주요 데이터 구조는 리스트입니다. 따라서 우리가 이 문제에서 주목해야 할 상태변화는 리스트에 관한 것이어야 합니다. 기본 사례에서 리스트의 길이는 1이므로 우리가 상태변화를 해야 할 방향은 목록의 크기를 줄여나가는 것입니다.\n",
    "```python\n",
    "return num_list[0] + list_sum(num_list[1:])\n",
    "```\n",
    "이 코드에서 바로 이러한 현상이 발생합니다."
   ]
  },
  {
   "cell_type": "markdown",
   "id": "informative-halifax",
   "metadata": {},
   "source": [
    "- 세번째 법칙 : 마지막 법칙은 알고리즘이 스스로 호출해야 한다는 것입니다. 이것이 재귀의 정의입니다. "
   ]
  },
  {
   "cell_type": "markdown",
   "id": "1201cb58-d233-492c-888b-c683e3c3f143",
   "metadata": {},
   "source": [
    "##  함수 factorial() 재귀로 구현하기\n",
    "재귀용법을 구현하는 사람들이 첫 번 째 프로그램(\"Hello World\")은 팩토얼 함수일 것입니다. 이는 n이 하나의 자연수일 때, 1에서 n까지의 모든 자연수의 곱을 n에 상대하여 이르는 말입니다. 즉 수식으로 표현하면 다음과 같습니다. \n",
    "\n",
    "```\n",
    "    n! = n x (n - 1) x (n - 2) x ... x 2 x 1\n",
    "```\n",
    "\n",
    "위의 식으로부터, 우리는 `(n - 1)! = (n - 1) x (n - 2) x ... x 2 x 1`을 어렵지 않게 나타낼 수 있습니다. 그러므로, n!을 재귀용법으로 표현하면 다음과 같습니다. \n",
    "```\n",
    "    n! = n x (n - 1)!\n",
    "```"
   ]
  },
  {
   "cell_type": "markdown",
   "id": "4d97e5a8-a5ff-46b7-ac3a-09e5fd9347d6",
   "metadata": {},
   "source": [
    "예를 들어, `factorial(5)`를 재귀로 구하려면, `factorial(4), factorial(3), ...` 등을 호출하며,` factorial(1) = 1` 값이 반환될 때까지 진행을 해야 합니다. 그리고, 반환하면서 그 전에 계산하였던 값들을 스택에서 꺼내오면서 계산합니다. 함수를 추적해보면 다음과 같습니다. \n",
    "\n",
    "__Function call trace for factorial():__\n",
    "```\n",
    "factorial(5)\n",
    "    factorial(4)\n",
    "        factorial(3)\n",
    "            factorial(2)\n",
    "                factorial(1)\n",
    "                    return 1\n",
    "                return 2 * 1 = 2\n",
    "            return 3 * 2 = 6 = 6\n",
    "        return 4 * 6 = 24\n",
    "    return 5 * 24 = 120\n",
    "```"
   ]
  },
  {
   "cell_type": "code",
   "execution_count": null,
   "id": "b0c1245e-ffb9-483e-9041-7188e9063b7b",
   "metadata": {},
   "outputs": [],
   "source": [
    "def factorial(n):\n",
    "    if n == 1: return n\n",
    "    return n * factorial(n - 1)"
   ]
  },
  {
   "cell_type": "code",
   "execution_count": null,
   "id": "a84d5243-5866-4cbf-ae2e-785fc4139106",
   "metadata": {},
   "outputs": [],
   "source": [
    "## TEST CODE\n",
    "print(factorial(4)) # 24\n",
    "print(factorial(10)) # 3628800\n",
    "print(factorial(1)) # 1"
   ]
  },
  {
   "cell_type": "markdown",
   "id": "a3822e85-f716-4a58-b3b7-60e0e69a13af",
   "metadata": {},
   "source": [
    "## 함수 gcd() 재귀로 구현하기\n",
    "GCD(Greatest Common Divisor) 최대공약수는 두 자연수의 공통된 약수 중 가장 큰 수를 의미합니다. \n",
    "\n",
    "__Euclid's algorithm 유클리드 호제법:__ \n",
    "\n",
    "If p > q, the gcd of p and q is the same as the gcd of q and p % q. \n",
    "\n",
    "(위키피디아) \"호제법이란 말은 두 수가 서로(互) 상대방 수를 나누어(除)서 결국 원하는 수를 얻는 알고리즘을 나타낸다. 2개의 자연수(또는 정식) a, b에 대해서 a를 b로 나눈 나머지를 r이라 하면(단, a>b), a와 b의 최대공약수는 b와 r의 최대공약수와 같다. 이 성질에 따라, b를 r로 나눈 나머지 r'를 구하고, 다시 r을 r'로 나눈 나머지를 구하는 과정을 반복하여 나머지가 0이 되었을 때 나누는 수가 a와 b의 최대공약수이다. 이는 명시적으로 기술된 가장 오래된 알고리즘으로서도 알려져 있다\"\n",
    "\n",
    "78696과 19332의 최대공약수를 구하면,\n",
    "```\n",
    "    78696 ＝ 19332×4 ＋ 1368\n",
    "    19332 ＝ 1368×14 ＋ 180\n",
    "     1368 ＝ 180×7 ＋ 108\n",
    "      180 ＝ 108×1 ＋ 72\n",
    "      108 ＝ 72×1 ＋ 36\n",
    "       72 ＝ 36×2 ＋ 0\n",
    "```       \n",
    "따라서, 최대공약수는 36이다"
   ]
  },
  {
   "cell_type": "markdown",
   "id": "29fdf3c9-e8ba-4917-ac49-69b63fbd41d8",
   "metadata": {},
   "source": [
    "2000년전에 발견된 이 알고리즘의 작동 원리는 무엇인가요? \n",
    "\n",
    "p와 q의 gcd는 q와 (p - q)의 gcd와 같아야 합니다. 왜냐하면, q 와 (p - q)를 모두 나눌 수 있으면, 반드시 p와 q도 나눌 수 있기 때문입니다.  그렇다면 같은 논리로, q와 (p - 2q), q와 (p - 3q)도 모두 같은 gcd를 가질 것입니다.  (p % q)를 계산하는 한 방법은 p에서 -q를 계속하되 그 값이 q보다 작을 때까지 반복하면 됩니다. \n",
    "\n",
    "\n",
    "__Euclid's Algorithm:__\n",
    "```\n",
    "def gcd(p, q):\n",
    "    if q == 0: return p         # base case\n",
    "    return gcd(q, p % q) \n",
    "    \n",
    "if __name__ == '__main__':\n",
    "    print(gcd(1440, 408))\n",
    "```\n",
    "\n",
    "__Expected Output:__\n",
    "```\n",
    "24\n",
    "```"
   ]
  },
  {
   "cell_type": "markdown",
   "id": "ac9f6ec6-46e2-4171-90a6-a878b2bca41f",
   "metadata": {},
   "source": [
    "__Function call trace for gcd():__\n",
    "```\n",
    "gcd(1440, 408)   \n",
    "    gcd(408, 216)   \n",
    "        gcd(216, 24)\n",
    "            gcd(192, 24)\n",
    "                gcd(24, 0)\n",
    "                    return 24\n",
    "                return 24\n",
    "            return 24\n",
    "        return 24\n",
    "    return 24\n",
    "```"
   ]
  },
  {
   "cell_type": "code",
   "execution_count": null,
   "id": "b0dd9e48-8105-4628-a593-4782f399e840",
   "metadata": {},
   "outputs": [],
   "source": [
    "def gcd(x, y):\n",
    "    if y == 0: return x\n",
    "    return gcd(y, x % y)"
   ]
  },
  {
   "cell_type": "code",
   "execution_count": null,
   "id": "f24f1371-41b4-48d1-87e4-20ea77d49858",
   "metadata": {},
   "outputs": [],
   "source": [
    "## TEST CODE\n",
    "print(gcd(4, 2)) # 2\n",
    "print(gcd(3, 15)) # 3\n",
    "print(gcd(1071, 1029)) # 21"
   ]
  },
  {
   "cell_type": "markdown",
   "id": "b9e536c8-ace6-4473-9292-c3221ae7415e",
   "metadata": {},
   "source": [
    "## 함수 fibonacci() 재귀로 구현하기\n",
    "피보나치 함수를 재귀로 구현해보세요. 피보나치 수(Fibonacci numbers)는 첫째 및 둘째 항이 1이며 그 뒤의 모든 항은 바로 앞 두 항의 합인 수열입니다."
   ]
  },
  {
   "cell_type": "code",
   "execution_count": 2,
   "id": "0e86e8d4-8103-43ca-bcf2-789891136633",
   "metadata": {},
   "outputs": [],
   "source": [
    "def fibonacci(n):\n",
    "    if n == 0 or n == 1: return n\n",
    "    return fibonacci(n - 1) + fibonacci(n - 2)"
   ]
  },
  {
   "cell_type": "code",
   "execution_count": 4,
   "id": "e2013cf3-d15d-49b4-bd8b-87d00f483c4e",
   "metadata": {},
   "outputs": [
    {
     "name": "stdout",
     "output_type": "stream",
     "text": [
      "fibonacci(1) = 1\n",
      "fibonacci(2) = 1\n",
      "fibonacci(3) = 2\n",
      "fibonacci(4) = 3\n",
      "fibonacci(5) = 5\n",
      "fibonacci(10) = 55\n",
      "fibonacci(20) = 6765\n",
      "fibonacci(30) = 832040\n",
      "fibonacci(33) = 3524578\n",
      "fibonacci(36) = 14930352\n"
     ]
    }
   ],
   "source": [
    "## TEST CODE\n",
    "for n in [1, 2, 3, 4, 5, 10, 20, 30, 33, 36]:\n",
    "    print('fibonacci({}) = {}'.format(n, fibonacci(n)))"
   ]
  },
  {
   "cell_type": "markdown",
   "id": "several-grace",
   "metadata": {},
   "source": [
    "# Summary"
   ]
  },
  {
   "cell_type": "markdown",
   "id": "superb-minnesota",
   "metadata": {},
   "source": [
    "이번 시간은 재귀가 무엇인지 살펴보았습니다. 이 장의 나머지 부분에서는 재귀의 더 많은 예를 살펴보겠습니다. 각각의 경우에 우리는 3가지 재귀 법칙을 사용하여 문제에 대한 해결책을 설계하는 데 초점을 맞출 것입니다."
   ]
  },
  {
   "cell_type": "markdown",
   "id": "moderate-thickness",
   "metadata": {},
   "source": [
    "# Problem Based Learning [0.5p for 1st, 0.25p for the rest] "
   ]
  },
  {
   "cell_type": "markdown",
   "id": "fd7e7b4c-55b3-44b2-b6e8-8be6156acd0f",
   "metadata": {},
   "source": [
    "## 재귀 함수 호출을 추적하기 \n",
    "\n",
    "한 함수 안에서, 함수를 끝내지 않은 상태에서, 또 다시 함수(같은 함수이든, 다른 함수이든지)를 호출할 때는 언제나 그렇듯이 그 함수로부터 돌아올 때 다시 시작할 현재 메모리 주소와 현재 모든 변수의 상태를 스택에 저장해 둡니다. 그런데, 마침 두 함수가 같은 함수일 경우, 우리는 이를 재귀 함수라고 부릅니다.  재귀 함수의 특성을 이해하기 위하여, 아래 그림과 같이 재구 함수가 연속적으로 호출되는 것을 그림으로 추적해 볼 수 있습니다.\n",
    "\n",
    "<center><img src=\"https://github.com/idebtor/DSpy/blob/1fbcadd8b1017356ef37586e16bbbeba82bed24e/images/chap4/function_calls_diagram1.png?raw=true\" width=\"500\" title=\"그림 3. Function Calls Diagram\"></center>\n",
    "<center>그림 3. Function Calls Diagram<center><br>"
   ]
  },
  {
   "cell_type": "markdown",
   "id": "5bd70e6f-165b-4fc1-86fc-d209047383e5",
   "metadata": {},
   "source": [
    "__Expected Answer:__\n",
    "```\n",
    "mystery(648):\n",
    "    a = 648 // 10        # 64\n",
    "    b = n % 10           # 8\n",
    "    return mystery(72)   # mystery(72)\n",
    "           mystery(72):\n",
    "               a = 72 // 10          # 7\n",
    "               b = n % 10            # 2\n",
    "               return mystery(9)     # mystery(9)\n",
    "                      mystery(9):\n",
    "                          return 9   # 9\n",
    "```"
   ]
  },
  {
   "cell_type": "markdown",
   "id": "d059c481-5565-4f32-91f3-1c3adcd6ebb5",
   "metadata": {},
   "source": [
    "다음 그림의 있는 mystery() 함수로 mystery(234), mystery(5067)를 각각 재귀 함수 호출을 추적해서 그림을 그리고, 그 결과값을 구하십시오. \n",
    "    \n",
    "<center><img src=\"https://github.com/idebtor/DSpy/blob/b7082e4d973ce969a14649607afe6a96f3f44a07/images/chap4/function_calls_diagram2.png?raw=true\" width=\"500\" title=\"그림 4. Function Calls Diagram\"></center>\n",
    "<center>그림 4. Function Calls Diagram<center><br> "
   ]
  },
  {
   "cell_type": "markdown",
   "id": "d3346115-5290-430f-87ec-4df1bfc53667",
   "metadata": {},
   "source": [
    "__Expected Answer for mystery(234):__\n",
    "```\n",
    "your answer here\n",
    "```"
   ]
  },
  {
   "cell_type": "markdown",
   "id": "8e4bb97e-19d5-4db6-845f-daaa68fa441c",
   "metadata": {},
   "source": [
    "__Expected Answer for mystery(5067):__\n",
    "```\n",
    "your answer here\n",
    "```"
   ]
  },
  {
   "cell_type": "markdown",
   "id": "29c310a9-a795-4c55-a11e-08be250b0287",
   "metadata": {},
   "source": [
    "## Bunny Ears \n",
    "\n",
    "몇 마리의 토끼가 있습니다. 각 토끼는 두 개의 큰 귀를 가지고 있습니다. 모든 토끼의 총 귀의 개수를 재귀적으로 (loop 또는 곱셈 없이) 계산하려고 합니다.\n",
    "\n",
    "```\n",
    "bunnyEars(0) = 0\n",
    "bunnyEars(1) = 2\n",
    "bunnyEars(2) = 4\n",
    "bunnyEars(3) = 6\n",
    "bunnyEars(234) = 468\n",
    "```\n",
    "__힌트:__\n",
    "먼저 base case(bunnies == 0)을 찾고, 그 경우에 0을 반환합니다. Base case가 아닌 경우, bunnyEars(bunnies-1)을 재귀 호출합니다. 재귀 호출이 올바른 값을 반환한다고 믿고 2를 더하여 값을 고정합니다.\n",
    "\n",
    "\n",
    "__Sample Run:__\n",
    "```\n",
    "if __name__ == '__main__':\n",
    "    for n in range(10):\n",
    "        print(bunnyEars(n), end = ', ')\n",
    "    print(bunnyEars(234))\n",
    "```\n",
    "\n",
    "__Expected Output:__\n",
    "```\n",
    "0, 2, 4, 6, 8, 10, 12, 14, 16, 18, 468\n",
    "```\n"
   ]
  },
  {
   "cell_type": "code",
   "execution_count": 42,
   "id": "16f2390b-f17b-4e8f-89f1-e849db0071a7",
   "metadata": {},
   "outputs": [
    {
     "name": "stdout",
     "output_type": "stream",
     "text": [
      "0, 2, 4, 6, 8, 10, 12, 14, 16, 18, 468\n"
     ]
    }
   ],
   "source": [
    "def bunnyEars(bunnies):\n",
    "    if bunnies == 0: return 0\n",
    "    # Recursive case: otherwise, make a recursive call with bunnies-1\n",
    "    # (towards the base case), and fix up what it returns.\n",
    "    return None\n",
    "\n",
    "if __name__ == '__main__':\n",
    "    for n in range(10):\n",
    "        print(bunnyEars(n), end = ', ')\n",
    "    print(bunnyEars(234))"
   ]
  },
  {
   "cell_type": "markdown",
   "id": "08a97ce2-8c93-4cb1-ad87-9b0739bf9344",
   "metadata": {},
   "source": [
    "## Funny Ears\n",
    "\n",
    "토끼와 독기가 1, 2, … 번호대로 줄을 서있습니다. 홀수 토끼(1, 3, …)는 평범하게 2개의 귀를 가지고 있습니다. 짝수 독기(2, 4, …)는 발이 올라가 있어 3개의 귀를 가지고 있다고 볼 수 있습니다. 1, 2, … n까지 줄을 서있는 토끼와 독기의 귀의 개수를 재귀적으로 (loop 또는 곱셈 없이) 반환합니다.\n",
    "\n",
    "__Sample Run:__\n",
    "```\n",
    "if __name__ == '__main__':\n",
    "    for n in range(10):\n",
    "        print(funnyEars(n), end = ', ')\n",
    "    print(funnyEars(234))\n",
    "```\n",
    "\n",
    "__Expected Output:__\n",
    "```\n",
    "0, 2, 5, 7, 10, 12, 15, 17, 20, 22, 585\n",
    "```"
   ]
  },
  {
   "cell_type": "code",
   "execution_count": 43,
   "id": "cc970904-a4db-4bcf-9d61-caec456f6593",
   "metadata": {},
   "outputs": [
    {
     "name": "stdout",
     "output_type": "stream",
     "text": [
      "0, 2, 5, 7, 10, 12, 15, 17, 20, 22, 585\n"
     ]
    }
   ],
   "source": [
    "def funnyEars(funnies):\n",
    "    pass\n",
    "    \n",
    "if __name__ == '__main__':\n",
    "    for n in range(10):\n",
    "        print(funnyEars(n), end = ', ')\n",
    "    print(funnyEars(234))"
   ]
  },
  {
   "cell_type": "markdown",
   "id": "4ed44135-d622-4975-810d-b4d403d5ce68",
   "metadata": {},
   "source": [
    "## Triangle\n",
    "\n",
    "블록으로 만든 삼각형이 있습니다. 맨 위의 행은 블록 1개, 다음 행은 블록 2, 그다음 행은 블록 3개 등등 동일한 방식으로 이어집니다. 주어진 행의 수를 이용해서 이러한 삼각형의 총 블록의 개수를 재귀적으로 (loop 또는 곱셈 없이) 계산하세요.\n",
    "```\n",
    "triangle(0) = 0\n",
    "triangle(1) = 1\n",
    "triangle(2) = 3\n",
    "triangle(3) = 6\n",
    "triangle(4) = 10\n",
    "triangle(7) = 28\n",
    "```\n",
    "\n",
    "__Sample Run:__\n",
    "```\n",
    "if __name__ == '__main__':\n",
    "    for n in range(10):\n",
    "        print(triangle(n), end = ', ')\n",
    "    print(triangle(20))\n",
    "```\n",
    "\n",
    "__Expected Output:__\n",
    "```\n",
    "0, 1, 3, 6, 10, 15, 21, 28, 36, 45, 210\n",
    "```"
   ]
  },
  {
   "cell_type": "code",
   "execution_count": 44,
   "id": "ee3f4294-9e60-4ccf-b9b8-33b1f7279654",
   "metadata": {},
   "outputs": [
    {
     "name": "stdout",
     "output_type": "stream",
     "text": [
      "0, 1, 3, 6, 10, 15, 21, 28, 36, 45, 210\n"
     ]
    }
   ],
   "source": [
    "def triangle(rows):\n",
    "    pass\n",
    "\n",
    "if __name__ == '__main__':\n",
    "    for n in range(10):\n",
    "        print(triangle(n), end = ', ')\n",
    "    print(triangle(20))"
   ]
  },
  {
   "cell_type": "markdown",
   "id": "2fd675b3-694b-4d25-bf39-600527d8d05f",
   "metadata": {},
   "source": [
    "## Sum of digits\n",
    "\n",
    "음수가 아닌 정수 n이 주어지면 각 자릿수의 합을 (loop 없이) 재귀적으로 반환합니다. Mod(%) 10을 하면 가장 오른쪽 자릿수(e.g., 126 % 10은 6)를 구할 수 있는 반면 Integer Division(//) 10을 하면 가장 오른쪽 자릿수를 제거하여 앞의 두 자리 수(e.g., 126 // 10은 12)를 구할 수 있습니다.\n",
    "\n",
    "__Sample Run:__\n",
    "```\n",
    "if __name__ == '__main__':\n",
    "    for n in [1, 120, 345, 6789, 2**20]:\n",
    "        print('sum_digits({}) = {}'.format(n, sum_digits(n)))\n",
    "```\n",
    "\n",
    "__Expected Output:__\n",
    "```\n",
    "sum_digits(1) = 1\n",
    "sum_digits(120) = 3\n",
    "sum_digits(345) = 12\n",
    "sum_digits(6789) = 30\n",
    "sum_digits(1048576) = 31\n",
    "```"
   ]
  },
  {
   "cell_type": "code",
   "execution_count": 36,
   "id": "ceffe6e9-f895-4261-9f18-ddfb5e76670d",
   "metadata": {},
   "outputs": [
    {
     "name": "stdout",
     "output_type": "stream",
     "text": [
      "sum_digits(1) = 1\n",
      "sum_digits(120) = 3\n",
      "sum_digits(345) = 12\n",
      "sum_digits(6789) = 30\n",
      "sum_digits(1048576) = 31\n"
     ]
    }
   ],
   "source": [
    "def sum_digits(n):\n",
    "    pass\n",
    "\n",
    "if __name__ == '__main__':\n",
    "    for n in [1, 120, 345, 6789, 2**20]:\n",
    "        print('sum_digits({}) = {}'.format(n, sum_digits(n)))"
   ]
  },
  {
   "cell_type": "markdown",
   "id": "3f2bca7a-e6de-4114-9686-85c003d9c3cb",
   "metadata": {},
   "source": [
    "## Count 8\n",
    "\n",
    "음수가 아닌 정수 n이 주어지면 8의 개수를 반환합니다. 예를 들어, 818인 경우 2를 반환합니다. Loop를 사용하지 마세요. Mod(%) 10을 하면 가장 오른쪽 자릿수(e.g., 126 % 10은 6)를 구할 수 있는 반면 integer division(//) 10을 하면 가장 오른쪽 자릿수를 제거하여, 앞의 두 자리 수(e.g., 126 // 10은 12)를 구합니다.\n",
    "\n",
    "```\n",
    "count8(8) = 1\n",
    "count8(818) = 2\n",
    "count8(123) = 0\n",
    "count8(888) = 3\n",
    "count8(99899) = 1\n",
    "count8(48581) = 2\n",
    "count8(88128) = 3\n",
    "```"
   ]
  },
  {
   "cell_type": "code",
   "execution_count": 45,
   "id": "2505e5d0-be27-40bf-af79-9fa90fdd1950",
   "metadata": {},
   "outputs": [],
   "source": [
    "def count8(n):\n",
    "    pass"
   ]
  },
  {
   "cell_type": "code",
   "execution_count": 41,
   "id": "2ab354cc-65f5-43b2-b416-19a26212b563",
   "metadata": {},
   "outputs": [
    {
     "name": "stdout",
     "output_type": "stream",
     "text": [
      "count8(8) = 1\n",
      "count8(818) = 2\n",
      "count8(123) = 0\n",
      "count8(888) = 3\n",
      "count8(99899) = 1\n",
      "count8(48581) = 2\n",
      "count8(88128) = 3\n"
     ]
    }
   ],
   "source": [
    "if __name__ == '__main__':\n",
    "    for n in [8, 818, 123, 888, 99899, 48581, 88128]:\n",
    "        print('count8({}) = {}'.format(n, count8(n)))"
   ]
  },
  {
   "cell_type": "markdown",
   "id": "6b6a84dc-b95c-4e5b-94e4-f047b2829b56",
   "metadata": {},
   "source": [
    "## powerN(base, n) \n",
    "powerN()은 base의 n제곱을 구하는 함수입니다. 기본 사례에 유의해서 함수를 구현하십시오. \n",
    "\n",
    "Base와 n에 모두 1 이상의 값이 주어지면 base의 n 제곱을 재귀적으로 (loop 없이) 계산합니다. 예를 들어, powerN(3, 2)는 9(3의 제곱)입니다. Base와 n에 모두 1 이상의 값이 주어지면 base의 n 제곱을 재귀적으로 (loop 없이) 계산합니다. 예를 들어, powerN(3, 2)는 9(3의 제곱)입니다.\n",
    "\n",
    "__Sample Run:__\n",
    "```\n",
    "for x, y in [(9, 0), (2, 5), (2, 9), (2, 10), (3, 10), (4, 10), (5, 10)]:\n",
    "    print('powerN({},{}) = {}'.format(x, y, powerN(x, y)))\n",
    "```\n",
    "__Expected Output:__\n",
    "\n",
    "```\n",
    "powerN(9,0) = 1\n",
    "powerN(2,5) = 32\n",
    "powerN(2,9) = 512\n",
    "powerN(2,10) = 1024\n",
    "powerN(3,10) = 59049\n",
    "powerN(4,10) = 1048576\n",
    "powerN(5,10) = 9765625\n",
    "```"
   ]
  },
  {
   "cell_type": "code",
   "execution_count": 6,
   "id": "fac1730b-69d7-4f68-8642-9e3cd61517f4",
   "metadata": {},
   "outputs": [],
   "source": [
    "def powerN(base, n):\n",
    "    pass"
   ]
  },
  {
   "cell_type": "code",
   "execution_count": 16,
   "id": "8d8d4228-d68f-4fac-9e8a-e1e2b2b48dad",
   "metadata": {},
   "outputs": [
    {
     "name": "stdout",
     "output_type": "stream",
     "text": [
      "powerN(9,0) = 0\n",
      "powerN(2,5) = 32\n",
      "powerN(2,9) = 512\n",
      "powerN(2,10) = 1024\n",
      "powerN(3,10) = 59049\n",
      "powerN(4,10) = 1048576\n",
      "powerN(5,10) = 9765625\n"
     ]
    }
   ],
   "source": [
    "## TEST CODE\n",
    "for x, y in [(9, 0), (2, 5), (2, 9), (2, 10), (3, 10), (4, 10), (5, 10)]:\n",
    "    print('powerN({},{}) = {}'.format(x, y, powerN(x, y)))"
   ]
  },
  {
   "cell_type": "markdown",
   "id": "conditional-lawsuit",
   "metadata": {
    "tags": []
   },
   "source": [
    "# Reference\n",
    "- Recursion Concepts, [Here](https://runestone.academy/ns/books/published//pythonds3/Recursion/toctree.html)"
   ]
  },
  {
   "cell_type": "markdown",
   "id": "be42a6b4-ccc2-4f77-ad91-c37dbcd508da",
   "metadata": {},
   "source": [
    "------\n",
    "태초에 하나님이 천지를 창조하시니라 땅이 혼돈하고 공허하며 흑암이 깊음 위에 있고 하나님의 영은 수면 위에 운행하시니라 하나님이 이르시되 빛이 있으라 하시니 빛이 있었고 빛이 하나님이 보시기에 좋았더라 하나님이 빛과 어둠을 나누사 하나님이 빛을 낮이라 부르시고 어둠을 밤이라 부르시니라 저녁이 되고 아침이 되니 이는 첫째 날이니라 (창1:1-5)"
   ]
  }
 ],
 "metadata": {
  "kernelspec": {
   "display_name": "Python 3 (ipykernel)",
   "language": "python",
   "name": "python3"
  },
  "language_info": {
   "codemirror_mode": {
    "name": "ipython",
    "version": 3
   },
   "file_extension": ".py",
   "mimetype": "text/x-python",
   "name": "python",
   "nbconvert_exporter": "python",
   "pygments_lexer": "ipython3",
   "version": "3.9.12"
  },
  "toc-autonumbering": true
 },
 "nbformat": 4,
 "nbformat_minor": 5
}
