{
 "cells": [
  {
   "cell_type": "markdown",
   "metadata": {},
   "source": [
    "하나님은 모든 사람이 구원을 받으며 진리를 아는 데에 이르기를 원하시느니라 (딤전2:4)\n",
    "\n",
    "-------\n",
    "<center><img src=\"https://github.com/idebtor/DSpy/blob/6b3676c3de29f85d2e7f30679676d1fd96d88b17/images/WelcomeToDataStructures.jpg?raw=true\" width=1000></center>\n",
    "\n",
    "__NOTE:__ The following materials have been compiled and adapted from the numerous sources including my own. Please help me to keep this tutorial up-to-date by reporting any issues or questions. Send any comments or criticisms to `idebtor@gmail.com` Your assistances and comments will be appreciated.\n",
    "\n",
    "--------"
   ]
  },
  {
   "cell_type": "markdown",
   "metadata": {},
   "source": [
    "<b style=\"font-size:30px\"> Chapter 9-2. Breadth First Search(BFS, 너비 우선 탐색) </b>\n",
    "\n",
    "\n",
    "# BFS Introduction\n",
    "그래프의 대표적 두 가지 순회 방법은 너비우선탐색과 깊이우선탐색이 있습니다. \n",
    "여기 강의에서는 어떤 특정 vertex를 찾는 것이 아니라 그래프에 있는 모든 vertices를 탐색하는 것이므로, 사실상 탐색이라기보다는 그래프 순회(traversal)이라고 불러야 하지만, 편의상 일괄적으로 탐색이라고 부릅니다.  너비우선탐색 BFS를 먼저 다루기로 합니다. \n",
    "\n",
    "2.1. BFS 알고리즘    \n",
    "2.2. BFS 알고리즘 구현   \n",
    "2.3. BFS 알고리즘 구현 예제   \n",
    "2.4. BFS 결과 활용하기  \n",
    "2.5. BFS Shortest Path Tree   \n",
    "2.6. BFS 알고리즘 분석    "
   ]
  },
  {
   "cell_type": "markdown",
   "metadata": {},
   "source": [
    "## BFS 알고리즘\n",
    ": Breadth First Search 알고리즘이란 무엇인지 알아보고, 이를 구현해봅니다."
   ]
  },
  {
   "cell_type": "markdown",
   "metadata": {},
   "source": [
    "이제 그래프가 구현되었으니 단어 사다리 문제를 최적의 경로로 풀어낼 수 있는 알고리즘을 생각해보도록 하겠습니다. 이번 강의에서는 가장 간단한 그래프 탐색 알고리즘 중 하나인, __Breadth First Search (BFS, 너비 우선 탐색)__ (이하 BFS) 알고리즘을 사용할 것입니다. 이 알고리즘은 이후 배울 다른 그래프 탐색 알고리즘의 프로토타입(prototype)으로도 사용될 것입니다."
   ]
  },
  {
   "cell_type": "markdown",
   "metadata": {},
   "source": [
    "그래프 $G$와 source vertex $s$가 주어졌을 때, BFS는 $G$에서 $s$와 연결된 path에 포함되는 모든 vertex를 탐색합니다. 이때 BFS의 한가지 특징은, $s$로부터 $k+1$ 만큼 떨어진 vertex를 탐색하기 전에 $k$만큼 떨어진 모든 vertex를 탐색한다는 것입니다. 이는 쉽게 트리를 한 층(level)씩 그려나가는 것을 생각하면 감이 올 것입니다. \n",
    "\n",
    "알고리즘을 요약하면 다음과 같습니다. \n",
    "\n",
    "1. Initialization\n",
    "    1. Initialize the distance to the source vertex s as 0. \n",
    "    1. Initialize _distTo dictionary that stores the distance to s. If v exists in _distTo, it indicates \"visited\", if  not in _distTo, \"unvisited\". Initialize _prevTo dictionary that stores the vertex that one step nearer to the source s.\n",
    "    1. Add the first vertex s to the queue.\n",
    "1. While there are vertices in the queue:\n",
    "    1. Take a vertex v out of the queue\n",
    "    1. For all vertices w next to it v that we have not visited yet, add them w to the queue, \u000b",
    "set their distance _distTo[w] to the distance to the current vertex distTo[v] plus 1 set their _prevTo[w] to the current vertex v which one step nearer than them w!\n",
    "\n",
    "\n",
    "\n",
    "BFS는 시작하는 source vertex부터 queue에 먼저 추가합니다."
   ]
  },
  {
   "cell_type": "markdown",
   "metadata": {},
   "source": [
    "\n",
    "\n",
    "아래 코드에서, BFS의 결과값을 저장하기 위한 두 개의 Instance variables를 사용합니다. \n",
    "\n",
    "```\n",
    "    _distTo  dict type, distance to the source s\n",
    "    _prevTo  dict type, previous vertex on the shortest path from the source s\n",
    "```\n",
    "또한 아래와 같은 variables을 사용합니다. \n",
    "```\n",
    "queue   queue of vertices to visit\n",
    "g       graph\n",
    "s       source\n",
    "v       current vertex\n",
    "w       neighbors of v\n",
    "```\n",
    "특히 `queue`를 사용하여 다음 탐색할 vertex를 결정하도록 하며, 이는 굉장히 중요한 역할을 합니다."
   ]
  },
  {
   "cell_type": "markdown",
   "metadata": {},
   "source": [
    "## BFS 알고리즘 구현"
   ]
  },
  {
   "cell_type": "code",
   "execution_count": 18,
   "metadata": {},
   "outputs": [],
   "source": [
    "class BFS:\n",
    "    def __init__(self, graph, s):\n",
    "        self._distTo = dict()\n",
    "        self._prevTo = dict()\n",
    "        self._distTo[s] = 0\n",
    "        self._prevTo[s] = None\n",
    "        self._path = []\n",
    "        queue = deque()\n",
    "        queue.append(s)\n",
    "        \n",
    "        while queue:\n",
    "            v = queue.popleft()\n",
    "            for w in g.neighbors(v):\n",
    "                if w not in self._distTo:\n",
    "                    queue.append(w)\n",
    "                    self._distTo[w] = 1 + self._distTo[v]\n",
    "                    self._prevTo[w] = v\n"
   ]
  },
  {
   "cell_type": "markdown",
   "metadata": {},
   "source": [
    "## BFS 알고리즘 구현 예제\n",
    "아래 주어진 그래프에서 JFK를 source vertex로 시작하여 너비우선탐색을 시작합니다. \n",
    "\n",
    "\n",
    "<center> <img src=\"https://github.com/idebtor/DSpy/blob/211c20d3f6f23b1f03e360fb2460b9de28644ee7/images/chap8/graphBFSroutes.png?raw=true\" width=\"100%\" title=\"Figure 1. BFS Example (source = JFK)\"> </center><br>\n",
    "<center>그림 1. BFS 예제 (source = JFK) </center><br>\n"
   ]
  },
  {
   "cell_type": "markdown",
   "metadata": {},
   "source": [
    "이를 위해서 먼저 edge list로 routes.txt 파일로 작성하고 그래프를 생성합니다. 그러면, 오른쪽에 나타나 있는 인접 리스트(`_adj`)를 얻게 됩니다. 각 vertex v에 대하여 그 이웃들 w 를 얻기 위한 코드는 다음과 같습니다. \n",
    "\n",
    "```\n",
    "for w in g.neighbors(v)\n",
    "```\n",
    "\n",
    "인접 리스트의 각 vertex v에 연결된 이웃의 리스트 순서대로 작업이 이루어진다는 점에 유의해야 합니다. 그러면, 다음 그림과 같이 JFK에서 시작하여 단계별로 (level by level)로 작업이 진행되는 것을 알 수 있습니다. "
   ]
  },
  {
   "cell_type": "markdown",
   "metadata": {},
   "source": [
    "<center> <img src=\"https://github.com/idebtor/DSpy/blob/81a3d8450d776e5c04d3ae05c93fe3b1497dd839/images/chap8/routes.png?raw=true\" width=\"60%\" title=\"Figure 2. The First Step in the Breadth First Search\"> </center><br>\n",
    "<center>그림 2. BFS의 첫번째 과정</center><br>"
   ]
  },
  {
   "cell_type": "markdown",
   "metadata": {},
   "source": [
    "`BFS` 생성자는 인접 리스트(`_adj`)에 따라 너비우선탐색(breadth first search)를 위해 변수들을 초기화 하면서 시작합니다.  \n",
    "\n",
    "```\n",
    "s = 'JFK'\n",
    "queue = ['JFK']\n",
    "_distTo = {'JFK':0}\n",
    "_prevTo = {None}\n",
    "```\n",
    "BFS를 시작하는 source vertex s, JFK는 사용자로부터 주어진 것이며, 또한 queue에 저장합니다. 시작하는 vertex이므로, Source까지의 거리 `_distTo[s]`까지의 거리를 0로 설정합니다. 또한, 그 앞에 vertex가 없었으므로, `_prevTo[s]`도 None으로 설정합니다 "
   ]
  },
  {
   "cell_type": "markdown",
   "metadata": {},
   "source": [
    "다음으로 `BFS init()`에서는 큐에서부터 다음 `JFK`를 제거하여 그의 이웃들 즉 `_adj[JFK]`에서 찾은 이웃들, `MCO, ATL, ORD`를 queue에 추가(append)합니다.  또한, 각 이웃에서 JFK까지의 거리를 즉 1을  `_distTo[]`에 더해주고, 또한 JFK로부터 온 사실을 `_prevTo[]`에 다음과 같이 저장합니다. \n",
    "\n",
    "```\n",
    "queue = ['MCO', 'ATL', 'ORD']\n",
    "_distTo = {'JFK':0, 'MCO':1, 'ATL':1, 'ORD':1}\n",
    "_prevTo = {'JFK':None, 'MCO':'JFK', 'ATL':'JFK', 'ORD':'JFK'}\n",
    "```"
   ]
  },
  {
   "cell_type": "markdown",
   "metadata": {},
   "source": [
    "각 이웃은 자기의 이웃을 찾아, 아직 방문하지 않은 새로운 vertex라면, 이를 queue에 추가합니다. 이 때, 추가되는 vertices들은 다음과 같습니다. \n",
    "```\n",
    "queue = ['HOU', 'DEN', 'DFW', 'PHX']\n",
    "```\n",
    "`MCO`의 이웃들이 queue에 먼저 추가됩니다. `MCO`의 이웃들은 `JFK`, `ATL`, `HOU`인데, `JFK`, `ATL`은 이미 distTo에 존재하므로, `HOU`만 queue에 추가됩니다. 그 다음 `ATL`의 이웃들(`JFK HOU ORD MCO`)들은 이미 모두 distTo에 존재하므로 즉 visited하였으므로, queue에 더해지지 않습니다. `ORD`의 이웃들(`DEN HOU JFK DFW PHX ATL`)중에서 새로운 `DEN DFW PHX` vertices를 queue에 추가합니다. 각 이웃은 자기의 이웃을 찾아, 새로운 vertex인 것들을 queue에 대해 같은 작업을 반복합니다. \n",
    "\n",
    "여기까지 마치면, distTo[], prevTo[]는 다음과 같습니다. \n",
    "```\n",
    "_distTo = {'JFK':0, 'MCO':1, 'ATL':1, 'ORD':1, 'HOU':2, 'DEN':2, 'DFW':2, 'PHX':2}\n",
    "_prevTo = {'JFK':None, 'MCO':'JFK', 'ATL':'JFK', 'ORD':'JFK', 'HOU':'MCO', 'DEN':'ORD', 'DFW':'ORD', 'PHX':'ORD'}\n",
    "```\n",
    "그리고, queue에는 다음과 같이 vertices들이 저장되어 있게 됩니다. \n",
    "```\n",
    "queue = ['LAS', 'LAX']\n",
    "```\n",
    "이러한 vertices에 대한 작업을 끝내면, queue는 empty상태가 되며, 그 결과는 다음과 같습니다. \n",
    "```\n",
    "_distTo = {'JFK':0, 'ORD':1, 'ATL':1, 'MCO':1, 'HOU':2, 'DEN':2, 'DFW':2, 'PHX':2, 'LAS':3, 'LAX':3}\n",
    "_prevTo = {'JFK':None, 'MCO':'JFK', 'ATL':'JFK', 'ORD':'JFK', 'HOU':'MCO', 'DEN':'ORD', 'DFW':'ORD', 'PHX':'ORD', 'LAS':'DEN', 'LAX':'PHX'}\n",
    "```"
   ]
  },
  {
   "cell_type": "markdown",
   "metadata": {},
   "source": [
    "BFS는 처음 볼때는 다소 복잡하게 느껴질 수 있습니다. 따라서 과정을 직접 그려보면서 따라가는 것이 좋을 것입니다. \n",
    "\n",
    "`_distTo[]`를 통해서 JFK에서 어느 특정 vertex까지 최단 거리를 바로 찾을 수 있으며, `_prevTo[]`를 따라가면, shortest path를 구할 수 있습니다.예를 들면, JFK에서 LAX까지 거리는 다음과 같은 코드로 읽어낼 수 있습니다.  \n",
    "```\n",
    "g._distTo['LAX'] = 3\n",
    "```\n",
    "JFK에서 LAX까지의 shortest path는 다음은 과정을 통해 연결 공항들을 찾아낼 수 있습니다. 목적지 공항 LAX로부터 시작하여 source 공항에 저장된 None이 나올 때까지 진행합니다. 그리고, 그 리스트를 reverse하면 source부터 목적지까지의 결과를 얻을 수 있습니다. \n",
    "```\n",
    "g._prevTo['LAX'] = 'PHX'\n",
    "g._prevTo['PHX'] = 'ORD'\n",
    "g._prevTo['ORD'] = 'JFK'\n",
    "g._prevTo['JFK'] = None\n",
    "```\n",
    "이런 과정을 다음에서 메소드로 만들어 보기로 합니다. "
   ]
  },
  {
   "cell_type": "markdown",
   "metadata": {},
   "source": [
    "## BFS 결과 활용하기\n",
    "\n",
    "BFS를 실행함으로 얻은 결과는 두 개의 instacne variables, `_distTo[], _prevTo[]`에 저장되어 있습니다. 이를 이용하여, 다음과 같은 메소드를 구현합니다. \n",
    "\n",
    "```\n",
    "bfs = BFS(g, s)     find all shortest paths s in graph g\n",
    "bfs.distanceTo(v)   distance between s and v\n",
    "bfs.hasPathTo(v)    is there a path between s and v? \n",
    "bfs.pathTo(v)       an iterable for the path from s to v\n",
    "```\n",
    "이러한 메소드들을 추가하여 완성된 BFS 클래스는 다음과 같습니다. "
   ]
  },
  {
   "cell_type": "code",
   "execution_count": 1,
   "metadata": {},
   "outputs": [],
   "source": [
    "class BFS:\n",
    "    def __init__(self, graph, s):\n",
    "        self._distTo = dict()\n",
    "        self._prevTo = dict()\n",
    "        self._distTo[s] = 0\n",
    "        self._prevTo[s] = None\n",
    "        self._path = []\n",
    "        queue = deque()\n",
    "        queue.append(s)\n",
    "        \n",
    "        while queue:\n",
    "            v = queue.popleft()\n",
    "            for w in g.neighbors(v):\n",
    "                if w not in self._distTo:\n",
    "                    queue.append(w)\n",
    "                    self._distTo[w] = 1 + self._distTo[v]\n",
    "                    self._prevTo[w] = v    \n",
    "    \n",
    "    def distanceTo(self, v):\n",
    "        return self._distTo[v]\n",
    "    \n",
    "    def hasPathTo(self, v):\n",
    "        return v in self._distTo\n",
    "  \n",
    "    def pathTo(self, v):\n",
    "        path = []\n",
    "        while v is not None:\n",
    "            path += [v]\n",
    "            v = self._prevTo[v]\n",
    "        return reversed(path)\n"
   ]
  },
  {
   "cell_type": "markdown",
   "metadata": {},
   "source": [
    "## BFS Shortest Path Tree \n",
    "\n",
    "`_prevTo[]`에 저장된 path들을 모아 다음과 같은 Shortest Path Tree도 구할 수 있습니다. \n",
    "\n",
    "<center> <img src=\"https://github.com/idebtor/DSpy/blob/48cf127df57d3ea4ff9257882c93ce3de5e3a28b/images/chap8/shortestPathsTree.png?raw=true\" width=\"100%\" title=\"Figure 3. Shortest Paths Tree\"> </center><br>\n",
    "<center>그림 3. Shortest Paths Tree</center><br>"
   ]
  },
  {
   "cell_type": "markdown",
   "metadata": {},
   "source": [
    "## BFS 알고리즘 분석\n",
    ": Breadth First Search 알고리즘을 분석해봅니다."
   ]
  },
  {
   "cell_type": "markdown",
   "metadata": {},
   "source": [
    "다른 그래프 알고리즘을 공부하기에 앞서 BFS 알고리즘의 성능을 분석해보겠습니다. 가장 먼저 관찰되는 것은, while 문이 반복되는 동안, 최대로 그래프의 모든 노드를 한번씩 탐색하게 될 것입니다($|V|$). 그 이유는, 노드가 탐색되고 큐에 들어가기 위해서는 초기에 흰색으로 표기되어 있을 것이기 때문입니다. 따라서 while문으로 인하여 우선 $O(V)$를 갖는 것을 알 수 있습니다. while 문 안에 있는 for 문의 경우, 최대로 그래프의 모든 edge를 탐색할 것입니다($|E|$). 이는, 큐에서 dequeue되는 모든 vertex의 모든 edge를 한번씩 탐색하기 때문입니다. 따라서 for loop은 $O(E)$이 될 것이며, 두 반복문을 합치면 $O(V + E)$이 됩니다."
   ]
  },
  {
   "cell_type": "markdown",
   "metadata": {},
   "source": [
    "한가지 유의할 점은, BFS 탐색 과정은 문제 풀이의 일부분에 불과하다는 것입니다. BFS 트리를 구성한 이후, 한 단어에 대해 링크를 따라 출력하는 작업도 필요합니다. 이때의 최악의 경우(Worst Case)는 그래프가 하나의 긴 체인을 이룰때 입니다. 이때는 그래프 내의 모든 vertex를 거쳐야 하기 때문에 $O(V)$를 갖습니다. 평소의 경우 역시 $O(V)$의 부분(fraction)이 되기 때문에, 결국 이 과정은 $O(V)$을 갖는다고 할 수 있습니다."
   ]
  },
  {
   "cell_type": "markdown",
   "metadata": {},
   "source": [
    "마지막으로, 문제를 해결하기 위해 그래프를 구성하는 것 역시 시간이 소요됩니다. `buildGraph` 함수로 이루어지는 이 과정의 시간복잡도를 직접 계산해보세요."
   ]
  },
  {
   "cell_type": "markdown",
   "metadata": {},
   "source": [
    "# Summary (요약)"
   ]
  },
  {
   "cell_type": "markdown",
   "metadata": {},
   "source": [
    "이번 강의를 통해 그래프에 대한 BFS 알고리즘에 대해 배웠습니다. 특히 BFS 알고리즘의 흐름을 이해할 수 있도록 복습해보고, 다른 그래프 알고리즘으로 어떤 것이 있을 수 있을지 생각해보는 것도 그래프와 다양한 알고리즘을 이해하는데 도움이 될 것입니다."
   ]
  },
  {
   "cell_type": "markdown",
   "metadata": {},
   "source": [
    "# Exercises"
   ]
  },
  {
   "cell_type": "markdown",
   "metadata": {},
   "source": [
    "## BFS \n",
    "\n",
    "1. 아래 그림에 표시된 것처럼, LAX를 source vertex로 모든 공항들에게 대한 shortest paths를 출력하는 메소드와 source vertex를 구하는 메소드를 추가하고 테스트를 하십시오. \n",
    "1. Shortest Path Trees도 구하십시오. \n",
    "\n",
    "<center> <img src=\"https://github.com/idebtor/DSpy/blob/e88158c024b9105690db107454311fd592873656/images/chap8/graphBFSexercise.png?raw=true\" width=\"100%\" title=\"Figure 1. Graph BFS Exercise\"> </center><br>\n",
    "<center>그림 1. Graph BFS Exercise</center><br>\n"
   ]
  },
  {
   "cell_type": "markdown",
   "metadata": {},
   "source": [
    "## 참고자료\n",
    "- Problem Solving with Algorithms and Data Structures using Python, [Here](https://runestone.academy/runestone/books/published/pythonds3/Introduction/WhyStudyDataStructuresandAbstractDataTypes.html)\n",
    "- Python-추상적 자료형(ADT)과 자료 구조(Data Structure), [Here](https://ybdata-sci.tistory.com/16)\n"
   ]
  }
 ],
 "metadata": {
  "kernelspec": {
   "display_name": "Python 3 (ipykernel)",
   "language": "python",
   "name": "python3"
  },
  "language_info": {
   "codemirror_mode": {
    "name": "ipython",
    "version": 3
   },
   "file_extension": ".py",
   "mimetype": "text/x-python",
   "name": "python",
   "nbconvert_exporter": "python",
   "pygments_lexer": "ipython3",
   "version": "3.8.3"
  }
 },
 "nbformat": 4,
 "nbformat_minor": 4
}
