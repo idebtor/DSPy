{
 "cells": [
  {
   "cell_type": "markdown",
   "metadata": {},
   "source": [
    "태초에 말씀이 계시니라 이 말씀이 하나님과 함께 계셨으니 이 말씀은 곧 하나님이시니라 그가 태초에 하나님과 함께 계셨고 만물이 그로 말미암아 지은 바 되었으니 지은 것이 하나도 그가 없이는 된 것이 없느니라 (요1:1-3)\n",
    "\n",
    "-------\n",
    "<center><img src=\"https://github.com/idebtor/DSpy/blob/6b3676c3de29f85d2e7f30679676d1fd96d88b17/images/WelcomeToDataStructures.jpg?raw=true\" width=1000></center>\n",
    "\n",
    "__NOTE:__ The following materials have been compiled and adapted from the numerous sources including my own. Please help me to keep this tutorial up-to-date by reporting any issues or questions. Send any comments or criticisms to `idebtor@gmail.com` Your assistances and comments will be appreciated.\n",
    "\n",
    "--------"
   ]
  },
  {
   "cell_type": "markdown",
   "metadata": {},
   "source": [
    "\n",
    "<b style=\"font-size:30px\"> Chapter 5-3 Sorting Advanced</b>\n",
    "\n",
    "1. Shell sort  \n",
    "1. Merge sort  \n",
    "1. Quick sort  \n"
   ]
  },
  {
   "cell_type": "markdown",
   "metadata": {},
   "source": [
    "# Shell sort\n",
    ": Insertion sort를 개선시킨 Shell sort에 대해 배웁니다."
   ]
  },
  {
   "cell_type": "markdown",
   "metadata": {},
   "source": [
    "__Shell sort__ 는 _\"diminishing increment sort\"_ 라고도 불리는 정렬 방식입니다. 이는 insertion sort를 개선한 방법론으로, 리스트를 여러개의 sublist로 나누어 insertion sort를 진행하는 정렬법 입니다. 이때, 리스트를 __gap__ 이라고도 불리는 증가량 _i_ 를 사용하여 나누게 되는데, 각 sublist는 i의 간격을 갖는 원소들끼리 묶어 생성하게 됩니다."
   ]
  },
  {
   "cell_type": "markdown",
   "metadata": {},
   "source": [
    "이는 그림 1에서 보기 쉽게 나타나있습니다. 9개의 원소를 갖는 리스트가 있다고 가정했을때, 증가량 i를 3으로 설정했을 때 3개의 sublist가 생성되는 것을 볼 수 있습니다. 이후 각 sublist는 insertion sort로 정렬되고 다시 온전한 리스트로 합쳐지게 됩니다(그림 2 참고). Shell sort에서의 신기한 점은, 각 실행을 거칠때마다 실제로 완전히 정렬이 되지 않았지만, sublist를 정렬함으로서 실제 원소들이 제자리를 향해 올바르게 이동한다는 점입니다."
   ]
  },
  {
   "cell_type": "markdown",
   "metadata": {},
   "source": [
    "<center><img src=\"https://github.com/idebtor/DSpy/blob/main/images/chap5/ch5-18.jpg?raw=true\" width=\"500\" title=\"Figure 1. A Shell Sort with Increments of Three\"></center>\n",
    "<center>그림 1. 증가량 3을 사용한 Shell Sort 예시<center><br>"
   ]
  },
  {
   "cell_type": "markdown",
   "metadata": {},
   "source": [
    "<center><img src=\"https://github.com/idebtor/DSpy/blob/main/images/chap5/ch5-19.jpg?raw=true\" width=\"500\" title=\"Figure 2. A Shell Sort after Sorting Eash Sublist\"></center>\n",
    "<center>그림 2. 1회 실행된 Shell Sort<center><br>"
   ]
  },
  {
   "cell_type": "markdown",
   "metadata": {},
   "source": [
    "그림 3은 Shell sort의 마지막 실행으로, 증가량 1으로 insertion sort를 진행하는 모습을 나타낸 것입니다. 여기서 주목할 점은, sublist들의 정렬을 통하여서 최종 리스트의 정렬에서 필요한 shifting 과정이 획기적으로 줄었다는 점입니다. 이번 예시의 경우, 단 4번의 shift 과정만이 필요한 것을 볼 수 있습니다."
   ]
  },
  {
   "cell_type": "markdown",
   "metadata": {},
   "source": [
    "<center><img src=\"https://github.com/idebtor/DSpy/blob/main/images/chap5/ch5-20.jpg?raw=true\" width=\"500\" title=\"Figure 3. ShellSort: A Final Insertion Sort with Increment of 1\"></center>\n",
    "<center>그림 3. Shell Sort: 마지막 실행의 insertion sort 예시<center><br>"
   ]
  },
  {
   "cell_type": "markdown",
   "metadata": {},
   "source": [
    "<center><img src=\"https://github.com/idebtor/DSpy/blob/main/images/chap5/ch5-21.jpg?raw=true\" width=\"500\" title=\"Figure 4. Initial Sublists for a Shell Sort\"></center>\n",
    "<center>그림 4. Shell Sort의 최초 sublist 모습<center><br>"
   ]
  },
  {
   "cell_type": "markdown",
   "metadata": {},
   "source": [
    "증가량 i를 정하는 것 Shell Sort의 고유한 특성입니다. 코드 1에 씌여진 함수는 다양한 크기의 증가량을 사용합니다. 이 경우에서는 먼저 $ \\frac n 2 $ 의 증가량을 갖도록 설정합니다. 이후, $ \\frac n 4, \\frac n 8 $... 등으로 진행되어 최종적으로 하나의 리스트에 insertion sort하여 정렬하게 됩니다. 그림 4는 가장 먼저 $ \\frac n 2 $로 리스트를 분리한 모습을 나타낸 것입니다."
   ]
  },
  {
   "cell_type": "markdown",
   "metadata": {},
   "source": [
    "코드 1의 코드는 각 증가량에 대한 정렬된 리스트의 모습을 출력해줍니다. 마지막에는 증가량이 1이 되어 전체 리스트에 insertion sort를 진행하는 것을 알 수 있습니다."
   ]
  },
  {
   "cell_type": "code",
   "execution_count": null,
   "metadata": {},
   "outputs": [],
   "source": [
    "%%writefile shell.py\n",
    "# 코드 1\n",
    "\n",
    "def gapInsertionSort(a,start,gap):\n",
    "    for i in range(start+gap,len(a),gap):\n",
    "\n",
    "        currentvalue = a[i]\n",
    "        position = i\n",
    "\n",
    "        while position>=gap and a[position-gap]>currentvalue:\n",
    "            a[position]=a[position-gap]\n",
    "            position = position-gap\n",
    "\n",
    "        a[position]=currentvalue\n",
    "        \n",
    "def sort(a):\n",
    "    sublistcount = len(a)//2\n",
    "    while sublistcount > 0:\n",
    "\n",
    "        for startposition in range(sublistcount):\n",
    "            gapInsertionSort(a,startposition,sublistcount)\n",
    "        # print(\"After increments of size\",sublistcount, \"The list is\",a)\n",
    "        sublistcount = sublistcount // 2\n",
    "        \n",
    "if __name__ == '__main__':\n",
    "    a = [54, 26, 93, 17, 77, 31, 44, 55, 20]\n",
    "    print(\"before: \", a)\n",
    "    sort(a)\n",
    "    print(\" after: \", a)    "
   ]
  },
  {
   "cell_type": "code",
   "execution_count": null,
   "metadata": {},
   "outputs": [],
   "source": [
    "import shell\n",
    "\n",
    "a = [54, 26, 93, 17, 77, 31, 44, 55, 20]\n",
    "print(\"before: \", a)\n",
    "shell.sort(a)\n",
    "print(\" after: \", a)  "
   ]
  },
  {
   "cell_type": "markdown",
   "metadata": {},
   "source": [
    "얼핏 보면 Shell sort가 Insertion sort 보다 더 나을 수 없다고 생각할 수 있습니다. 마지막에 최종적으로 전체 리스트에 insertion sort를 진행하는 것만 생각해도 그럴 것 같습니다. 하지만, 실제로 마지막 실행에서의 insertion sort는 이미 정렬된 sublist로 이루어져있기 때문에 비교연산과 shift가 그렇게 많이 필요하지 않습니다. 따라서 마지막 실행에서의 insertion sort는 훨씬 효율적이게 됩니다."
   ]
  },
  {
   "cell_type": "markdown",
   "metadata": {},
   "source": [
    "현재까지 배운 내용으로는 Shell sort를 깊이 분석하는 것은 아직 쉽지 않을 것입니다. 하지만 대략적으로 우리는 $ O(n) 과 O(n^2) $ 사이의 어딘가의 성능을 보인다고 할 수 있습니다. 예를 들어, 방금 사용한 증가량으로는 $ O(n^2) $ 의 성능을 갖게 되지만, 증가량을 $ 2^k - 1 (1,3,7,15,31,...) $로 바꾸게 되면 $ O(n^{\\frac 3 2}) $을 갖게됩니다."
   ]
  },
  {
   "cell_type": "markdown",
   "metadata": {},
   "source": [
    "# Merge sort\n",
    ": Merge sort에 대해 배웁니다."
   ]
  },
  {
   "cell_type": "markdown",
   "metadata": {},
   "source": [
    "문제해결을 위한 알고리즘 전략중에는 __Divide-and-Conquer(분할 정복 알고리즘)__ 이라는 전략이 있습니다. 이는, 하나의 큰 문제를 여러개의 작은 문제들로 나누어 해결하고 합치는 전략입니다. 지금부터는 이 전략을 사용한 정렬 알고리즘에 대해 배워보겠습니다. 가장 먼저 살펴볼 정렬법은 __Merge sort__ 입니다."
   ]
  },
  {
   "cell_type": "markdown",
   "metadata": {},
   "source": [
    "Merge sort는 재귀(recursive) 알고리즘으로서, 반복적으로 리스트를 절반으로 분할합니다. 만약 분할된 리스트가 존재하지 않거나 하나의 원소만을 갖는다면 이를 Base case로 둡니다. 만약 리스트에 2개 이상의 원소가 존재한다면 이를 반으로 자르고 각 절반에 대하여 merge sort를 진행하게 됩니다. 각 절반이 정렬되게 되면, 이는 __merge(병합)__ 과정을 통하여 합쳐지게 됩니다. Merge는 두개의 작은 리스트를 하나의 큰 정렬된 리스트로 만드는 것을 의미합니다. 그림 5는 우리가 자주 사용한 예제를 `merge sort`에 의해 나누는 과정을 나타냅니다. 그림 6은 나누어진 리스트를 Merge하는 과정을 보인 것입니다."
   ]
  },
  {
   "cell_type": "markdown",
   "metadata": {},
   "source": [
    "<center><img src=\"https://github.com/idebtor/DSpy/blob/main/images/chap5/ch5-22.jpg?raw=true\" width=\"500\" title=\"Figure 5. Splitting the List in a Merge sort\"></center>\n",
    "<center>그림 5. Merge sort에서 리스트를 분할하는 과정<center><br>"
   ]
  },
  {
   "cell_type": "markdown",
   "metadata": {},
   "source": [
    "<center><img src=\"https://github.com/idebtor/DSpy/blob/main/images/chap5/ch5-23.jpg?raw=true\" width=\"500\" title=\"Figure 6. Lists as They Are Merged Together\"></center>\n",
    "<center>그림 6. Merge sort에서 리스트를 Merge하는 과정<center><br>"
   ]
  },
  {
   "cell_type": "markdown",
   "metadata": {},
   "source": [
    "코드 2에 보이는 `mergeSort()`는 Base case를 확인하며 시작하게 됩니다. 만약 그 길이가 1보다 작거나 같다면 이미 리스트가 정렬되었기 때문에 더이상의 과정이 필요없습니다. 그렇지 않다면, 파이썬의 `slice`연산을 사용하여 리스트를 절반으로 분할합니다. 이때, 리스트의 길이가 홀수여도 무방합니다."
   ]
  },
  {
   "cell_type": "code",
   "execution_count": null,
   "metadata": {},
   "outputs": [],
   "source": [
    "%%writefile mergeSort.py\n",
    "# 코드 2\n",
    "def mergeSort(a):\n",
    "    #print(\"Split:\", a)\n",
    "    if len(a)>1:\n",
    "        mid = len(a)//2\n",
    "        left = a[:mid]\n",
    "        right = a[mid:]\n",
    "\n",
    "        mergeSort(left)\n",
    "        mergeSort(right)\n",
    "\n",
    "        i = j = k = 0\n",
    "        \n",
    "        #print(' merge:', left, right)\n",
    "        while i < len(left) and j < len(right):   \n",
    "            if left[i] <= right[j]:\n",
    "                a[k]=left[i]\n",
    "                i=i+1\n",
    "            else:\n",
    "                a[k]=right[j]\n",
    "                j=j+1\n",
    "            k=k+1\n",
    "\n",
    "        while i < len(left):\n",
    "            a[k]=left[i]\n",
    "            i=i+1\n",
    "            k=k+1\n",
    "\n",
    "        while j < len(right):\n",
    "            a[k]=right[j]\n",
    "            j=j+1\n",
    "            k=k+1\n",
    "    #print(\"merged:\", a)\n",
    "    \n",
    "if __name__ == '__main__':\n",
    "    a = [54, 26, 93, 17, 77, 31, 44, 55, 20]\n",
    "    print(\"before: \", a)\n",
    "    mergeSort(a)\n",
    "    print(\" after: \", a)  "
   ]
  },
  {
   "cell_type": "code",
   "execution_count": null,
   "metadata": {},
   "outputs": [],
   "source": [
    "import mergeSort\n",
    "\n",
    "a = [54, 26, 93, 17, 77, 31, 44, 55, 20]\n",
    "print(\"before: \", a)\n",
    "mergeSort.mergeSort(a)\n",
    "print(\" after: \", a)  "
   ]
  },
  {
   "cell_type": "markdown",
   "metadata": {},
   "source": [
    "왼쪽 절반과 오른쪽 절반(line 9-10)에서 `mergeSort()` 함수를 호출하면 정렬된 것으로 가정합니다. 함수의 나머지(line 12-32)는 두 개의 작은 정렬된 리스트를 더 큰 정렬된 리스트로 Merge 하는 역할을 담당합니다. Merge 작업은 정렬된 리스트에서 가장 작은 원소를 반복적으로 가져와서 원래 리스트(`a`)에 다시 넣습니다. 이때, `left[i] <= right[j]`는 알고리즘이 안정적인지 확인해줍니다. 안정적인 알고리즘(stable algorithm)은 리스트의 중복 원소들의 순서를 유지하며, 대부분의 문제 해결에서 사용됩니다."
   ]
  },
  {
   "cell_type": "markdown",
   "metadata": {},
   "source": [
    "`mergeSort()` 함수는 각 호출 시작 시 정렬되는 리스트의 내용을 표시하기 위해 `print`문(line 3)을 추가하였습니다. 또한 Merge 과정을 표시하는 `print` 문(line 33)도 있습니다. 이 스크립트는 예제 리스트에 대한 실행 결과를 보여 줍니다."
   ]
  },
  {
   "cell_type": "markdown",
   "metadata": {},
   "source": [
    "`mergeSort()` 함수를 분석하기 위해서는 크게 2가지의 과정으로 나뉜다는 것을 고려해야합니다. \n",
    "\n",
    "첫번째 __\"분할 과정\"__ 입니다. 이미 이진 검색에서 보았듯이, n개의 원소를 갖는 리스트는 $ log_2{n} $ 번 나눌 수 있습니다. 그런데, 이 분할 과정에서는 어떤 비교와 교환(swap)이나 이동(shift)연산이 일어나지 않습니다. \n",
    "\n",
    "두번째 __\"merge(병합) 과정\"__ 입니다. 리스트의 각 원소는 각 단계 별로 비교 과정을 거쳐 정렬된 리스트에 알맞게 배치되게 됩니다. 따라서 merge 연산은 각 분할 단계마다 분할 정도에 관계없이 모두 합하면 n개의 원소를 갖는 리스트이므로, 결국 n번의 비교 연산이 필요할 것입니다. \n",
    "\n",
    "그런데, 이러한 병합 과정이 분할과정이 $log_2n$ 번 있었으므로, 병합 과정도 $log_2n$번 일어나야 합니다.   \n",
    "\n",
    "최종적으로 Merge sort는 $ log_2 n $번의 분할로 된 구성된 리스트들을 다시 $log_2n$ 번의 병합 과정을 거치며, 각 병합 단계 별로, n번의 비교 연산이 필요하므로 $ n \\cdot log_2 n $의 연산을 수행하게됩니다. 따라서 Merge sort는 $ O(n\\cdot log_2n) $을 갖는 알고리즘입니다."
   ]
  },
  {
   "cell_type": "markdown",
   "metadata": {},
   "source": [
    "이때 한가지 기억할 것은, 파이썬의 slicing 연산은 k개의 원소에 대하여 $ O(k) $이 소요된다는 것입니다. 따라서 Merge sort가 $ O(n\\cdot log_2 n) $을 갖도록 보장하기 위해선, 재귀 호출시 분할된 리스트 자체를 넘겨주는 대신 인덱스만 넘겨줘야합니다."
   ]
  },
  {
   "cell_type": "markdown",
   "metadata": {},
   "source": [
    "또 한가지 기억할 점은, `mergeSort()`는 두개의 리스트를 하나로 합치기 위해 추가적인 공간(메모리)가 필요하다는 것입니다. 이렇게 추가적인 공간을 요하는 알고리즘은, 리스트의 크기나 데이터의 양이 커질수록 문제해결에 치명적으로 작용하는 요소가 될 수 있습니다."
   ]
  },
  {
   "cell_type": "markdown",
   "metadata": {},
   "source": [
    "# Quick sort\n",
    ": Quick sort에 대해 배웁니다."
   ]
  },
  {
   "cell_type": "markdown",
   "metadata": {},
   "source": [
    "__Quick sort__ 는 Merge sort와 마찬가지로 Divide-and-Conquer 전략을 취하는 반면 추가적인 공간(메모리)를 필요로하지 않습니다. 하지만 그 대가로, 리스트를 절반으로 나눌 수 없는 경우가 존재하게 됩니다. 이러한 경우, 성능의 저하가 발생하게 됩니다."
   ]
  },
  {
   "cell_type": "markdown",
   "metadata": {},
   "source": [
    "Quick sort는 먼저 리스트에서 하나의 값을 선택하고, 이를 __pivot value(피벗 값)__ 이라고 부릅니다. 이 피벗 값을 결정하는 방법은 여러가지 있지만, 우선 간단하게 리스트의 첫번째 원소를 피벗 값으로 정한다고 가정하겠습니다. 이 피벗 값은, 최종적으로 정렬된 리스트에서의 위치(= _split point_ , 분할 지점)를 기준으로 리스트를 분할 할 것입니다."
   ]
  },
  {
   "cell_type": "markdown",
   "metadata": {},
   "source": [
    "그림 7은 예제 리스트에서 54를 첫번째 피벗 값으로 설정한 모습을 나타냅니다. 우리는 이미 같은 예재를 여러번 사용하였기 때문에 54는 최종적으로 현재 31이 있는 위치로 옮겨질 것을 알고있습니다. 이제 __분할(partition) 과정__이 시작됩니다. 분할 과정은 피벗 값의 split point를 찾는 동시에, 그보다 작은 값은 리스트의 왼쪽으로, 큰 값은 오른쪽으로 옮기게 됩니다."
   ]
  },
  {
   "cell_type": "markdown",
   "metadata": {},
   "source": [
    "<center><img src=\"https://github.com/idebtor/DSpy/blob/main/images/chap5/ch5-24.jpg?raw=true\" width=\"500\" title=\"Figure 7. The First Pivot Value for a Quick sort\"></center>\n",
    "<center>그림 7. Quick sort에 사용될 첫번째 피벗 값의 예<center><br>"
   ]
  },
  {
   "cell_type": "markdown",
   "metadata": {},
   "source": [
    "Quick sort의 분할 과정은 리스트 양끝에서 시작하는 두개의 위치 표식(`leftmark`, `rightmark`)을 정하여 시작합니다(그림 8의 1,8번째 원소). 분할 과정의 목적은 피벗 값을 기준으로 각 원소들이 올바른 편으로 옮겨지고 피벗 값을 분할 지점으로 수렴하도록 옮기는 것입니다. 그림 8은 54의 분할 지점을 찾아가는 과정을 나타낸 것입니다."
   ]
  },
  {
   "cell_type": "markdown",
   "metadata": {},
   "source": [
    "<center><img src=\"https://github.com/idebtor/DSpy/blob/main/images/chap5/ch5-25.jpg?raw=true\" width=\"600\" title=\"Figure 8. Finding the Split Point for 54\"></center>\n",
    "<center>그림 8. 54의 분할 지점(Split Point) 찾기<center><br>"
   ]
  },
  {
   "cell_type": "markdown",
   "metadata": {},
   "source": [
    "알고리즘은 다음과 같습니다. 먼저 리스트의 왼쪽에서부터 피벗 값보다 큰 값이 나올때까지 `leftmark`를 증가시킵니다. 이후, 리스트의 오른쪽에서부터 피벗 값보다 작은 값이 나올때까지 `rightmark`를 감소시킵니다. 두 위치 표식이 멈추게 되면 해당 값들을 교환하여 피벗의 분할 지점에 대한 정렬이 이루어집니다. 우리의 예제에서는 93과 20이 처음 교환될 것입니다. 이후 위 과정을 반복하게 됩니다."
   ]
  },
  {
   "cell_type": "markdown",
   "metadata": {},
   "source": [
    "`rightmark`의 위치가 `leftmark`보다 작아지게 되면 반복을 멈추고 `rightmark` 위치가 분할 지점이 되어 피벗 값과 교환하게 됩니다(그림 9 참고). 이제 피벗 값보다 더 작은 값들은 전부 분할 지점의 왼쪽에 배치되고, 그보다 큰 값들은 오른쪽에 배치 된 것을 확인할 수 있습니다. 이렇듯, 분할 지점을 기준으로 왼쪽과 오른쪽 리스트에 대하여 각각 quick sort를 재귀적으로 적용하면 됩니다. "
   ]
  },
  {
   "cell_type": "markdown",
   "metadata": {},
   "source": [
    "<center><img src=\"https://github.com/idebtor/DSpy/blob/main/images/chap5/ch5-26.jpg?raw=true\" width=\"500\" title=\"Figure 9. Completing the Partition Process to Find the Split Point for 54\"></center>\n",
    "<center>그림 9. 54의 분할 과정 및 분할 지점(Split Point) 찾기 완료<center><br>"
   ]
  },
  {
   "cell_type": "markdown",
   "metadata": {},
   "source": [
    "Quick sort는 코드 3에 구현되어있습니다. 이는 `qsort`이라는 재귀 함수를 사용하고, `qsort`는 Merge sort와 같은 base case를 사용합니다. 리스트의 길이가 1보다 작거나 같다면 이미 정렬된 리스트로 취급하고, 1보다 크면 분할과정을 반복적으로 진행하고 정렬하게 됩니다. 이 과정은 `partition` 함수에 구현되었습니다."
   ]
  },
  {
   "cell_type": "code",
   "execution_count": null,
   "metadata": {},
   "outputs": [],
   "source": [
    "#%%writefile quick.py\n",
    "# 코드 3\n",
    "def sort(a):\n",
    "    qsort(a,0,len(a)-1)\n",
    "\n",
    "def qsort(a,first,last):\n",
    "    if first<last:\n",
    "        splitpoint = partition(a,first,last)\n",
    "\n",
    "        qsort(a,first,splitpoint-1)\n",
    "        qsort(a,splitpoint+1,last)\n",
    "\n",
    "def partition(a,first,last):\n",
    "    pivotvalue = a[first]\n",
    "\n",
    "    leftmark = first+1\n",
    "    rightmark = last\n",
    "\n",
    "    done = False\n",
    "    while not done:\n",
    "        while leftmark <= rightmark and a[leftmark] <= pivotvalue:\n",
    "            leftmark = leftmark + 1\n",
    "\n",
    "        while a[rightmark] >= pivotvalue and rightmark >= leftmark:\n",
    "            rightmark = rightmark -1\n",
    "\n",
    "        if rightmark < leftmark:\n",
    "            done = True\n",
    "        else:\n",
    "            a[leftmark], a[rightmark] = a[rightmark], a[leftmark]\n",
    "\n",
    "    a[first], a[rightmark] = a[rightmark], a[first]\n",
    "\n",
    "    return rightmark\n",
    "\n",
    "if __name__ == '__main__':\n",
    "    a = [54, 26, 93, 17, 77, 31, 44, 55, 20]\n",
    "    print(\"before: \", a)\n",
    "    sort(a)\n",
    "    print(\" after: \", a)  "
   ]
  },
  {
   "cell_type": "code",
   "execution_count": null,
   "metadata": {},
   "outputs": [],
   "source": [
    "import quick\n",
    "\n",
    "a = [54, 26, 93, 17, 77, 31, 44, 55, 20]\n",
    "print(\"before: \", a)\n",
    "quick.sort(a)\n",
    "print(\" after: \", a)  "
   ]
  },
  {
   "cell_type": "markdown",
   "metadata": {},
   "source": [
    "Quick sort 함수를 분석하기 위해선 여러 경우를 고려해야 합니다. 만약 분할이 항상 리스트의 가운데에서 이루어진다고 가정한다면, n개의 원소를 갖는 리스트에 대하여 $ log n $ 번의 분할이 이루어지고, 분할 지점을 찾기 위해 피벗 값을 n-1개의 원소와 비교하게 됩니다. 따라서 최종적으로 연산은 $ n log n $회 이루어지게 될 것이며, merge sort와는 다르게 추가적인 공간이 필요하지 않습니다."
   ]
  },
  {
   "cell_type": "markdown",
   "metadata": {},
   "source": [
    "하지만 최악의 경우(worst case), 분할 지점이 중앙이 아닌 리스트의 왼쪽 혹은 오른쪽으로 치우쳐저 크기가 균등하지 않는 분할이 이루어질 수 있습니다. 예를 들어, 0개의 원소를 갖는 리스트와 n-1개의 원소를 갖는 리스트, 그 다음 다시 0개/n-2개 ... 등으로 나뉠 수 있고, 이 경우 $ O(n^2) $이 걸리게 되며, 재귀 함수에 의한 추가적인 시간이 소요될 것입니다."
   ]
  },
  {
   "cell_type": "markdown",
   "metadata": {},
   "source": [
    "Quick sort를 처음 설명할때 피벗 값을 선택하는 방법은 여러가지가 존재한다고 말했습니다. 우리는 피벗 값의 선택 방법을 적절히 활용하여 최악의 경우가 나오는 것을 방지할 수 있고, 가장 대표적으로 __median of three(세 수의 중앙값)__ 이라는 기법이 있습니다. 피벗 값을 선택할 때, 리스트의 첫번째, 가운데, 마지막 값을 비교하여 셋중 중앙값을 피벗값으로 선택하는 방법입니다. 우리의 예제에서는 54, 77, 20을 비교하여 그중 중앙값인 54를 피벗값으로 채택하는 방식이 될 것입니다. 이번 예제에서는 세 수의 중앙값과 첫번째 원소의 선택의 결과가 동일했지만, 일반적으로 이 방법은 더 '중앙'에 해당하는 값을 선택할 확률이 높기 때문에 유용하게 사용되는 기술입니다."
   ]
  },
  {
   "cell_type": "markdown",
   "metadata": {},
   "source": [
    "# Summary"
   ]
  },
  {
   "cell_type": "markdown",
   "metadata": {},
   "source": [
    "이번 강의에서는 다양한 정렬 방법론에 대해 배웠습니다. 각 정렬법에 대하여 하나의 예제를 만들어서 손으로 직접 과정을 그리며 풀어보는 것이 복습에 도움이 될 것입니다."
   ]
  },
  {
   "cell_type": "markdown",
   "metadata": {},
   "source": [
    "# Problem Based Learning"
   ]
  },
  {
   "cell_type": "markdown",
   "metadata": {},
   "source": [
    "## Modify \"mergeSort()\" shown above in this file. \n",
    "\n",
    "위 본문에서 저자가 구현한 `mergeSort()`함수는 자체 내에서 divide & conquer 단계가 모두 일어나고 있습니다. 이를 두 단계 즉 두 함수 즉 merge() and sort() 함수로 나누어 작업할 수 있도록 작성하십시오. 그리고, merge.py에 저장하여 모듈을 아래의 __Sample Run:__ 처럼 테스트하십시오. \n",
    "\n",
    "- Define `merge()` and `sort()` separately\n",
    "\n",
    "__Sample Run:__\n",
    "```\n",
    "import merge\n",
    "\n",
    "if __name__ == \"__main__\":\n",
    "    a = [54, 26, 93, 17, 77, 31, 44, 55, 20]\n",
    "    print(\"before:\", a)\n",
    "    sort(a)  \n",
    "    print(\" after:\", a)\n",
    "```\n",
    "\n",
    "__Expected Output:__\n",
    "```\n",
    "before: [54, 26, 93, 17, 77, 31, 44, 55, 20]\n",
    " after: [17, 20, 26, 31, 44, 54, 55, 77, 93]\n",
    " ```\n",
    " \n",
    "__My Solution:__ "
   ]
  },
  {
   "cell_type": "code",
   "execution_count": null,
   "metadata": {},
   "outputs": [],
   "source": [
    "%%writefile merge.py\n",
    "def merge(a, left, right):  \n",
    "    i = j = k = 0\n",
    "    pass\n",
    "\n",
    "def sort(a):  \n",
    "    pass\n",
    "        \n",
    "if __name__ == \"__main__\":\n",
    "    a = [54, 26, 93, 17, 77, 31, 44, 55, 20]\n",
    "    print(\"before:\", a)\n",
    "    sort(a)  \n",
    "    print(\" after:\", a)"
   ]
  },
  {
   "cell_type": "code",
   "execution_count": null,
   "metadata": {},
   "outputs": [],
   "source": [
    "import merge\n",
    "\n",
    "if __name__ == \"__main__\":\n",
    "    a = [54, 26, 93, 17, 77, 31, 44, 55, 20]\n",
    "    print(\"before:\", a)\n",
    "    merge.sort(a)  \n",
    "    print(\" after:\", a)"
   ]
  },
  {
   "cell_type": "markdown",
   "metadata": {},
   "source": [
    "## 중앙값(Median)을 Pivot으로 사용하기\n",
    "\n",
    "주어진 Quick sort 코드에서 median of three (세 수의 중앙값)을 구하여 Quick sort를 구현해보세요.\n",
    "\n",
    "__My Solution:__"
   ]
  },
  {
   "cell_type": "code",
   "execution_count": 3,
   "metadata": {},
   "outputs": [
    {
     "name": "stdout",
     "output_type": "stream",
     "text": [
      "Writing quick_median.py\n"
     ]
    }
   ],
   "source": [
    "%%writefile quick_median.py\n",
    "# Given Code\n",
    "def sort(a):\n",
    "    qsort(a,0,len(a)-1)\n",
    "\n",
    "def qsort(a,first,last):\n",
    "    if first<last:\n",
    "        splitpoint = partition(a,first,last)\n",
    "        qsort(a,first,splitpoint-1)\n",
    "        qsort(a,splitpoint+1,last)\n",
    "\n",
    "\n",
    "def partition(a,first,last):\n",
    "    pivotvalue = a[first]\n",
    "\n",
    "    leftmark = first+1\n",
    "    rightmark = last\n",
    "\n",
    "    done = False\n",
    "    while not done:\n",
    "\n",
    "        while leftmark <= rightmark and a[leftmark] <= pivotvalue:\n",
    "            leftmark = leftmark + 1\n",
    "\n",
    "        while a[rightmark] >= pivotvalue and rightmark >= leftmark:\n",
    "            rightmark = rightmark -1\n",
    "\n",
    "        if rightmark < leftmark:\n",
    "            done = True\n",
    "        else:\n",
    "            a[leftmark], a[rightmark] = a[rightmark], a[leftmark]\n",
    "\n",
    "    a[first], a[rightmark] = a[rightmark], a[first]\n",
    "\n",
    "    return rightmark\n",
    "\n",
    "if __name__ == '__main__':\n",
    "    a = [54, 26, 93, 17, 77, 31, 44, 55, 20]\n",
    "    print(\"before: \", a)\n",
    "    sort(a)\n",
    "    print(\" after: \", a)"
   ]
  },
  {
   "cell_type": "code",
   "execution_count": 3,
   "metadata": {},
   "outputs": [
    {
     "name": "stdout",
     "output_type": "stream",
     "text": [
      "before:  [54, 26, 93, 17, 77, 31, 44, 55, 20]\n",
      " after:  [17, 20, 26, 31, 44, 54, 55, 77, 93]\n"
     ]
    }
   ],
   "source": [
    "import quick_median\n",
    "import random\n",
    "\n",
    "#a = [random.randint(10, 99) for i in range(20)]\n",
    "a = [54, 26, 93, 17, 77, 31, 44, 55, 20]\n",
    "print(\"before: \", a)\n",
    "quick_median.sort(a)\n",
    "print(\" after: \", a)"
   ]
  },
  {
   "cell_type": "markdown",
   "metadata": {},
   "source": [
    "## Trace the quick sort algorithm \n",
    "\n",
    "알고리즘을 완전히 이해하고 코딩을 하는 것은 상당히 중요하고, 또한 코딩 시간을 줄이는 좋은 방법입니다. 다만, 알고리즘을 먼저 다 이해하길 힘들 때는 코딩을 하면서, 코딩을 디버깅 라인을 출력하는 것도 불편하고 지루하지만, 도움이 되는 방법입니다. \n",
    "\n",
    "예를 들어, __Sample Run__ 과 같이 출력할 수 있도록 quick sort 코드를 따라가기 위한 print() 출력문을 넣으십시오 \n",
    "\n",
    "__Sample Run:__\n",
    "\n",
    "```\n",
    "            input: [32, 23, 81, 43, 92, 39, 57, 16, 75, 65]\n",
    "   partition: 0 ~ 9\n",
    "swap (2 3):(43 81) [32, 23, 43, 81, 92, 39, 57, 16, 75, 65]\n",
    "swap (3 5):(39 81) [32, 23, 43, 39, 92, 81, 57, 16, 75, 65]\n",
    "swap (4 6):(57 92) [32, 23, 43, 39, 57, 81, 92, 16, 75, 65]\n",
    "swap (5 7):(16 81) [32, 23, 43, 39, 57, 16, 92, 81, 75, 65]\n",
    "   move pivot: 9->6\n",
    "   partitioned(65) [32, 23, 43, 39, 57, 16, 65, 81, 75, 92] returns 6\n",
    "    sort(le): 0 ~ 5\n",
    "   partition: 0 ~ 5\n",
    "   move pivot: 5->0\n",
    "   partitioned(16) [16, 23, 43, 39, 57, 32] returns 0\n",
    "    sort(le): 0 ~ -1\n",
    "    sort(ri): 1 ~ 5\n",
    "   partition: 1 ~ 5\n",
    "   move pivot: 5->2\n",
    "   partitioned(32) [23, 32, 39, 57, 43] returns 2\n",
    "    sort(le): 1 ~ 1\n",
    "    sort(ri): 3 ~ 5\n",
    "   partition: 3 ~ 5\n",
    "   move pivot: 5->4\n",
    "   partitioned(43) [39, 43, 57] returns 4\n",
    "    sort(le): 3 ~ 3\n",
    "    sort(ri): 5 ~ 5\n",
    "    sort(ri): 7 ~ 9\n",
    "   partition: 7 ~ 9\n",
    "   move pivot: 9->9\n",
    "   partitioned(92) [81, 75, 92] returns 9\n",
    "    sort(le): 7 ~ 8\n",
    "   partition: 7 ~ 8\n",
    "   move pivot: 8->7\n",
    "   partitioned(75) [75, 81] returns 7\n",
    "    sort(le): 7 ~ 6\n",
    "    sort(ri): 8 ~ 8\n",
    "    sort(ri): 10 ~ 9\n",
    "           output: [16, 23, 32, 39, 43, 57, 65, 75, 81, 92]\n",
    "```           "
   ]
  },
  {
   "cell_type": "code",
   "execution_count": null,
   "metadata": {},
   "outputs": [],
   "source": [
    "#%%writefile quick2.py\n",
    "# This function takes last element as pivot, places the pivot element at its\n",
    "# correct position in sorted array, and places all smaller (smaller than pivot)\n",
    "# to left of pivot and all greater elements to right of pivot.\n",
    "def partition(a, lo, hi):\n",
    "    pivot = a[hi]                   # pivot\n",
    "    i = lo - 1;                     # last index of smaller element on the left\n",
    "    j = lo\n",
    "    while j <= hi - 1:              # traverse the array\n",
    "        if a[j] < pivot:            # look for element less than pivot\n",
    "            i += 1                  # increment only when a[j] is less than pivot\n",
    "            if i != j:              # swap: smaller to left and greater to right\n",
    "                a[j], a[i] = a[i], a[j]  \n",
    "        j += 1\n",
    "    \n",
    "    a[hi], a[i+1] = a[i+1], a[hi]   # move the pivot at the position sorted\n",
    "    return i + 1                    # return index where pivot moved and sorted\n",
    "\n",
    "# qsort helper function for recursive operation\n",
    "# a: array to be sorted, lo: starting index, h: ending index\n",
    "def qsort(a, lo, hi):\n",
    "    if lo >= hi: return             # done, we have an empty array\n",
    "    \n",
    "    pi = partition(a, lo, hi)       # partition, get index of the pivot sorted\n",
    "    qsort(a, lo, pi - 1)            # sort left of the pivot\n",
    "    qsort(a, pi + 1, hi)            # soft right of the pivot\n",
    "    \n",
    "def sort(a):\n",
    "    qsort(a, 0, len(a) - 1)\n",
    "\n",
    "if __name__ == \"__main__\":\n",
    "    #a = [random.randint(10, 50) for i in range(15)]\n",
    "    a = [32, 23, 81, 43, 92, 39, 57, 16, 75, 65]\n",
    "    print('            input:', a)\n",
    "    sort(a)\n",
    "    print('           output:', a)"
   ]
  },
  {
   "cell_type": "code",
   "execution_count": null,
   "metadata": {},
   "outputs": [],
   "source": [
    "import quick2\n",
    "import random\n",
    "\n",
    "#a = [random.randint(10, 99) for i in range(20)]\n",
    "a = [54, 26, 93, 17, 77, 31, 44, 55, 20]\n",
    "print(\"before: \", a)\n",
    "quick2.sort(a)\n",
    "print(\" after: \", a)"
   ]
  },
  {
   "cell_type": "markdown",
   "metadata": {},
   "source": [
    "## Make a sequence for quick sort\n",
    "\n",
    "Suppose we have an array of size 7 that consists of values from 11 to 17.  For example, a = [12, 11, 13, 17, 15, 14, 16].\n",
    "Find two sequences that may show the worst case and the best case of the quick sort.\n",
    "- Count the number of partition function calls.\n",
    "- For each partition, show the result, number of comparisons and swaps. \n",
    "\n",
    "### Best Case"
   ]
  },
  {
   "cell_type": "code",
   "execution_count": null,
   "metadata": {},
   "outputs": [],
   "source": []
  },
  {
   "cell_type": "markdown",
   "metadata": {},
   "source": [
    "### Worst Case\n"
   ]
  },
  {
   "cell_type": "code",
   "execution_count": null,
   "metadata": {},
   "outputs": [],
   "source": []
  },
  {
   "cell_type": "markdown",
   "metadata": {},
   "source": [
    "## Merge sort - using aux memory and for-loop"
   ]
  },
  {
   "cell_type": "code",
   "execution_count": 7,
   "metadata": {},
   "outputs": [
    {
     "name": "stdout",
     "output_type": "stream",
     "text": [
      "Overwriting merge2.py\n"
     ]
    }
   ],
   "source": [
    "%%writefile merge2.py\n",
    "from random import *\n",
    "\n",
    "def merge(a, lo, mi, hi, aux):\n",
    "    n = hi - lo\n",
    "    i = lo\n",
    "    j = mi\n",
    "    for k in range(n):\n",
    "        if   i == mi:     aux[k] = a[j]; j += 1\n",
    "        elif j == hi:     aux[k] = a[i]; i += 1\n",
    "        elif a[j] < a[i]: aux[k] = a[j]; j += 1\n",
    "        else:             aux[k] = a[i]; i += 1\n",
    "    a[lo:hi] = aux[0:n]\n",
    "    \n",
    "def _sort(a, lo, hi, aux):\n",
    "    if hi - lo <= 1: return\n",
    "    \n",
    "    mi = (lo + hi) // 2\n",
    "    _sort(a, lo, mi, aux)\n",
    "    _sort(a, mi, hi, aux)\n",
    "    merge(a, lo, mi, hi, aux)\n",
    "\n",
    "def sort(a):\n",
    "    n = len(a)\n",
    "    aux = [0] * n\n",
    "    _sort(a, 0, n, aux)\n",
    "    \n",
    "if __name__ == \"__main__\":\n",
    "    #a = [randint(10, 99) for i in range(20)]\n",
    "    a = [54, 26, 93, 17, 77, 31, 44, 55, 20]\n",
    "    print(\"before: \", a)\n",
    "    sort(a)\n",
    "    print(\" after: \", a)"
   ]
  },
  {
   "cell_type": "code",
   "execution_count": 8,
   "metadata": {},
   "outputs": [
    {
     "name": "stdout",
     "output_type": "stream",
     "text": [
      "before:  [54, 26, 93, 17, 77, 31, 44, 55, 20]\n",
      " after:  [17, 20, 26, 31, 44, 54, 55, 77, 93]\n"
     ]
    }
   ],
   "source": [
    "import merge2\n",
    "import random\n",
    "\n",
    "#a = [random.randint(10, 99) for i in range(20)]\n",
    "a = [54, 26, 93, 17, 77, 31, 44, 55, 20]\n",
    "print(\"before: \", a)\n",
    "merge2.sort(a)\n",
    "print(\" after: \", a)"
   ]
  },
  {
   "cell_type": "markdown",
   "metadata": {},
   "source": [
    "# References\n",
    "- Problem Solving with Algorithms and Data Structures using Python, [Here](https://runestone.academy/runestone/books/published/pythonds3/Introduction/WhyStudyDataStructuresandAbstractDataTypes.html)\n",
    "    - Chapter 6.6 Sorting [Here](https://runestone.academy/runestone/books/published/pythonds3/SortSearch/sorting.html)"
   ]
  },
  {
   "cell_type": "markdown",
   "metadata": {},
   "source": [
    "------\n",
    "태초에 말씀이 계시니라 이 말씀이 하나님과 함께 계셨으니 이 말씀은 곧 하나님이시니라 그가 태초에 하나님과 함께 계셨고 만물이 그로 말미암아 지은 바 되었으니 지은 것이 하나도 그가 없이는 된 것이 없느니라 (요1:1-3)"
   ]
  }
 ],
 "metadata": {
  "kernelspec": {
   "display_name": "Python 3 (ipykernel)",
   "language": "python",
   "name": "python3"
  },
  "language_info": {
   "codemirror_mode": {
    "name": "ipython",
    "version": 3
   },
   "file_extension": ".py",
   "mimetype": "text/x-python",
   "name": "python",
   "nbconvert_exporter": "python",
   "pygments_lexer": "ipython3",
   "version": "3.8.12"
  }
 },
 "nbformat": 4,
 "nbformat_minor": 4
}
