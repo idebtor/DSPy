{
 "cells": [
  {
   "cell_type": "markdown",
   "metadata": {},
   "source": [
    "태초에 말씀이 계시니라 이 말씀이 하나님과 함께 계셨으니 이 말씀은 곧 하나님이시니라 그가 태초에 하나님과 함께 계셨고 만물이 그로 말미암아 지은 바 되었으니 지은 것이 하나도 그가 없이는 된 것이 없느니라 (요1:1-3)\n",
    "\n",
    "-------\n",
    "<img src=\"https://github.com/idebtor/DSpy/blob/6b3676c3de29f85d2e7f30679676d1fd96d88b17/images/WelcomeToDataStructures.jpg?raw=true\" width=1000>\n",
    "\n",
    "__NOTE:__ The following materials have been compiled and adapted from the numerous sources including my own. Please help me to keep this tutorial up-to-date by reporting any issues or questions. Send any comments or criticisms to `idebtor@gmail.com` Your assistances and comments will be appreciated.\n",
    "\n",
    "--------"
   ]
  },
  {
   "cell_type": "markdown",
   "metadata": {},
   "source": [
    "\n",
    "<b style=\"font-size:30px\"> Chapter 5-2 Sorting Basics </b>\n",
    "\n",
    "1. Bubble Sort  \n",
    "1. Selection Sort  \n",
    "1. Insertion Sort  \n",
    "1. Insertion Sort - Yet Another Insertion Sort"
   ]
  },
  {
   "cell_type": "markdown",
   "metadata": {},
   "source": [
    "정렬은 한 컬렉션의 원소들을 일종의 순서대로 배치하는 것입니다. 예를 들어 리스트에서 문자의 길이나 알파벳 순으로 정렬할 수 있을 것이고, 도시 리스트는 인구, 지역 또는 우편 번호별로 정렬될 수 있을 것입니다. 이전 챕터에서 보았듯이(이진 검색과 같이), 원소들을 정렬하는 것은 연산량을 줄이거나 효과적인 탐색을 가능하게하는 등의 알고리즘을 만들 수 있게 됩니다."
   ]
  },
  {
   "cell_type": "markdown",
   "metadata": {},
   "source": [
    "현재까지 많은 정렬 알고리즘이 개발되고 사용되고 있습니다. 다시 말하자면, 이것은 __\"정렬\"__ 이 컴퓨터 과학에서 중요한 연구 영역임을 암시하는 것입니다. 이러한 많은 정렬 알고리즘에 들어가기에 앞서, 정렬 과정을 분석하는 데 사용할 수 있는 연산에 대해 먼저 생각해봅시다. 먼저 두 값을 비교하여 대소비교를 하여 순서가 잘못된지 확인할 수 있는 체계적인 방법이 필요합니다. 이전(탐색 알고리즘 성능 측정)과 마찬가지로 총 비교 연산의 수는 정렬 알고리즘의 성능을 측정하는 가장 일반적인 방법입니다. 둘째로, 값이 올바른 위치에 있지 않을 경우 값을 옮길 수 있습니다. 위치를 바꾸거나 교환하는 것은 비용이 많이 드는 작업이며 총 교환 횟수는 알고리듬의 전체적인 효율성을 평가하는 데 중요할 것입니다."
   ]
  },
  {
   "cell_type": "markdown",
   "metadata": {},
   "source": [
    "__주의사항__\n",
    "\n",
    "여기서는 정렬에 관한 많은 알고리즘들을 다루고 있습니다. 예를 들면, Bubble sort, Selection sort, Insertion sort, Merge sort 등등입니다. 이러한 알고리즘들을 긴 함수의 이름으로 구현하고 코드 셀로 다루기에는 너무 복잡해지고 코드를 추적하기가 어렵습니다. 다음과 같이 방식으로 개발하고 테스트하는 것으로 진행합니다.\n",
    "\n",
    "- 정렬을 시작하는 함수 이름을 모두 sort()로 통일합니다. \n",
    "- 정렬의 이름의 모듈에 저장합니다. 예를 들면, Bubble sort는 `%%writefile bubble.py`에 저장합니다. \n",
    "- 정렬을 사용할 때는 해당 모듈을 import하여 사용합니다. \n",
    "- 사용자 입장에서, 모든 정렬 함수를 `modulename.sort(a)` 형식으로 호출합니다. 예를 들면, Bubble sort의 경우, `import bubble`  `bubble.sort([3, 1, 2])`가 됩니다. \n",
    "\n",
    "다시 요약하면, 각 정렬 알고리즘은 Jupyter-lab에서 `sort()` 함수로 개발하고 테스트가 끝나면, 소스 코드를 각 정렬 이름의 파일(모듈)로 저장합니다. 그리고, 독립된 코드 셀에 해당 모듈을 import하여 다시 테스트를 진행합니다. "
   ]
  },
  {
   "cell_type": "markdown",
   "metadata": {},
   "source": [
    "이와 같이 file-based 방식으로 개발을 진행할 때 유의할 것은 파일(모듈)을 import하여 사용한 후에, 모듈을 수정하고 다시 같은 모듈을 import하면, 그 전에 import한 모듈이 아직도 메모리에 cache되어 있습니다. 다시 import를 해도 기존의 module를 사용하게 됩니다. \n",
    "\n",
    "이러한 경우, `Kernel Restart`를 하여 다시 모듈을 강제적으로 시작할 수 있습니다. \n",
    "\n",
    "다음과 같은 매직 명령어를 미리 실행할 수도 있다고 합니다. (개인적으로 아래 명령어가 작동하지 않는 것을 많이 경험했습니다) \n",
    "```\n",
    "%load_ext autoreload\n",
    "%autoreload 2\n",
    "```\n",
    "다음 Bubble sort를 진행하면서 연습해보길 바랍니다. "
   ]
  },
  {
   "cell_type": "markdown",
   "metadata": {},
   "source": [
    "# Bubble Sort\n",
    ": 가장 간단한 정렬 알고리즘인 Bubble Sort에 대해 배웁니다."
   ]
  },
  {
   "cell_type": "markdown",
   "metadata": {},
   "source": [
    "__Bubble Sort__ 는 리스트를 여러차례 통과하며 진행됩니다. 첫번째 원소를 시작으로, 바로 인접한 다음 원소와 비교하여 순서(오름차순/내림차순)에 맞지 않다면 교환하는 과정을 거칩니다. Bubble Sort의 가장 큰 특징은 한번 통과할때마다 가장 큰 값만 정확한 위치에 옮겨놓게 된다는 것입니다. 이때, 가장 큰 값이 가장 뒤로 위치하는 과정의 모습이 마치 큰 공깃방울이 수면위로 떠오르는 것과 비슷하다고 하여 __\"Bubble\"__ sort라고 부르는 것입니다."
   ]
  },
  {
   "cell_type": "markdown",
   "metadata": {},
   "source": [
    "그림 1은 Bubble Sort가 1회 실행된 과정을 그림으로 나타낸 것입니다. 회색으로 칠해진 요소들이 비교가 되는 대상이며, n개의 원소가 있다고 가정한다면 n-1개의 쌍을 비교해야합니다."
   ]
  },
  {
   "cell_type": "markdown",
   "metadata": {},
   "source": [
    "<center><img src=\"https://github.com/idebtor/DSpy/blob/main/images/chap5/ch5-13.jpg?raw=true\" width=\"500\" title=\"Figure 1. bubbleSort: The First passn\"></center>\n",
    "<center>그림 1. 1회 실행된 Bubble Sort<center><br>"
   ]
  },
  {
   "cell_type": "markdown",
   "metadata": {},
   "source": [
    "Bubble sort가 2회째 실행될 때는, 이미 가장 큰 원소가 정렬이 된 상태입니다. 따라서, 정렬해야 하는 원소는 n-1개의 원소가 남을 것이고, n-2개의 쌍을 비교해야하는 것입니다. 이렇듯, Bubble sort는 하나씩 큰 수 부터 차례대로 정렬이 되기 때문에 총 n-1번의 실행을 거쳐 정렬을 완성할 수 있을 것입니다. 코드 1은 Bubble sort를 파이썬으로 구현한 것입니다."
   ]
  },
  {
   "cell_type": "markdown",
   "metadata": {},
   "source": [
    "리스트에서 두 원소의 위치를 바꾸는 과정, 즉 교환하는 연산은 __\"Swap(스왑)\"__ 이라고 불리기도 합니다. 이 Swap 과정은, 일반적으로 임시 저장 공간이 필요합니다. 이를 코드로 보면 다음과 같을 것입니다. swap()함수도 사용할 수 있습니다. "
   ]
  },
  {
   "cell_type": "markdown",
   "metadata": {},
   "source": [
    "``` python\n",
    "temp = a[i]\n",
    "a[i] = a[j]\n",
    "a[j] = temp\n",
    "```\n",
    "\n",
    "```python\n",
    "def swap(a, i, j):\n",
    "    a[i], a[j] = a[j], a[i]\n",
    "```"
   ]
  },
  {
   "cell_type": "markdown",
   "metadata": {},
   "source": [
    "이 코드는 리스트에서 i번째의 원소와 j번째의 원소를 swap합니다. 이때, temp라는 임시 저장 공간을 사용하지 않는다면 하나의 원소가 덮어씌어질 것입니다. 하지만 파이썬에서는 임시 저장 공간을 사용하지 않고 swap을 수행할 수 있습니다. `a,b = b,a`는 두가지의 할당 과정을 동시에 진행하게 됩니다(그림 2 참고). 이러한 동시 할당을 통하여 교환 연산을 하나의 명령문으로 실행할 수 있습니다."
   ]
  },
  {
   "cell_type": "markdown",
   "metadata": {},
   "source": [
    "<center><img src=\"https://github.com/idebtor/DSpy/blob/main/images/chap5/ch5-14.jpg?raw=true\" width=\"500\" title=\"Figure 2. Exchanging Two Values in Python\"></center>\n",
    "<center>그림 2. 파이썬에서의 교환 과정<center><br>"
   ]
  },
  {
   "cell_type": "markdown",
   "metadata": {},
   "source": [
    "아래는 셀매직 명령어를 사용하여 Bubble sort 소스 코드를 현재 폴더에 bubble.py 이름으로 저장합니다. 만약, 현재 폴더에 같은 이름으로 파일이 존재한다면, 경고도 없이 overwrite해버립니다. 유의하십시오. "
   ]
  },
  {
   "cell_type": "code",
   "execution_count": 8,
   "metadata": {},
   "outputs": [
    {
     "name": "stdout",
     "output_type": "stream",
     "text": [
      "Overwriting bubble.py\n"
     ]
    }
   ],
   "source": [
    "%%writefile bubble.py\n",
    "# 코드 1\n",
    "def sort(a):\n",
    "    for passn in range(len(a)-1,0,-1):\n",
    "        for i in range(passn):\n",
    "            if a[i]>a[i+1]:\n",
    "                a[i], a[i+1] = a[i+1], a[i]\n",
    "\n",
    "if __name__ == '__main__':\n",
    "    a = [54,26,93,17,77,31,44,55,20]\n",
    "    sort(a)\n",
    "    print(a)"
   ]
  },
  {
   "cell_type": "markdown",
   "metadata": {},
   "source": [
    "다음은 콘솔이 아니라 쥬티터랩/노트북 셀에서 테스트하는 방법입니다. \n",
    "\n",
    "아래 코드 셀에서 `!`가 작동이 안되는 경우(git를 설치하지 않거나 bash가 없는 윈도우 환경)에는 `%%cmd` 사용하여 테스트를 시도해보길 바랍니다. "
   ]
  },
  {
   "cell_type": "code",
   "execution_count": 6,
   "metadata": {},
   "outputs": [
    {
     "name": "stdout",
     "output_type": "stream",
     "text": [
      "[17, 20, 26, 31, 44, 54, 55, 77, 93]\n"
     ]
    }
   ],
   "source": [
    "!python bubble.py "
   ]
  },
  {
   "cell_type": "code",
   "execution_count": 7,
   "metadata": {},
   "outputs": [
    {
     "name": "stdout",
     "output_type": "stream",
     "text": [
      "Microsoft Windows [Version 10.0.19042.1288]\n",
      "(c) Microsoft Corporation. All rights reserved.\n",
      "\n",
      "C:\\GitHub\\DSpyx\\jupyter>python bubble.py\n",
      "[17, 20, 26, 31, 44, 54, 55, 77, 93]\n",
      "\n",
      "C:\\GitHub\\DSpyx\\jupyter>"
     ]
    }
   ],
   "source": [
    "%%cmd\n",
    "python bubble.py"
   ]
  },
  {
   "cell_type": "markdown",
   "metadata": {},
   "source": [
    "Bubble sort 소스코드가 저장된 `bubble.py` 모듈을 import하여 테스트하는 예입니다. "
   ]
  },
  {
   "cell_type": "code",
   "execution_count": 1,
   "metadata": {},
   "outputs": [
    {
     "name": "stdout",
     "output_type": "stream",
     "text": [
      "before:  [54, 26, 93, 17, 77, 31, 44, 55, 20]\n",
      " after:  [17, 20, 26, 31, 44, 54, 55, 77, 93]\n"
     ]
    }
   ],
   "source": [
    "import bubble\n",
    "\n",
    "a = [54, 26, 93, 17, 77, 31, 44, 55, 20]\n",
    "print(\"before: \", a)\n",
    "bubble.sort(a)\n",
    "print(\" after: \", a)  "
   ]
  },
  {
   "cell_type": "markdown",
   "metadata": {},
   "source": [
    "한가지 유의할 점은, Bubble sort는 리스트의 원소가 어떻게 배치되어있는지와 상관 없이 무조건 n-1 번의 실행을 거쳐야 한다는 것입니다. 표 1은 각 실행에 필요한 비교 연산의 횟수를 정리한 것입니다. 최종적으로 총 비교연산 횟수는 1 부터 n-1회까지 더한 값입니다. 1 \\~ n까지의 합은 $ \\frac {n^2 + n} {2} $ 이므로 1 \\~ (n-1)의 합은 $ \\frac {n^2 - n} {2} $가 될 것입니다. 이는 $ O(n^2) $의 연산이 될 것입니다."
   ]
  },
  {
   "cell_type": "markdown",
   "metadata": {},
   "source": [
    "이때, 최악의 경우 모든 비교연산에서 교환이 이루어질 것이고, 최상의 경우 모든 비교연산에서 교환이 이루어지지 않을 것입니다. 따라서 평균적으로 절반의 비교 연산에서 교환이 이루어진다고 할 수 있습니다."
   ]
  },
  {
   "cell_type": "markdown",
   "metadata": {},
   "source": [
    "|pass|Comparisons|\n",
    "|:--:|:--:|\n",
    "|1|n-1|\n",
    "|2|n-2|\n",
    "|3|n-3|\n",
    "|...|...|\n",
    "|n-1|1|\n",
    "\n",
    "<center>표 1. Bubble Sort에서의 각 실행당 비교연산의 횟수<center><br>"
   ]
  },
  {
   "cell_type": "markdown",
   "metadata": {},
   "source": [
    "일반적으로 Bubble sort는 가장 비효율적인 정렬 알고리즘으로 알려져있습니다. \n",
    "\n",
    "하지만, Bubble sort는 매회 리스트의 전체를 훑어보기 때문에 비교 연산과 실제 교환이 이루어지는 것을 계산하여 리스트가 정렬 되었는지 중간에 알 수 있습니다. 이를 체크하여 실제 교환이 일어나지 않았다면, 정렬이 다 되었으므로, 정렬을 그칠 수 있습니다. 이런 알고리즘을 일반적으로 __short bubble__ 이라고 부르기도 합니다. 이를 연습 문제로 남겨 둡니다. "
   ]
  },
  {
   "cell_type": "markdown",
   "metadata": {},
   "source": [
    "# Selection Sort\n",
    ": Bubble Sort를 개선시킨 Selection Sort에 대해 배웁니다."
   ]
  },
  {
   "cell_type": "markdown",
   "metadata": {},
   "source": [
    "__Selection sort__ 는 각 시행에서 교환을 한번씩만 하도록 하여 Bubble sort를 개선시킨 것입니다. Selection sort는 매번 리스트를 훑을 때마다 가장 큰 값을 찾아 뒤에서부터 순서대로 채워넣습니다. 이는 Bubble sort와 마찬가지로, 매회 가장 큰 원소가 정렬이 되기 때문에 같은 비교연산의 횟수를 갖게됩니다."
   ]
  },
  {
   "cell_type": "markdown",
   "metadata": {},
   "source": [
    "그림 3은 Selection sort의 전체 과정을 보인 것입니다. 가장 큰 원소인 93이 먼저 정렬되고, 이후 77, 55 등의 순으로 정렬 될 것입니다. 코드 3은 이를 파이썬으로 구현한 코드입니다."
   ]
  },
  {
   "cell_type": "markdown",
   "metadata": {},
   "source": [
    "<center><img src=\"https://github.com/idebtor/DSpy/blob/main/images/chap5/ch5-15.jpg?raw=true\" width=\"500\" title=\"Figure 3. selectionSort\"></center>\n",
    "\n",
    "<center>그림 3. Selection Sort 과정 예시<center><br>"
   ]
  },
  {
   "cell_type": "code",
   "execution_count": null,
   "metadata": {},
   "outputs": [],
   "source": [
    "%%writefile selection.py\n",
    "# 코드 3\n",
    "def sort(a):\n",
    "    for fillslot in range(len(a)-1,0,-1):\n",
    "        maxslot=0\n",
    "        for slot in range(1,fillslot+1):\n",
    "            if a[slot]>a[maxslot]:\n",
    "                maxslot = slot\n",
    "        a[fillslot], a[maxslot] = a[maxslot], a[fillslot]\n",
    "\n",
    "if __name__ == '__main__':\n",
    "    a = [54,26,93,17,77,31,44,55,20]\n",
    "    sort(a)\n",
    "    print(a)"
   ]
  },
  {
   "cell_type": "code",
   "execution_count": 14,
   "metadata": {},
   "outputs": [
    {
     "name": "stdout",
     "output_type": "stream",
     "text": [
      "before:  [54, 26, 93, 17, 77, 31, 44, 55, 20]\n",
      " after:  [17, 20, 26, 31, 44, 54, 55, 77, 93]\n"
     ]
    }
   ],
   "source": [
    "import selection\n",
    "\n",
    "a = [54, 26, 93, 17, 77, 31, 44, 55, 20]\n",
    "print(\"before: \", a)\n",
    "selection.sort(a)\n",
    "print(\" after: \", a)  "
   ]
  },
  {
   "cell_type": "markdown",
   "metadata": {},
   "source": [
    "Selection Sort는 Bubble Sort와 같은 비교연산 횟수를 갖기 때문에 $ O(n^2) $ 을 갖게 됩니다. 하지만 교환 연산 횟수를 줄이기 때문에, 대부분의 경우 훨씬 좋은 성능을 보입니다. 실제로, 우리 예시에서도 Bubble sort는 20회의 교환이 이루어지는 반면, Selection sort는 8회 이루어지게 됩니다."
   ]
  },
  {
   "cell_type": "markdown",
   "metadata": {},
   "source": [
    "# Insertion Sort\n",
    ": Insertion Sort에 대해 배웁니다."
   ]
  },
  {
   "cell_type": "markdown",
   "metadata": {},
   "source": [
    "__Insertion Sort__ 는 지금까지 배운 정렬법과 같이 $ O(n^2) $이지만 조금 다른 방식으로 정렬을 합니다. 우선, 이전 방식들과는 다르게, 정렬된 sublist를 리스트의 앞쪽에 배치하게 됩니다. 이후 정렬이 필요한 데이터를 하나씩 정렬된 sublist에 삽입(Insert)하여 진행하는 방식입니다. 그림 4는 Insertion Sort를 하는 과정에 대한 예시를 그림으로 나타낸 것입니다. 회색으로 색칠된 원소들은 정렬된 sublist에 해당함을 의미합니다."
   ]
  },
  {
   "cell_type": "markdown",
   "metadata": {},
   "source": [
    "<center><img src=\"https://github.com/idebtor/DSpy/blob/main/images/chap5/ch5-16.jpg?raw=true\" width=\"500\" title=\"Figure 4. insertionSort\"></center>\n",
    "<center>그림 4. Insertion Sort 과정 예시<center><br>"
   ]
  },
  {
   "cell_type": "markdown",
   "metadata": {},
   "source": [
    "가장 먼저 0번 원소(첫 원소)는 정렬이 되었다고 가정합니다. 이후, 각 실행마다 하나의 원소를 차례대로 정렬된 Sublist에 비교하여 더 큰 원소는 뒤로 한칸씩 밀고, 더 작은 원소 혹은 sublist의 끝까지 도달하게 되면 그 자리에 저장하게 됩니다."
   ]
  },
  {
   "cell_type": "markdown",
   "metadata": {},
   "source": [
    "그림 5는 다섯번째 실행의 모습을 구체적으로 나타낸 것입니다. 이 시점에서는 정렬된 Sublist는 5개의 원소(17,26,54,77,93)이 존재합니다. 여기에 31을 삽입하고자 하는데, 먼저 93과 비교하여 (31보다 큰 값이기 때문에) 오른쪽으로 shift 합니다. 다음, 77과 54 역시 오른쪽으로 shift 될 것입니다. 다음으로 26을 마주치게 되면, shift 과정을 멈추고 비어있는 자리에 31을 넣어주게 됩니다. 이렇게 6개의 원소가 정렬된 sublist가 만들어지게 됩니다."
   ]
  },
  {
   "cell_type": "markdown",
   "metadata": {},
   "source": [
    "<center><img src=\"https://github.com/idebtor/DSpy/blob/main/images/chap5/ch5-17.jpg?raw=true\" width=\"500\" title=\"Figure 4. insertionSort: Fifth Pass of the Sort\"></center>\n",
    "<center>그림 5. Insertion Sort: 5번째 실행 과정 예시<center><br>"
   ]
  },
  {
   "cell_type": "markdown",
   "metadata": {},
   "source": [
    "`Insertion sort`는 코드 4에 구현되어있습니다. 이전 방법들과 마찬가지로, Insertsion sort 역시 n-1회의 실행이 필요하다는 것을 알 수 있습니다. 또한, 코드에서 line 9를 보면 shift 과정이 나타나있는데, 이는 이전에 swap과 같은 교환 과정과는 다르게 위치만 한칸씩 바꿔준다는 것을 주의깊게 봐야합니다. 그 이유는, 일반적으로 shift 연산은 교환 연산에 비해 $ \\frac 1 3 $의 연산량을 요구하기 때문입니다. 따라서 대부분의 경우 Insertion sort는 다른 $ O(n^2) $ 알고리즘들에 비해 더 좋은 성능을 보입니다."
   ]
  },
  {
   "cell_type": "code",
   "execution_count": 10,
   "metadata": {},
   "outputs": [
    {
     "name": "stdout",
     "output_type": "stream",
     "text": [
      "Overwriting insertion.py\n"
     ]
    }
   ],
   "source": [
    "%%writefile insertion.py\n",
    "def sort(a):\n",
    "    for i in range(1, len(a)):  \n",
    "        ivalue = a[i]  \n",
    "        while i > 0 and a[i - 1] > ivalue:  \n",
    "            a[i] = a[i - 1]\n",
    "            i = i - 1\n",
    "        a[i] = ivalue\n",
    "        #print(i, \"-\", a) # enable to see each pass\n",
    "\n",
    "if __name__ == '__main__':\n",
    "    a = [54, 26, 93, 17, 77, 31, 44, 55, 20]\n",
    "    print(\"before: \", a)\n",
    "    sort(a)\n",
    "    print(\" after: \", a)"
   ]
  },
  {
   "cell_type": "code",
   "execution_count": 13,
   "metadata": {},
   "outputs": [
    {
     "name": "stdout",
     "output_type": "stream",
     "text": [
      "before:  [54, 26, 93, 17, 77, 31, 44, 55, 20]\n",
      " after:  [17, 20, 26, 31, 44, 54, 55, 77, 93]\n"
     ]
    }
   ],
   "source": [
    "import insertion\n",
    "\n",
    "a = [54, 26, 93, 17, 77, 31, 44, 55, 20]\n",
    "print(\"before: \", a)\n",
    "insertion.sort(a)\n",
    "print(\" after: \", a)  "
   ]
  },
  {
   "cell_type": "markdown",
   "metadata": {},
   "source": [
    "# Yet Another Insertion Sort - insertionYais.sort()\n",
    "- Insertion sort를 또 다른 방법으로 구현한 코드가 아래와 같이 제공되었습니다. 이를 `insertionYais.py`에 저장합니다.  \n",
    "- Console에서 혹은 Jupyter Lab의 코드 셀에서 다음과 같이 `insertionYais.sort()`의 결과를 출력하십시오. \n",
    "- `readAllString()`함수를 사용하기 위해 `dspy/stdio` 모듈을 `import`해야 합니다. 현재 노트북 파일이 존재하는 폴더에 `dspy/stdio.py` 모듈이 존재하는지 확인하십시오. \n",
    "- 여기 소개된 `insertionYais.sort()` 알고리즘은 (나중에 연습문제를 위해서) 다른 Insertion sort보다 더 느리게 실행됩니다. \n",
    "\n",
    "__Sample Run:__\n",
    "```\n",
    "pat cat bat tat hat rat mat fat \n",
    "1 0 ['cat', 'pat', 'bat', 'tat', 'hat', 'rat', 'mat', 'fat']\n",
    "2 0 ['bat', 'cat', 'pat', 'tat', 'hat', 'rat', 'mat', 'fat']\n",
    "3 3 ['bat', 'cat', 'pat', 'tat', 'hat', 'rat', 'mat', 'fat']\n",
    "4 2 ['bat', 'cat', 'hat', 'pat', 'tat', 'rat', 'mat', 'fat']\n",
    "5 4 ['bat', 'cat', 'hat', 'pat', 'rat', 'tat', 'mat', 'fat']\n",
    "6 3 ['bat', 'cat', 'hat', 'mat', 'pat', 'rat', 'tat', 'fat']\n",
    "7 2 ['bat', 'cat', 'fat', 'hat', 'mat', 'pat', 'rat', 'tat']\n",
    "bat cat fat hat mat pat rat tat \n",
    "```"
   ]
  },
  {
   "cell_type": "code",
   "execution_count": 4,
   "metadata": {},
   "outputs": [
    {
     "name": "stdout",
     "output_type": "stream",
     "text": [
      "Overwriting insertionYais.py\n"
     ]
    }
   ],
   "source": [
    "%%writefile insertionYais.py\n",
    "import sys\n",
    "from dspy import stdio  \n",
    "\n",
    "# this insertion sort may run slower than others on purpose\n",
    "def sort(a):  \n",
    "    n = len(a)\n",
    "    for i in range(1, n):\n",
    "        j = i\n",
    "        while j > 0 and a[j] < a[j-1]:\n",
    "            a[j], a[j-1] = a[j-1], a[j]\n",
    "            j = j - 1\n",
    "            \n",
    "if __name__ == '__main__':   \n",
    "    a = stdio.readAllStrings()\n",
    "    for s in a: print(s, end = ' ')\n",
    "    print()\n",
    "    sort(a)\n",
    "    for s in a: print(s, end = ' ')\n",
    "    print()"
   ]
  },
  {
   "cell_type": "code",
   "execution_count": 12,
   "metadata": {},
   "outputs": [
    {
     "name": "stdout",
     "output_type": "stream",
     "text": [
      "before:  [54, 26, 93, 17, 77, 31, 44, 55, 20]\n",
      " after:  [17, 20, 26, 31, 44, 54, 55, 77, 93]\n"
     ]
    }
   ],
   "source": [
    "import insertionYais\n",
    "\n",
    "a = [54, 26, 93, 17, 77, 31, 44, 55, 20]\n",
    "print(\"before: \", a)\n",
    "insertionYais.sort(a)\n",
    "print(\" after: \", a)  "
   ]
  },
  {
   "cell_type": "markdown",
   "metadata": {},
   "source": [
    "아래와 같은 방법으로 소스 코드를 테스트 해볼 수 있습니다. \n",
    "\n",
    "먼저, 정렬할 단어들을 파일에 저장하고, 해당 파일을 `readAllString()`함수를 통해서 입력받아, 배열 a를 만들어 냅니다. 그리고, `sort()`를 호출하여 정렬한 결과를 출력합니다.  \n",
    "\n",
    "예를 들면, 두 개의 `i, j` 루프에서 `i`가 6일때의 경우를 살펴보면, \n",
    "- `a[6]`를 정렬할 차례, 즉 `mat`이 정렬할 차례가 온 것입니다. \n",
    "- `a[6]`은 자신의 앞에 있는 요소를 살펴보고, 그 보다 작으면, 그 자리의 요소로 서로 자리를 바꿉니다. `while a[j] < a[j-1]`코드에 해당합니다. 여기서는 `mat`과 `tat`이 자리를 바꾸었습니다. \n",
    "- 그리고, 다시 그 앞에 있는 `rat`과 비교를 하게 됩니다. 이러한 작업을 j loop에서 더 이상 큰 것이 그 앞에 없을 때까지 계속 진행합니다. \n",
    "- 그 앞에 `hat`을 만났을 때 그만 둔 것이며, `pat`이 있는 자리까지 즉 `a[3]`의 위치까지 이동할 수 있었습니다. \n",
    "```\n",
    "i j   a[0]   a[1]   a[2]   a[3]   a[4]   a[5]   a[6]   a[7] \n",
    "6 6 ['bat', 'cat', 'hat', 'pat', 'rat', 'tat', 'mat', 'fat']\n",
    "6 5 ['bat', 'cat', 'hat', 'pat', 'rat', 'mat', 'tat', 'fat']\n",
    "6 4 ['bat', 'cat', 'hat', 'pat', 'mat', 'rat', 'tat', 'fat']\n",
    "7 7 ['bat', 'cat', 'hat', 'mat', 'pat', 'rat', 'tat', 'fat']\n",
    "```"
   ]
  },
  {
   "cell_type": "markdown",
   "metadata": {},
   "source": [
    "__Note:__\n",
    "- Windows의 경우, 느낌표(!)로 작동이 되지 않으면, cell magic(%%)로 `cmd`(Mac에서는 `bash`)를 호출하는 방법으로 시도해보십시오. \n",
    "- `>`는 standard output을 redirect하여 파일로 저장할 때 사용합니다. \n",
    "- `<`는 파일을 standard input으로 redirect할 때 사용합니다. \n",
    "\n",
    "```\n",
    "%%cmd\n",
    "echo pat cat bat tat hat rat mat fat > at.txt\n",
    "type at.txt\n",
    "python insertionYais.py < at.txt\n",
    "```"
   ]
  },
  {
   "cell_type": "code",
   "execution_count": 6,
   "metadata": {},
   "outputs": [],
   "source": [
    "!echo pat cat bat tat hat rat mat fat > at.txt"
   ]
  },
  {
   "cell_type": "code",
   "execution_count": 7,
   "metadata": {},
   "outputs": [
    {
     "name": "stdout",
     "output_type": "stream",
     "text": [
      "pat cat bat tat hat rat mat fat \n"
     ]
    }
   ],
   "source": [
    "!cat at.txt"
   ]
  },
  {
   "cell_type": "code",
   "execution_count": 8,
   "metadata": {},
   "outputs": [
    {
     "name": "stdout",
     "output_type": "stream",
     "text": [
      "pat cat bat tat hat rat mat fat \n",
      "bat cat fat hat mat pat rat tat \n"
     ]
    }
   ],
   "source": [
    "!python insertionYais.py < at.txt"
   ]
  },
  {
   "cell_type": "markdown",
   "metadata": {},
   "source": [
    "# Exercises\n",
    "\n",
    "## 1. Selection Sort\n",
    "\n",
    "다음 배열을 선택정렬로 정렬할 때 비교(Comp)횟수와 교환(Swap)횟수를 계산하십시오. \n",
    "\n",
    "<center><img src=\"https://github.com/idebtor/DSpy/blob/1cbdd6e400e5a7a76409a558ceea3dc7f0942bf0/images/chap5/exercise_selection.png?raw=true\" width=\"500\" title=\"Figure 4. insertionSort: Fifth Pass of the Sort\"></center>\n",
    "<center>그림 1. Selection Sort의 비교 횟수와 교환 횟수 <center><br>"
   ]
  },
  {
   "cell_type": "markdown",
   "metadata": {
    "tags": []
   },
   "source": [
    "__Your Analysis here:__\n",
    "\n",
    "아래 폴더에 제공되는 파일에 답을 기록하여 제출하십시오.     \n",
    "- ppts/Ch5-2 Sort Exercises.pdf"
   ]
  },
  {
   "cell_type": "markdown",
   "metadata": {
    "tags": []
   },
   "source": [
    "## 2. Insertion Sort\n",
    "\n",
    "다음 배열을 선택정렬로 정렬할 때 비교(Comp)횟수와 이동(Shift)횟수를 계산하십시오. 화살표로 \n",
    "\n",
    "<center><img src=\"https://github.com/idebtor/DSpy/blob/4926442c24476f0b45b5240d6d88521af47229e3/images/chap5/exercise_insertion.png?raw=true\" width=\"700\" title=\"Figure 2. insertionSort\"></center>\n",
    "<center>그림 2. Insertion Sort의 비교 횟수와 이동 횟수 <center><br>"
   ]
  },
  {
   "cell_type": "markdown",
   "metadata": {
    "tags": []
   },
   "source": [
    "__Your Analysis here:__\n",
    "\n"
   ]
  },
  {
   "cell_type": "markdown",
   "metadata": {},
   "source": [
    "아래 폴더에 제공되는 파일에 답을 기록하여 제출하십시오.     \n",
    "- ppts/Ch5-2 Sort Exercises.pdf"
   ]
  },
  {
   "cell_type": "markdown",
   "metadata": {
    "tags": []
   },
   "source": [
    "## 다음 상황의 적용 원리가 비슷한 Sorting 알고리즘을 골라보세요."
   ]
  },
  {
   "cell_type": "markdown",
   "metadata": {},
   "source": [
    "###\n",
    "컴퓨터로 원카드와 같은 카드 게임을 구현해보려고 합니다. 각 플레이어는 카드 패를 가지고 있고, 각자의 턴이 끝나면 카드 더미에서 새로운 카드를 한장 뽑아 패에 넣습니다. 이때, 사용자가 보기 편리하도록 손에 정렬된 카드 패에 새로운 카드를 추가할때 사용되는 정렬 방식은 어떤 Sorting 알고리즘과 비슷한가요?  \n"
   ]
  },
  {
   "cell_type": "markdown",
   "metadata": {},
   "source": [
    "###\n",
    "한 교회에서 성가대원들의 자리를 키 순서대로 배정하려고 합니다. 하지만 멀티태스킹을 잘 못하는 지휘자가 키 큰 사람 순서대로 한번에 한명씩 대열에 세우려고 합니다. 이때, 지휘자가 사용하는 정렬 방식은 어떤 Sorting 알고리즘과 비슷한가요?  \n",
    "\n"
   ]
  },
  {
   "cell_type": "markdown",
   "metadata": {},
   "source": [
    "# References\n",
    "- Problem Solving with Algorithms and Data Structures using Python, [Here](https://runestone.academy/runestone/books/published/pythonds3/Introduction/WhyStudyDataStructuresandAbstractDataTypes.html)\n",
    "    - Chapter 6.6 Sorting [Here](https://runestone.academy/runestone/books/published/pythonds3/SortSearch/sorting.html)\n"
   ]
  },
  {
   "cell_type": "markdown",
   "metadata": {},
   "source": [
    "------\n",
    "태초에 말씀이 계시니라 이 말씀이 하나님과 함께 계셨으니 이 말씀은 곧 하나님이시니라 그가 태초에 하나님과 함께 계셨고 만물이 그로 말미암아 지은 바 되었으니 지은 것이 하나도 그가 없이는 된 것이 없느니라 (요1:1-3)"
   ]
  }
 ],
 "metadata": {
  "kernelspec": {
   "display_name": "Python 3 (ipykernel)",
   "language": "python",
   "name": "python3"
  },
  "language_info": {
   "codemirror_mode": {
    "name": "ipython",
    "version": 3
   },
   "file_extension": ".py",
   "mimetype": "text/x-python",
   "name": "python",
   "nbconvert_exporter": "python",
   "pygments_lexer": "ipython3",
   "version": "3.8.12"
  }
 },
 "nbformat": 4,
 "nbformat_minor": 4
}
