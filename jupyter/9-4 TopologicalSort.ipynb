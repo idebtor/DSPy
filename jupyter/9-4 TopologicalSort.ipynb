{
 "cells": [
  {
   "cell_type": "markdown",
   "metadata": {},
   "source": [
    "이르시되 기도 외에 다른 것으로는 이런 종류가 나갈 수 없느니라 하시니라 (막9:29)\n",
    "\n",
    "-------\n",
    "<center><img src=\"https://github.com/idebtor/DSpy/blob/6b3676c3de29f85d2e7f30679676d1fd96d88b17/images/WelcomeToDataStructures.jpg?raw=true\" width=1000></center>\n",
    "\n",
    "__NOTE:__ The following materials have been compiled and adapted from the numerous sources including my own. Please help me to keep this tutorial up-to-date by reporting any issues or questions. Send any comments or criticisms to `idebtor@gmail.com` Your assistances and comments will be appreciated.\n",
    "\n",
    "--------"
   ]
  },
  {
   "cell_type": "markdown",
   "metadata": {},
   "source": [
    "\n",
    "<b style=\"font-size:30px\"> Chapter 9-4. Topological Sort(위상 정렬) </b>\n",
    "\n",
    "# Topological Sort Introduction"
   ]
  },
  {
   "cell_type": "markdown",
   "metadata": {},
   "source": [
    "위상 정렬은 주로 업무의 일정을 일어나야 할 순서에 따라 배치하고자 할 때 많이 사용합니다. \n",
    "\n",
    "예를 들면, 컴퓨터공학자들은 많은 문제를 그래프 문제로 변환하여 생각할 수 있습니다. 그 예시로 팬케이크를 만드는 과정을 그래프 문제로 변환하여 생각해보겠습니다. 팬케이크의 조리법은 생각보다 쉽습니다. 준비물로는 계란 1개, 팬케이크 가루 1컵, 오일 1 티스푼, 우유 $\\frac 3 4$컵이 필요합니다. 만드는 과정은, 모든 재료를 섞은 후 달궈진 팬에 적당량씩 덜어서 뒤집으며 구우면 됩니다. 또한, 팬케이크를 먹기 전에 시럽도 데워서 먹기좋게 뿌려 먹을 수 있을 것입니다. 그림 1은 위 과정을 그래프로 나타낸 것입니다."
   ]
  },
  {
   "cell_type": "markdown",
   "metadata": {},
   "source": [
    "<center> <img src=\"https://github.com/idebtor/DSpy/blob/main/images/chap8/topological_example.png?raw=true\" width=\"70%\" title=\"Figure 1. The Steps for Making Pancakes\"> <center><br>\n",
    "<center>그림 1. 팬케이크 만드는 단계(그래프 예)<center><br>"
   ]
  },
  {
   "cell_type": "markdown",
   "metadata": {},
   "source": [
    "팬케이크를 만드는데에 가장 어려운 것은, 무엇부터 어떻게 해야할지 정하는 것입니다. 그림 1에 나와있듯이 팬케이크를 구울 팬(griddle)을 데우는 것을 먼저 할 수 있고, 제료들을 섞어 반죽을 만드는 것을 먼저 할 수 있을 것입니다. 이러한 과정들에 명확한 순서를 부여하기 위하여 주어진 그래프에 __Topological Sort(위상 정렬)__ 이라고 부르는 그래프 알고리즘을 적용할 것입니다."
   ]
  },
  {
   "cell_type": "markdown",
   "metadata": {},
   "source": [
    "Topological Sort는 __Directed Acyclic Graph(DAG)__ 의 모든 vertex에 선형 순서를 부여합니다. 즉, 그래프 $G$에 edge $(v,w)$가 있다면, vertex $v$ 다음으로 vertex $w$가 온다는 것을 나타냅니다. DAG는 주로 이벤트의 순서를 부여하는 활용에서 많이 사용되는 그래프입니다. 이와 같이, 팬케이크 만들기 뿐만 아니라, 소프트웨어 프로젝트 스캐줄이나 행렬의 곱 등 많은 것들이 예가 될 수 있습니다."
   ]
  },
  {
   "cell_type": "markdown",
   "metadata": {},
   "source": [
    "Topological Sort는 간단하면서도 Depth First Search(DFS)에 적용될 수 있는 효과적인 알고리즘입니다. 그 알고리즘은 다음과 같습니다.  \n",
    "1. 그래프 `g`에 대하여 `dfs(g)`를 호출한다. 이는 각 vertex의 발견과 종료시간을 구하기 위함이다.\n",
    "2. 종료시간의 역순으로 모든 vertex를 리스트에 저장한다.\n",
    "3. 정렬된 리스트를 topological sort의 결과값으로 반환한다."
   ]
  },
  {
   "cell_type": "markdown",
   "metadata": {},
   "source": [
    "그림 2는 그림 1에 제시된 팬케이크 그래프에 `dfs`를 적용하여 만든 depth first forest를 그림으로 나타낸 것입니다."
   ]
  },
  {
   "cell_type": "markdown",
   "metadata": {},
   "source": [
    "<center> <img src=\"https://github.com/idebtor/DSpy/blob/main/images/chap8/topological_dfs_example.png?raw=true\" width=\"70%\" title=\"Figure 2. Result of Depth First Search on the Pancake Graph\"> <center><br>\n",
    "<center>그림 2. 팬케이크 그래프에 Depth First Search를 적용한 모습<center><br>"
   ]
  },
  {
   "cell_type": "markdown",
   "metadata": {},
   "source": [
    "마지막으로, 그림 3은 팬케이크 그래프에 topological sort 알고리즘을 적용한 결과를 나타낸 것입니다. 이제 팬케이크를 만드는 과정에서 생기는 애매한 상황들(순서)이 전부 제거되었고 명확한 순서를 갖는 것을 확인할 수 있습니다."
   ]
  },
  {
   "cell_type": "markdown",
   "metadata": {},
   "source": [
    "<center> <img src=\"https://github.com/idebtor/DSpy/blob/main/images/chap8/topological_example_result.png?raw=true\" width=\"100%\" title=\"Figure 3. Result of Topological Sort on Directed Acyclic Graph\"> <center><br>\n",
    "<center>그림 3. Directed Acyclic Graph에 Topological Sort를 적용한 모습(예)<center><br>"
   ]
  },
  {
   "cell_type": "markdown",
   "metadata": {},
   "source": [
    "# Strongly Connected Components (강한 연결 요소)\n",
    "\n",
    "## Strongly Connected Components (강한 연결 요소)란 "
   ]
  },
  {
   "cell_type": "markdown",
   "metadata": {},
   "source": [
    "이제 더 많은 그래프 알고리즘을 배우고 그래프 문제를 깊이 탐구하기 위해서 큰 규모의 그래프를 다뤄보겠습니다. 이번에 다룰 그래프는, 인터넷으로 연결된 호스트들의 관계와 웹 페이지들의 링크(관계)로 이루어진 그래프입니다. 먼저 웹 페이지 그래프를 보겠습니다."
   ]
  },
  {
   "cell_type": "markdown",
   "metadata": {},
   "source": [
    "Google, Bing과 같은 강력한 검색 엔진은 수많은 웹 페이지들로 형성된 directed graph를 탐색합니다. 먼저 World Wide Web를 그래프로 변환하기 위해서는 각 웹 페이지를 vertex로, 하이퍼링크는 edge로 변환합니다. 그림 4는 Luther College의 컴퓨터공학 홈페이지로부터 시작되는 여러 링크와 페이지를 나타낸 그래프의 아주 작은 일부분입니다. 모든 링크와 웹 페이지를 나타내면 거대한 그래프가 생기겠지만, 우선 10개의 링크 이하로 떨어져있는 범위로 제한하여 나타냈습니다."
   ]
  },
  {
   "cell_type": "markdown",
   "metadata": {},
   "source": [
    "<center> <img src=\"https://github.com/idebtor/DSpy/blob/main/images/chap8/web_graph_example.png?raw=true\" width=\"70%\" title=\"Figure 4. The Graph Produced by Links from the Luther Computer Science Home Page\"> <center><br>\n",
    "<center>그림 4. Luther Computer Science 홈페이지를 기준으로 형성된 그래프의 예<center><br>"
   ]
  },
  {
   "cell_type": "markdown",
   "metadata": {},
   "source": [
    "그림 4를 자세히 관찰하다보면 흥미로운 사실 몇가지를 발견할 수 있습니다.  \n",
    "\n",
    "첫번째는 그래프에 나타난 __많은 웹사이트가 Luther College의 웹사이트가 아닌 것__을 볼 수 있습니다.  \n",
    "두번째는 몇 링크들은 __lowa 지역에 다른 대학들과 연결하는 것__을 볼 수 있습니다.  \n",
    "세번째는 몇 링크들은 __다른 liberal arts college(대학의 한 종류)들과 연결하는 것__을 볼 수 있습니다.  \n",
    "(Luther College는 미국 lowa 지역에 있으며 liveral arts college 입니다.)  \n",
    "\n",
    "이러한 점들을 고려해볼때, 우리는 웹 페이지들이 서로 비슷한 특징을 갖는 웹끼리 __군집화(clustering)__되는 구조를 갖는다는 것을 유추해볼 수 있습니다."
   ]
  },
  {
   "cell_type": "markdown",
   "metadata": {},
   "source": [
    "그래프에서 높은 연관성을 갖는 군집(cluster)를 찾을 수 있는 그래프 알고리즘 중 하나는 __Strongly Connected Components (SCC)__ 알고리즘 입니다. 그래프 $G$에 대한 Strongly Connected Component $C$는, $v,w \\in C$를 만족하는 $v,w$ 중 서로에게 향하는 path가 존재하는 모든 vertex 쌍으로 이루어진 가장 큰 부분집합(subset) $C \\subset V$으로 정의합니다. 이를 이해하기 쉽도록 그림 5에서 3개의 SCC를 갖는 간단한 그래프의 예를 나타내고 있습니다. 각 SCC는 다른 색으로 표시되어있습니다."
   ]
  },
  {
   "cell_type": "markdown",
   "metadata": {},
   "source": [
    "<center> <img src=\"https://github.com/idebtor/DSpy/blob/main/images/chap8/scc_example.png?raw=true\" width=\"45%\" title=\"Figure 5. A Directed Graph with Three Strongly Connected Components\"> <center><br>\n",
    "<center>그림 5. 3개의 SCC를 갖는 Directed Graph의 예<center><br>"
   ]
  },
  {
   "cell_type": "markdown",
   "metadata": {},
   "source": [
    "이와 같이 SCC가 명확히 정해지면, 하나의 SCC에 해당하는 모든 vertex를 하나의 큰 vertex로 묶어서 그래프를 더욱 간단하게 표현할 수 있습니다. 그림 6은 그림 5의 그래프를 간단하게 나타낸 것입니다."
   ]
  },
  {
   "cell_type": "markdown",
   "metadata": {},
   "source": [
    "<center> <img src=\"https://github.com/idebtor/DSpy/blob/main/images/chap8/scc_simple_example.png?raw=true\" width=\"35%\" title=\"Figure 6. The Reduced Graph\"> <center><br>\n",
    "<center>그림 6. 그림 5의 그래프를 간소화한 모습<center><br>"
   ]
  },
  {
   "cell_type": "markdown",
   "metadata": {},
   "source": [
    "이전에 언급했듯이, DFS를 사용하면 매우 강력하고 효율적인 그래프 알고리즘을 만들 수 있습니다. 바로 SCC를 활용한 그래프 알고리즘을 보기 이전에, __그래프의 전치(transposition)__라는 개념을 보겠습니다. 그래프 $G$의 전치(transposition)은 $G^T$로 나타내며, 그래프의 모든 edge가 뒤집히게 됩니다. 예를 들어, 원래 그래프에서 노드 A에서 노드 B로 가는 directed edge가 있다고 가정한다면, 그래프 $G^T$는 노드 B에서 노드 A로 가는 edge로 바뀌게 됩니다. 그림 7과 그림 8은 간단한 그래프와 그의 전치 그래프를 나타낸 것입니다."
   ]
  },
  {
   "cell_type": "markdown",
   "metadata": {},
   "source": [
    "<center> <img src=\"https://github.com/idebtor/DSpy/blob/main/images/chap8/sample_graph.png?raw=true\" width=\"30%\" title=\"Figure 7. A Graph G\"> <center><br>\n",
    "<center>그림 7. 그래프 $G$<center><br>"
   ]
  },
  {
   "cell_type": "markdown",
   "metadata": {},
   "source": [
    "<center> <img src=\"https://github.com/idebtor/DSpy/blob/main/images/chap8/sample_graph_transpose.png?raw=true\" width=\"30%\" title=\"Figure 8. Its Transpose G^T\"> <center><br>\n",
    "<center>그림 8. 그래프 $G^T$<center><br>"
   ]
  },
  {
   "cell_type": "markdown",
   "metadata": {},
   "source": [
    "그래프와 그의 전치 그래프의 큰 특징으로는 원래 그래프의 SCC가 전치했을 때 변하지 않는다는 것입니다. 그림 7을 보면 2개의 SCC가 존재하는 것을 볼 수 있으며, 그림 8 역시 같은 SCC 2개가 있음을 알 수 있습니다."
   ]
  },
  {
   "cell_type": "markdown",
   "metadata": {},
   "source": [
    "이제 그래프에서 SCC를 구하는 알고리즘을 살펴보겠습니다. 알고리즘은 다음과 같습니다.  \n",
    "\n",
    "1. 그래프 $G$에 대하여 `dfs`를 사용하여 각 vertex의 종료시간을 구한다.\n",
    "2. $G^T$를 구한다.\n",
    "3. 그래프 $G^T$에 대하여 `dfs`를 사용한다. 단, DFS에서 종료시간의 내림차순으로 vertex를 탐색한다.\n",
    "4. 3번을 통해 구해진 forest의 각 트리는 SCC에 해당한다. 각 트리에 해당하는 vertex id를 사용하여 각 SCC의 구성요소를 확인한다."
   ]
  },
  {
   "cell_type": "markdown",
   "metadata": {},
   "source": [
    "이제 위 알고리즘을 그림 5에 나타낸 예제 그래프를 사용하여 살펴보겠습니다. 그림 9는 DFS 알고리즘을 통해 각 vertex의 탐색과 종료시간을 구한 모습을 나타냅니다. 그림 10은 전치된 그래프에 DFS 알고리즘을 적용한 모습을 나타냅니다."
   ]
  },
  {
   "cell_type": "markdown",
   "metadata": {},
   "source": [
    "<center> <img src=\"https://github.com/idebtor/DSpy/blob/main/images/chap8/sample_graph_dfs.png?raw=true\" width=\"45%\" title=\"Figure 9. Finishing times for the original graph G\"> <center><br>\n",
    "<center>그림 9. 그래프 $G$의 탐색과 종료시간<center><br>"
   ]
  },
  {
   "cell_type": "markdown",
   "metadata": {},
   "source": [
    "<center> <img src=\"https://github.com/idebtor/DSpy/blob/main/images/chap8/sample_graph_transpose_dfs.png?raw=true\" width=\"45%\" title=\"Figure 10. Finishing times for G^T\"> <center><br>\n",
    "<center>그림 10. 그래프 $G^T$의 탐색과 종료시간<center><br>"
   ]
  },
  {
   "cell_type": "markdown",
   "metadata": {},
   "source": [
    "마지막으로 그림 11은 위 알고리즘을 통해 생성된 3개의 트리를 나타냅니다."
   ]
  },
  {
   "cell_type": "markdown",
   "metadata": {},
   "source": [
    "<center> <img src=\"https://github.com/idebtor/DSpy/blob/main/images/chap8/sample_graph_scc.png?raw=true\" width=\"45%\" title=\"Figure 11. Strongly Connected Componenets\"> <center><br>\n",
    "<center>그림 11. 그래프의 Strongly Connected Componenets<center><br>"
   ]
  },
  {
   "cell_type": "markdown",
   "metadata": {},
   "source": [
    "# Digraph 클래스와 ADT \n",
    "\n",
    "Digraph를 Graph의 subclass로 정의하면, 다음과 같이 Graph의 일부 메소드들만 재정의하면 됩니다. 아래에 화살표로 표시된 메소드들에 주의를 기울이고 구현하는 것은 학습자들에게 연습문제로 남겨 둡니다. \n",
    "\n",
    "<center> <img src=\"https://github.com/idebtor/DSpy/blob/e4965c7a278fb67e49b09e023389f60fedc8b036/images/chap8/digraphADT.png?raw=true\" width=\"100%\" title=\"Figure 12. Digraph Class and ADT\"> </center><br>\n",
    "<center>그림 12. Digraph 클래스와 ADT</center><br>"
   ]
  },
  {
   "cell_type": "markdown",
   "metadata": {},
   "source": [
    "# Summary"
   ]
  },
  {
   "cell_type": "markdown",
   "metadata": {},
   "source": [
    "이번 강의를 통해 실생활 문제의 예시(단어 사다리 문제)와 그래프 알고리즘인 BFS 알고리즘에 대해 배웠습니다. 특히 BFS 알고리즘의 흐름을 이해할 수 있도록 복습해보고, 다른 그래프 알고리즘으로 어떤 것이 있을 수 있을지 생각해보는 것도 그래프와 다양한 알고리즘을 이해하는데 도움이 될 것입니다."
   ]
  },
  {
   "cell_type": "markdown",
   "metadata": {},
   "source": [
    "# Review Questions"
   ]
  },
  {
   "cell_type": "markdown",
   "metadata": {},
   "source": []
  },
  {
   "cell_type": "markdown",
   "metadata": {},
   "source": [
    "# Exercises\n",
    "\n",
    "## 1. Digraph를 Graph의 Subclass로 정의하기\n",
    "\n",
    "위의 본문에서 설명한 대로, Digraph를 Graph의 subclass로 정의하기위하여 Graph의 일부 메소드들만 재정의하면 하십시오. 다음 그래프로 테스트 하십시오. \n",
    "\n",
    "<center> <img src=\"https://github.com/idebtor/DSpy/blob/0a0396209864e23b2225c1c9228ddfee1483cb67/images/chap8/digraph-selfloop.png?raw=true\" width=\"50%\" title=\"Figure 1. Digraph with a self-loop\"> </center><br>\n",
    "<center>그림 1. Digraph with a self-loop </center><br>\n",
    "\n",
    "\n",
    "__Sample Code:__\n",
    "```\n",
    "if __name__ == '__main__':\n",
    "    g = Digraph()\n",
    "    g.addEdge('LAX', 'ORD')\n",
    "    g.addEdge('LAX', 'ATL')\n",
    "    g.addEdge('ORD', 'ATL')\n",
    "    g.addEdge('ATL', 'LAX')\n",
    "    g.addEdge('ATL', 'JFK')\n",
    "    g.addEdge('JFK', 'JFK')\n",
    "    \n",
    "    print(g)\n",
    "    dfs = DFS(g, 'ATL')        # starting at ATL\n",
    "    print(dfs._path)           # ATL LAX ORD JFK\n",
    "    \n",
    "    for v in g.vertices():\n",
    "        print(f'{v}  inDegree {g.inDegree(v)} from:', [w for w in g.inNeighbors(v)])\n",
    "        print(f'{v} outDegree {g.degree(v)}   to:', [w for w in g.neighbors(v)])\n",
    "```\n",
    "__Expected Output:__\n",
    "```\n",
    "LAX: ORD ATL\n",
    "ORD: ATL\n",
    "ATL: LAX JFK\n",
    "JFK: JFK\n",
    "\n",
    "['ATL', 'LAX', 'ORD', 'JFK']\n",
    "LAX  inDegree 1 from: ['ATL']\n",
    "LAX outDegree 2   to: ['ORD', 'ATL']\n",
    "ORD  inDegree 1 from: ['LAX']\n",
    "ORD outDegree 1   to: ['ATL']\n",
    "ATL  inDegree 2 from: ['LAX', 'ORD']\n",
    "ATL outDegree 2   to: ['LAX', 'JFK']\n",
    "JFK  inDegree 2 from: ['ATL', 'JFK']\n",
    "JFK outDegree 1   to: ['JFK']\n",
    "```\n",
    "\n",
    "__Solution:__ "
   ]
  },
  {
   "cell_type": "code",
   "execution_count": 74,
   "metadata": {},
   "outputs": [],
   "source": [
    "#%%writefile digraph.py\n",
    "from graph import Graph\n",
    "\n",
    "class Digraph(Graph):    \n",
    "    def addEdge(self, v, w):                             # add edges v-w for digraph\n",
    "        if not self.hasVertex(v): self._adj[v] = list()  # use set() for O(1), random order \n",
    "        if not self.hasVertex(w): self._adj[w] = list()  # use list() for O(n), orderly\n",
    "        if not self.hasEdge(v, w):                       # list() for O(n), orderly access\n",
    "            self._e += 1\n",
    "            self._adj[v].append(w)                       # append() for list, add() for set\n",
    "              \n",
    "    #def outNeighbors(self, v):                            # iterable for outgoing vertices\n",
    "    #    return super().neighbors(v)\n",
    "    \n",
    "    def inNeighbors(self, v):                            # iterable for incoming vertices\n",
    "        return # your code here\n",
    "    \n",
    "    #def outDegree(self, v):\n",
    "        #return super().degree(v)\n",
    "    \n",
    "    def inDegree(self, v):\n",
    "        return # your code here"
   ]
  },
  {
   "cell_type": "code",
   "execution_count": 8,
   "metadata": {},
   "outputs": [
    {
     "name": "stdout",
     "output_type": "stream",
     "text": [
      "LAX: ORD ATL\n",
      "ORD: ATL\n",
      "ATL: LAX JFK\n",
      "JFK: JFK\n",
      "\n",
      "['ATL', 'LAX', 'ORD', 'JFK']\n",
      "LAX  inDegree 1 from: ['ATL']\n",
      "LAX outDegree 2   to: ['ORD', 'ATL']\n",
      "ORD  inDegree 1 from: ['LAX']\n",
      "ORD outDegree 1   to: ['ATL']\n",
      "ATL  inDegree 2 from: ['LAX', 'ORD']\n",
      "ATL outDegree 2   to: ['LAX', 'JFK']\n",
      "JFK  inDegree 2 from: ['ATL', 'JFK']\n",
      "JFK outDegree 1   to: ['JFK']\n"
     ]
    }
   ],
   "source": [
    "if __name__ == '__main__':\n",
    "    g = Digraph()\n",
    "    g.addEdge('LAX', 'ORD')\n",
    "    g.addEdge('LAX', 'ATL')\n",
    "    g.addEdge('ORD', 'ATL')\n",
    "    g.addEdge('ATL', 'LAX')\n",
    "    g.addEdge('ATL', 'JFK')\n",
    "    g.addEdge('JFK', 'JFK')\n",
    "    \n",
    "    print(g)\n",
    "    dfs = DFS(g, 'ATL')        # starting at ATL\n",
    "    print(dfs._path)           # ATL LAX ORD JFK\n",
    "    \n",
    "    for v in g.vertices():\n",
    "        print(f'{v}  inDegree {g.inDegree(v)} from:', [w for w in g.inNeighbors(v)])\n",
    "        print(f'{v} outDegree {g.degree(v)}   to:', [w for w in g.neighbors(v)])"
   ]
  },
  {
   "cell_type": "markdown",
   "metadata": {},
   "source": [
    "## Digraph의 DFS & IDFS 테스트 하기\n",
    "\n",
    "위의 self-loop가 있는 그래프에 대해 Recursive DFS 즉 DFS(g, 'ATL')실행하고, 또한 iterative DFS 즉 IDFS(g, 'ATL')을 실행하여 아래와 같은 결과를 확인하십시오. \n",
    "\n",
    "__Sample Run:__\n",
    "```\n",
    "    dfs = DFS(g, 'ATL')\n",
    "    print(dfs._path)\n",
    "    \n",
    "    idfs = IDFS(g, 'ATL')\n",
    "    print(idfs._path)\n",
    "```\n",
    "__Expected Output:__\n",
    "```\n",
    "['ATL', 'LAX', 'ORD', 'JFK']\n",
    "['ATL', 'LAX', 'JFK', 'ORD']\n",
    "```"
   ]
  },
  {
   "cell_type": "code",
   "execution_count": 9,
   "metadata": {},
   "outputs": [
    {
     "name": "stdout",
     "output_type": "stream",
     "text": [
      "LAX: ORD ATL\n",
      "ORD: ATL\n",
      "ATL: LAX JFK\n",
      "JFK: JFK\n",
      "\n",
      "['ATL', 'LAX', 'ORD', 'JFK']\n",
      "['ATL', 'JFK', 'LAX', 'ORD']\n"
     ]
    }
   ],
   "source": [
    "# %load dfs.py\n",
    "from collections import deque\n",
    "from graph import Graph\n",
    "\n",
    "class DFS:                    # recursive DFS/IDFS algorithm\n",
    "    def __init__(self, graph, s):\n",
    "        self._distTo = dict()\n",
    "        self._path = []\n",
    "        self.dfs(graph, s)\n",
    "    \n",
    "    def dfs(self, graph, v):  # recursive DFS algorithm\n",
    "        # your code here from the lecture\n",
    "        \n",
    "    def hasPathTo(self, v):\n",
    "        # your code here from the lecture\n",
    "        return \n",
    "    \n",
    "class IDFS(DFS):             # iterative DFS algorithm\n",
    "    def dfs(self, graph, v):\n",
    "        stack = [v]          # use list as a stack\n",
    "        # your code here from the lecture\n",
    "                    \n",
    "if __name__ == '__main__':\n",
    "    print(g)\n",
    "    dfs = DFS(g, 'ATL')\n",
    "    print(dfs._path)\n",
    "    \n",
    "    idfs = IDFS(g,'ATL')\n",
    "    print(idfs._path)                    "
   ]
  },
  {
   "cell_type": "markdown",
   "metadata": {},
   "source": [
    "## Topological Sort: Kahn Algorithm\n",
    "\n",
    "위상 정렬(topological sorting)은 Digraph(유향그래프)의 vertex를 edge의 방향을 거스르지 않도록 나열하는 것을 의미합니다. \n",
    "\n",
    "위상정렬을 가장 잘 설명해 줄 수 있는 예로 대학의 선수과목(prerequisite) 구조를 예로 들 수 있다. 만약 특정 수강과목에 선수과목이 있다면 그 선수 과목부터 수강해야 하므로, 특정 과목들을 수강해야 할 때 위상 정렬을 통해 올바른 수강 순서를 찾아낼 수 있습니다. \n",
    "\n",
    "이와 같이 선후 관계가 정의된 그래프 구조 상에서 선후 관계에 따라 정렬하기 위해 위상 정렬을 이용할 수 있습니다. 정렬의 순서는 Digraph의 구조에 따라 여러 개의 종류가 나올 수 있습니다. 위상 정렬이 성립하기 위해서는 반드시 그래프의 순환(cycle)이 존재하지 않아야 한다. 즉, 그래프가 비순환 유향 그래프(DAG: directed acyclic graph)여야 합니다."
   ]
  },
  {
   "cell_type": "markdown",
   "metadata": {},
   "source": [
    "다음은 잘 알려진 위상 정렬을 위한 Kahn 알고리즘입니다. \n",
    "\n",
    "__Kahn Algorithm:__\n",
    "1. Compute indegree, ideg, for each vertex in g.\n",
    "1. Put all vertices with 0 indegree into a queue. \n",
    "1. Create an empty vertex list, path.\n",
    "1. while queue:\n",
    "    1. dequeue a vertex u from queue\n",
    "    1. add u to tail of path\n",
    "    1. for each vertex v in neighbor(u):\n",
    "        1. decrease v's indegree by 1\n",
    "        1. if v's indegree is 0: \n",
    "            1. add v to queue\n",
    "1. return path"
   ]
  },
  {
   "cell_type": "markdown",
   "metadata": {},
   "source": [
    "## Kahn Algorithm Test Case:\n",
    "\n",
    "<center> <img src=\"https://github.com/idebtor/DSpy/blob/3e2ab726a56551674e68023414993f1675542a0b/images/chap8/toposort-dag.png?raw=true\" width=\"80%\" title=\"Figure 2. DAG for topological sort\"> </center><br>\n",
    "<center>그림 2. DAG for topological sort </center><br>"
   ]
  },
  {
   "cell_type": "markdown",
   "metadata": {},
   "source": [
    "__Expected Output:__\n",
    "```\n",
    "ATL: DEN\n",
    "DEN: JFK\n",
    "ICN: LAX DFW\n",
    "LAX: DFW ATL ORD DEN\n",
    "DFW: ATL\n",
    "ORD: JFK\n",
    "JFK: \n",
    "\n",
    "['ICN', 'LAX', 'DFW', 'ORD', 'ATL', 'DEN', 'JFK']\n",
    "```"
   ]
  },
  {
   "cell_type": "markdown",
   "metadata": {},
   "source": [
    "위의 그래프을 칸 알고리즘에 적용하여 코드를 추적하면, 다음과 같이 queue의 상태와 각 vertex의 in-degree의 변화를 관찰할 수 있습니다. queue가 empty상태가 되면 작업이 끝이 나고 또한 모든 vertices의 in-degree는 zero가 됩니다. 만약, queue가 empty가 되었는데, 아직도 in-degree가 zero가 아니라면, 해당 그래프에는 cycle이 존재하는 경우이며, DAG가 아닙니다.\n",
    "\n",
    "```\n",
    "Queue     while queue: indegree at each vertex \n",
    "------------------------------------------------------------\n",
    "ICN      { ATL:2, DEN:2, ICN:0, LAX:1, DFW:2, ORD:1, JFK:2 }\n",
    "LAX      { ATL:2, DEN:2, ICN:0, LAX:0, DFW:1, ORD:1, JFK:2 }\n",
    "DFW, ORD { ATL:1, DEN:1, ICN:0, LAX:0, DFW:0, ORD:0, JFK:2 }\n",
    "ORD, ATL { ATL:0, DEN:1, ICN:0, LAX:0, DFW:0, ORD:0, JFK:2 }\n",
    "ATL      { ATL:0, DEN:1, ICN:0, LAX:0, DFW:0, ORD:0, JFK:1 }\n",
    "DEN      { ATL:0, DEN:0, ICN:0, LAX:0, DFW:0, ORD:0, JFK:1 }\n",
    "JFK      { ATL:0, DEN:0, ICN:0, LAX:0, DFW:0, ORD:0, JFK:0 }\n",
    "\n",
    "Topologically sort completed\n",
    "['ICN', 'LAX', 'DFW', 'ORD', 'ATL', 'DEN', 'JFK']![image.png]\n",
    "```"
   ]
  },
  {
   "cell_type": "code",
   "execution_count": 10,
   "metadata": {},
   "outputs": [
    {
     "name": "stdout",
     "output_type": "stream",
     "text": [
      "ATL: DEN\n",
      "DEN: JFK\n",
      "ICN: LAX DFW\n",
      "LAX: DFW ATL ORD DEN\n",
      "DFW: ATL\n",
      "ORD: JFK\n",
      "JFK: \n",
      "\n",
      "['ICN', 'LAX', 'DFW', 'ORD', 'ATL', 'DEN', 'JFK']\n"
     ]
    }
   ],
   "source": [
    "from collections import deque\n",
    "\n",
    "def topoSort(g):\n",
    "    que = deque()\n",
    "    ideg = dict()\n",
    "    for v in g.vertices():\n",
    "        ideg[v] = g.inDegree(v)\n",
    "        if ideg[v] == 0:\n",
    "            que.append(v)\n",
    "            \n",
    "    topo = []\n",
    "    while que:\n",
    "        #print(que, ideg)\n",
    "        u = que.popleft()\n",
    "        topo.append(u)\n",
    "        for v in g.neighbors(u):\n",
    "            ideg[v] -= 1\n",
    "            if ideg[v] == 0:\n",
    "                que.append(v)\n",
    "    return topo\n",
    "\n",
    "if __name__ == \"__main__\":\n",
    "    g = Digraph('toposort.txt')\n",
    "    print(g)\n",
    "    print(topoSort(g))"
   ]
  },
  {
   "cell_type": "markdown",
   "metadata": {},
   "source": [
    "## Detect a cycle using Kahn Algorithm\n",
    "\n",
    "아래 주어진 그래프(topocycle.txt)처럼 Cycle이 있으면, 위상 정렬을 할 수 없습니다. Kahn 알고리즘으로 위상 정렬을 하는 위의 코드에 Cycle을 발견하면 이를 인지하고 메시지를 출력하고 작업을 끝내도록 코드를 수정하십시오. \n",
    "\n",
    "<center> <img src=\"https://github.com/idebtor/DSpy/blob/04b24f9c08ab10cdeb44c472d7b433877139a6c7/images/chap8/topocycle.png?raw=true\" width=\"50%\" title=\"Figure 3. Detect a cycle in Kahn Algorithm\"> </center><br>\n",
    "<center>그림 3. Detect a cycle in Kahn Algorithm </center><br>"
   ]
  },
  {
   "cell_type": "markdown",
   "metadata": {},
   "source": [
    "__Sample Run:__\n",
    "```\n",
    "if __name__ == '__main__':\n",
    "    g = Digraph('topocycle.txt')\n",
    "    print(topoSort(g)) \n",
    "```\n",
    "__Expected Output:__\n",
    "```\n",
    "It is not a DAG - a cycle found.\n",
    "None\n",
    "```\n",
    "\n",
    "__Solution:__ "
   ]
  },
  {
   "cell_type": "code",
   "execution_count": null,
   "metadata": {},
   "outputs": [],
   "source": [
    "from collections import deque\n",
    "\n",
    "def topoSort(g):\n",
    "    que = deque()\n",
    "    ideg = dict()\n",
    "    for v in g.vertices():\n",
    "        ideg[v] = g.inDegree(v)\n",
    "        if ideg[v] == 0:\n",
    "            que.append(v)\n",
    "            \n",
    "    topo = []\n",
    "    while que:\n",
    "        #print(que, ideg)\n",
    "        u = que.popleft()\n",
    "        topo.append(u)\n",
    "        for v in g.neighbors(u):\n",
    "            ideg[v] -= 1\n",
    "            if ideg[v] == 0:\n",
    "                que.append(v)\n",
    "                \n",
    "    # your code here\n",
    "    \n",
    "    return topo\n",
    "            \n",
    "if __name__ == \"__main__\":\n",
    "    g = Digraph('toposort.txt')\n",
    "    print(g)\n",
    "    print(topoSort(g))"
   ]
  },
  {
   "cell_type": "markdown",
   "metadata": {},
   "source": [
    "## Topological Sort: Recursive Algorithm\n",
    "\n",
    "변형된 DFS로 위상 정렬을 할 수 있으며, 이 때는 in_degree가 필요 없고 재귀 용법을 사용합니다.\n",
    "\n",
    "__Modified DFS Algorithm:__\n",
    "\n",
    "1. 모든 vertices를 순회하며 방문하지 않은 vertex에 대해서 DFS를 수행합니다.\n",
    "1. DFS 수행방식은 다음과 같습니다.\n",
    "    1. 하나의 vertex에서 시작합니다.\n",
    "    1. 방문표시를 하면서 edge를 따라 다음 vertex으로 방문합니다.\n",
    "    1. 더 이상 방문할 edge이 없으면 __리스트 앞에__ vertex를 추가하고, 역추적(backtracking)을 통해 이전 vertex로 이동하면서 방문하지 않은 edge이 있는지 확인합니다.\n",
    "    1. 방문 가능한 edge이 있다면 다시 edge을 따라 다음 vertex으로 이동합니다.\n",
    "    1. 모든 vertices을 탐색할 때까지 B~D를 반복합니다.\n"
   ]
  },
  {
   "cell_type": "code",
   "execution_count": 32,
   "metadata": {},
   "outputs": [
    {
     "name": "stdout",
     "output_type": "stream",
     "text": [
      "['ICN', 'LAX', 'ORD', 'DFW', 'ATL', 'DEN', 'JFK']\n"
     ]
    }
   ],
   "source": [
    "def topoSort_dfs(g):       \n",
    "    path = []\n",
    "    for u in g.vertices():\n",
    "        if u not in path:\n",
    "            _topoSort_dfs(g, u, path)\n",
    "    return path\n",
    "\n",
    "def _topoSort_dfs(g, u, path):\n",
    "    for v in g.neighbors(u):\n",
    "        if v not in path:\n",
    "            _topoSort_dfs(g, v, path)\n",
    "    path.insert(0, u)           # in topo, u must be in front of v.\n",
    "\n",
    "if __name__ == \"__main__\":\n",
    "    g = Digraph('toposort.txt')\n",
    "    print(topoSort_dfs(g))"
   ]
  },
  {
   "cell_type": "markdown",
   "metadata": {},
   "source": [
    "## 전형적인 DFS 알고리즘 - 참고 자료"
   ]
  },
  {
   "cell_type": "code",
   "execution_count": 19,
   "metadata": {
    "tags": []
   },
   "outputs": [
    {
     "name": "stdout",
     "output_type": "stream",
     "text": [
      "ATL: DEN\n",
      "DEN: JFK\n",
      "ICN: LAX DFW\n",
      "LAX: DFW ATL ORD DEN\n",
      "DFW: ATL\n",
      "ORD: JFK\n",
      "JFK: \n",
      "\n",
      "['ATL', 'DEN', 'JFK', 'ICN', 'LAX', 'DFW', 'ORD']\n"
     ]
    }
   ],
   "source": [
    "def dfs(g):                     # dfs starts one of any nodes\n",
    "    path = []\n",
    "    for u in g.vertices():\n",
    "        if u not in path:\n",
    "            _dfs(g, u, path)\n",
    "    return path\n",
    "\n",
    "def _dfs(g, u, path):\n",
    "    path.append(u)              # in dfs, add it immediately\n",
    "    for v in g.neighbors(u):    # then its children appended\n",
    "        if v not in path:\n",
    "            _dfs(g, v, path)\n",
    "    #topo.insert(0, u)\n",
    "\n",
    "if __name__ == \"__main__\":\n",
    "    g = Digraph('toposort.txt')\n",
    "    print(g)\n",
    "    print(dfs(g))"
   ]
  },
  {
   "cell_type": "markdown",
   "metadata": {},
   "source": [
    "## Detect a cycle in Modified DFS Topological Sort\n",
    "\n",
    "아래 주어진 그래프(topocycle.txt)처럼 Cycle이 있으면, 위상 정렬을 할 수 없습니다. Kahn 알고리즘으로 위상 정렬을 하는 위의 코드에 Cycle을 발견하면 이를 인지하고 메시지를 출력하고 작업을 끝내도록 코드를 수정하십시오. \n",
    "\n",
    "<center> <img src=\"https://github.com/idebtor/DSpy/blob/04b24f9c08ab10cdeb44c472d7b433877139a6c7/images/chap8/topocycle.png?raw=true\" width=\"50%\" title=\"Figure 4. Detect a cycle in Modified DFS\"> </center><br>\n",
    "<center>그림 4. Detect a cycle in Modified DFS </center><br>"
   ]
  },
  {
   "cell_type": "markdown",
   "metadata": {},
   "source": [
    "__Find a cycle in directed graphs__\n",
    "\n",
    "The graph has a cycle if and only if there exists a back edge. \n",
    "\n",
    "A back edge is an edge that is from a node to itself (self-loop) or one of its ancestor in the tree produced by DFS forming a cycle. To detect a back edge, keep track of vertices currently in the recursion stack of function for DFS traversal. If a vertex is reached that is already in the recursion stack, then there is a cycle in the tree. \n",
    "\n",
    "\n",
    "__Sample Run 1:__\n",
    "```\n",
    "if __name__ == '__main__':\n",
    "    g = Digraph('topocycle.txt')\n",
    "    print(topoSort(g)) \n",
    "```\n",
    "__Expected Output 1:__\n",
    "```\n",
    "It is not a DAG - a cycle found.\n",
    "None\n",
    "```"
   ]
  },
  {
   "cell_type": "markdown",
   "metadata": {},
   "source": [
    "__Sample Run 2:__\n",
    "```\n",
    "g = Digraph()\n",
    "g.addEdge('LAX', 'ORD')\n",
    "g.addEdge('LAX', 'ATL')\n",
    "g.addEdge('ORD', 'ATL')\n",
    "g.addEdge('ATL', 'LAX')\n",
    "g.addEdge('ATL', 'JFK')\n",
    "g.addEdge('JFK', 'JFK')\n",
    "\n",
    "print(g)\n",
    "print(topoSort_dfs(g))\n",
    "```\n",
    "__Expected Output 2:__\n",
    "```\n",
    "LAX: ORD ATL\n",
    "ORD: ATL\n",
    "ATL: LAX JFK\n",
    "JFK: JFK\n",
    "\n",
    "It is not a DAG - a cycle found.\n",
    "None\n",
    "```\n",
    "\n",
    "__Solution:__ "
   ]
  },
  {
   "cell_type": "code",
   "execution_count": 73,
   "metadata": {},
   "outputs": [
    {
     "name": "stdout",
     "output_type": "stream",
     "text": [
      "ATL: DEN\n",
      "DEN: JFK\n",
      "ICN: LAX DFW\n",
      "LAX: DFW ATL ORD DEN\n",
      "DFW: ATL\n",
      "ORD: JFK\n",
      "JFK: ATL\n",
      "\n",
      "a cycle found at: ATL\n",
      "None\n"
     ]
    }
   ],
   "source": [
    "def topoSort_dfs(g):       \n",
    "    path = []\n",
    "    for u in g.vertices():\n",
    "        if u not in path:\n",
    "            _topoSort_dfs(g, u, path)\n",
    "    return path\n",
    "\n",
    "def _topoSort_dfs(g, u, path):\n",
    "    for v in g.neighbors(u):\n",
    "        if v not in path:\n",
    "            _topoSort_dfs(g, v, path)\n",
    "    path.insert(0, u)           # in topo, u must be in front of v.\n",
    "\n",
    "if __name__ == \"__main__\":\n",
    "    g = Digraph('topocycle.txt')\n",
    "    print(g)\n",
    "    print(topoSort_dfs(g))"
   ]
  },
  {
   "cell_type": "code",
   "execution_count": 14,
   "metadata": {},
   "outputs": [
    {
     "name": "stdout",
     "output_type": "stream",
     "text": [
      "Overwriting toposort.txt\n"
     ]
    }
   ],
   "source": [
    "%%writefile toposort.txt\n",
    "ATL DEN\n",
    "ICN LAX\n",
    "ICN DFW\n",
    "DFW ATL\n",
    "LAX DFW\n",
    "LAX ATL\n",
    "LAX ORD\n",
    "LAX DEN\n",
    "DEN JFK\n",
    "ORD JFK"
   ]
  },
  {
   "cell_type": "code",
   "execution_count": 15,
   "metadata": {},
   "outputs": [
    {
     "name": "stdout",
     "output_type": "stream",
     "text": [
      "Overwriting topocycle.txt\n"
     ]
    }
   ],
   "source": [
    "%%writefile topocycle.txt\n",
    "ATL DEN\n",
    "ICN LAX\n",
    "ICN DFW\n",
    "DFW ATL\n",
    "LAX DFW\n",
    "LAX ATL\n",
    "LAX ORD\n",
    "LAX DEN\n",
    "DEN JFK\n",
    "ORD JFK\n",
    "JFK ATL"
   ]
  },
  {
   "cell_type": "markdown",
   "metadata": {},
   "source": [
    "## 참고자료\n",
    "- Problem Solving with Algorithms and Data Structures using Python, [Here](https://runestone.academy/runestone/books/published/pythonds3/Introduction/WhyStudyDataStructuresandAbstractDataTypes.html)\n",
    "- Python-추상적 자료형(ADT)과 자료 구조(Data Structure), [Here](https://ybdata-sci.tistory.com/16)\n"
   ]
  },
  {
   "cell_type": "markdown",
   "metadata": {},
   "source": [
    "------\n",
    "이르시되 기도 외에 다른 것으로는 이런 종류가 나갈 수 없느니라 하시니라 (막9:29)"
   ]
  }
 ],
 "metadata": {
  "kernelspec": {
   "display_name": "Python 3 (ipykernel)",
   "language": "python",
   "name": "python3"
  },
  "language_info": {
   "codemirror_mode": {
    "name": "ipython",
    "version": 3
   },
   "file_extension": ".py",
   "mimetype": "text/x-python",
   "name": "python",
   "nbconvert_exporter": "python",
   "pygments_lexer": "ipython3",
   "version": "3.9.12"
  }
 },
 "nbformat": 4,
 "nbformat_minor": 4
}
