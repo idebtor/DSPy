{
 "cells": [
  {
   "cell_type": "markdown",
   "metadata": {},
   "source": [
    "먼저 알 것은 성경의 모든 예언은 사사로이 풀 것이 아니니 예언은 언제든지 사람의 뜻으로 낸 것이 아니요 오직 성령의 감동하심을 받은 사람들이 하나님께 받아 말한 것임이라 (벧후1:20-21)\n",
    "\n",
    "-------\n",
    "<center><img src=\"https://github.com/idebtor/DSpy/blob/6b3676c3de29f85d2e7f30679676d1fd96d88b17/images/WelcomeToDataStructures.jpg?raw=true\" width=1000></center>\n",
    "\n",
    "__NOTE:__ The following materials have been compiled and adapted from the numerous sources including my own. Please help me to keep this tutorial up-to-date by reporting any issues or questions. Send any comments or criticisms to `idebtor@gmail.com` Your assistances and comments will be appreciated.\n",
    "\n",
    "--------"
   ]
  },
  {
   "cell_type": "markdown",
   "metadata": {},
   "source": [
    "<b style=\"font-size:30px\">  Chapter 3. Linear Data Structures (선형 자료구조)</b>\n",
    "\n",
    ": 선형 자료구조란 무엇인가 (스택,큐,리스트 등)  \n",
    "\n",
    "--------------\n",
    "제 3장에서는 선형 자료구조에 대해 알아봅니다. 선형 자료구조란 무엇이며, 자료구조에 사용되는 대표적인 선형 자료구조들을 배우고 간단한 실습을 통해 구현해보며 익히게 됩니다. 자료구조의 기초가 되며, 이후 운영체제, 알고리즘, 네트워크 등 모든 영역에 활용되는 것 이므로 적극적인 자세로 재밌게 배우면 좋겠습니다!\n",
    "\n"
   ]
  },
  {
   "cell_type": "markdown",
   "metadata": {},
   "source": [
    "# 리스트\n",
    "\n",
    "1.1. 정렬된 링크드 리스트 추상자료형  \n",
    "1.2. 정렬된 링크드 리스트 구현"
   ]
  },
  {
   "cell_type": "markdown",
   "metadata": {},
   "source": [
    "## 정렬된 링크드 리스트 추상자료형\n",
    ": 정렬된 링크드 리스트 추상자료형의 구조와 메서드를 배웁니다."
   ]
  },
  {
   "cell_type": "markdown",
   "metadata": {},
   "source": [
    "이번엔 리스트 중에서 정렬된 링크드 리스트에 대해 배워보도록 하겠습니다. 이전 페이지에서 사용된 성적 예시를 사용한다면, 정렬된 링크드 리스트에서는(오름차순) 17, 26, 31, 54, 77, 93으로 이루어질 것이며, 17이 가장 작은 원소이므로 맨 앞에, 93이 가장 큰 원소이므로 가장 뒤에 있게 됩니다.\n",
    "정렬된 링크드 리스트의 구조는 원소의 컬렉션으로서, 각 원소의 상대적인 위치가 그 특징에 따라 정해지는 구조를 갖습니다. 정렬된 링크드 리스트에서 사용되는 연산은 다음과 같은 것들이 있습니다."
   ]
  },
  {
   "cell_type": "markdown",
   "metadata": {},
   "source": [
    "* `ListSorted()`: 비어있는 정렬된 링크드 리스트를 생성합니다. 별다른 파라미터를 받지 않고 빈 리스트를 반환합니다.\n",
    "* `push(item)`: 리스트의 정렬이 유지 되도록 새로운 원소를 추가합니다. 추가할 원소를 받고 값을 반환하진 않습니다.\n",
    "* `pop_front()`: 리스트의 가장 첫번째 원소를 제거하고, 제거한 값을 반환합니다. 삭제할 원소를 찾지 못하면 `None`을 반환합니다. \n",
    "* `pop_back()`: 리스트의 가장 마지막 원소를 제거하고, 그 값을 반환합니다. \n",
    "* `pop(item)`: 주어진 원소를 리스트에서 제거하고, 그 값을 반환합니다. 삭제할 원소를 찾지 못하면 `None`을 반환합니다. \n",
    "* `find(item)`: 리스트에서 원하는 원소를 찾습니다. 찾고싶은 원소를 받아 리스트에 있는지 참/거짓 값으로 반환합니다.\n",
    "* `is_empty()`: 리스트가 비어있는지 확인합니다. 별다른 파라미터를 받지 않고 참/거짓 값을 반환합니다.\n",
    "* `size()`: 리스트에 있는 원소의 갯수를 확인합니다. 정수값을 반환합니다.\n",
    "* `index(item)`: 리스트에서 해당 원소의 위치를 찾아 인덱스를 반환합니다. 해당 원소를 찾지 못하면 `None`을 반환합니다. \n",
    "* `remove(pos)`: 리스트에서 특정 위치의 원소를 제거하고 그 값을 반환합니다. 삭제할 원소를 찾지 못하면 `None`을 반환합니다. "
   ]
  },
  {
   "cell_type": "markdown",
   "metadata": {},
   "source": [
    "## 정렬된 링크드 리스트 구현\n",
    ": 파이썬으로 정렬된 링크드 리스트를 직접 구현해봅니다."
   ]
  },
  {
   "cell_type": "markdown",
   "metadata": {},
   "source": [
    "정렬된 링크드 리스트를 구현하기 위해선, 원소들이 특정 특성을 기준으로 상대적인 위치를 갖는다는 것을 염두해둬야 합니다. 시험점수 예제(17,26,31,54,77,93)를 연결된 구조로 표시하면 그림 1과 같을 것입니다. 이번에도 마찬가지로, 노드와 연결된 구조를 사용하는 것은 여러 원소의 상대적인 위치를 나타내는 것에 가장 이상적인 방식입니다."
   ]
  },
  {
   "cell_type": "markdown",
   "metadata": {},
   "source": [
    "<center><img src=\"https://github.com/idebtor/DSpy/blob/main/images/chap3/ch3-32.jpg?raw=true\" width=\"600\" title=\"Figure 1. An Sorted Linked List\"></center>\n",
    "<center>그림 1. 정렬된 링크드 리스트의 예<center><br>"
   ]
  },
  {
   "cell_type": "markdown",
   "metadata": {},
   "source": [
    "정렬된 링크드 리스트인 `ListSorted` 클래스를 구현하기 위해선, 앞서 `ListUnsorted`를 구현한 것과 비슷한 방식을 사용하겠습니다. 이번에도 마찬가지로, 비어있는 리스트는 head의 참조값이 None을 갖게 될 것입니다(목차 1 참고)."
   ]
  },
  {
   "cell_type": "code",
   "execution_count": null,
   "metadata": {},
   "outputs": [],
   "source": [
    "# 목차 1\n",
    "class ListSorted:\n",
    "    def __init__(self):\n",
    "        self.head = None"
   ]
  },
  {
   "cell_type": "markdown",
   "metadata": {},
   "source": [
    "정렬된 링크드 리스트의 메서드 중 `is_empty`와 `size` 메서드는 단순히 노드의 갯수를 다루기 때문에 이전에 구현한 코드를 그대로 사용할 수 있습니다. 또한, `remove` 메서드 역시 특정 원소를 찾아 제거하는 것은 동일하기 때문에 이전 코드를 그대로 사용할 수 있을 것입니다. 따라서, 정렬된 링크드 리스트의 메서드 중 남은 메서드는 `find`와 `push`이며, 이 두 메서드는 수정이 필요합니다."
   ]
  },
  {
   "cell_type": "markdown",
   "metadata": {},
   "source": [
    "언뜻 보기엔 `find` 메서드도 `ListUnsorted` 링크드 리스트와 마찬가지로 같은 알고리즘으로 구현이 가능하다는 생각이 들것입니다. 사실 그것이 맞습니다. 노드를 차례대로 탐색(traverse)하며 해당 데이터가 우리가 찾는 데이터인지 확인하는 것이기 때문입니다. 하지만 정렬된 링크드 리스트에서는 이를 더 효율적으로 구현할 수 있습니다. 정렬된 링크드 리스트는 특정한 특징으로 원서가 나열되었기 때문에, 우리가 특정 값을 찾으려고 할 때, 그 탐색 범위가 줄어들 수 있습니다."
   ]
  },
  {
   "cell_type": "markdown",
   "metadata": {},
   "source": [
    "예를 들어, 시험점수 예제에서 45라는 값을 찾으려고 한다고 가정합시다(그림 2 참고). 리스트를 head에서부터 탐색하는 가운데, 찾고자하는 데이터 값과 비교대상이 되는 노드의 값은 점진적으로 커질 것입니다. 따라서, 어느 순간 노드의 데이터 값이 우리가 찾고자하는 데이터 값과 일치하거나 그보다 클 경우, 이후 노드들은 무조건 일치할 수 없기 때문에 탐색을 멈출 수 있게 됩니다."
   ]
  },
  {
   "cell_type": "markdown",
   "metadata": {},
   "source": [
    "<center><img src=\"https://github.com/idebtor/DSpy/blob/main/images/chap3/ch3-33.jpg?raw=true\" width=\"600\" title=\"Figure 2. Searching an Sorted Linked List\"></center>\n",
    "<center>그림 2. 정렬된 링크드 리스트의 탐색 예<center><br>"
   ]
  },
  {
   "cell_type": "markdown",
   "metadata": {},
   "source": [
    "목차 2는 `find` 메서드의 파이썬 구현을 나타냅니다. 앞서 설명한 새로운 기능의 추가는 단순히 `stop`이라는 불리언 변수를 추가하여 해결할 수 있습니다. 탐색 중 노드의 데이터 값이 찾고자하는 값보다 크게 된다면, `stop`을 True로 바꾸어 탐색을 중지시킬 수 있습니다. 나머지 코드의 구현은 이전과 동일합니다."
   ]
  },
  {
   "cell_type": "code",
   "execution_count": null,
   "metadata": {},
   "outputs": [],
   "source": [
    "# 목차 2\n",
    "def find(self,item):\n",
    "    current = self.head\n",
    "    found = False\n",
    "    stop = False\n",
    "    while current != None and not found and not stop:\n",
    "        if current.get_data() == item:\n",
    "            found = True\n",
    "        else:\n",
    "            if current.get_data() > item:\n",
    "                stop = True\n",
    "            else:\n",
    "                current = current.get_next()\n",
    "\n",
    "    return found"
   ]
  },
  {
   "cell_type": "markdown",
   "metadata": {},
   "source": [
    "정렬된 링크드 리스트의 구현 중 가장 신경을 많이 써야하는 메서드는 `push`입니다. 이전에 배운 `Listunsorted` 리스트에서는 노드의 추가가 가장 쉬운 부분, 즉 head에서 이루어졌지만, 정렬된 링크드 리스트의 경우 그 정렬을 보존해야하기 때문에 추가를 하는 위치가 굉장히 중요합니다. 따라서, 데이터의 특성을 고려하여, 기존 리스트에서 추가하기에 적합한 위치를 찾고, 그곳에 정확히 노드를 추가해야합니다."
   ]
  },
  {
   "cell_type": "markdown",
   "metadata": {},
   "source": [
    "시험 점수 예제에서 31이라는 값을 추가한다고 가정해봅시다. 이때, `push`메서드는 적절한 위치인 26과 54 사이에 31을 넣어야 할 것입니다. 그림 3은 이 과정을 그림으로 나타낸 것입니다. 적절한 위치를 찾는 과정에서, 노드의 값이 추가하는 값보다 크거나 마지막 노드인 경우 탐색을 멈추어야합니다. 이 경우, 31보다 큰 54를 마주할 때 탐색을 멈출 것입니다."
   ]
  },
  {
   "cell_type": "markdown",
   "metadata": {},
   "source": [
    "<center><img src=\"https://github.com/idebtor/DSpy/blob/main/images/chap3/ch3-34.jpg?raw=true\" width=\"600\" title=\"Figure 3. Adding an Item to an Sorted Linked List\"></center>\n",
    "<center>그림 3. 정렬된 링크드 리스트의 노드 추가 예시<center><br>"
   ]
  },
  {
   "cell_type": "markdown",
   "metadata": {},
   "source": [
    "목차 3은 `push` 메서드를 파이썬으로 구현한 것입니다. `ListUnsorted` 구현과 같이, 두개의 참조 변수 `previous`와 `current`를 사용 할 것입니다. 먼저 current 변수를 사용하여 탐색을 할 때, 추가하려는 데이터 값과 노드의 값을 비교하여 탐색을 계속할지, 중단할지 결정하게됩니다. 탐색이 중단되면 그 위치에 새로운 노드를 추가하게 됩니다.  \n",
    "\n",
    "새로운 노드의 추가 과정은 그림 3과 같이 2 단계로 이루어집니다. 추가할 데이터를 담은 새로운 노드를 생성한 후, 이전 노드와 새로 만든 노드의 링크를 수정하여 추가를 합니다."
   ]
  },
  {
   "cell_type": "code",
   "execution_count": null,
   "metadata": {},
   "outputs": [],
   "source": [
    "# 목차 3\n",
    "def push(self,item):\n",
    "    current = self.head\n",
    "    previous = None\n",
    "    stop = False\n",
    "    while current != None and not stop:\n",
    "        if current.get_data() > item:\n",
    "            stop = True\n",
    "        else:\n",
    "            previous = current\n",
    "            current = current.get_next()\n",
    "\n",
    "    temp = Node(item)\n",
    "    if previous == None:\n",
    "        temp.set_next(self.head)\n",
    "        self.head = temp\n",
    "    else:\n",
    "        temp.set_next(current)\n",
    "        previous.set_next(temp)"
   ]
  },
  {
   "cell_type": "markdown",
   "metadata": {},
   "source": [
    "`ListSorted()` 클래스에서 현재까지 다룬 내용을 구현한 코드는 다음과 같습니다. 나머지 메서드는 여러분이 직접 추가해보시길 바랍니다. `ListUnsorted` 리스트와 달리, `ListSorted()`에서 동일한 메서드가 구현될지 고민해보고 구현해보시길 바랍니다."
   ]
  },
  {
   "cell_type": "code",
   "execution_count": null,
   "metadata": {},
   "outputs": [],
   "source": [
    "class Node:\n",
    "    def __init__(self, data):\n",
    "        self._data = data\n",
    "        self._next = None\n",
    "\n",
    "    def get_data(self):\n",
    "        return self._data\n",
    "    \n",
    "    def set_data(self, data):\n",
    "        self._data = data\n",
    "\n",
    "    def get_next(self):\n",
    "        return self._next\n",
    "\n",
    "    def set_next(self, next):\n",
    "        self._next = next\n",
    "\n",
    "\n",
    "class ListSorted:\n",
    "    def __init__(self):\n",
    "        self.head = None\n",
    "\n",
    "    def search(self,item):\n",
    "        current = self.head\n",
    "        found = False\n",
    "        stop = False\n",
    "        while current != None and not found and not stop:\n",
    "            if current.get_data() == item:\n",
    "                found = True\n",
    "            else:\n",
    "                if current.get_data() > item:\n",
    "                    stop = True\n",
    "                else:\n",
    "                    current = current.get_next()\n",
    "\n",
    "        return found\n",
    "\n",
    "    def push(self,item):\n",
    "        current = self.head\n",
    "        previous = None\n",
    "        stop = False\n",
    "        while current != None and not stop:\n",
    "            if current.get_data() > item:\n",
    "                stop = True\n",
    "            else:\n",
    "                previous = current\n",
    "                current = current.get_next()\n",
    "\n",
    "        temp = Node(item)\n",
    "        if previous == None:\n",
    "            temp.set_next(self.head)\n",
    "            self.head = temp\n",
    "        else:\n",
    "            temp.set_next(current)\n",
    "            previous.set_next(temp)\n",
    "\n",
    "    def is_empty(self):\n",
    "        return self.head == None\n",
    "\n",
    "    def size(self):\n",
    "        current = self.head\n",
    "        count = 0\n",
    "        while current != None:\n",
    "            count = count + 1\n",
    "            current = current.get_next()\n",
    "\n",
    "        return count\n",
    "    "
   ]
  },
  {
   "cell_type": "code",
   "execution_count": null,
   "metadata": {},
   "outputs": [],
   "source": [
    "mylist = ListSorted()\n",
    "mylist.push(31)\n",
    "mylist.push(77)\n",
    "mylist.push(17)\n",
    "mylist.push(93)\n",
    "mylist.push(26)\n",
    "mylist.push(54)\n",
    "\n",
    "print(mylist.size())      # 6\n",
    "print(mylist.search(93))  # True\n",
    "print(mylist.search(100)) # False"
   ]
  },
  {
   "cell_type": "markdown",
   "metadata": {},
   "source": [
    "# Summary"
   ]
  },
  {
   "cell_type": "markdown",
   "metadata": {},
   "source": [
    "이번 시간은 링크드 리스트를 통해 정렬이 없는 링크드 리스트와 정렬된 링크드 리스트 추상자료형에 대해 배웠습니다. 링크드 리스트는 데이터 영역과 링크 영역을 나누어 정보를 저장하는 노드의 연결로 이루어지며, 이를 통해 다양한 형태로 저장 및 연산을 할 수 있습니다. 오늘 배운 내용을 혼자 프로그래밍하여 익히면 좋겠습니다."
   ]
  },
  {
   "cell_type": "markdown",
   "metadata": {},
   "source": [
    "# References\n",
    "- Linked Lists, [Here](https://runestone.academy/ns/books/published//pythonds3/BasicDS/Lists.html)\n",
    "- The Ordered List Abstract Data Type¶, [Here](https://runestone.academy/ns/books/published//pythonds3/BasicDS/TheOrderedListAbstractDataType.html)"
   ]
  },
  {
   "cell_type": "markdown",
   "metadata": {},
   "source": [
    "------\n",
    "먼저 알 것은 성경의 모든 예언은 사사로이 풀 것이 아니니 예언은 언제든지 사람의 뜻으로 낸 것이 아니요 오직 성령의 감동하심을 받은 사람들이 하나님께 받아 말한 것임이라 (벧후1:20-21)"
   ]
  }
 ],
 "metadata": {
  "kernelspec": {
   "display_name": "Python 3 (ipykernel)",
   "language": "python",
   "name": "python3"
  },
  "language_info": {
   "codemirror_mode": {
    "name": "ipython",
    "version": 3
   },
   "file_extension": ".py",
   "mimetype": "text/x-python",
   "name": "python",
   "nbconvert_exporter": "python",
   "pygments_lexer": "ipython3",
   "version": "3.9.12"
  }
 },
 "nbformat": 4,
 "nbformat_minor": 4
}
