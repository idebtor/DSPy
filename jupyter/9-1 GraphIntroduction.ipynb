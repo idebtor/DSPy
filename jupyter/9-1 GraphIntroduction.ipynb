{
 "cells": [
  {
   "cell_type": "markdown",
   "metadata": {},
   "source": [
    "사랑하는 자들아 우리가 서로 사랑하자 사랑은 하나님께 속한 것이니 사랑하는 자마다 하나님으로부터 나서 하나님을 알고\n",
    "사랑하지 아니하는 자는 하나님을 알지 못하나니 이는 하나님은 사랑이심이라 (요일4:7-8)\n",
    "\n",
    "-------\n",
    "<center><img src=\"https://github.com/idebtor/DSpy/blob/6b3676c3de29f85d2e7f30679676d1fd96d88b17/images/WelcomeToDataStructures.jpg?raw=true\" width=1000></center>\n",
    "\n",
    "__NOTE:__ The following materials have been compiled and adapted from the numerous sources including my own. Please help me to keep this tutorial up-to-date by reporting any issues or questions. Send any comments or criticisms to `idebtor@gmail.com` Your assistances and comments will be appreciated.\n",
    "\n",
    "--------"
   ]
  },
  {
   "cell_type": "markdown",
   "metadata": {},
   "source": [
    "<b style=\"font-size:30px\">  Chapter 9.1 그래프(Graph Introduction) </b>\n",
    "\n",
    ": 다양한 문제에 사용되는 그래프(Graph)와 그래프 알고리즘에 대해 배웁니다  \n",
    "\n",
    "--------------\n",
    "제 9장에서는 트리보다 더 일반적으로 많이 사용되는 그래프(Graph)와 그래프 알고리즘에 대해 배웁니다. 이번 강의를 통하여서 어떤 문제들에서 그래프를 사용할 수 있는지, 그리고 그래프란 무엇인지 등에 대해 알아봅시다."
   ]
  },
  {
   "cell_type": "markdown",
   "metadata": {},
   "source": [
    "```\n",
    "1. Graph Introduction\n",
    "1.1. Objectives  \n",
    "1.2. 다양한 용어 정리  \n",
    "1.3. 그래프 추상자료형 (Graph ADT)  \n",
    "1.4. 인접행렬 (Adjacency Matrix)  \n",
    "1.5. 인접리스트 (Adjacency List)  \n",
    "1.6. Graph Model 구현하기(1)\n",
    "1.7. 인접행렬 구하기\n",
    "1.8. 인접리스트 구현하기\n",
    "\n",
    "2. Yet Another Graph Model 구현하기(2)\n",
    "2.1. Graph ADT\n",
    "2.2. Graph 생성방법\n",
    "2.3. Graph Implementation and Test\n",
    "```"
   ]
  },
  {
   "cell_type": "markdown",
   "metadata": {},
   "source": [
    "# Graph Introduction\n",
    "\n",
    "## Objectives"
   ]
  },
  {
   "cell_type": "markdown",
   "metadata": {},
   "source": [
    "* 그래프(Graph)가 무엇인지, 어떤 상황에서 사용되는지 안다.\n",
    "* 그래프 추상자료형을 구현할 수 있다.\n",
    "* 그래프가 다양한 문제에 적용될 수 있다는 것을 안다."
   ]
  },
  {
   "cell_type": "markdown",
   "metadata": {},
   "source": [
    "__그래프(Graph)__ 는 이전 강의에서 배운 트리보다 더 광범위하고 일반적인 구조를 갖습니다. 트리를 그래프의 특별한 종류의 하나로 볼 수 있습니다. 그래프를 실생활의 예시로 살펴본다면, 도로 시스템, 비행기가 다니는 항로, 인터넷이 연결된 구조 등은 모두 그래프로서 나타낼 수 있는 예시들입니다. 예를 들면, CS(Computer Science)전공 과목의 선수과목 체제도 그래프를 사용하여 나타낼 수 있습니다. 이번 챕터에서는 얼핏 어려워보이는 문제를 보기좋게 표현해보면, 기존 그래프 알고리즘들로 간단하게 풀 수 있다는 것을 알아볼 것입니다."
   ]
  },
  {
   "cell_type": "markdown",
   "metadata": {},
   "source": [
    "비록 사람은 로드맵을 보며 각 항목의 관계를 이해하는 것이 쉽지만, 컴퓨터는 이를 이해할 수 있는 직관이 없습니다. 하지만, 로드맵을 그래프로서 나타내고 이해한다면 달라집니다. 그래프는 컴퓨터가 다양한 것들을 할 수 있게 만들어 줍니다. 예를 들어 인터넷 지도 사이트에서 두 장소를 입력한다면, 컴퓨터는 가장 빠른길, 짧은 길, 쉬운 길 등을 제시해주게 되는 것을 경험해보았을 것입니다."
   ]
  },
  {
   "cell_type": "markdown",
   "metadata": {},
   "source": [
    "또한, 매학기 수업을 듣기 위하여 어떤 과목에 대한 선수과목이 무엇이 있는지 등을 찾아본 경험이 있었을 것입니다. 이러한 정보는 그래프로서 나타내면 각 수업간의 의존관계 등을 쉽게 이해할 수 있습니다. \n",
    "\n",
    "그림 1은 어느 학교의 CS를 전공하기 위해 수강해야 하는 과목들 중에 일부를 그래프로 나타낸 것입니다."
   ]
  },
  {
   "cell_type": "markdown",
   "metadata": {},
   "source": [
    "<center> <img src=\"https://github.com/idebtor/DSpy/blob/main/images/chap8/graph_example.png?raw=true\" width=\"60%\" title=\"Figure 1. Prerequisites for a Computer Science Major\"> <center><br>\n",
    "<center>그림 1. 컴퓨터공학 전공의 선수과목 예<center><br>"
   ]
  },
  {
   "cell_type": "markdown",
   "metadata": {},
   "source": [
    "## 다양한 용어 정리\n",
    ": 그래프에 관련된 다양한 용어를 이해하고 배웁니다."
   ]
  },
  {
   "cell_type": "markdown",
   "metadata": {},
   "source": [
    "이제 그래프에 공식적으로 사용되는 다양한 용어와 구성 요소들을 살펴보겠습니다. 몇가지는 트리에서 보았던 용어들과 같을 것입니다."
   ]
  },
  {
   "cell_type": "markdown",
   "metadata": {},
   "source": [
    "__Vertex__  \n",
    "_Vertex_ (혹은 _Node_) 는 그래프의 기본 구성요소입니다. 이는 \"key\" 라고 불리는 이름을 가질 수 있으며, \"payload\" 라고 불리는 추가 정보를 담을 수 있습니다."
   ]
  },
  {
   "cell_type": "markdown",
   "metadata": {},
   "source": [
    "__Edge__  \n",
    "_Edge_ (혹은 _arc_) 는 그래프의 또다른 기본 구성요소입니다. 하나의 edge는 두 vertex를 연결시켜서 그 둘의 관계를 표현합니다. 따라서 edge는 단일방향(one-way), 양방향(two-way)으로 이루어질 수 있으며, 모든 edge가 단일방향으로 이루어진 그래프는 __directed graph__ 혹은 __digraph__ 라고 부릅니다. 앞서 사용한 전공 선수과목 예제는 digraph의 예가 될 것입니다."
   ]
  },
  {
   "cell_type": "markdown",
   "metadata": {},
   "source": [
    "__Weight__  \n",
    "Edge들은 모두 _Weight(가중치)_ 를 가질 수 있습니다. 이는 한 vertex에서 다른 vertex로 움직일때 필요한 비용을 나타냅니다. 예를 들어, 한 도시에서 다른 도시로 이어지는 도로를 그래프로 나타낸다면, 그 도로의 weight는 두 도시의 거리가 될 수 있습니다."
   ]
  },
  {
   "cell_type": "markdown",
   "metadata": {},
   "source": [
    "이러한 용어들이 친숙해진다면 이제 그래프를 정의할 수 있습니다. 그래프는 흔히 $G$로 표현하며, 이때 $G$는 $G = (V,E)$를 만족합니다. V는 vertex의 집합을 의미하고, E는 edge의 집합을 의미합니다. 각 Edge는 $(v,w)$와 같은 튜플로 나타내며, $v,w \\in V $을 만족합니다. 추가적으로 Weight을 나타낼 수 있도록 edge 튜플에 하나의 요소를 더 추가할 수 있습니다. Subgraph $s$는 $e \\subset E $과 $v \\subset V$를 만족하는 edge $e$와 vertex $v$의 집합입니다."
   ]
  },
  {
   "cell_type": "markdown",
   "metadata": {},
   "source": [
    "그림 2는 가중치를 더한 digraph (weighted digraph)의 예입니다. 공식적으로 이 그래프는 6개의 vertex의 집합과 9개의 edge 집합으로 나타낼 수 있습니다."
   ]
  },
  {
   "cell_type": "markdown",
   "metadata": {},
   "source": [
    "<center> <img src=\"https://github.com/idebtor/DSpy/blob/main/images/chap8/directed_graph_example.png?raw=true\" width=\"40%\" title=\"Figure 2. A Simple Example of a Directed Graph\"> <center><br>\n",
    "<center>그림 2. Directed Graph의 쉬운 예시<center><br>"
   ]
  },
  {
   "cell_type": "markdown",
   "metadata": {},
   "source": [
    "$ V = \\{V0, V1, V2, V3, V4, V5\\} $  \n",
    "\n",
    "$ E = \\{(v0,v1,5),(v1,v2,4),(v2,v3,9),(v3,v4,7),(v4,v0,1),(v0,v5,2),(v5,v4,8),(v3,v5,3),(v5,v2,1)\\} $"
   ]
  },
  {
   "cell_type": "markdown",
   "metadata": {},
   "source": [
    "그림 2에서 우리는 그래프의 다른 두개의 용어를 더 살펴볼 수 있습니다.  \n",
    "\n",
    "__Path__  \n",
    "__Path__ 는 그래프 내의 vertex들이 edge에 의해 연결된 sequence를 나타냅니다. 일반적으로 path는 $ (w_{i}, w_{i+1})\\in E, 1 \\leq i \\leq n-1 $을 만족하는 $ w_1, w_2, ..., w_n $으로 나타냅니다. Weight가 없는 path의 길이는 단순히 path내에 있는 edge의 수 입니다. 그림 2를 예로 들면, $V3 $에서 $V1$로 가는 path는 vertex sequence $(V3,V4,V0,V1)$, edge는 ${(v3,v4,7),(v4,v0,1),(v0,v1,5)}$"
   ]
  },
  {
   "cell_type": "markdown",
   "metadata": {},
   "source": [
    "__Cycle__  \n",
    "Directed Graph에서의 _Cycle_ 은 path의 시작과 끝이 같은 vertex에서 이루어지는 것을 의미합니다. 예를 들어, 그림 2에서 path $(V5,V2,V3,V5)$은 cycle입니다. 그래프에서 cycle이 하나도 없을 경우, 그 그래프는 __acyclic graph__ 라고 합니다. 또한, directed graph에서 cycle이 없을 경우 __directed acyclic graph__ 혹은 __DAG__ 라고 부릅니다. DAG는 많은 문제해결에서의 큰 단서를 제공하는 역할을 하기 때문에 그 개념을 정확히 이해하고 기억해주시길 바랍니다."
   ]
  },
  {
   "cell_type": "markdown",
   "metadata": {},
   "source": [
    "## 그래프(Graph) - 추상자료형\n",
    ": 그래프 추상자료형에서 사용되는 다양한 연산과 함수에 대해 살펴봅니다."
   ]
  },
  {
   "cell_type": "markdown",
   "metadata": {},
   "source": [
    "그래프 추상자료형은 다음과 같이 정의됩니다."
   ]
  },
  {
   "cell_type": "markdown",
   "metadata": {},
   "source": [
    "* `Graph()`: 새로운 비어있는 그래프를 생성합니다.\n",
    "* `addVertex(vert)`: 그래프에 `Vertex`의 인자를 추가합니다.\n",
    "* `addEdge(fromVert, toVert)`: 그래프에 두 vertex를 잇는 새로운 Directed edge를 추가합니다.\n",
    "* `addEdge(fromVert, toVert, weight)`: 그래프에 새로운 weighted directed edge를 추가합니다.\n",
    "* `getVertex(vertKey)`: 그래프에서 `vertKey`라는 vertex를 찾아 반환합니다.\n",
    "* `getVertices()`: 그래프 내의 모든 vertex의 리스트를 반환합니다.\n",
    "* `in`: 그래프 내에 해당 vertex가 있다면 True, 그렇지 않으면 False를 반환합니다. `vertex in graph`와 같이 사용합니다."
   ]
  },
  {
   "cell_type": "markdown",
   "metadata": {},
   "source": [
    "파이썬으로 그래프 추상자료형을 구현하는 방법은 다양하게 존재합니다. 그 중 가장 유명한 두가지의 구현 방법으로는, __adjacency matrix(인접행렬)__ 를 사용하는 방법과 __adjacency list(인접리스트)__ 를 사용하는 방법이 있습니다. 먼저 각 방법을 살펴보고 하나를 선택하여 파이썬으로 구현해보도록 하겠습니다."
   ]
  },
  {
   "cell_type": "markdown",
   "metadata": {},
   "source": [
    "## 인접행렬 (Adjacency Matrix)\n",
    ": 인접행렬이란 무엇인지 살펴봅니다."
   ]
  },
  {
   "cell_type": "markdown",
   "metadata": {},
   "source": [
    "그래프를 가장 쉽게 구현하는 방법 중 하나는 __이차원 행렬__ 을 사용하는 것입니다. 이차원 행렬로 구현할 경우, 각 행과 열은 그래프의 vertex를 나타내게 됩니다. 행$v$와 열$w$의 교차 지점의 셀(cell)에 저장된 값은 vertex $v$ 에서 vertex $w$로 잇는 edge가 존재함을 나타냅니다. 이때, 두 vertex가 edge로 이어져 있을 때, 이를 __인접(adjacent)__ 하다고 합니다. 그림 3은 그림 2의 그래프를 인접행렬로 나타낸 것입니다. 각 셀(cell)에 저장된 값은 각 edge의 weight를 나타냅니다."
   ]
  },
  {
   "cell_type": "markdown",
   "metadata": {},
   "source": [
    "<table><tr>\n",
    "<td> <img src=\"https://github.com/idebtor/DSpy/blob/main/images/chap8/directed_graph_example.png?raw=true\" width=\"400\"> </td>\n",
    "<td><img src=\"https://github.com/idebtor/DSpy/blob/main/images/chap8/graph_adjacency_matrix.png?raw=true\" width=\"400\"/> </td> \n",
    "</tr></table>\n",
    "<center>그림 3. Directed Graph와 그의 인접행렬 표현<center><br>"
   ]
  },
  {
   "cell_type": "markdown",
   "metadata": {},
   "source": [
    "인접행렬의 장점은 간편하고, 작은 그래프의 경우 노드 간의 연결 상태를 보기 쉽다는 점이 있습니다. 하지만, 행렬의 대부분의 셀이 비어있는 것을 알 수 있습니다. 이렇듯 행렬의 대부분이 비어있는 경우, 행렬이 _\"sparse\"_ 하다고 합니다. 이렇게 sparse한 행렬은 데이터를 저장하기에 매우 비효율적입니다."
   ]
  },
  {
   "cell_type": "markdown",
   "metadata": {},
   "source": [
    "따라서 인접행렬은 edge의 숫자가 많을 경우에 그래프를 표현하기 좋습니다. 하지만 정확히 얼마나 많은 edge가 있어야 좋다고 할 수 있을까요? 행렬에 모든 edge를 채우기 위해선 $|V|^2$개의 edge가 필요합니다. 행렬을 가득 채우기 위해선 모든 vertex들이 서로다른 vertex들과 연결되어있어야 하고, 실생활에서 이런 식의 연결성을 갖는 문제들이 적지만 존재합니다. 하지만 우선, 이번 강의에서는 sparse하게 연결된 그래프를 살펴보도록 하겠습니다."
   ]
  },
  {
   "cell_type": "markdown",
   "metadata": {},
   "source": [
    "## 인접리스트 (Adjacency List)\n",
    ": 인접리스트란 무엇인지 살펴봅니다."
   ]
  },
  {
   "cell_type": "markdown",
   "metadata": {},
   "source": [
    "Sparse하게 연결된 그래프를 공간/메모리 차원에서 더 효율적으로 구현하려면 __인접리스트(Adjacency List)__ 를 사용하면 됩니다. 인접리스트에서는 그래프 객체에 담긴 모든 vertex를 가진 마스터 리스트(master list)를 갖게됩니다. 마스터 리스트에 저장된 각 vertex들은, 각자에게 연결되어 있는 vertex들을 저장하고있게 됩니다.  \n",
    "\n",
    "그래프를 우선 인접 리스트를 파일(`tiny.txt`)로 만들어 보면 다음과 같이 표현할 수 있습니다. \n",
    "여섯 개의 vertex와 9개의 edge가 있는 그래프이며, 각 줄의 세 숫자는 from vertex, to vertex, weight를 나타냅니다. \n",
    "\n",
    "```\n",
    "0 5 2 \n",
    "1 2 4\n",
    "2 3 9\n",
    "3 5 3\n",
    "0 1 5\n",
    "3 4 7\n",
    "4 0 1\n",
    "5 2 1\n",
    "5 4 8\n",
    "```\n",
    "\n",
    "코드로는 우리가 구현할 `Vertex` 클래스에서는 리스트를 사용하는 대신 딕셔너리를 사용하고, 딕셔녀리의 키값은 vertex, 실제 값은 weight로 저장하도록 하겠습니다. 그림 4는 그림 2에 대한 인접리스트를 나타낸 것입니다."
   ]
  },
  {
   "cell_type": "markdown",
   "metadata": {},
   "source": [
    "<table><tr>\n",
    "<td> <img src=\"https://github.com/idebtor/DSpy/blob/main/images/chap8/directed_graph_example.png?raw=true\" width=\"400\"> </td>\n",
    "<td> <img src=\"https://github.com/idebtor/DSpy/blob/main/images/chap8/graph_adjacency_list.png?raw=true\" width=\"400\"> </td>\n",
    "</table></tr>\n",
    "<center>그림 4. Directed Graph와 그의 인접리스트 표현</center><br>"
   ]
  },
  {
   "cell_type": "markdown",
   "metadata": {},
   "source": [
    "인접리스트의 장점으로는 더 밀도있게 sparse한 그래프를 표현할 수 있다는 점과 하나의 vertex에 연결된 모든 링크의 정보를 쉽게 파악할 수 있다는 점이 있습니다.  "
   ]
  },
  {
   "cell_type": "markdown",
   "metadata": {},
   "source": [
    "## Graph Model 구현하기(1)\n",
    "\n",
    "파이썬에서 딕셔너리를 사용하면 인접 리스트를 구현하기 매우 용이합니다. 그래프 추상자료형을 구현하기 위해서 우리는 두개의 클래스를 구현할 것입니다. `Graph` 클래스는 vertex들의 리스트를 갖는 마스터 리스트를 다루며, `Vertex` 클래스는 그래프의 각 vertex를 나타냅니다(코드 1,2 참고)."
   ]
  },
  {
   "cell_type": "markdown",
   "metadata": {},
   "source": [
    "각 `Vertex` 객체는 `connectedTo`라는 딕셔너리를 사용하여 각자가 연결되어있는 vertex와 edge의 weight를 저장합니다. 코드 1은 `Vertex` 클래스를 구현한 코드입니다. 생성자는 단순히 문자열을 받아 `id`를 초기화시키고, `connectedTo`는 딕셔너리로 초기화 시켜줍니다. `addNeighbor()` 메서드는 한 vertex에서 다른 vertex로의 연결을 추가하기 위해 사용되고, `getConnections()` 메서드는 인접 리스트의 모든 vertex를 반환해줍니다. 또한 `getWeight()` 메서드는 해당 vertex에서 다음으로 가는 edge의 weight를 반환해줍니다."
   ]
  },
  {
   "cell_type": "code",
   "execution_count": 6,
   "metadata": {},
   "outputs": [],
   "source": [
    "# 코드 1\n",
    "class Vertex:\n",
    "    def __init__(self,key):\n",
    "        self.id = key\n",
    "        self.connectedTo = {}\n",
    "\n",
    "    def addNeighbor(self, nbr, weight = 0):\n",
    "        self.connectedTo[nbr] = weight\n",
    "\n",
    "    def __str__(self):\n",
    "        return str(self.id) + ' connectedTo: ' + str([x.id for x in self.connectedTo])\n",
    "\n",
    "    def getConnections(self):\n",
    "        return self.connectedTo.keys()\n",
    "\n",
    "    def getId(self):\n",
    "        return self.id\n",
    "\n",
    "    def getWeight(self,nbr):\n",
    "        return self.connectedTo[nbr]"
   ]
  },
  {
   "cell_type": "markdown",
   "metadata": {},
   "source": [
    "`Graph` 클래스는 코드 2에 나타나있으며, 각 vertex의 이름과 객체를 잇는 딕셔너리를 가지고 있습니다. 그림 4에서 이 딕셔너리의 객체는 회색 박스로 표시되어 있습니다. 또한, `Graph` 클래스는 그래프에 vertex를 더하고, 다른 vertex들과 연결할 수 있는 메서드를 제공합니다. `getVertices` 메서드는 그래프에 있는 모든 vertex들의 이름을 반환해줍니다. 또한 `__iter__` 메서드는 특정 그래프 내에서 vertex 객체를 반복(iterate)하는 것을 쉽게 만들어줍니다. 이 두 메서드를 사용하면 그래프 내의 vertex의 이름 혹은 객체 자체로 반복 작업을 할 수 있습니다."
   ]
  },
  {
   "cell_type": "code",
   "execution_count": 15,
   "metadata": {},
   "outputs": [],
   "source": [
    "# 코드 2\n",
    "class Graph:\n",
    "    def __init__(self):\n",
    "        self.vertList = {}\n",
    "        self.numVertices = 0\n",
    "\n",
    "    def addVertex(self, key):\n",
    "        self.numVertices = self.numVertices + 1\n",
    "        newVertex = Vertex(key)\n",
    "        self.vertList[key] = newVertex\n",
    "        return newVertex\n",
    "\n",
    "    def getVertex(self, n):\n",
    "        if n in self.vertList:\n",
    "            return self.vertList[n]\n",
    "        else:\n",
    "            return None\n",
    "\n",
    "    def __contains__(self, n):\n",
    "        return n in self.vertList\n",
    "\n",
    "    def addEdge(self, fr, to, weight = 0):\n",
    "        if fr not in self.vertList:\n",
    "            nv = self.addVertex(fr)\n",
    "        if to not in self.vertList:\n",
    "            nv = self.addVertex(to)\n",
    "        self.vertList[fr].addNeighbor(self.vertList[to], weight)\n",
    "\n",
    "    def getVertices(self):\n",
    "        return self.vertList.keys()\n",
    "\n",
    "    def __iter__(self):\n",
    "        return iter(self.vertList.values())"
   ]
  },
  {
   "cell_type": "markdown",
   "metadata": {},
   "source": [
    "이렇게 정의한 `Graph`와 `Vertex` 클래스를 사용하여 그림 2에 보인 그래프를 표현해봅시다. 먼저 0부터 5까지 6개의 vertex를 생성하고, 각 vertex의 딕셔너리를 출력하여 확인해봅니다. 이제, 생성된 `Vertex` 객체들을 잇는 edge를 추가하고 반복문을 통하여 해당 vertex와 edge 정보가 잘 저장되었는지 확인해봅시다. 이 결과는 그림 2와 비교해보며 확인하면 좋을 것 같습니다."
   ]
  },
  {
   "cell_type": "code",
   "execution_count": 16,
   "metadata": {},
   "outputs": [],
   "source": [
    "g = Graph()\n",
    "for i in range(6):\n",
    "    g.addVertex(i)\n",
    "    \n",
    "print(g.vertList.keys())\n",
    "print([k for k, v in g.vertList.items()])"
   ]
  },
  {
   "cell_type": "code",
   "execution_count": 17,
   "metadata": {},
   "outputs": [],
   "source": [
    "\n",
    "g.addEdge(0,1,5)\n",
    "g.addEdge(0,5,2)\n",
    "g.addEdge(1,2,4)\n",
    "g.addEdge(2,3,9)\n",
    "g.addEdge(3,4,7)\n",
    "g.addEdge(3,5,3)\n",
    "g.addEdge(4,0,1)\n",
    "g.addEdge(5,4,8)\n",
    "g.addEdge(5,2,1)\n",
    "\n",
    "for v in g:\n",
    "    print('vertex', v)\n",
    "    for w in v.getConnections():\n",
    "        print(\"(%s, %s)\" % (v.getId(), w.getId()))\n"
   ]
  },
  {
   "cell_type": "markdown",
   "metadata": {},
   "source": [
    "## 인접행렬 구하기\n",
    "\n",
    "아래 주어진 그래프에 대해 인접행렬를 나타내보세요."
   ]
  },
  {
   "cell_type": "markdown",
   "metadata": {},
   "source": [
    "<center> <img src=\"https://github.com/idebtor/DSpy/blob/main/images/chap8/graph_exercise_example.png?raw=true\" width=\"40%\" title=\"Question 1. Graph\"> </center><br>\n",
    "\n",
    "<center>Question 1. 그래프</center><br> "
   ]
  },
  {
   "cell_type": "markdown",
   "metadata": {},
   "source": [
    "__Sample Answer:__\n",
    "\n",
    "<center> <img src=\"https://github.com/idebtor/DSpy/blob/main/images/chap8/graph_exercise_answer.png?raw=true\" width=\"40%\"> </center><br>\n",
    "<center>Sample Answer</center><br>"
   ]
  },
  {
   "cell_type": "markdown",
   "metadata": {},
   "source": [
    "## 인접리스트 구현하기\n",
    "\n",
    "위에 주어진 그래프(Question 1. 그래프)를 인접리스트로 표현하려고 합니다. 우리는 이를 `Vertex`와 `Graph` 클래스를 구현하여 표현할 수 있었습니다. 이때, `Vertex` 클래스에서 인접 vertex를 표현하기 위하여 딕셔너리를 사용하였고, `Graph` 클래스 역시 그래프 내의 vertex와 그 객체를 딕셔너리를 통하여 저장하고 있습니다. 이번에는 각 vertex의 이름이 0으로 시작하는 정수로 명명되었다고 가정하고 리스트로 변형하여 구현해보세요."
   ]
  },
  {
   "cell_type": "code",
   "execution_count": 18,
   "metadata": {},
   "outputs": [],
   "source": [
    "# Modify the following code\n",
    "\n",
    "class Vertex:\n",
    "    def __init__(self,key):\n",
    "        self.id = key\n",
    "        self.connectedTo = {}\n",
    "\n",
    "    def addNeighbor(self, nbr, weight = 0):\n",
    "        self.connectedTo[nbr] = weight\n",
    "\n",
    "    def __str__(self):\n",
    "        return str(self.id) + ' connectedTo: ' + str([x.id for x in self.connectedTo])\n",
    "\n",
    "    def getConnections(self):\n",
    "        return self.connectedTo.keys()\n",
    "\n",
    "    def getId(self):\n",
    "        return self.id\n",
    "\n",
    "    def getWeight(self,nbr):\n",
    "        return self.connectedTo[nbr]"
   ]
  },
  {
   "cell_type": "code",
   "execution_count": 19,
   "metadata": {},
   "outputs": [],
   "source": [
    "# Modify the following code\n",
    "\n",
    "class Graph:\n",
    "    def __init__(self):\n",
    "        self.vertList = {}\n",
    "        self.numVertices = 0\n",
    "\n",
    "    def addVertex(self, key):\n",
    "        self.numVertices = self.numVertices + 1\n",
    "        newVertex = Vertex(key)\n",
    "        self.vertList[key] = newVertex\n",
    "        return newVertex\n",
    "\n",
    "    def getVertex(self, n):\n",
    "        if n in self.vertList:\n",
    "            return self.vertList[n]\n",
    "        else:\n",
    "            return None\n",
    "\n",
    "    def __contains__(self,n):\n",
    "        return n in self.vertList\n",
    "       \n",
    "    def addEdge(self, fr, to, weight = 0):\n",
    "        if fr not in self.vertList:\n",
    "            nv = self.addVertex(fr)\n",
    "        if to not in self.vertList:\n",
    "            nv = self.addVertex(to)\n",
    "        self.vertList[fr].addNeighbor(self.vertList[to], weight)\n",
    "\n",
    "    def getVertices(self):\n",
    "        return self.vertList.keys()\n",
    "\n",
    "    def __iter__(self):\n",
    "        return iter(self.vertList.values())"
   ]
  },
  {
   "cell_type": "code",
   "execution_count": 20,
   "metadata": {},
   "outputs": [],
   "source": [
    "g = Graph()\n",
    "for i in range(6):\n",
    "    g.addVertex(i)\n",
    "print(g.vertList)"
   ]
  },
  {
   "cell_type": "code",
   "execution_count": 22,
   "metadata": {},
   "outputs": [],
   "source": [
    "g.addEdge(0,1,5)\n",
    "g.addEdge(0,5,2)\n",
    "g.addEdge(1,2,4)\n",
    "g.addEdge(2,3,9)\n",
    "g.addEdge(3,4,7)\n",
    "g.addEdge(3,5,3)\n",
    "g.addEdge(4,0,1)\n",
    "g.addEdge(5,4,8)\n",
    "g.addEdge(5,2,1)\n",
    "\n",
    "for v in g:\n",
    "    for w in v.getConnections():\n",
    "        print(\"(%s, %s)\" % (v.getId(), w.getId()))\n",
    "    print(v.connectedTo)"
   ]
  },
  {
   "cell_type": "markdown",
   "metadata": {},
   "source": [
    "__SAMPLE ANSWER__"
   ]
  },
  {
   "cell_type": "code",
   "execution_count": 2,
   "metadata": {},
   "outputs": [],
   "source": [
    "class Vertex:\n",
    "    def __init__(self,key):\n",
    "        self.id = key\n",
    "        self.connectedTo = []\n",
    "        self.weights = []\n",
    "\n",
    "    def addNeighbor(self,nbr,weight=0):\n",
    "        self.connectedTo.append(nbr)\n",
    "        self.weights.append(weight)\n",
    "\n",
    "    def __str__(self):\n",
    "        return str(self.id) + ' connectedTo: ' + str([x for x in sorted(self.connectedTo)])\n",
    "\n",
    "    def getConnections(self):\n",
    "        return sorted(self.connectedTo)\n",
    "\n",
    "    def getId(self):\n",
    "        return self.id\n",
    "\n",
    "    def getWeight(self,nbr):\n",
    "        return self.weights[self.connectedTo.index(nbr)]"
   ]
  },
  {
   "cell_type": "code",
   "execution_count": 3,
   "metadata": {},
   "outputs": [],
   "source": [
    "class Graph:\n",
    "    def __init__(self):\n",
    "        self.vertList = []\n",
    "        self.numVertices = 0\n",
    "\n",
    "    def addVertex(self,key):\n",
    "        self.numVertices = self.numVertices + 1\n",
    "        newVertex = Vertex(key)\n",
    "        self.vertList.append(newVertex)\n",
    "        return newVertex\n",
    "\n",
    "    def getVertex(self,n):\n",
    "        if self.findVertex(n)[1]:\n",
    "            return self.vertList[n]\n",
    "        else:\n",
    "            return None\n",
    "\n",
    "    def __contains__(self,n):\n",
    "        return n in self.vertList\n",
    "    \n",
    "    def findVertex(self,n):\n",
    "        indx = 0\n",
    "        for v in self.vertList:\n",
    "            if n == v.id:\n",
    "                return True, indx\n",
    "            indx += 1\n",
    "        return False, -1\n",
    "\n",
    "    def addEdge(self, f, t, weight=0):\n",
    "        if not self.findVertex(f)[0]:\n",
    "            print(\"{} not found\".format(f))\n",
    "            nv = self.addVertex(f)\n",
    "        if not self.findVertex(t)[0]:\n",
    "            print(\"{} not found\".format(t))\n",
    "            nv = self.addVertex(t)\n",
    "        self.vertList[self.findVertex(f)[1]].addNeighbor(t, weight)\n",
    "\n",
    "    def getVertices(self):\n",
    "        return self.vertList\n",
    "\n",
    "    def __iter__(self):\n",
    "        return iter(self.vertList)"
   ]
  },
  {
   "cell_type": "code",
   "execution_count": 4,
   "metadata": {},
   "outputs": [
    {
     "name": "stdout",
     "output_type": "stream",
     "text": [
      "Initial Status:\n",
      "[0, 1, 2, 3, 4, 5]\n",
      "\n",
      "( 0 , 1 , 5 )\n",
      "( 0 , 5 , 2 )\n",
      "0: [1, 5]\n",
      "\n",
      "( 1 , 2 , 4 )\n",
      "1: [2]\n",
      "\n",
      "( 2 , 3 , 9 )\n",
      "2: [3]\n",
      "\n",
      "( 3 , 4 , 7 )\n",
      "( 3 , 5 , 3 )\n",
      "3: [4, 5]\n",
      "\n",
      "( 4 , 0 , 1 )\n",
      "4: [0]\n",
      "\n",
      "( 5 , 2 , 1 )\n",
      "( 5 , 4 , 8 )\n",
      "5: [4, 2]\n",
      "\n",
      "number of vertices: 6\n"
     ]
    }
   ],
   "source": [
    "g = Graph()\n",
    "for i in range(6):\n",
    "    g.addVertex(i)\n",
    "print(\"Initial Status:\")\n",
    "print([v.id for v in g.vertList])\n",
    "print()\n",
    "\n",
    "g.addEdge(0,1,5)\n",
    "g.addEdge(0,5,2)\n",
    "g.addEdge(1,2,4)\n",
    "g.addEdge(2,3,9)\n",
    "g.addEdge(3,4,7)\n",
    "g.addEdge(3,5,3)\n",
    "g.addEdge(4,0,1)\n",
    "g.addEdge(5,4,8)\n",
    "g.addEdge(5,2,1)\n",
    "\n",
    "for v in g:\n",
    "    for to in v.getConnections():\n",
    "        print(\"( %s , %s , %s )\" % (v.getId(), to, v.getWeight(to)))\n",
    "    print(str(v.id)+\": \"+str(v.connectedTo)+\"\\n\")\n",
    "    \n",
    "print('number of vertices:', g.numVertices)"
   ]
  },
  {
   "cell_type": "markdown",
   "metadata": {},
   "source": [
    "# Yet Another Graph Model 구현하기(2) \n",
    "\n",
    "__\"파이썬으로 배우는 데이터 구조\" 강의는 이 그래프 모델로 진행합니다.__\n",
    "\n",
    "위의 Graph Model에서는 vertex 객체를 graph 클래스의 멤버로 갖는 구조로 구현하였으며, 각 vertex의 생성 순서에 따른 배열의 index를 vertex의 id로 사용하였습니다. 그래프를 생성할 때 vertex의 갯수를 설정할 수 있습니다. 그런데, 이러한 그래프 모델은 고유한 이름을 가진 vertex를 가진 graph를 많이 사용하는 실용적인 그래프 모델로는 추가적인 작업이 따르게 됩니다. \n",
    "\n",
    "그러므로, 여기서는 vertex 클래스를 별도로 정의하지 않고, edge들의 리스트를 graph자체로 정의하는 방법으로 그래프 모델을 단순화하였습니다. \n",
    "- 고유한 이름을 가진 두 개의 vertices를 edge로 정의하고, 다룰 수 있는 그래프 모델을 정의합니다. \n",
    "- 인접 리스트(adjacency list)를 그래프 객체 자체에 저장하여, 좀 더 쉽게 다양한 그래프 연산에 사용하도록 합니다.  \n",
    "- 생성자 메소드에 edge list 파일을 입력하는 옵션을 사용하면, addEdge()메소드를 여러 번 호출하지 않아도 됩니다. \n",
    "- 다만, 작업을 단순화하기 위해 가중치(weight)부분을 생략했습니다. "
   ]
  },
  {
   "cell_type": "markdown",
   "metadata": {},
   "source": [
    "## 그래프 추상자료형(ADT)\n",
    "여기서 정의한 ADT는 다음과 같습니다. \n",
    "\n",
    "<center> <img src=\"https://github.com/idebtor/DSpy/blob/bb8be0636a96d658d251c6138958a39d0217c182/images/chap8/graphADT.png?raw=true\" width=\"80%\" title=\"Graph Model ADT\"> </center><br>\n",
    "<center>Graph Model ADT</center><br>"
   ]
  },
  {
   "cell_type": "markdown",
   "metadata": {
    "tags": []
   },
   "source": [
    "## 그래프 생성 방법\n",
    "\n",
    "예를 들면, 다음과 같은 그래프를 두 가지 방법으로 생성할 수 있습니다. \n",
    "\n",
    "- edge list 파일을 입력하는 방법\n",
    "- addEdge() 메소드를 호출하는 방법\n",
    "\n",
    "<center> <img src=\"https://github.com/idebtor/DSpy/blob/d43fcc28c41200e1d48aa5d0d2456ed436b71a20/images/chap8/route5.png?raw=true\" width=\"50%\" title=\"Graph Example: route5\"> </center><br>\n",
    "<center>Graph Example: route5</center><br>\n",
    "\n",
    "\n",
    "### edge list 파일을 입력하는 방법\n",
    "아래와 같이 edge list 파일을 생성하고, 그래프 생성자를 호출할 때 파일 이름을 인자로 넘겨줍니다. \n",
    "```\n",
    "    g = Graph(\"routes.txt\")\n",
    "```"
   ]
  },
  {
   "cell_type": "code",
   "execution_count": 8,
   "metadata": {
    "tags": []
   },
   "outputs": [
    {
     "name": "stdout",
     "output_type": "stream",
     "text": [
      "Overwriting route5.txt\n"
     ]
    }
   ],
   "source": [
    "%%writefile route5.txt\n",
    "ATL ICN\n",
    "ATL JFK\n",
    "ICN JFK\n",
    "LAX ICN\n",
    "ATL LAX\n",
    "ORD ATL\n",
    "ORD LAX"
   ]
  },
  {
   "cell_type": "markdown",
   "metadata": {},
   "source": [
    "### addEdge() 메소드를 호출하는 방법\n",
    "아래와 같이 각 edge에 대해 addEdge() 메소드를 호출합니다. \n",
    "```\n",
    "g = Graph()\n",
    "g.addEdge('ATL', 'ICN')\n",
    "g.addEdge('ATL', 'JFK')\n",
    "g.addEdge('ICN', 'JFK')\n",
    "g.addEdge('LAX', 'ICN')\n",
    "g.addEdge('ATL', 'LAX')\n",
    "g.addEdge('ORD', 'ATL')\n",
    "g.addEdge('ORD', 'LAX')\n",
    "```"
   ]
  },
  {
   "cell_type": "markdown",
   "metadata": {},
   "source": [
    "## 그래프 구현과 테스트"
   ]
  },
  {
   "cell_type": "code",
   "execution_count": 1,
   "metadata": {
    "tags": []
   },
   "outputs": [
    {
     "name": "stdout",
     "output_type": "stream",
     "text": [
      "Overwriting graph.py\n"
     ]
    }
   ],
   "source": [
    "#%%writefile graph.py\n",
    "class Graph:\n",
    "    def __init__(self, filename=None, delimiter=None):\n",
    "        self._e = 0\n",
    "        self._adj = dict()\n",
    "        if filename is not None:\n",
    "            with open(filename, 'r') as f:                        \n",
    "                for line in f.read().splitlines():  # read all lines\n",
    "                    names = line.split(delimiter)\n",
    "                    if len(names)>1:                # if two vertex names given(ex: VertexA VertexB)\n",
    "                        for i in range(1, len(names)):\n",
    "                            self.addEdge(names[0], names[1])\n",
    "                    else:                           # if only one vertex name given(ex: VertexA)\n",
    "                        self._adj[names[0]] = set()\n",
    "                    \n",
    "    \n",
    "    def __str__(self):                                   # string representation of graph\n",
    "        s = ''\n",
    "        for v in self.vertices(): \n",
    "            s += v + ': ' + ' '.join([w for w in self.neighbors(v)]) + '\\n'\n",
    "        return s \n",
    "    \n",
    "    def addEdge(self, v, w):                             # add edges v-w and w-v to graph\n",
    "        if not self.hasVertex(v): self._adj[v] = list()  # use set() for O(1), random order \n",
    "        if not self.hasVertex(w): self._adj[w] = list()  # use list() for O(n), orderly\n",
    "        if not self.hasEdge(v, w):\n",
    "            self._e += 1\n",
    "            self._adj[v].append(w)\n",
    "            self._adj[w].append(v)\n",
    "            \n",
    "    def neighbors(self, v):   return iter(self._adj[v])  # iterable for neighbors of v \n",
    "    def vertices(self):       return iter(self._adj)     # iterable for the vertices of graph\n",
    "    def hasVertex(self, v):   return v in self._adj      # is v a vertex in graph\n",
    "    def hasEdge(self, v, w):  return w in self._adj[v]   # is v-w and edge in graph\n",
    "    def countV(self):         return len(self._adj)      # the number of vertices in graph\n",
    "    def countE(self):         return self._e             # the number of edges in graph \n",
    "    def degree(self, v):      return len(self._adj[v])   # the number of neighbors of v"
   ]
  },
  {
   "cell_type": "markdown",
   "metadata": {
    "tags": []
   },
   "source": [
    "# Summary\n",
    "\n",
    "이번 강의를 통해 그래프란 무엇인지, 그리고 이를 구현하는 방법에 대해 배웠습니다. 자칫 두개의 클래스가 밀접하게 연결되어있어 흐름을 따라가기 힘들 수 있으나, 그림을 옆에 두고 천천히 코드를 따라가며 복습해보시길 바랍니다.  \n",
    "\n",
    "__용어 정리 (추가 용어 포함)__\n",
    "* __path__ : 두 vertex간의 edge로서 연결된 vertex sequence\n",
    "* __length of a path__ : Path 내의 edge 수\n",
    "* __simple path__ : Path 상의 모든 vertex가 고유한 Path (처음과 끝 제외)\n",
    "* __cycle__ : 처음과 끝이 동일 vertex인 simple path\n",
    "* __connected__ : 두 vertex간에 path가 존재한다\n",
    "* __adjacent__ : 두 vertex간에 edge가 존재한다\n",
    "* __degree of a vertex__ : 해당 vertex에 연결된 edge의 수"
   ]
  },
  {
   "cell_type": "markdown",
   "metadata": {},
   "source": [
    "# Exercises\n",
    "\n",
    "## route5.txt 그래프 생성하고 테스트 하기\n",
    "\n",
    "위의 두 번째 그래프 모델에서 사용한 route5.txt를 사용하여 다음과 같은 결과물이 나올 수 있도록 그래프 생성과 테스트 코드를 작성하십시오. \n",
    "\n",
    "\n",
    "__Expected Output:__ \n",
    "```\n",
    "no. of vertices: 5\n",
    "no. of edges: 7\n",
    "vertices: ['ATL', 'ICN', 'JFK', 'LAX', 'ORD']\n",
    "degree of ATL: 4\n",
    "neighbors of ATL: ['ICN', 'JFK', 'LAX', 'ORD']\n",
    "graph:\n",
    "ATL: ICN JFK LAX ORD\n",
    "ICN: ATL JFK LAX\n",
    "JFK: ATL ICN\n",
    "LAX: ICN ATL ORD\n",
    "ORD: ATL LAX\n",
    "\n",
    "adjacency list:\n",
    " {'ATL': ['ICN', 'JFK', 'LAX', 'ORD'], 'ICN': ['ATL', 'JFK', 'LAX'], 'JFK': ['ATL', 'ICN'], 'LAX': ['ICN', 'ATL', 'ORD'], 'ORD': ['ATL', 'LAX']}\n",
    "```\n",
    "\n",
    "__Solution:__"
   ]
  },
  {
   "cell_type": "code",
   "execution_count": null,
   "metadata": {},
   "outputs": [],
   "source": [
    "if __name__ == \"__main__\": \n",
    "    g = Graph(\"routes.txt\")\n",
    "    s = 'ATL'\n",
    "    # your code here"
   ]
  },
  {
   "cell_type": "markdown",
   "metadata": {},
   "source": [
    "# 참고자료\n",
    "- Problem Solving with Algorithms and Data Structures using Python, [Here](https://runestone.academy/runestone/books/published/pythonds3/Introduction/WhyStudyDataStructuresandAbstractDataTypes.html)\n",
    "- Python-추상적 자료형(ADT)과 자료 구조(Data Structure), [Here](https://ybdata-sci.tistory.com/16)\n"
   ]
  },
  {
   "cell_type": "code",
   "execution_count": null,
   "metadata": {},
   "outputs": [],
   "source": [
    "%%writefile route4.txt\n",
    "LAX ORD \n",
    "LAX ATL\n",
    "ORD ATL\n",
    "ATL LAX \n",
    "ATL JFK\n",
    "JFK JFK"
   ]
  },
  {
   "cell_type": "code",
   "execution_count": null,
   "metadata": {},
   "outputs": [],
   "source": [
    "%%writefile digraph.py\n",
    "from graph import Graph\n",
    "\n",
    "class Digraph(Graph):    \n",
    "    def addEdge(self, v, w):                             # add edges v-w for digraph\n",
    "        if not self.hasVertex(v): self._adj[v] = list()  # use set() for O(1), random order \n",
    "        if not self.hasVertex(w): self._adj[w] = list()  # use list() for O(n), orderly\n",
    "        if not self.hasEdge(v, w):                       # list() for O(n), orderly access\n",
    "            self._e += 1\n",
    "            self._adj[v].append(w)                       # append() for list, add() for set\n",
    "              \n",
    "    #def outNeighbors(self, v):                            # iterable for outgoing vertices\n",
    "    #    return super().neighbors(v)\n",
    "    \n",
    "    def inNeighbors(self, v):                            # iterable for incoming vertices\n",
    "        return iter([fr for (fr, to) in self._adj.items() if v in to])\n",
    "    \n",
    "    #def outDegree(self, v):\n",
    "        #return super().degree(v)\n",
    "    \n",
    "    def inDegree(self, v):\n",
    "        return len([fr for (fr, to) in self._adj.items() if v in to])\n",
    "\n",
    "if __name__ == '__main__':\n",
    "    g = Digraph()\n",
    "    g.addEdge('LAX', 'ORD')\n",
    "    g.addEdge('LAX', 'ATL')\n",
    "    g.addEdge('ORD', 'ATL')\n",
    "    g.addEdge('ATL', 'LAX')\n",
    "    g.addEdge('ATL', 'JFK')\n",
    "    g.addEdge('JFK', 'JFK')\n",
    "    \n",
    "    print(g)\n",
    "    dfs = DFS(g, 'ATL')        # starting at ATL\n",
    "    print(dfs._path)           # ATL LAX ORD JFK\n",
    "    \n",
    "    for v in g.vertices():\n",
    "        print(f'{v}  inDegree {g.inDegree(v)} from:', [w for w in g.inNeighbors(v)])\n",
    "        print(f'{v} outDegree {g.degree(v)}   to:', [w for w in g.neighbors(v)])"
   ]
  },
  {
   "cell_type": "code",
   "execution_count": null,
   "metadata": {
    "tags": []
   },
   "outputs": [],
   "source": [
    "%%writefile bfs.py\n",
    "from collections import deque\n",
    "# from graph import Graph\n",
    "\n",
    "class BFS:\n",
    "    def __init__(self, graph, s):\n",
    "        self._distTo = dict()\n",
    "        self._prevTo = dict()\n",
    "        self._distTo[s] = 0\n",
    "        self._prevTo[s] = None\n",
    "        self._path = []\n",
    "        \n",
    "        queue = deque()\n",
    "        queue.append(s)\n",
    "        \n",
    "        while queue:\n",
    "            v = queue.popleft()\n",
    "            self._path.append(v)                         # breadth-first traversal\n",
    "            for w in graph.neighbors(v):\n",
    "                if w not in self._distTo:\n",
    "                    queue.append(w)\n",
    "                    self._distTo[w] = 1 + self._distTo[v]\n",
    "                    self._prevTo[w] = v\n",
    "    \n",
    "    def distanceTo(self, v):\n",
    "        return self._distTo[v]\n",
    "    \n",
    "    def hasPathTo(self, v):\n",
    "        return v in self._distTo\n",
    "    \n",
    "    def pathTo(self, v):\n",
    "        path = []\n",
    "        while v is not None:\n",
    "            path += [v]\n",
    "            v = self._prevTo[v]\n",
    "        return reversed(path)\n",
    "    \n",
    "    ########### your code here #########################################\n",
    "    \n",
    "    def source(self):           # returns the first key or source\n",
    "        return next(iter(self._distTo))\n",
    "    \n",
    "    def shortestPaths(self):    # prints all shortest paths from source \n",
    "        s = self.source()\n",
    "        print('Shortest distance & paths from:', s)\n",
    "        for v in self._distTo:\n",
    "            print(self.distanceTo(v), [w for w in self.pathTo(v)])\n",
    "        "
   ]
  },
  {
   "cell_type": "code",
   "execution_count": null,
   "metadata": {},
   "outputs": [],
   "source": [
    "import sys\n",
    "#from graph import Graph\n",
    "#from bfs import BFS\n",
    "\n",
    "g = Graph(\"routes.txt\")\n",
    "print(g)\n",
    "source = \"JFK\"\n",
    "paths = BFS(g, source)\n",
    "\n",
    "print('distTo:')\n",
    "print(paths._distTo)\n",
    "\n",
    "print('prevTo:')\n",
    "print(paths._prevTo)\n",
    "        \n",
    "paths.shortestPaths()"
   ]
  },
  {
   "cell_type": "code",
   "execution_count": null,
   "metadata": {},
   "outputs": [],
   "source": [
    "%%writefile routes.txt\n",
    "JFK MCO\n",
    "ORD DEN\n",
    "ORD HOU\n",
    "DFW PHX\n",
    "JFK ATL\n",
    "JFK ORD\n",
    "ORD DFW\n",
    "ORD PHX\n",
    "ATL HOU\n",
    "DEN PHX\n",
    "ATL ORD\n",
    "ATL MCO\n",
    "DEN LAS\n",
    "HOU MCO\n",
    "PHX LAS\n",
    "LAX PHX\n",
    "LAX LAS\n",
    "HOU DFW"
   ]
  },
  {
   "cell_type": "code",
   "execution_count": null,
   "metadata": {},
   "outputs": [],
   "source": [
    "%%writefile dfs.py\n",
    "from collections import deque\n",
    "#from graph import Graph\n",
    "\n",
    "class DFS:                    # recursive DFS/IDFS algorithm\n",
    "    def __init__(self, graph, s):\n",
    "        self._distTo = dict()\n",
    "        self._path = []\n",
    "        self.dfs(graph, s)\n",
    "    \n",
    "    def dfs(self, graph, v):  # recursive DFS algorithm\n",
    "        if graph.countV() == len(self._path): return\n",
    "        self._path.append(v)\n",
    "        \n",
    "        # Get all adjacent vertices of the popped vertex v\n",
    "        # Go for each vertex not visited yet, recursively.\n",
    "        for w in graph.neighbors(v):\n",
    "            if w not in self._path:\n",
    "                self.dfs(graph, w)\n",
    "              \n",
    "    def hasPathTo(self, v):\n",
    "        return v in self._path\n",
    "    \n",
    "class IDFS(DFS):             # iterative DFS algorithm\n",
    "    def dfs(self, graph, v):\n",
    "        stack = [v]          # use list as a stack\n",
    "        while stack:\n",
    "            v = stack.pop()\n",
    "            if v not in self._path: \n",
    "                self._path.append(v)\n",
    "            \n",
    "            # Get all adjacent vertices of the popped vertex v\n",
    "            # If a neighbor not visited yet, push it to the stack.\n",
    "            for w in graph.neighbors(v):\n",
    "                if w not in self._path:\n",
    "                    stack.append(w)\n",
    "    \n",
    "if __name__ == '__main__':\n",
    "    g = Graph(\"antenna.txt\")   # 0\n",
    "    g = Graph(\"route7.txt\")    # ORD\n",
    "    print(g)\n",
    "\n",
    "    source = \"0\"\n",
    "    source = \"ORD\"\n",
    "    dfs = DFS(g, source)\n",
    "    print(dfs._path)\n",
    "    \n",
    "    idfs = IDFS(g, source)\n",
    "    print(idfs._path)"
   ]
  },
  {
   "cell_type": "code",
   "execution_count": null,
   "metadata": {},
   "outputs": [],
   "source": [
    "%%writefile antenna.txt\n",
    "0  5\n",
    "1  0\n",
    "2  1\n",
    "3  6\n",
    "2  6\n",
    "3  2\n",
    "4  5\n",
    "6  1\n",
    "7  6"
   ]
  },
  {
   "cell_type": "code",
   "execution_count": null,
   "metadata": {},
   "outputs": [],
   "source": [
    "%%writefile route7.txt\n",
    "ORD PHX\n",
    "MCO DFW\n",
    "ORD HOU\n",
    "JFK MCO\n",
    "ORD ATL\n",
    "ORD JFK\n",
    "PHX DFW"
   ]
  },
  {
   "cell_type": "code",
   "execution_count": null,
   "metadata": {},
   "outputs": [],
   "source": [
    "%%writefile abcdefg.txt\n",
    "A B\n",
    "A C\n",
    "A E\n",
    "B D\n",
    "B F\n",
    "C G\n",
    "E F"
   ]
  },
  {
   "cell_type": "code",
   "execution_count": null,
   "metadata": {},
   "outputs": [],
   "source": [
    "if __name__ == '__main__':\n",
    "    g = Graph(\"abcdefg.txt\")   # 0\n",
    "    print(g)\n",
    "    dfs = DFS(g, 'A')\n",
    "    print(dfs._path)\n",
    "    \n",
    "    idfs = IDFS(g, 'A')\n",
    "    print(idfs._path)"
   ]
  },
  {
   "cell_type": "code",
   "execution_count": null,
   "metadata": {},
   "outputs": [],
   "source": [
    "if __name__ == '__main__':\n",
    "    g = Graph(\"abcdefg.txt\")   # 0\n",
    "    print(g)\n",
    "    dfs = DFS(g, 'A')\n",
    "    print(dfs._path)"
   ]
  },
  {
   "cell_type": "code",
   "execution_count": null,
   "metadata": {},
   "outputs": [],
   "source": [
    "%%writefile 1234567.txt\n",
    "1 2\n",
    "1 3 \n",
    "2 4\n",
    "2 5\n",
    "3 5\n",
    "4 6\n",
    "5 6\n",
    "6 7"
   ]
  },
  {
   "cell_type": "code",
   "execution_count": null,
   "metadata": {},
   "outputs": [],
   "source": [
    "if __name__ == '__main__':\n",
    "    g = Digraph(\"1234567.txt\")   # 0\n",
    "    print(g)\n",
    "    dfs = DFS(g, '1')\n",
    "    print('recursive dfs:', dfs._path)\n",
    "    \n",
    "    idfs = IDFS(g, '1')\n",
    "    print('iterative dfs:', idfs._path)\n",
    "    \n",
    "    bfs = BFS(g, '1')\n",
    "    print('bfs:', bfs._path)"
   ]
  },
  {
   "cell_type": "code",
   "execution_count": null,
   "metadata": {},
   "outputs": [],
   "source": [
    "%%writefile one2ten.txt\n",
    "1 2\n",
    "1 3 \n",
    "2 4\n",
    "3 5\n",
    "3 6\n",
    "4 7\n",
    "5 6\n",
    "5 7\n",
    "5 8\n",
    "8 9\n",
    "8 10\n",
    "9 10"
   ]
  },
  {
   "cell_type": "code",
   "execution_count": null,
   "metadata": {},
   "outputs": [],
   "source": [
    "if __name__ == '__main__':\n",
    "    g = Graph(\"one2ten.txt\")   # 0\n",
    "    print(g)\n",
    "    bfs = BFS(g, '1')\n",
    "    print('recursive bfs:', bfs._path)"
   ]
  },
  {
   "cell_type": "markdown",
   "metadata": {},
   "source": [
    "\n",
    "-------\n",
    "사랑하는 자들아 우리가 서로 사랑하자 사랑은 하나님께 속한 것이니 사랑하는 자마다 하나님으로부터 나서 하나님을 알고\n",
    "사랑하지 아니하는 자는 하나님을 알지 못하나니 이는 하나님은 사랑이심이라 (요일4:7-8)\n"
   ]
  }
 ],
 "metadata": {
  "kernelspec": {
   "display_name": "Python 3 (ipykernel)",
   "language": "python",
   "name": "python3"
  },
  "language_info": {
   "codemirror_mode": {
    "name": "ipython",
    "version": 3
   },
   "file_extension": ".py",
   "mimetype": "text/x-python",
   "name": "python",
   "nbconvert_exporter": "python",
   "pygments_lexer": "ipython3",
   "version": "3.8.3"
  },
  "toc-autonumbering": true
 },
 "nbformat": 4,
 "nbformat_minor": 4
}
