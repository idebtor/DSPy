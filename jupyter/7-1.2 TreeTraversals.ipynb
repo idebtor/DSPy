{
 "cells": [
  {
   "cell_type": "markdown",
   "id": "3ae20d3c-0003-4342-bece-721adee00078",
   "metadata": {},
   "source": [
    "네가 만일 네 입으로 예수를 주로 시인하며 또 하나님께서 그를 죽은 자 가운데서 살리신 것을 네 마음에 믿으면 구원을 받으리라 사람이 마음으로 믿어 의에 이르고 입으로 시인하여 구원에 이르느니라 (롬10:9-10)\n",
    "\n",
    "-------\n",
    "<center><img src=\"https://github.com/idebtor/DSpy/blob/6b3676c3de29f85d2e7f30679676d1fd96d88b17/images/WelcomeToDataStructures.jpg?raw=true\" width=1000></center>\n",
    "\n",
    "__NOTE:__ The following materials have been compiled and adapted from the numerous sources including my own. Please help me to keep this tutorial up-to-date by reporting any issues or questions. Send any comments or criticisms to `idebtor@gmail.com` Your assistances and comments will be appreciated.\n",
    "\n",
    "--------"
   ]
  },
  {
   "cell_type": "markdown",
   "id": "92756690-9d6c-4436-a727-ea01654109e2",
   "metadata": {},
   "source": [
    "# 트리 순회 (Tree Traversals)\n",
    ": 트리의 노드를 접근하는 대표적인 3가지의 방법에 대해 배웁니다. "
   ]
  },
  {
   "cell_type": "markdown",
   "id": "94f45ceb-87d4-49d3-aa25-3309970da0a1",
   "metadata": {},
   "source": [
    "트리 구조체의 기본 기능을 배웠으므로, 트리에 대한 몇 가지 추가 사용 패턴을 살펴보겠습니다. 이러한 사용 패턴은 트리의 노드에 접근하는 네 가지 방법으로 나뉠 수 있습니다. 대표적으로 사용되는 네 가지 패턴은 각자 노드를 방문하는 순서가 다릅니다. 이때, 우리는 노드를 '방문'하는 것을 __'순회(Traversal)'__ 라고 합니다. 이러한 네 가지의 순회 방식은 __preorder__, __inorder__, __postorder__, __level order__ 입니다. 먼저 각 방식의 정의를 살펴보고, 예제를 통하여 패턴을 이해해봅시다."
   ]
  },
  {
   "cell_type": "markdown",
   "id": "32bb10ad-5ff3-44d9-8783-65490312b31c",
   "metadata": {},
   "source": [
    "__Preorder__  \n",
    "Preorder traversal는 먼저 root 노드를 방문하고 순차적으로 왼쪽 subtree와 오른쪽 subtree를 회귀적으로 preorder 순회를 진행합니다.\n",
    "\n",
    "__Inorder__  \n",
    "Inorder traversal는 먼저 왼쪽 subtree에 대하여 회귀적으로 inorder 순회를 진행하고 root 노드를 방문한 후 오른쪽 subtree를 회귀적으로 inorder 순회를 진행합니다.\n",
    "\n",
    "__Postorder__  \n",
    "Postorder traversal는 먼저 순차적으로 왼쪽 subtree와 오른쪽 subtree를 회귀적으로 postorder 순회를 진행하고 마지막으로 root 노드를 방문합니다.\n",
    "\n",
    "__Level order__   \n",
    "Level order traversal은 각 level별로 위에서 아래로, 왼쪽에서 오른쪽으로 순회를 진행합니다. "
   ]
  },
  {
   "cell_type": "markdown",
   "id": "2cda0ac7-c594-4981-ad97-7de7c07f0990",
   "metadata": {},
   "source": [
    "이제 각 순회 방식을 예를 통해 이해해봅시다. 먼저 preorder 순회를 알아보겠습니다. 우리가 사용하고 있는 교재를 트리의 예로 들어 살펴보겠습니다. 책(Book)은 트리의 root에 해당할 것이고, 각 챕터는 root의 자식이 될 것입니다. 또한, 여러 소챕터는 그가 속한 챕터의 자식이 되는 식으로 반복될 것입니다. 그림 1은 간단하게 2개의 챕터만 트리로 나타낸 것입니다. 한가지 유의할 점은, 모든 순회 알고리즘은 자식의 갯수와 상관없이 작동할 수 있지만 우리는 일단 간단한 예로 이진트리를 사용하겠습니다."
   ]
  },
  {
   "cell_type": "markdown",
   "id": "aab24671-dc48-4d36-b05e-31e620a7ccb6",
   "metadata": {},
   "source": [
    "<center><img src=\"https://github.com/idebtor/DSpy/blob/main/images/chap6/ch6-12.png?raw=true\" width=\"700\" title=\"Figure 12. Representing a Book as a Tree\">\n",
    "<center>그림 5. 교재를 트리로 나타낸 간단한 예<center><br>"
   ]
  },
  {
   "cell_type": "markdown",
   "id": "a17d4b21-21ac-4a0f-a98c-09f4f546c533",
   "metadata": {},
   "source": [
    "우리가 이 교재를 처음부터 끝까지 읽으려고 한다고 가정해봅시다. Preorder 순회는 정확히 우리가 원하는 순서대로 노드를 순회합니다. Root인 책(Book)노드에서 시작하여 preorder 명령을 순서대로 반복합니다. 왼쪽 자식에 대하여 회귀적으로 `preorder`함수를 호출합니다. 예제의 경우 챕터1이 될 것입니다. 이후 회귀적인 호출로 인하여 Section 1.1로 이동할 것입니다. 이때, Section 1.1은 자식이 없기 때문에 부모 노드인 챕터1 노드로 이동합니다. 이 시점에서 챕터1의 오른쪽 subtree는 아직 순회하지 않았기 때문에 오른쪽 subtree, 즉 Section 1.2를 방문합니다. 이후, Section 1.2는 자식이 있기 때문에 다시 왼쪽 subtree 부터 순회하게 됩니다. 이와 같은 방식으로 반복합니다."
   ]
  },
  {
   "cell_type": "markdown",
   "id": "7cfe43ab-87a0-41aa-83f1-9186a5725ccd",
   "metadata": {},
   "source": [
    "## Preorder Traversal\n",
    "\n",
    "위와 같이 말로 표현하면 다소 복잡해 보일 수 있으나, 회귀 함수인 트리 순회 알고리즘들은 짧고 단순하게 구현할 수 있습니다. 가장 간단한 방식은 이진트리를 파라미터로 받아 외부함수로 구현하는 것입니다. 이는 base case를 단순히 트리가 더이상 있는가만 확인하면 되기 때문에 단순하게 구현할 수 있게 됩니다."
   ]
  },
  {
   "cell_type": "markdown",
   "id": "5f1f1b0b-e532-4a33-a617-055babef405c",
   "metadata": {},
   "source": [
    "<center><img src=\"https://github.com/idebtor/DSpy/blob/7c796933439439eab68b10d8ef0ac63145c24c87/images/chap6/exercise2.png?raw=true\" width=\"300\" title=\"Figure 6. A test tree\">\n",
    "\n",
    "<center>그림 6. 알고리즘 테스트를 위한 트리의 예<center><br>"
   ]
  },
  {
   "cell_type": "code",
   "execution_count": 5,
   "id": "6a7e5405-2d3b-42b1-8fcc-4b9eb81aef87",
   "metadata": {},
   "outputs": [
    {
     "name": "stdout",
     "output_type": "stream",
     "text": [
      "A B D H E C G "
     ]
    }
   ],
   "source": [
    "#목록 9\n",
    "from node import Node\n",
    "\n",
    "def preorder(tree):\n",
    "    if tree:\n",
    "        print(tree.key, end = ' ')\n",
    "        preorder(tree.left)\n",
    "        preorder(tree.right)\n",
    "        \n",
    "if __name__ == '__main__':\n",
    "    root = Node('A')\n",
    "    root.insertLeft('B')\n",
    "    root.insertRight('C')\n",
    "    root.left.insertLeft('D')\n",
    "    root.left.insertRight('E')\n",
    "    root.right.insertRight('G')\n",
    "    root.left.left.insertLeft('H')\n",
    "    preorder(root)"
   ]
  },
  {
   "cell_type": "markdown",
   "id": "b6e19cfe-d479-4979-b069-bff1a66991ae",
   "metadata": {},
   "source": [
    "## Postorder Traversal\n",
    "`postorder` 순회를 위한 코드는 목록 12에 나타나있습니다. 이는 `preorder` 함수와 굉장히 유사하고 명령어들의 위치만 바뀐 것을 알 수 있습니다."
   ]
  },
  {
   "cell_type": "code",
   "execution_count": 6,
   "id": "698ce38d-7aa2-4779-914e-1f0be5e27fa4",
   "metadata": {},
   "outputs": [
    {
     "name": "stdout",
     "output_type": "stream",
     "text": [
      "H\n",
      "D\n",
      "E\n",
      "B\n",
      "G\n",
      "C\n",
      "A\n"
     ]
    }
   ],
   "source": [
    "# 목록 10\n",
    "def postorder(tree):\n",
    "    if tree != None:\n",
    "        postorder(tree.left)\n",
    "        postorder(tree.right)\n",
    "        print(tree.key)\n",
    "        \n",
    "if __name__ == '__main__':\n",
    "    root = Node('A')\n",
    "    root.insertLeft('B')\n",
    "    root.insertRight('C')\n",
    "    root.left.insertLeft('D')\n",
    "    root.left.insertRight('E')\n",
    "    root.right.insertRight('G')\n",
    "    root.left.left.insertLeft('H')\n",
    "    postorder(root)"
   ]
  },
  {
   "cell_type": "markdown",
   "id": "ffca7697-be89-4764-abbb-8d97562c928e",
   "metadata": {},
   "source": [
    "우리는 postorder 순회와 비슷한 것을 이전에 사용한 적이 있습니다. 바로, 파스 트리의 연산을 했을 때 입니다. 목록 8로 다시 돌아가보세요. 파스 트리를 연산하는 알고리즘은, 왼쪽 subtree의 결과를 계산하고 오른쪽 subtree의 결과를 계산한 후 root 노드의 연산자를 사용하여 최종 결과를 도출해냅니다. 그렇다면 파스 트리를 연산하는 함수를 `postorder` 코드와 비슷하게 변형해봅시다.\n",
    "\n",
    "## postorder_eval()"
   ]
  },
  {
   "cell_type": "code",
   "execution_count": null,
   "id": "135843d8-7348-4355-926e-7db69e16149a",
   "metadata": {},
   "outputs": [],
   "source": [
    "# 목록 11\n",
    "def postorder_eval(tree):\n",
    "    opers = {'+':operator.add, '-':operator.sub, '*':operator.mul, '/':operator.truediv}\n",
    "    res1 = None\n",
    "    res2 = None\n",
    "    if tree:\n",
    "        res1 = postorder_eval(tree.left)\n",
    "        res2 = postorder_eval(tree.right)\n",
    "        if res1 and res2:\n",
    "            return opers[tree.key](res1,res2)\n",
    "        else:\n",
    "            return tree.key"
   ]
  },
  {
   "cell_type": "markdown",
   "id": "3ea3eefa-f2fd-4bab-b598-6835220a9e43",
   "metadata": {},
   "source": [
    "함수의 끝에 print 대신 값을 반환한다는 점을 제외하면 목록 10과 11의 형식이 비슷하다는 점을 유의깊게 보세요. 이는, 회귀 호출로 얻은 결과 값을 저장하여 이후 연산자와 사용될 수 있도록 합니다."
   ]
  },
  {
   "cell_type": "markdown",
   "id": "54772a10-51b8-436b-a018-64d1e347e339",
   "metadata": {},
   "source": [
    "## Inorder Traversal\n",
    "\n",
    "마지막으로 관찰해볼 순회 방식은 inorder 순회입니다. Inorder 순회는 왼쪽 subtree, root, 오른쪽 subtree 순서로 진행됩니다. 목록 12는 inorder 순회의 파이썬 코드를 나타낸 것입니다. 유의할 점은, 각 순회 방식의 구현은 굉장히 유사하고 `print`문의 위치만 바뀐다는 점입니다."
   ]
  },
  {
   "cell_type": "code",
   "execution_count": null,
   "id": "1fa66317-4a48-4282-a95a-22ebc3a8b08f",
   "metadata": {},
   "outputs": [],
   "source": [
    "# 목록 12\n",
    "def inorder(tree):\n",
    "    if tree != None:\n",
    "        inorder(tree.left)\n",
    "        print(tree.key)\n",
    "        inorder(tree.right)"
   ]
  },
  {
   "cell_type": "markdown",
   "id": "8e93f7c8-9e91-45ad-b036-de6808368a58",
   "metadata": {},
   "source": [
    "만약 이대로 inorder 함수를 호출하게 된다면, 우리는 괄호가 전혀 없이 입력 수식과 동일한 결과를 얻게됩니다. 따라서 fully parenthesized 수식을 그대로 반환할 수 있도록 수정해보도록 하겠습니다. 우리가 수정해야하는 부분은 단순히 출력문의 탬플릿의 차이이기 때문에, 왼쪽 subtree 호출 전에 여는 괄호를, 오른쪽 subtree 호출 후에 닫는 괄호를 추가해주면 됩니다. 수정된 코드는 목록 13에 나타나있습니다."
   ]
  },
  {
   "cell_type": "code",
   "execution_count": null,
   "id": "a5a3e3ef-f51a-449b-a992-1e45c9762139",
   "metadata": {},
   "outputs": [],
   "source": [
    "# 목록 13\n",
    "def inorder_exp(tree):\n",
    "    exp = ''\n",
    "    if tree:\n",
    "        exp = '( ' + inorder_exp(tree.left)\n",
    "        print(tree.key)\n",
    "        exp += str(tree.key)\n",
    "        exp += inorder_exp(tree.right) + ' )'\n",
    "    return exp\n",
    "\n",
    "if __name__ == '__main__':\n",
    "    pt = buildParseTree(\"( ( 10 + 5 ) * 3 )\")\n",
    "    print(evaluate(pt))\n",
    "    print(inorder_exp(pt))"
   ]
  },
  {
   "cell_type": "markdown",
   "id": "de470799-8359-45e4-8705-678618a346df",
   "metadata": {},
   "source": [
    "__Note:__  Level order로 트리를 순회하는 방법은 코딩 연습 문제로 남겨 두었습니다."
   ]
  },
  {
   "cell_type": "markdown",
   "id": "754e55c2-1521-48e6-b8d8-edb704026ea3",
   "metadata": {},
   "source": [
    "## Level order Traversal - $O(n^2)$\n",
    "\n",
    "전위(preorder), 중위(inorder), 후위(postoder) 순회가 깊이 우선탐색 방법을 이용한다고 하면,  Level Order순회 방식은 너비 우선탐색을 하여 Level 1부터 트리의 높이만큼 preorder traversal 방법을 적용하여 구현할 수 있습니다. 이와 같이 간단하게 구현하는 알고리즘의 시간복잡도 $O(n^2)$입니다.  Level order traversal의 시간복잡도가 $O(n)$인 알고리즘은 연습문제로 진행합니다. \n",
    "\n",
    "<center><img src=\"https://github.com/idebtor/DSpy/blob/f19918d49080efe285ab7a4c0b5ade7ba28f2f87/images/chap6/exercise3.png?raw=true\" width=\"400\" title=\"Figure 6. A test tree\">"
   ]
  },
  {
   "cell_type": "markdown",
   "id": "52979261-ec07-493b-9ad7-68245de9e318",
   "metadata": {},
   "source": [
    "__Sample Run:__\n",
    "```\n",
    "levelorder_print(root)\n",
    "```\n",
    "\n",
    "__Expected Output:__\n",
    "```\n",
    "A \n",
    "B C \n",
    "D E G \n",
    "H\n",
    "```"
   ]
  },
  {
   "cell_type": "markdown",
   "id": "e876cc09-a7bf-472a-9af6-1285b6ff2a3c",
   "metadata": {},
   "source": [
    "__Step 1:__\n",
    "\n",
    "먼저 재귀를 사용하여 주어진 트리의 특정한 한 level에 있는 모든 노드를 출력하는 함수`printlevel(node, level)`를 작성합니다. 이 함수는 주어진 `level` 노드가 존재하면 True를 반환하고, 아니면 False를 반환하도록 합니다. \n",
    "\n",
    "__Sample Run:__\n",
    "```\n",
    "if __name__ == '__main__':\n",
    "    print(printlevel(root, 1))\n",
    "    print(printlevel(root, 2))\n",
    "    print(printlevel(root, 3))\n",
    "    print(printlevel(root, 5))\n",
    "```\n",
    "\n",
    "__Expected Output:__\n",
    "```\n",
    "A True\n",
    "B C True\n",
    "D E G True\n",
    "False\n",
    "```"
   ]
  },
  {
   "cell_type": "code",
   "execution_count": null,
   "id": "8c164708-7bb4-4d98-99b5-9399a06a869d",
   "metadata": {},
   "outputs": [],
   "source": [
    "from node import Node\n",
    "\n",
    "# print all nodes of a given level from left to right\n",
    "def printlevel(node, level):\n",
    "    if node is None:              # base case\n",
    "        return False\n",
    " \n",
    "    if level == 1:\n",
    "        print(node.key, end=' ')\n",
    "        return True               # return true if at least one node is present at a given level\n",
    " \n",
    "    left  = printlevel(node.left, level - 1)\n",
    "    right = printlevel(node.right, level - 1)\n",
    "    return left or right\n",
    "\n",
    "if __name__ == '__main__':\n",
    "    root = Node('A')\n",
    "    root.insertLeft('B')\n",
    "    root.insertRight('C')\n",
    "    root.left.insertLeft('D')\n",
    "    root.left.insertRight('E')\n",
    "    root.right.insertRight('G')\n",
    "    root.left.left.insertLeft('H')\n",
    "    \n",
    "    print(printlevel(root, 1))\n",
    "    print(printlevel(root, 2))\n",
    "    print(printlevel(root, 3))\n",
    "    print(printlevel(root, 5))"
   ]
  },
  {
   "cell_type": "markdown",
   "id": "41000579-f085-4160-8a38-39ffca0540be",
   "metadata": {},
   "source": [
    "__Step 2:__ \n",
    "\n",
    "이제 level를 1부터 시작하여, 매번 호출할 때마다 level를 증가하며, `printlevel()`함수가 False를 반환할 때까지 연속적으로 호출합니다. 코드는 다음과 같습니다. "
   ]
  },
  {
   "cell_type": "code",
   "execution_count": null,
   "id": "c6446a24-7a1a-4de0-9683-5737b4755bb8",
   "metadata": {},
   "outputs": [],
   "source": [
    "# print level order traversal of a given binary tree\n",
    "def levelorder_print(node):\n",
    "    level = 1                         # start from level 1 — till the height of the tree\n",
    "    while printlevel(node, level):    # run till printLevel() returns false\n",
    "        level = level + 1\n",
    "        print()\n",
    "\n",
    "if __name__ == '__main__':    \n",
    "    levelorder_print(root)"
   ]
  },
  {
   "cell_type": "markdown",
   "id": "57ff125d-fcc0-462b-a57c-70827e98301c",
   "metadata": {},
   "source": [
    "# Problem Based Learning"
   ]
  },
  {
   "cell_type": "markdown",
   "id": "06a7afb5-c9a1-41fd-9696-dc4e2af4c3a2",
   "metadata": {},
   "source": [
    "## Level order Traversal - $O(n^2)$\n",
    "\n",
    "위에서 설명한 Level order traversal - $O(n^2)$ 알고리즘을 다음과 같이 각 Level로 리스트로 나누어 반환하도록 수정하십시오. \n",
    "\n",
    "__Sample Run:__\n",
    "```\n",
    "if __name__ == '__main__':\n",
    "    root = Node('A')\n",
    "    root.insertLeft('B')\n",
    "    root.insertRight('C')\n",
    "    root.left.insertLeft('D')\n",
    "    root.left.insertRight('E')\n",
    "    root.right.insertRight('G')\n",
    "    root.left.left.insertLeft('H')\n",
    "    \n",
    "    print(levelorder(root))             # tree\n",
    "    print(levelorder(root.left))        # left subtree\n",
    "    print(levelorder(root.right))       # right subtree\n",
    "```\n",
    "\n",
    "__Expected Output:__\n",
    "```\n",
    "[['A'], ['B', 'C'], ['D', 'E', 'G'], ['H']]\n",
    "[['B'], ['D', 'E'], ['H']]\n",
    "[['C'], ['G']]\n",
    "```"
   ]
  },
  {
   "cell_type": "code",
   "execution_count": null,
   "id": "ad124616-b786-4686-a9b4-60a97b133dbf",
   "metadata": {},
   "outputs": [],
   "source": [
    "from node import Node\n",
    "\n",
    "# levelorder() helper function for recursion \n",
    "def _levelorder(node, level, nodes):  \n",
    "    if node is None: return False\n",
    "    if level == 1:\n",
    "        # your code here\n",
    "        return True      # if at-least one node is present\n",
    "  \n",
    "    left  = _levelorder(node.left, level - 1, nodes)\n",
    "    right = _levelorder(node.right, level - 1, nodes)\n",
    "    return left or right\n",
    "\n",
    "# level order traversal of a tree recursively. O(n^2)\n",
    "def levelorder(node):\n",
    "    if node == None: return\n",
    "\n",
    "    level = 1\n",
    "    exp, nodes = [], []\n",
    "    while _levelorder(node, level, nodes): \n",
    "        # your code here\n",
    "\n",
    "    return exp\n",
    "\n",
    "if __name__ == '__main__':\n",
    "    root = Node('A')\n",
    "    root.insertLeft('B')\n",
    "    root.insertRight('C')\n",
    "    root.left.insertLeft('D')\n",
    "    root.left.insertRight('E')\n",
    "    root.right.insertRight('G')\n",
    "    root.left.left.insertLeft('H')\n",
    "    \n",
    "    print(levelorder(root))\n",
    "    print(levelorder(root.left))        # left subtree\n",
    "    print(levelorder(root.right))       # right subtree"
   ]
  },
  {
   "cell_type": "markdown",
   "id": "03460f6e-1d5a-4138-854c-7ac86f3519bb",
   "metadata": {},
   "source": [
    "## Level order Traversal - $O(n)$\n",
    "\n",
    "전위(preorder), 중위(inorder), 후위(postoder) 순회가 깊이 우선탐색 방법을 이용한다고 하면,  Level Order순회 방식은 너비 우선탐색을 하여 Level별로 노드를 반환합니다. \n",
    "\n",
    "아래 알고리즘은 트리를 한번만 순회하므로, 시간복잡도 O(n)입니다. 큐 리스트를 사용하므로 주어진 노드의 높이만큼 공간을 필요로 합니다.  \n",
    "\n",
    "__알고리즘:__   \n",
    "1. queue 리스트에 루트 노트를 추가합니다. (list를 일종의 queue로 사용함)\n",
    "1. result 결과 리스트를 초기화 합니다. \n",
    "1. queue가 empty가 될때까지 반복\n",
    "    1. node_que = `[]` (다음 반복에서 처리할 하위 노드들을 저장함) \n",
    "    1. 큐에 있는 노드들에 대해 반복 (처음에는 root node임)\n",
    "        1. node의 키를 result 결과에 저장함\n",
    "        2. node의 left가 있으면, 그 자식을 node_que에 추가함\n",
    "        3. node의 right가 있으면, 그 자식을 node_que에 추가함\n",
    "    1. node_que를 queue로 설정하고 반복함\n",
    "1. result 결과를 반환함"
   ]
  },
  {
   "cell_type": "markdown",
   "id": "97ebcd5e-67f3-4c88-b52f-fc70be49e180",
   "metadata": {},
   "source": [
    "### Step 1: \n",
    "\n",
    "이진 트리의 모든 노드들을 level order로 순회하여 하나의 리스트로 반환하도록 하십시오. \n",
    "\n",
    "<center><img src=\"https://github.com/idebtor/DSpy/blob/f19918d49080efe285ab7a4c0b5ade7ba28f2f87/images/chap6/exercise3.png?raw=true\" width=\"500\" title=\"Figure 6. A test tree\">"
   ]
  },
  {
   "cell_type": "markdown",
   "id": "f6cbec22-b1b3-46e6-8cb5-92b022c0501d",
   "metadata": {},
   "source": [
    "__Sample Run:__\n",
    "```\n",
    "if __name__ == '__main__':\n",
    "    root = Node('A')\n",
    "    root.insertLeft('B')\n",
    "    root.insertRight('C')\n",
    "    root.left.insertLeft('D')\n",
    "    root.left.insertRight('E')\n",
    "    root.right.insertRight('G')\n",
    "    root.left.left.insertLeft('H')\n",
    "    print(levelorder(root))\n",
    "    print(levelorder(root.left))\n",
    "```\n",
    "\n",
    "__Expected Output:__\n",
    "```\n",
    "['A', 'B', 'C', 'D', 'E', 'G', 'H']\n",
    "['B', 'D', 'E', 'H']\n",
    "```"
   ]
  },
  {
   "cell_type": "code",
   "execution_count": null,
   "id": "5585a3ca-4fc1-45ee-94a4-a76b9f67cb0b",
   "metadata": {},
   "outputs": [],
   "source": [
    "from node import Node\n",
    "\n",
    "def levelorder(node):\n",
    "    queue = [node]\n",
    "    result = []\n",
    "\n",
    "    while len(queue) > 0:\n",
    "        node_que = []\n",
    "        for node in queue:\n",
    "            # your code here\n",
    "        queue = node_que\n",
    "    return result\n",
    "\n",
    "if __name__ == '__main__':\n",
    "    root = Node('A')\n",
    "    root.insertLeft('B')\n",
    "    root.insertRight('C')\n",
    "    root.left.insertLeft('D')\n",
    "    root.left.insertRight('E')\n",
    "    root.right.insertRight('G')\n",
    "    root.left.left.insertLeft('H')\n",
    "    print(levelorder(root))\n",
    "    print(levelorder(root.left))"
   ]
  },
  {
   "cell_type": "markdown",
   "id": "687764a6-2042-44c9-9811-eded682991a2",
   "metadata": {},
   "source": [
    "### Step 2: \n",
    "\n",
    "이진 트리의 모든 노드를 level order로 순회하되, None leaf 노드를 포함하여 리스트의 리스트로 반환하십시오. \n",
    "\n",
    "__Sample Run:__\n",
    "```\n",
    "    levels = levelorder(root)\n",
    "    print(levels)\n",
    "    print()\n",
    "    for level in levels:\n",
    "        print(level)\n",
    "```\n",
    "__Expected Output:__\n",
    "```\n",
    "[['A'], ['B', 'C'], ['D', 'E', None, 'G'], ['H', None, None, None, None, None], [None, None]]\n",
    "\n",
    "['A']\n",
    "['B', 'C']\n",
    "['D', 'E', None, 'G']\n",
    "['H', None, None, None, None, None]\n",
    "[None, None]\n",
    "```"
   ]
  },
  {
   "cell_type": "code",
   "execution_count": null,
   "id": "029ffc72-8165-43bd-86a8-6bdf674d6c9e",
   "metadata": {},
   "outputs": [],
   "source": [
    "def levelorder(node):\n",
    "    queue = [node]\n",
    "    result = []\n",
    "\n",
    "    while len(queue) > 0:\n",
    "        node_que = []\n",
    "        node_key = []\n",
    "        for node in queue:\n",
    "            # your code here\n",
    "        \n",
    "        result.append(node_key)\n",
    "        queue = node_que\n",
    "    return result\n",
    "        \n",
    "if __name__ == '__main__':\n",
    "    root = Node('A')\n",
    "    root.insertLeft('B')\n",
    "    root.insertRight('C')\n",
    "    root.left.insertLeft('D')\n",
    "    root.left.insertRight('E')\n",
    "    root.right.insertRight('G')\n",
    "    root.left.left.insertLeft('H')\n",
    "    \n",
    "    levels = levelorder(root)\n",
    "    print(levels)\n",
    "    print()\n",
    "    for level in levels:\n",
    "        print(level)"
   ]
  },
  {
   "cell_type": "markdown",
   "id": "5af1d491-61bb-4786-b57f-a4830ace69af",
   "metadata": {},
   "source": [
    "### Step 3: Level order를 사용한 Serialization(직렬화)  - Optional, +1.0p \n",
    "\n",
    "\n",
    "이진 트리의 모든 노드를 level order로 순회하되, None 노드를 포함한 하나의 리스트로 반환하는 `serialize()`함수를 구현하십시오. 다만, 두 개의 None으로 구성된 leaves들은 제외합니다.  \n",
    "\n",
    "이러한 이진 트리 표현 방식, 예를 들면, `[1,null,2,3]` 표현 방식은 LeetCode를 비롯하여 다양한 분야에서 사용하고 있으며, 직렬화 형식(serialized format)이라고 부릅니다. 특히 이러한 형식은 상위 노드가 None이고, 왼쪽과 오른쪽 노드가 동시에 None이면, 리스트에 포함하지 않는 좀 더 간결한(compact) 형식입니다. 직렬화는 트리를 파일이나 디스크에 저장하기 위한 데이터 형식이며, 이를 다시 역직렬화하여 트리 객체를 복구할 수 있습니다. 여기서 None, Null, 혹은 #로 표기된 노드는 그 하위 노드가 존재하지 않는다는 것을 뜻합니다. 여기서 우리는 None을 사용하기로 합니다. \n",
    "\n",
    "또한 dspy에 제공된 `dspy.binarytree`모듈의 `build2`를 import하여, 역직렬화하여 tree를 생성하고 시각화해볼 수 있습니다. 이를 이용하기 위해서는 `graphviz` 모듈을 설치해야 합니다. 다음과 같이 할 수 있습니다. \n",
    "\n",
    "```\n",
    "pip install graphviz\n",
    "```\n",
    "\n",
    "다음과 같은 예를 살펴보십시오. "
   ]
  },
  {
   "cell_type": "markdown",
   "id": "b96476d8-e312-4533-a17b-f82e0062e346",
   "metadata": {},
   "source": [
    "__Sample Run and Expected Output:__ \n",
    "```\n",
    "[1, 2, 3]\n",
    "\n",
    "     1\n",
    "   /  \\\n",
    "  2    3\n",
    "  \n",
    "[1, None, 2, 3, None] instead of [1, None, 2, None, None, 3, None]\n",
    "  \n",
    "    1\n",
    "     \\\n",
    "      2\n",
    "    /\n",
    "   3\n",
    "   \n",
    "[5, 4, 7, 3, None, 2, None, -1, None, 9, None]\n",
    "\n",
    "            5\n",
    "          /  \\\n",
    "         4   7\n",
    "       /    /\n",
    "     3    2\n",
    "    /    /\n",
    "  -1    9\n",
    "\n",
    "[2, 5, None, 6, 3, None, None, 1, 4, 9]\n",
    "\n",
    "    2\n",
    "   /\n",
    "  5__\n",
    " /   \\\n",
    "6     3\n",
    "     / \\\n",
    "    1   4\n",
    "   /\n",
    "  9\n",
    "```"
   ]
  },
  {
   "cell_type": "code",
   "execution_count": null,
   "id": "bdacf86c-b224-4857-88d0-710df74de884",
   "metadata": {},
   "outputs": [],
   "source": [
    "from node import Node\n",
    "from dspy.binarytree import build2\n",
    "\n",
    "def serialize(node):\n",
    "    queue = [node]\n",
    "    keys = []\n",
    "\n",
    "    while len(queue) > 0:\n",
    "        # your code here\n",
    "        \n",
    "    return keys\n",
    "        \n",
    "if __name__ == '__main__':\n",
    "    root =  Node(1)\n",
    "    root.insertRight(2)\n",
    "    root.right.insertLeft(3)\n",
    "    levels = serialize(root)\n",
    "    print(levels)\n",
    "    print(build2(levels))\n",
    "    \n",
    "    # add your test cases "
   ]
  },
  {
   "cell_type": "markdown",
   "id": "b30c5ae6-136a-4061-8acc-c730fb72de22",
   "metadata": {},
   "source": [
    "- pip install graphviz 설치 후에도 계속해서 binary_tree 모듈 설치에 관하여 문제가 발생하면, dspy/binarytree/__init__.py 파일에 있는 line# 22-32줄 코드를 전체 주석처리하고 테스트해본다. \n",
    "\n",
    "```\n",
    "from binarytree.exceptions import (\n",
    "    NodeIndexError,\n",
    "    NodeModifyError,\n",
    "    NodeNotFoundError,\n",
    "    NodeReferenceError,\n",
    "    NodeTypeError,\n",
    "    NodeValueError,\n",
    "    TreeHeightError,\n",
    ")\n",
    "\n",
    "__version__ = get_distribution(\"binarytree\").version\n",
    "```"
   ]
  },
  {
   "cell_type": "markdown",
   "id": "59470623-a1d8-4e70-b34f-6f8e0a7191b9",
   "metadata": {},
   "source": [
    "# References\n",
    "- Problem Solving with Algorithms and Data Structures using Python, [Here](https://runestone.academy/runestone/books/published/pythonds3/Introduction/WhyStudyDataStructuresandAbstractDataTypes.html)\n",
    "    - 트리 순회 알고리즘 [Here](https://gingerkang.tistory.com/87)"
   ]
  },
  {
   "cell_type": "markdown",
   "id": "0264cb46-63a3-4e71-bab5-f2cff04006d8",
   "metadata": {},
   "source": [
    "- Home: https://github.com/joowani/binarytree\n",
    "- Documentation: http://binarytree.readthedocs.io\n",
    "- https://binarytree.readthedocs.io/en/main/"
   ]
  },
  {
   "cell_type": "markdown",
   "id": "b890fbf9-b5b0-4890-96f0-e5374d68cefe",
   "metadata": {},
   "source": [
    "------\n",
    "네가 만일 네 입으로 예수를 주로 시인하며 또 하나님께서 그를 죽은 자 가운데서 살리신 것을 네 마음에 믿으면 구원을 받으리라 사람이 마음으로 믿어 의에 이르고 입으로 시인하여 구원에 이르느니라 (롬10:9-10)"
   ]
  }
 ],
 "metadata": {
  "kernelspec": {
   "display_name": "Python 3 (ipykernel)",
   "language": "python",
   "name": "python3"
  },
  "language_info": {
   "codemirror_mode": {
    "name": "ipython",
    "version": 3
   },
   "file_extension": ".py",
   "mimetype": "text/x-python",
   "name": "python",
   "nbconvert_exporter": "python",
   "pygments_lexer": "ipython3",
   "version": "3.9.12"
  }
 },
 "nbformat": 4,
 "nbformat_minor": 5
}
