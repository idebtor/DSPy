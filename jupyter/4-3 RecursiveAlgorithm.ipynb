{
 "cells": [
  {
   "cell_type": "markdown",
   "metadata": {},
   "source": [
    "하나님이 세상을 이처럼 사랑하사 독생자를 주셨으니 이는 그를 믿는 자마다 멸망하지 않고 영생을 얻게 하려 하심이라 (요3:16)\n",
    "\n",
    "-------\n",
    "<img src=\"https://github.com/idebtor/DSpy/blob/6b3676c3de29f85d2e7f30679676d1fd96d88b17/images/WelcomeToDataStructures.jpg?raw=true\" width=1000>\n",
    "\n",
    "__NOTE:__ The following materials have been compiled and adapted from the numerous sources including my own. Please help me to keep this tutorial up-to-date by reporting any issues or questions. Send any comments or criticisms to `idebtor@gmail.com` Your assistances and comments will be appreciated.\n",
    "\n",
    "--------"
   ]
  },
  {
   "cell_type": "markdown",
   "metadata": {},
   "source": [
    "<b style=\"font-size:30px\"> Chapter 4.3 Recursive Algorithms </b>\n",
    "    \n",
    "1. Crossing River   \n",
    "1. Tower of Hanoi  "
   ]
  },
  {
   "cell_type": "markdown",
   "metadata": {},
   "source": [
    "이전 장에서는 재귀 기능을 사용하여 흥미로운 그림을 그리는 예를 살펴보겠습니다. 이번 장에서는 반복 프로그래밍 스타일을 사용하면 풀기 어려운 문제지만 재귀를 사용하면 보다 쉽게 해결할 수 있는 문제들을 살펴보도록 하겠습니다."
   ]
  },
  {
   "cell_type": "markdown",
   "metadata": {},
   "source": [
    "# Crossing River"
   ]
  },
  {
   "cell_type": "markdown",
   "metadata": {},
   "source": [
    "## Step 1: cross_river()\n",
    "\n",
    "한 마을에 어른과 아이와 늑대가 같이 살고 있었습니다. 어느날 강 건너편에 더욱 살기 좋은 환경이 있다는 소문을 들은 어른들은 아이들과 늑대를 데리고 강을 건너려고 합니다. 이때 다음의 조건을 만족해야합니다.\n",
    "\n",
    "* 강은 배를 타고만 건널 수 있습니다.\n",
    "* 배는 2인용이며, 오직 어른만 배를 운전할 수 있습니다.\n",
    "* 어른이 한명이라도 같이 있으면 늑대는 온순하지만, 어른이 한명도 없다면 아이를 잡아먹습니다.\n",
    "\n",
    "위 조건을 만족시키며, 어른과 아이와 늑대의 수가 주었을 때, 최소한의 왕복으로 강을 무사히 건널 수 있는 방법을 재귀함수로 구현해보세요."
   ]
  },
  {
   "cell_type": "markdown",
   "metadata": {},
   "source": [
    "```\n",
    "출력 결과 예시\n",
    "\n",
    "--> a,w\n",
    "a <--\n",
    "--> a,w\n",
    "a <--\n",
    "--> a,w\n",
    "a <--\n",
    "--> a,a\n",
    "a <--\n",
    "--> a,k\n",
    "a <--\n",
    "--> a,k\n",
    "a <--\n",
    "--> a,k\n",
    "Complete!\n",
    "7 turns taken in total\n",
    "```"
   ]
  },
  {
   "cell_type": "code",
   "execution_count": null,
   "metadata": {},
   "outputs": [],
   "source": [
    "# complete the function\n",
    "'''\n",
    "[parameter explanation]\n",
    "a : # of adult\n",
    "k : # of kid\n",
    "w : # of wolf\n",
    "\n",
    "return value should be total number of recursive call (integer)\n",
    "'''\n",
    "def cross_river(a,k,w):\n",
    "    \n",
    "    # base case\n",
    "    if ():\n",
    "        print(\"Wolf ate kid!!\")\n",
    "        return 0\n",
    "    if ():\n",
    "        print(\"Complete!\")\n",
    "        return 0\n",
    "\n",
    "    # moving algorithm\n",
    "\n"
   ]
  },
  {
   "cell_type": "code",
   "execution_count": null,
   "metadata": {},
   "outputs": [],
   "source": [
    "# Sample Answer\n",
    "def cross_river(a,k,w):\n",
    "    \n",
    "    if a==0 and w>0 and k>0:\n",
    "        print(\"Wolf ate kid!!\")\n",
    "        return 0\n",
    "    if a==0 and w==0 and k==0:\n",
    "        print(\"Complete!\")\n",
    "        return 0\n",
    "\n",
    "    if w>0:\n",
    "        print(\"--> a,w\")\n",
    "        print(\"a <--\")\n",
    "        return cross_river(a,k,w-1) + 1\n",
    "    elif a>1:\n",
    "        print(\"--> a,a\")\n",
    "        print(\"a <--\")\n",
    "        return cross_river(a-1,k,w) + 1\n",
    "    elif k>1:\n",
    "        print(\"--> a,k\")\n",
    "        print(\"a <--\")\n",
    "        return cross_river(a,k-1,w) + 1\n",
    "    elif k==1:\n",
    "        print(\"--> a,k\")\n",
    "        return cross_river(a-1,k-1,w) + 1"
   ]
  },
  {
   "cell_type": "code",
   "execution_count": null,
   "metadata": {},
   "outputs": [],
   "source": [
    "# Sample Running code\n",
    "turns = cross_river(2,3,3)\n",
    "print(\"{} turns taken in total\".format(turns))"
   ]
  },
  {
   "cell_type": "markdown",
   "metadata": {},
   "source": [
    "## Step 2: cross_river_2()\n",
    "\n",
    "배가 작아 답답했던 어른들은 배를 수리하여 3인용으로 확장시켰습니다. 또한, 배가 고파진 어른들은 다음 조건에 늑대를 잡아먹게 됩니다.\n",
    "\n",
    "* 배는 3인용으로 확장되었고, 이동 방법과 조건은 동일합니다.\n",
    "* 출발하는 땅에서 어른의 수가 늑대의 수의 2배 이상이 된다면 어른들이 늑대를 잡아먹습니다. (이 조건은 도착하는 땅에서는 고려 안함)\n",
    "\n",
    "위 조건을 만족시키며 강을 건널 수 있도록 함수를 수정해보세요."
   ]
  },
  {
   "cell_type": "code",
   "execution_count": null,
   "metadata": {},
   "outputs": [],
   "source": [
    "# complete the function\n",
    "'''\n",
    "[parameter explanation]\n",
    "a : # of adult\n",
    "k : # of kid\n",
    "w : # of wolf\n",
    "\n",
    "return value should be total number of recursive call (integer)\n",
    "'''\n",
    "\n",
    "def cross_river_2(a,k,w):\n",
    "    \n",
    "    # base case\n",
    "    if ():\n",
    "        print(\"Wolf ate kid!!\")\n",
    "        return 0\n",
    "    if ():\n",
    "        print(\"Adults ate wolf!!\")\n",
    "        return 0\n",
    "    if ():\n",
    "        print(\"Complete!\")\n",
    "        return 0\n",
    "\n",
    "    # moving algorithm\n"
   ]
  },
  {
   "cell_type": "code",
   "execution_count": null,
   "metadata": {},
   "outputs": [],
   "source": [
    "# Sample Answer\n",
    "def cross_river_2(a,k,w):\n",
    "    \n",
    "    if a==0 and w>0 and k>0:\n",
    "        print(\"Wolf ate kid!!\")\n",
    "        return 0\n",
    "    if a>=(2*w) and w!=0:\n",
    "        print(\"Adults ate wolf!!\")\n",
    "        return 0\n",
    "    if a==0 and w==0 and k==0:\n",
    "        print(\"Complete!\")\n",
    "        return 0\n",
    "\n",
    "\n",
    "    if a>3:\n",
    "        print(\"--> a,a,a\")\n",
    "        print(\"a <--\")\n",
    "        return cross_river_2(a-2,k,w) + 1\n",
    "    elif a>2:\n",
    "        print(\"--> a,a,w\")\n",
    "        print(\"a <--\")\n",
    "        return cross_river_2(a-1,k,w-1) + 1\n",
    "    elif a>1 and a==2*(w-2):\n",
    "        print(\"--> a,w\")\n",
    "        print(\"a <--\")\n",
    "        return cross_river_2(a,k,w-1) + 1\n",
    "    elif w>1:\n",
    "        print(\"--> a,w,w\")\n",
    "        print(\"a <--\")\n",
    "        return cross_river_2(a,k,w-2) + 1\n",
    "    elif w>0:\n",
    "        print(\"--> a,w,k\")\n",
    "        print(\"a <--\")\n",
    "        return cross_river_2(a,k-1,w-1) + 1\n",
    "    elif a>1:\n",
    "        print(\"--> a,a,k\")\n",
    "        print(\"a <--\")\n",
    "        return cross_river_2(a-1,k-1,w) + 1\n",
    "    elif k>2:\n",
    "        print(\"--> a,k,k\")\n",
    "        print(\"a <--\")\n",
    "        return cross_river_2(a,k-2,w) + 1\n",
    "    elif k==2:\n",
    "        print(\"--> a,k,k\")\n",
    "        return cross_river_2(a-1,k-2,w) + 1\n",
    "    elif k==1:\n",
    "        print(\"--> a,k\")\n",
    "        return cross_river_2(a-1,k-1,w) + 1"
   ]
  },
  {
   "cell_type": "code",
   "execution_count": null,
   "metadata": {
    "scrolled": true
   },
   "outputs": [],
   "source": [
    "# Sample Running code\n",
    "turns = cross_river_2(4,5,6)\n",
    "print(\"{} turns taken in total\".format(turns))"
   ]
  },
  {
   "cell_type": "markdown",
   "metadata": {},
   "source": [
    "# Tower of Hanoi"
   ]
  },
  {
   "cell_type": "markdown",
   "metadata": {},
   "source": [
    "하노이 탑(Tower of Hanoi)은 퍼즐의 일종입니다. 하노이 탑은 세 개의 기둥과 이 기둥에 꽂을 수 있는 크기가 다양한 원판들이 있고, 퍼즐을 시작하기 전에는 한 기둥에 원판들이 작은 것이 위에 있도록 순서대로 쌓여 있습니다.\n",
    "\n",
    "게임의 목적은 다음 두 가지 조건을 만족시키면서, 한 기둥에 꽂힌 원판들을 그 순서 그대로 다른 기둥으로 옮겨서 다시 쌓는 것입니다.\n",
    "\n",
    "1. 한 번에 한개의 원판만 옮길 수 있다.\n",
    "2. 큰 원판이 작은 원판 위에 있어서는 안 된다."
   ]
  },
  {
   "cell_type": "markdown",
   "metadata": {},
   "source": [
    "<center><img src=\"https://upload.wikimedia.org/wikipedia/commons/thumb/6/60/Tower_of_Hanoi_4.gif/300px-Tower_of_Hanoi_4.gif\" witdh=\"40%\"></center>\n",
    "<center>그림1. 하노이 탑 애니메이션</center>"
   ]
  },
  {
   "cell_type": "markdown",
   "metadata": {},
   "source": [
    "이 문제를 반복적으로 해결하려면 어떻게 해야 할까요?  \n",
    "다음은 중간 pole을 사용하여 출발 pole에서 목표 pole로 원판을 이동하는 방법에 대한 개략적인 개요입니다.\n",
    "\n",
    "1. 마지막 pole을 사용하여 높이 1의 탑을 중간 pole로 이동합니다.\n",
    "\n",
    "2. 남은 원판을 마지막 pole로 이동합니다.\n",
    "\n",
    "3. 높이 1의 탑을 원래 pole을 사용하여 중간 pole에서 최종 pole로 이동합니다.\n",
    "\n",
    "더 큰 원판이 스택 하단에 남아 있다는 규칙을 항상 준수하는 한, 위의 세 단계를 반복하여 더 큰 원판이 없는 것처럼 처리할 수 있습니다. 위의 개요에서 누락된 유일한 것은 기본 사례의 식별입니다. 하노이 타워의 가장 간단한 문제는 원판 1개의 타워입니다. 따라서 원판 한 개의 탑이 기본 사례가 될 것입니다. 또한, 위에서 설명한 1, 3단계에서 탑 높이를 줄임으로써 기본 사례를 향해 이동합니다."
   ]
  },
  {
   "cell_type": "markdown",
   "metadata": {},
   "source": [
    "__move_tower_iter (반복)__"
   ]
  },
  {
   "cell_type": "code",
   "execution_count": 1,
   "metadata": {},
   "outputs": [],
   "source": [
    "def move_tower_iter(height, from_pole, to_pole, with_pole):\n",
    "    signal = 1\n",
    "    stack = [height, from_pole, with_pole, to_pole]\n",
    "\n",
    "    while stack:\n",
    "        to_pole = stack.pop()\n",
    "        with_pole = stack.pop()\n",
    "        from_pole = stack.pop()\n",
    "        height = stack.pop()\n",
    "\n",
    "        if height==1:\n",
    "            move_disk(from_pole, to_pole)\n",
    "            signal = 0\n",
    "            continue        \n",
    "        if signal == 0:\n",
    "            move_disk(from_pole, to_pole)\n",
    "            signal = 1\n",
    "            stack.append(height - 1)\n",
    "            stack.append(with_pole)\n",
    "            stack.append(from_pole)\n",
    "            stack.append(to_pole)\n",
    "            continue        \n",
    "        stack.append(height)\n",
    "        stack.append(from_pole)\n",
    "        stack.append(with_pole)\n",
    "        stack.append(to_pole)\n",
    "        if signal != 0:\n",
    "            stack.append(height - 1)\n",
    "            stack.append(from_pole)\n",
    "            stack.append(to_pole)\n",
    "            stack.append(with_pole)"
   ]
  },
  {
   "cell_type": "code",
   "execution_count": 2,
   "metadata": {},
   "outputs": [
    {
     "ename": "NameError",
     "evalue": "name 'move_disk' is not defined",
     "output_type": "error",
     "traceback": [
      "\u001b[1;31m---------------------------------------------------------------------------\u001b[0m",
      "\u001b[1;31mNameError\u001b[0m                                 Traceback (most recent call last)",
      "\u001b[1;32m~\\AppData\\Local\\Temp/ipykernel_40148/390581130.py\u001b[0m in \u001b[0;36m<module>\u001b[1;34m\u001b[0m\n\u001b[1;32m----> 1\u001b[1;33m \u001b[0mmove_tower_iter\u001b[0m\u001b[1;33m(\u001b[0m\u001b[1;36m3\u001b[0m\u001b[1;33m,\u001b[0m \u001b[1;34m\"A\"\u001b[0m\u001b[1;33m,\u001b[0m \u001b[1;34m\"B\"\u001b[0m\u001b[1;33m,\u001b[0m \u001b[1;34m\"C\"\u001b[0m\u001b[1;33m)\u001b[0m\u001b[1;33m\u001b[0m\u001b[1;33m\u001b[0m\u001b[0m\n\u001b[0m",
      "\u001b[1;32m~\\AppData\\Local\\Temp/ipykernel_40148/2044629845.py\u001b[0m in \u001b[0;36mmove_tower_iter\u001b[1;34m(height, from_pole, to_pole, with_pole)\u001b[0m\n\u001b[0;32m     10\u001b[0m \u001b[1;33m\u001b[0m\u001b[0m\n\u001b[0;32m     11\u001b[0m         \u001b[1;32mif\u001b[0m \u001b[0mheight\u001b[0m\u001b[1;33m==\u001b[0m\u001b[1;36m1\u001b[0m\u001b[1;33m:\u001b[0m\u001b[1;33m\u001b[0m\u001b[1;33m\u001b[0m\u001b[0m\n\u001b[1;32m---> 12\u001b[1;33m             \u001b[0mmove_disk\u001b[0m\u001b[1;33m(\u001b[0m\u001b[0mfrom_pole\u001b[0m\u001b[1;33m,\u001b[0m \u001b[0mto_pole\u001b[0m\u001b[1;33m)\u001b[0m\u001b[1;33m\u001b[0m\u001b[1;33m\u001b[0m\u001b[0m\n\u001b[0m\u001b[0;32m     13\u001b[0m             \u001b[0msignal\u001b[0m \u001b[1;33m=\u001b[0m \u001b[1;36m0\u001b[0m\u001b[1;33m\u001b[0m\u001b[1;33m\u001b[0m\u001b[0m\n\u001b[0;32m     14\u001b[0m             \u001b[1;32mcontinue\u001b[0m\u001b[1;33m\u001b[0m\u001b[1;33m\u001b[0m\u001b[0m\n",
      "\u001b[1;31mNameError\u001b[0m: name 'move_disk' is not defined"
     ]
    }
   ],
   "source": [
    "move_tower_iter(3, \"A\", \"B\", \"C\")"
   ]
  },
  {
   "cell_type": "code",
   "execution_count": null,
   "metadata": {},
   "outputs": [],
   "source": [
    "def move_disk(from_p, to_p):\n",
    "    print(\"moving disk from\", from_p, \"to\", to_p)"
   ]
  },
  {
   "cell_type": "markdown",
   "metadata": {},
   "source": [
    "반복문을 사용해서 하노이 타워 문제를 풀면 꽤 복잡하게 코드를 작성하게 됨을 경험했습니다. 그렇다면 재귀를 사용해서 똑같은 문제를 다르게 풀어보도록 하겠습니다."
   ]
  },
  {
   "cell_type": "markdown",
   "metadata": {},
   "source": [
    "__move_tower (재귀)__"
   ]
  },
  {
   "cell_type": "code",
   "execution_count": null,
   "metadata": {},
   "outputs": [],
   "source": [
    "def move_tower(height, from_pole, to_pole, with_pole):\n",
    "    if height >= 1:\n",
    "        move_tower(height - 1, from_pole, with_pole, to_pole)\n",
    "        move_disk(from_pole, to_pole)\n",
    "        move_tower(height - 1, with_pole, to_pole, from_pole)"
   ]
  },
  {
   "cell_type": "markdown",
   "metadata": {},
   "source": [
    "재귀로 작성한 위 코드의 핵심은 두 개의 서로 다른 재귀 호출, 즉 3번 줄과 5번 줄입니다. 3번 줄에서는 초기 탑의 하단 원판을 제외한 모든 원판을 중간 pole로 이동합니다. 그리고 5번 줄에서는 중간 pole에서 가장 큰 원반 위로 탑을 옮깁니다.   \n",
    "주탑 높이가 0일 때 기본 사례가 감지되며, 이 경우 할 일이 없으므로 `move_tower`함수가 단순하게 복귀됩니다. 이러한 방식으로 기본 사례를 처리할 때 기억해야 할 중요한 점은 `move_tower`에서 단순히 돌아오기만 하면 `move_disk` 함수를 호출할 수 있다는 것입니다."
   ]
  },
  {
   "cell_type": "code",
   "execution_count": null,
   "metadata": {},
   "outputs": [],
   "source": [
    "move_tower(3, \"A\", \"B\", \"C\")"
   ]
  },
  {
   "cell_type": "markdown",
   "metadata": {},
   "source": [
    "이처럼 재귀를 사용해서 하노이 타워 문제를 간단하게 4줄로 코딩할 수 있습니다. 따라서 문제를 정의하고 어떤 방식으로 문제를 풀 것인지에 따라 쉽고 간단하게 코딩할 수 있습니다."
   ]
  },
  {
   "cell_type": "markdown",
   "metadata": {},
   "source": [
    "# Summary"
   ]
  },
  {
   "cell_type": "markdown",
   "metadata": {},
   "source": [
    "이 장에서는 몇 가지 재귀 알고리즘의 예를 살펴봤습니다. 이러한 알고리즘은 재귀가 효과적인 문제 해결 기술인 여러 가지 다른 문제에 노출되도록 선택되었습니다. 이 장에서 기억해야 할 주요 사항은 다음과 같습니다.\n",
    "\n",
    "1. 모든 재귀 알고리즘에는 기본 사례가 있어야 합니다.\n",
    "\n",
    "2. 재귀 알고리즘은 상태를 변경하고 기본 사례로 진행해야 합니다.\n",
    "\n",
    "3. 재귀 알고리즘은 스스로를 호출해야 합니다.\n",
    "\n",
    "4. 경우에 따라 순환이 반복될 수 있습니다.\n",
    "\n",
    "5. 재귀 알고리즘은 종종 해결하려는 문제의 공식 표현식에 매우 자연스럽게 매핑됩니다.\n",
    "\n",
    "하지만 재귀가 항상 해답은 아닙니다. 때로는 재귀 솔루션이 대체 알고리즘보다 계산 비용이 더 많이 들 수 있습니다."
   ]
  },
  {
   "cell_type": "markdown",
   "metadata": {},
   "source": [
    "# Problem Based Learning"
   ]
  },
  {
   "cell_type": "markdown",
   "metadata": {},
   "source": [
    "## 하노이 타워를 리스트로 구현하기 \n",
    "\n",
    "위에 구현한 하노이 타워의 답을 instruction으로 구하지 아니하고, 파이썬 리스트로 디스크를 만들고, 해당 디스크를 옮기는 방법으로 __Sample Run:__ 처럼 하노이 타워를 구현하십시오. 보조 함수 `tower()`는 현재 타워의 상태를 세 개의 열로 출력하며, 각 열은 20칸을 차지합니다. \n",
    "\n",
    "__Sample Run:__\n",
    "```\n",
    "if __name__=='__main__':\n",
    "    n = 3\n",
    "    A = [* range(1, n+1)]  # [1, 2, 3] if n = 3\n",
    "    B = []\n",
    "    C = []\n",
    "    tower(A, B, C)\n",
    "    hanoi(n, A, B, C)\n",
    "```\n",
    "__Expected Outptut:__\n",
    "```\n",
    "start-[1, 2, 3]            end-[]                   spare-[]                  \n",
    "start-[2, 3]               end-[1]                  spare-[]                  \n",
    "start-[3]                  end-[1]                  spare-[2]                 \n",
    "start-[3]                  end-[]                   spare-[1, 2]              \n",
    "start-[]                   end-[3]                  spare-[1, 2]              \n",
    "start-[1]                  end-[3]                  spare-[2]                 \n",
    "start-[1]                  end-[2, 3]               spare-[]                  \n",
    "start-[]                   end-[1, 2, 3]            spare-[] \n",
    "```"
   ]
  },
  {
   "cell_type": "markdown",
   "metadata": {},
   "source": [
    "__Solution:__"
   ]
  },
  {
   "cell_type": "code",
   "execution_count": null,
   "metadata": {},
   "outputs": [],
   "source": [
    "def tower(A, B, C):\n",
    "    print(None)\n",
    "\n",
    "def hanoi(n, start, end, spare):  \n",
    "    None\n",
    "        \n",
    "if __name__=='__main__':\n",
    "    n = 3\n",
    "    A = [* range(1, n+1)]  # [1, 2, 3] if n = 3\n",
    "    B = []\n",
    "    C = []\n",
    "    tower(A, B, C)\n",
    "    hanoi(n, A, B, C)"
   ]
  },
  {
   "cell_type": "markdown",
   "metadata": {},
   "source": [
    "## 하노이 타워 시간복잡도 실감하기\n",
    "\n",
    "Write a recursive function to compute the number of disc's move first. Then compute the number of years to move 64 discs, while assuming that a group of monks really work diligently to move the disc fast like a computer clock speed or one disc per nano second (10^9 sec). Show your code and computation below:  \n",
    "\n",
    "__Sample Run:__\n",
    "```\n",
    "1 1\n",
    "2 3\n",
    "3 7\n",
    "4 15\n",
    "5 31\n",
    "10 1023\n",
    "32 4294967295\n",
    "64 18446744073709551615\n",
    "64 disks, 584.54 years\n",
    "```"
   ]
  },
  {
   "cell_type": "code",
   "execution_count": null,
   "metadata": {},
   "outputs": [],
   "source": [
    "def hanoi_time(n):\n",
    "    if n <= 1:\n",
    "        return 1\n",
    "    return None        # your code here\n",
    "\n",
    "if __name__ == '__main__':\n",
    "    for n in [1, 2, 3, 4, 5, 10, 32, 64]:\n",
    "        t = hanoi_time(n)\n",
    "        print(n, t)\n",
    "    # your code here"
   ]
  },
  {
   "cell_type": "code",
   "execution_count": null,
   "metadata": {},
   "outputs": [],
   "source": []
  },
  {
   "cell_type": "markdown",
   "metadata": {},
   "source": [
    "# References\n",
    "- Complex Recursive Problem, [Here](https://runestone.academy/ns/books/published//pythonds3/Recursion/ComplexRecursiveProblems.html)\n",
    "- 하노이 탑, [Here](https://ko.wikipedia.org/wiki/%ED%95%98%EB%85%B8%EC%9D%B4%EC%9D%98_%ED%83%91)\n",
    "- 하노이 탑(2), [Here](https://blog.daum.net/sualchi/13720912)"
   ]
  },
  {
   "cell_type": "markdown",
   "metadata": {},
   "source": [
    "------\n",
    "하나님이 세상을 이처럼 사랑하사 독생자를 주셨으니 이는 그를 믿는 자마다 멸망하지 않고 영생을 얻게 하려 하심이라 (요3:16)"
   ]
  }
 ],
 "metadata": {
  "kernelspec": {
   "display_name": "Python 3 (ipykernel)",
   "language": "python",
   "name": "python3"
  },
  "language_info": {
   "codemirror_mode": {
    "name": "ipython",
    "version": 3
   },
   "file_extension": ".py",
   "mimetype": "text/x-python",
   "name": "python",
   "nbconvert_exporter": "python",
   "pygments_lexer": "ipython3",
   "version": "3.8.12"
  }
 },
 "nbformat": 4,
 "nbformat_minor": 4
}
