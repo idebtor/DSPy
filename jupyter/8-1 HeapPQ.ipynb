{
 "cells": [
  {
   "cell_type": "markdown",
   "metadata": {},
   "source": [
    "내가 그리스도와 함께 십자가에 못 박혔나니 그런즉 이제는 내가 사는 것이 아니요 오직 내 안에 그리스도께서 사시는 것이라 이제 내가 육체 가운데 사는 것은 나를 사랑하사 나를 위하여 자기 자신을 버리신 하나님의 아들을 믿는 믿음 안에서 사는 것이라 (갈2:20)\n",
    "\n",
    "-------\n",
    "<center><img src=\"https://github.com/idebtor/DSpy/blob/6b3676c3de29f85d2e7f30679676d1fd96d88b17/images/WelcomeToDataStructures.jpg?raw=true\" width=1000></center>\n",
    "\n",
    "__NOTE:__ The following materials have been compiled and adapted from the numerous sources including my own. Please help me to keep this tutorial up-to-date by reporting any issues or questions. Send any comments or criticisms to `idebtor@gmail.com` Your assistances and comments will be appreciated.\n",
    "\n",
    "--------"
   ]
  },
  {
   "cell_type": "markdown",
   "metadata": {},
   "source": [
    "<b style=\"font-size:30px\">  Chapter 8. Heap and Priority Queues </b>\n",
    "\n",
    ": 우선순위를 부여한 Priority Queue와 Heap에 대해 배웁니다.  \n",
    "\n",
    "--------------\n",
    "제 8장에서는 기존의 자료구조형인 스택과 큐에서 더 나아가, 데이터에 우선순위를 부여하여 저장할 수 있는 자료구조형인 __우선순위 큐(Priority Queue)__ 와 그에 사용되는 __힙(Heap)__ 구조에 대해 알아봅니다. "
   ]
  },
  {
   "cell_type": "markdown",
   "metadata": {},
   "source": [
    "# Introduction\n",
    "\n",
    "이진 힙(Binary Heap)을 사용하는 우선순위 큐(Priority Queue)"
   ]
  },
  {
   "cell_type": "markdown",
   "metadata": {},
   "source": [
    "## 이진 힙(Binary Heap)을 사용하는 우선순위 큐"
   ]
  },
  {
   "cell_type": "markdown",
   "metadata": {},
   "source": [
    "이전 강의들에서 우리는 _FIFO_ 구조를 갖는 __큐(Queue)__ 자료구조형을 배웠습니다. 이번 강의에서는 __우선순위 큐(Priority Queue)__ 를 배웁니다. 우선순위 큐는 요소의 제거(dequeue)시 front에서부터 제거한다는 점에서 큐와 비슷한 역할을 가지고 있습니다. 하지만, 우선순위 큐는 요소간 논리적인 순서가 존재하여 각 요소에 우선순위를 부여하게 됩니다. 즉, 가장 높은 우선순위를 갖는 요소가 큐의 맨 앞(front)에 배치되고, 가장 우선순위가 낮은 요소를 뒤에 배치시키는 것입니다. 이러한 구조는 새로운 요소를 추가(enqueue)하게 될 때 마다 다른 요소들의 위치 수정을 필요하게됩니다. 우선순위 큐는 다음 챕터에서 배울 그래프 알고리즘 등에 유용한 자료형이 될 것입니다."
   ]
  },
  {
   "cell_type": "markdown",
   "metadata": {},
   "source": [
    "우선순위를 부여한다고 하면, 우리는 단순히 리스트와 정렬 알고리즘을 사용하여 쉽게 구현할 수 있다고 생각할지 모르겠습니다. 하지만, 리스트에 요소를 추가하는 것은 $ O(n) $, 리스트를 정렬하는 것은 $ O(n log n) $이 소요되게 됩니다. 우리는 이보다  충분히 개선시킬 수 있습니다. 가장 고전적인 방식으로는 __이진 힙(Binary Heap)__ 이라는 자료형을 사용하는 것입니다. 이진 힙은 요소의 추가(enqueue)와 제거(dequeue)를 모두 $ O(log n) $으로 사용할 수 있습니다."
   ]
  },
  {
   "cell_type": "markdown",
   "metadata": {},
   "source": [
    "이진 힙은 실제로 다이어그램을 그려보면 트리 구조와 많이 닮았다고 생각할 수 있습니다. 하지만, 이를 구현하는 것은 하나의 리스트만을 사용하게 됩니다. 이진 힙은 보통 두가지의 형태로 나뉘어집니다: __최소 힙(min heap)__ (가장 작은 키 값을 갖는 요소가 가장 앞에 오는 것), 그리고 __최대 힙(max heap)__ (가장 큰 키 값을 갖는 요소가 가장 앞에 오는 것) 입니다."
   ]
  },
  {
   "cell_type": "markdown",
   "metadata": {},
   "source": [
    "# 이진 힙(Binary Heap)의 연산"
   ]
  },
  {
   "cell_type": "markdown",
   "metadata": {},
   "source": [
    "이진 힙에 사용되는 주된 연산은 다음과 같습니다."
   ]
  },
  {
   "cell_type": "markdown",
   "metadata": {},
   "source": [
    "* `BinaryHeap()` : 새로운 비어있는 이진 힙(Min Heap or Max Heap)을 생성합니다.\n",
    "* `insert(k)` : 힙에 새로운 요소를 추가합니다.\n",
    "* `getTop()` : Min Heap에서 가장 작은 키 값, Max Heap에서는 가장 큰 값을 갖는 요소를 반환합니다. \n",
    "* `delete()` : Min Heap에서 가장 작은 키 값, Max Heap에서는 가장 큰 값을 갖는 요소를 반환하고 힙에서 제거합니다. \n",
    "* `isEmpty()` : 힙이 비어있는지 확인하여 불리언 값으로 반환합니다.\n",
    "* `size()` : 힙에 저장된 요소의 갯수를 반환합니다."
   ]
  },
  {
   "cell_type": "markdown",
   "metadata": {},
   "source": [
    "코드 1은 이진 힙의 연산을 사용하는 예를 나타낸 것입니다. 여기서 데이터 추가의 순서와 상관없이 항상 작은 데이터부터 제거되는 것을 주의깊게 보세요. 그러므로, 현재 힙은 Min Heap 인것을 확인할 수 있습니다. 이제 이를 직접 구현해보며 자세히 살펴보려고 합니다.  "
   ]
  },
  {
   "cell_type": "code",
   "execution_count": null,
   "metadata": {},
   "outputs": [],
   "source": [
    "from dspy.trees import BinaryHeap\n",
    "\n",
    "bh = BinaryHeap()\n",
    "bh.insert(5)\n",
    "bh.insert(7)\n",
    "bh.insert(3)\n",
    "bh.insert(11)\n",
    "\n",
    "print(bh.delete())      # since\n",
    "print(bh.delete())\n",
    "print(bh.delete())\n",
    "print(bh.delete())"
   ]
  },
  {
   "cell_type": "markdown",
   "metadata": {},
   "source": [
    "# 이진 힙(Binary Heap) 구현\n",
    ": 앞서 살펴본 이진 힙의 다양한 연산을 파이썬으로 구현해봅니다.\n",
    "\n",
    "3.1. 힙의 구조적 속성 (The Structure Property)  \n",
    "3.2. 힙의 순서적 속성 (The Heap Order Property)  \n",
    "3.3. 힙의 연산"
   ]
  },
  {
   "cell_type": "markdown",
   "metadata": {},
   "source": [
    "## 힙의 구조적 속성 (The Structure Property)\n",
    ": 힙에 사용하는 구조적 특징을 알아보고, 그 효율성을 파악해봅니다."
   ]
  },
  {
   "cell_type": "markdown",
   "metadata": {},
   "source": [
    "먼저 우리의 힙을 효과적으로 작동할 수 있도록 이진 트리의 로그 성질을 활용하여 나타낼 것입니다. 우선 로그의 성능을 보장하기 위해선 트리의 균형을 맞추는 것이 중요합니다. 균형잡힌 이진 트리는 대략적으로 좌우 서브 트리(subtree)의 노드 수가 동일합니다. 따라서, 균형잡힌 트리를 사용하여 힙을 구현하기 위해서 우리는 __완전 이진 트리(Complete Binary Tree)__ 를 사용할 것입니다. 완전 이진 트리는 모든 레벨에 노드가 완전히 존재하는 트리를 의미합니다. 그림 1은 완전 이진 트리의 예를 나타내고 있습니다."
   ]
  },
  {
   "cell_type": "markdown",
   "metadata": {},
   "source": [
    "<center><img src=\"https://github.com/idebtor/DSpy/blob/main/images/chap7/ch7-1.png?raw=true\" width=\"500\" title=\"Figure 1. A Complete Binary Tree\">\n",
    "<center>그림 1. 완전 이진 트리의 예<center><br>"
   ]
  },
  {
   "cell_type": "markdown",
   "metadata": {},
   "source": [
    "또 한가지 완전한 트리의 특징은, 트리의 구조를 하나의 리스트로 나타낼 수 있다는 것입니다. 특별히 노드나 참조값, 혹은 리스트들로 이루어진 리스트를 사용하지 않아도 됩니다. \n",
    "\n",
    "트리가 완전히 채워져있기 때문에, $P$ 위치에 있는 부모의 왼쪽 자식 노드는 $2p$ 에서 찾을 수 있습니다. 비슷하게도, $p$ 위치의 부모의 오른쪽 자식 노드는 리스트에서 $2p + 1$ 위치에서 찾을 수 있습니다. 따라서, 만약 한 노드의 부모 노드를 찾고자 한다면 단순히 파이썬의 정수 나눗셈을 사용하여 찾아낼 수 있습니다. 예를 들어, 리스트에서 $n$위치에 있는 한 노드의 부모는 $n/2$에 존재합니다. \n",
    "\n",
    "__그림 2__ 는 완전 이진트리와 그것을 리스트로 표현한 모습을 나타냅니다. 하나의 리스트로 전체 구조를 표현할 수 있다는 것은 단순히 표현의 단순함도 있지만, 데이터의 탐색을 몇가지의 간단한 수리 연산으로 해결할 수 있다는 효율성을 갖음을 의미하기도 합니다."
   ]
  },
  {
   "cell_type": "markdown",
   "metadata": {},
   "source": [
    "## 힙의 순서적 속성 (The Heap Order Property)\n",
    ": 힙의 순서적 속성을 배웁니다."
   ]
  },
  {
   "cell_type": "markdown",
   "metadata": {},
   "source": [
    "힙에 데이터를 저장하기 위한 방법은 __힙의 순서적 Heap-order 속성__ 을 유지하는 것에 기반합니다. __최소힙의 순서적 속성__ 은 다음과 같습니다: \n",
    "\n",
    "- 부모 $p$에 대한 모든 노드 $x$의 키 값은 $p$의 키 값보다 크거나 같다. \n",
    "\n",
    "그림 2는 힙의 순서적 속성을 갖는 완전 이진 트리를 그림으로 나타낸 것입니다."
   ]
  },
  {
   "cell_type": "markdown",
   "metadata": {},
   "source": [
    "<center><img src=\"https://github.com/idebtor/DSpy/blob/bff23451d3d544ace32dc170fe72c6d016cae641/images/chap7/ch7-2.png?raw=true\" width=\"500\" title=\"Figure 2. A Complete Binary Tree, along with its List Representation\">\n",
    "<center>그림 2. 완전 이진 트리와 리스트 표현의 예<center><br>"
   ]
  },
  {
   "cell_type": "markdown",
   "metadata": {},
   "source": [
    "## 힙 데이터 구조의 구현 \n",
    ": 힙을 파이썬으로 구현해봅니다."
   ]
  },
  {
   "cell_type": "markdown",
   "metadata": {},
   "source": [
    "이제 이진 힙을 생성자를 활용하여 구현해보도록 하겠습니다. 힙은 두 종류, 즉 작은 값이 root로 하는 min-heap과 큰 값을 root로 하는 max-heap으로 나눌 수 있습니다. 따라서, min-heap의 root는 heap의 값들 중에 최소값을 갖게 되며, max-heap은 heap의 값들 중에서 최대값을 갖게 됩니다. \n",
    "\n",
    "여기서는 일단 min-heap을 구현하지만, 이를 간단한 방법으로 max-heap으로 전환할 수 있도록 미리 생각하면서 min-heap을 구현할 것입니다. \n",
    "\n",
    "앞서 언급하였듯이 이진 힙은 하나의 리스트만으로 나타낼 수 있기 때문에, 파이썬의 리스를 활용하면 비교적 간단히 구현할 수 있습니다. "
   ]
  },
  {
   "cell_type": "markdown",
   "metadata": {},
   "source": [
    "### Heap Class and Constructor\n",
    "\n",
    "생성자는 하나의 리스트와 `N`라는 변수로 힙의 현재 크기를 추적할 수 있도록만 설정합니다. \n",
    "\n",
    "코드 2는 이진 힙을 나타내는 `BinHeap`클래스와 그의 생성자를 파이썬으로 나타낸 것입니다. 한가지 알 수 있는 점은 생성자에서 생성된 리스트 `heap`의 첫번째 요소를 설정은 했지만, 실제 사용되진 않습니다. 그러므로 heap에서 실제로 값을 저장하는 것은 heap의 index 1부터 시작합니다. 이는 나중에 리스트의 인덱스로 각 노드 즉 parent 노드와 child 노드의 인덱스를 계산할 때 간단한 정수 나눗셈 등에 활용하기 용이하게 해줍니다.\n",
    "\n",
    "또한 N은 현재 Heap의 실제 요소의 갯수, 즉 노드의 갯수를 표시하며, 동시에 마지막 노드의 위치 즉 heap의 인덱스를 표시합니다. "
   ]
  },
  {
   "cell_type": "code",
   "execution_count": null,
   "metadata": {},
   "outputs": [],
   "source": [
    "# 코드 2\n",
    "class BinHeap:\n",
    "    def __init__(self):                     # set more for min-heap, less for max-heap      \n",
    "        self.heap = [0]                     # list, index 0 is not used\n",
    "        self.N = 0                          # points the last valid heap element index\n",
    "        self.comp = None                    # comparator to switch between min-heap & max-heap"
   ]
  },
  {
   "cell_type": "markdown",
   "metadata": {},
   "source": [
    "### insert() and swim()\n",
    "\n",
    "다음으로 구현할 메서드는 `insert`입니다. 리스트에 가장 간단하고 효율적으로 요소를 추가하는 방법은 마지막 요소 뒤에 추가(append)해주는 것입니다. 이러한 추가(appending)연산은 완전한 트리 구조를 유지시킨다는 장점을 가지고 있지만, 힙의 구조적 성질을 지키지 못할 경우가 많을 것입니다. 다행히도 새로 추가하는 요소를 그의 부모 노드와 비교함으로서 힙의 구조적 성질을 지키며 요소를 추가할 수 있는 것이 가능합니다. 어떻게 그럴까요?"
   ]
  },
  {
   "cell_type": "markdown",
   "metadata": {},
   "source": [
    "만약 새로 추가하는 요소가 그의 부모 노드의 값보다 작다면, 해당 요소와 부모 노드를 교환(swap)하면 됩니다. 그림 3은 새로운 요소를 추가하여 올바른 위치로 찾아가는 과정을 그림으로 나타낸 것입니다. \n",
    "\n",
    "이 과정을 __swim up__ 혹은 간단히 __swim__ 이라고 부르기로 합니다. 혹자들은 percolate up이라고 부르기도 합니다. "
   ]
  },
  {
   "cell_type": "markdown",
   "metadata": {},
   "source": [
    "<center><img src=\"https://github.com/idebtor/DSpy/blob/main/images/chap7/ch7-3.png?raw=true\" width=\"1000\" title=\"Figure 3. Percolate the New Node up to Its Proper Position\">\n",
    "<center>그림 3. 새로운 노드가 올바른 위치를 찾아 이동하는 과정<center><br>"
   ]
  },
  {
   "cell_type": "markdown",
   "metadata": {},
   "source": [
    "이렇듯 새로운 요소를 할 때, 그의 부모 노드와 비교하여 조건에 맞추어 교체함으로서 같은 자식 노드들과 부모 노드에 대하여 힙의 속성을 지킬 수 있습니다. 이때, 단순히 한번만 교환하는 것이 아니라 상위 레벨에서 역시 비교를 하여 교환이 이루어질 수 있고, 결국 트리의 Top 요소도 교체될 수 있습니다. \n",
    "\n",
    "코드 3은 `swim` 메서드로서, 새로운 요소를 추가할 때 힙의 속성을 유지하기 위하여 부모 노드와 비교 및 교환 연산을 하는 역할을 수행합니다. 이때, 우리가 `heap`에서 더미 요소(첫번째 요소)가 중요한 역할을 합니다. 이 더미 요소로 인하여, 부모 노드와 자식 노드의 관계를 단순히 리스트의 인덱스에서 2배 증가/감소로 접근할 수 있게됩니다."
   ]
  },
  {
   "cell_type": "code",
   "execution_count": null,
   "metadata": {},
   "outputs": [],
   "source": [
    "# 코드 3\n",
    "def less(self, p, k):                        # comparator function \n",
    "    return self.heap[p] < self.heap[k]       # p: parent, k: kid\n",
    "\n",
    "def more(self, p, k):                        # comparator function \n",
    "    return self.heap[p] > self.heap[k]\n",
    "\n",
    "def swap(self, p, k):                        # swap two elements by indices - readability\n",
    "    self.heap[p], self.heap[k] = self.heap[k], self.heap[p]     \n",
    "            \n",
    "def swim(self, k):                           # append key and swim up\n",
    "    while k // 2 > 0:                        # if not reached root\n",
    "        if self.heap[k // 2] > self.heap[k]: # if parent is more than kid (minheap)\n",
    "            self.swap(k // 2, k)             # swap(parent, kid)\n",
    "        k = k // 2                           # swim up - move to the parent node"
   ]
  },
  {
   "cell_type": "markdown",
   "metadata": {},
   "source": [
    "이제 `insert` 메서드를 구현할 수 있습니다(코드 4 참고). 실제 `insert` 메서드에서 대부분의 연산은 `swim`에서 진행됩니다. 새로운 요소가 트리에 추가될 때, `swim` 메서드가 이를 받아 적절한 위치로 옮겨주는 역할을 합니다."
   ]
  },
  {
   "cell_type": "code",
   "execution_count": null,
   "metadata": {},
   "outputs": [],
   "source": [
    "# 코드 4\n",
    "    def insert(self, key):                   # check N and len(heap) before using\n",
    "        self.heap.append(key)                # append() if necessary, otherwise use list index\n",
    "        self.N += 1  \n",
    "        self.swim(self.N)"
   ]
  },
  {
   "cell_type": "markdown",
   "metadata": {},
   "source": [
    "### delete() and sink()\n",
    "\n",
    "이제 `delete` 메서드를 살펴보도록 합시다. \n",
    "\n",
    "힙(min-heap)의 속성에 의해 트리의 root 노드는 가장 작은 값을 가져야하기 때문에 트리에서 가장 작은 요소를 찾는 것은 너무 쉽습니다. 그러나, `delete` 메서드에서의 어려운 부분은 바로 root 노드를 제거한 이후 힙의 구조와 순서적 속성을 유지하기 위해 어떻게 할 것인가 입니다. \n",
    "\n",
    "힙을 복원하는 작업은 두 단계로 이루어집니다. \n",
    "\n",
    "- 첫번째는, 트리의 마지막 노드(리스트의 마지막 요소)를 root 노드의 위치로 올려놓는 것입니다. 이렇게 한다면 이진 힙의 구조적 속성은 유지할 수 있으나 순서적 속성이 지켜지지 않습니다. \n",
    "\n",
    "- 두번째로, 새로운 root 노드를 하위 층과 비교하여 올바른 위치로 자리잡는 작업을 합니다. 이 과정을 __sink down__ 혹은 간단히 __sink__ 부를 수 있습니다. \n",
    "\n",
    "그림 4는 이 과정을 그림으로 나타낸 것입니다."
   ]
  },
  {
   "cell_type": "markdown",
   "metadata": {},
   "source": [
    "<center><img src=\"https://github.com/idebtor/DSpy/blob/main/images/chap7/ch7-4.png?raw=true\" width=\"900\" title=\"Figure 4. Percolate the Root Node down the Tree\">\n",
    "<center>그림 4. 트리의 Root 노드를 교환하는 과정<center><br>"
   ]
  },
  {
   "cell_type": "markdown",
   "metadata": {},
   "source": [
    "힙(min-heap)의 순서적 속성을 지키기 위해선 root 노드를 자식 노드들 중 작은 노드와 교환하면 됩니다. 최초의 교환 이후, 그 자식 노드 중에 현재 노드보다 작은 값을 갖는 노드가 없을때까지 이 과정을 반복하면 됩니다. \n",
    "\n",
    "자식 노드가 하나가 있을 때는 그 하나와 비교할 수 있지만, 만약, 자식 노드가 두 개가 있을 때에는 둘 중에 더 작은 것과 비교해야 합니다. 이 코딩이 약간 까다롭습니다. `minChild()`같은 함수를 만들어 두 자식노드들 중에 하나를 찾는 방법도 있지만, 아래 코드는 `if` 구문 안에서 `k`, `k+1`으로 두 자식 노드의 값을 비교하여 왼쪽 노드(k)가 더 크면, 오른쪽 노드`(k + 1)`가 더 작으므로, `k`를 하나 증가시킴으로 `k`는 작은 노드의 인덱스가 됩니다 \n",
    "\n",
    "그 후에, 현재 노드 i와 현재 노드의 자식 노드(들)중에 작은 것과 비교합니다. 현재 노드가 k보다 크지 않으면, heap-ordered 되어 있으므로, sink를 종료하고, 그렇지 않으면, `i, k`를 교환하고, 자식 `k`가 현재 노드 `i`가 되어 계속해서 sink를 진행합니다. \n",
    "\n",
    "이를 수행할 수 있는 `sink` 메서드에 대한 구현은 코드 5에 나타나있습니다."
   ]
  },
  {
   "cell_type": "code",
   "execution_count": 17,
   "metadata": {},
   "outputs": [],
   "source": [
    "# 코드 5\n",
    "def sink(self, i):                                # start sink at node i\n",
    "    while (i * 2) <= self.N:                      # not bottom of tree yet?\n",
    "        k = 2 * i                                 # left child\n",
    "        if k < self.N and self.heap[k] > self.heap[k+1]:  # select one of two kids to compare\n",
    "            k += 1                                # right child is selected\n",
    "        if not self.heap[i] > self.heap[k]: break # break if node i and kid are heap-ordered\n",
    "        self.swap(i, k)                           # if not heap-ordered, swap i and k \n",
    "        i = k                                     # i becomes k & continue sink process"
   ]
  },
  {
   "cell_type": "markdown",
   "metadata": {},
   "source": [
    "`delete` 연산을 위한 코드는 코드 6에 나타나있습니다. 이전 `insert` 메서드와 비슷하게, `delete` 메서드의 대부분의 연산과정은 도움 함수(helper function)인 `sink`이 맡습니다."
   ]
  },
  {
   "cell_type": "code",
   "execution_count": null,
   "metadata": {},
   "outputs": [],
   "source": [
    "# 코드 6\n",
    "def delete(self):\n",
    "    retval = self.heap[1]                  # root is saved to return\n",
    "    self.heap[1] = self.heap[self.N]       # last element becomes root - need sink it\n",
    "    self.N -= 1                            # reduce size by one\n",
    "    self.heap.pop()                        # remove the last element (it will be unnecessary)\n",
    "    self.sink(1)                           # now, sink down the root to make it heap-ordered\n",
    "    return retval"
   ]
  },
  {
   "cell_type": "markdown",
   "metadata": {},
   "source": [
    "## buildHeap() and heapify()\n",
    "\n",
    "마지막으로 이진 힙의 구현을 완성하기 위해서, 키 값을 가진 리스트로 전반적인 힙을 생성하는 메서드를 만들어야합니다. 아마 여러분이 가장 간단히 생각나는 방법은 리스트에서 요소를 하나씩 꺼내어 힙에 삽입하는 방식일 것입니다. 물론, 하나의 요소를 힙에 추가하는 때 이진 검색(binary search)를 통해 $ O(\\log n) $으로 적합한 위치를 찾을 수 있을 것입니다. 하지만, 트리의 중간에 요소를 넣기 위해서는 $ O(n) $의 연산을 필요로하게 됩니다. 따라서 최종적으로 n개의 키를 힙에 삽입하는 것은 $ O(n \\log n) $이 필요할 것입니다. \n",
    "\n",
    "반면, 우리가 하나의 요소가 아닌, 리스트 전체를 한번에 사용하여 힙을 만든다면 $ O(n) $의 연산으로 가능합니다. 코드 7은 이를 코드로 보인 것입니다."
   ]
  },
  {
   "cell_type": "code",
   "execution_count": null,
   "metadata": {},
   "outputs": [],
   "source": [
    "# 코드 7\n",
    "def buildHeap(self, arr):           # build heap from input arr list\n",
    "    self.heap = [0] + arr[:]        # set the initial heap\n",
    "    self.N = len(arr)               # set the size\n",
    "    i = len(arr) // 2               # get the last internal node\n",
    "    while i > 0:                    # sink from the last internal node to root 1\n",
    "        self.sink(i)\n",
    "        i -= 1\n",
    "        \n",
    "def heapify(self):                  # build heap from existing self.heap\n",
    "    self.buildHeap(self.heap[1:])"
   ]
  },
  {
   "cell_type": "markdown",
   "metadata": {},
   "source": [
    "<center><img src=\"https://github.com/idebtor/DSpy/blob/8c59709502e54459c1d6c7650553fc4e0b100b43/images/chap7/ch7-5.png?raw=true\" width=\"900\" title=\"Figure 5. Building a Heap from the List [9, 6, 5, 2, 3]\">\n",
    "<center>그림 5. 리스트 [9, 6, 5, 2, 3]로 힙을 만드는 과정<center><br>"
   ]
  },
  {
   "cell_type": "markdown",
   "metadata": {},
   "source": [
    "그림 5는 [9, 6, 5, 2, 3]로 구성된 최초의 트리를 `buildHeap` 메서드를 통해 힙을 만드는 과정을 나타낸 것입니다. \n",
    "\n",
    "__비록 트리의 중간(at the last internal node)에서 시작하여__ 다시 root 노드까지 올라가며 진행되지만, `sink` 메서드는 가장 큰 자식 노드가 트리의 밑으로 이동하도록 보장해줍니다. 그림 5에서 오른쪽 2개의 트리를 보면, root 노드와의 교환이 일어난 후에 `sink` 메서드를 통하여 다시 해당 노드가 갈 수 있는 가장 밑까지 이동시키는 것을 볼 수 있습니다. 이 과정을 각 단계별로 리스트의 형태로 비교하여 보는 것도 도움이 될 것입니다."
   ]
  },
  {
   "cell_type": "markdown",
   "metadata": {},
   "source": [
    "``` python\n",
    "i = 2  [0, 9, 5, 6, 2, 3]\n",
    "i = 1  [0, 9, 2, 6, 5, 3]\n",
    "i = 0  [0, 2, 3, 6, 5, 9]\n",
    "```"
   ]
  },
  {
   "cell_type": "markdown",
   "metadata": {},
   "source": [
    "이렇게 완성된 `BinHeap` 클래스의 구현은 다음과 같습니다.\n",
    "\n",
    "__Note__:  다음 세션(session or exam)을 위해 다음 코드를 저장하십시오. "
   ]
  },
  {
   "cell_type": "code",
   "execution_count": 8,
   "metadata": {},
   "outputs": [
    {
     "name": "stdout",
     "output_type": "stream",
     "text": [
      "number of elements N: 5\n",
      "  lengh of heap list: 6\n",
      "    heap list stored: [0, 2, 3, 6, 5, 9]\n",
      "    2\n",
      "   / \\\n",
      "  3   6\n",
      " / \\\n",
      "5   9\n",
      "\n",
      "inserting: 7 - already heap-ordered\n",
      "      2\n",
      "     / \\\n",
      "    /   \\\n",
      "   /     \\\n",
      "  3       6\n",
      " / \\     /\n",
      "5   9   7\n",
      "\n",
      "inserting: 1 - swim up, become root\n",
      "      1\n",
      "     / \\\n",
      "    /   \\\n",
      "   /     \\\n",
      "  3       2\n",
      " / \\     / \\\n",
      "5   9   7   6\n",
      "\n",
      "deleting root to sort - heap depleted\n",
      "bh_sorted: [1, 2, 3, 5, 6, 7, 9]\n",
      "number of elements N: 0\n",
      "  lengh of heap list: 1\n",
      "    heap list stored: [0]\n"
     ]
    }
   ],
   "source": [
    "#%%writefile binheap.py\n",
    "from dspy.drawtree import draw_level_order \n",
    "\n",
    "class BinHeap:\n",
    "    def __init__(self):                       # set more for min-heap, less for max-heap \n",
    "        self.heap = [0]                       # list, index 0 is not used\n",
    "        self.N = 0                            # points the last valid heap element index\n",
    "        self.comp = None                      # comparator to switch between min-heap & max-heap\n",
    "        \n",
    "    def swap(self, p, k):                     # swap two elements\n",
    "        self.heap[p], self.heap[k] = self.heap[k], self.heap[p]\n",
    "\n",
    "    def swim(self,i):                         # append key and swim up\n",
    "        while i // 2 > 0:\n",
    "            if self.heap[i] < self.heap[i // 2]:\n",
    "                self.swap(i, i//2) \n",
    "            i = i // 2\n",
    "\n",
    "    def insert(self, key):                     # check N and len(heap) before using\n",
    "        self.heap.append(key)                  # append() or list index  \n",
    "        self.N += 1  \n",
    "        self.swim(self.N)\n",
    "\n",
    "    def sink(self,i):                          # try this without using minChild()\n",
    "        while (i * 2) <= self.N:               # code is shown above\n",
    "            mc = self.minChild(i)\n",
    "            if self.heap[i] > self.heap[mc]:\n",
    "                self.swap(i, mc) \n",
    "            i = mc\n",
    "\n",
    "    def minChild(self,i):                      # used in sink, but try not to use this\n",
    "        if i * 2 + 1 > self.N:\n",
    "            return i * 2\n",
    "        else:\n",
    "            if self.heap[i*2] < self.heap[i*2+1]:\n",
    "                return i * 2\n",
    "            else:\n",
    "                return i * 2 + 1\n",
    "    \n",
    "    def delete(self):\n",
    "        retval = self.heap[1]                  # root is saved to return\n",
    "        self.heap[1] = self.heap[self.N]       # last element becomes root - need sink it\n",
    "        self.N -= 1                            # reduce size by one\n",
    "        self.heap.pop()                        # remove the last element (it will be unnecessary)\n",
    "        self.sink(1)                           # now, sink down the root to make it heap-ordered\n",
    "        return retval\n",
    "            \n",
    "    def buildHeap(self, arr):                  # build heap from input arr list\n",
    "        self.heap = [0] + arr[:]               # copy arr and set the initial heap\n",
    "        self.N = len(arr)                      # set the size\n",
    "        i = len(arr) // 2                      # get the last internal node\n",
    "        while i > 0:                           # sink from the last internal node to root 1\n",
    "            self.sink(i)                       # O(n) time complexity\n",
    "            i -= 1\n",
    "  \n",
    "    def heapify(self):                         # build heap from existing self.heap\n",
    "        self.buildHeap(self.heap[1:])\n",
    "    \n",
    "    def __str__(self):\n",
    "        return str(list(bh.heap[1:]))\n",
    "    \n",
    "    def draw(self):                            # this works for numbers only\n",
    "        draw_level_order(str(self.heap[1:]))\n",
    "            \n",
    "if __name__ == '__main__':\n",
    "    bh = BinHeap()\n",
    "    bh.buildHeap([9, 5, 6, 2, 3])\n",
    "    print('number of elements N:', bh.N)\n",
    "    print('  lengh of heap list:', len(bh.heap))\n",
    "    print('    heap list stored:', bh.heap)\n",
    "    bh.draw()\n",
    "    \n",
    "    print('\\ninserting: 7 - already heap-ordered')\n",
    "    bh.insert(7)\n",
    "    bh.draw()\n",
    "    print('\\ninserting: 1 - swim up, become root')\n",
    "    bh.insert(1)\n",
    "    bh.draw()\n",
    "    \n",
    "    print('\\ndeleting root to sort - heap depleted')\n",
    "    bh_sorted = [ bh.delete() for x in range(bh.N) ]\n",
    "    print('bh_sorted:', bh_sorted)\n",
    "    print('number of elements N:', bh.N)\n",
    "    print('  lengh of heap list:', len(bh.heap))\n",
    "    print('    heap list stored:', bh.heap)"
   ]
  },
  {
   "cell_type": "markdown",
   "metadata": {},
   "source": [
    "### Observations\n",
    "\n",
    "__관찰 1:__ 힙을 생성하는 과정 즉 BuildHeap()이 $ O(n) $로 이루어진다는 것이 이해되지 않을 수 있습니다. 이를 증명하는 것은 복잡하여 더 깊은 공부가 필요합니다. 우선 리스트에서 힙을 생성하는 것이 $ O(n) $의 시간으로 된다고 했을 때, 힙을 사용한 정렬 알고리즘이 $ O(n \\log n) $을 갖도록 만들 수 있을 것입니다.\n",
    "\n",
    "__관찰 2:__ 힙의 요소를 root부터 하나씩 제거하면서, 그 결과를 리스트에 저장해서 출력하면 정렬된 결과가 도출이 됩니다. 힙의 각 요소를 삭제하지 않고, 정렬된 결과를 얻으려면 어떻게 하면 되는지는 연습문제로 해볼 수 있습니다. \n",
    "\n",
    "__관찰 3:__ 힙의 노드는 파이썬의 리스트에 저장하고 관리됩니다. insert할 때 리스트의 마지막에 추가(append)하고, 삭제할 때에도 마지막 요소를 삭제합니다. 리스트의 root를 계속해서 삭제할 때, 이들을 차례대로 리스트의 끝에 저장하면, 이 요소들을 인하여 sorted list를 얻을 수 있습니다. 이를 연습 문제에서 시도합니다. \n",
    "\n",
    "__관찰 4:__ 요소들을 heap 데이터 구조 안에서 이동할 때마다 비교 연산이 일어납니다. 이 비교에 따라서 힙의 종류 즉 min-heap과 max-heap이 결정이 됩니다. 위의 코드는 min-heap을 구현한 것이며, 의도적으로 비교가 필요할 때마다 more()함수를 사용하였습니다. 이를 less()함수로 교체하면 위의 코드는 max-heap으로 작동합니다. 이를 연습 문제에서 시도합니다. "
   ]
  },
  {
   "cell_type": "markdown",
   "metadata": {},
   "source": [
    "# References\n",
    "- Problem Solving with Algorithms and Data Structures using Python, [Here](https://runestone.academy/runestone/books/published/pythonds3/Introduction/WhyStudyDataStructuresandAbstractDataTypes.html)\n",
    "- drawtree [Here](https://github.com/msbanik/drawtreehttps://github.com/msbanik/drawtree)\n",
    "- Proof of Time complexity [Here](https://stackoverflow.com/questions/9755721/how-can-building-a-heap-be-on-time-complexity)\n",
    "\n",
    "```\n",
    "- !where python\n",
    "- !conda update --all\n",
    "- !conda install -c conda-forge drawtree\n",
    "\n",
    "```"
   ]
  },
  {
   "cell_type": "markdown",
   "metadata": {},
   "source": [
    "------\n",
    "내가 그리스도와 함께 십자가에 못 박혔나니 그런즉 이제는 내가 사는 것이 아니요 오직 내 안에 그리스도께서 사시는 것이라 이제 내가 육체 가운데 사는 것은 나를 사랑하사 나를 위하여 자기 자신을 버리신 하나님의 아들을 믿는 믿음 안에서 사는 것이라 (갈2:20)"
   ]
  }
 ],
 "metadata": {
  "kernelspec": {
   "display_name": "Python 3 (ipykernel)",
   "language": "python",
   "name": "python3"
  },
  "language_info": {
   "codemirror_mode": {
    "name": "ipython",
    "version": 3
   },
   "file_extension": ".py",
   "mimetype": "text/x-python",
   "name": "python",
   "nbconvert_exporter": "python",
   "pygments_lexer": "ipython3",
   "version": "3.9.12"
  }
 },
 "nbformat": 4,
 "nbformat_minor": 4
}
