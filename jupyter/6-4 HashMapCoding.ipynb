{
 "cells": [
  {
   "cell_type": "markdown",
   "metadata": {},
   "source": [
    "이와 같이 성령도 우리의 연약함을 도우시나니 우리는 마땅히 기도할 바를 알지 못하나 오직 성령이 말할 수 없는 탄식으로 우리를 위하여 친히 간구하시느니라 마음을 살피시는 이가 성령의 생각을 아시나니 이는 성령이 하나님의 뜻대로 성도를 위하여 간구하심이니라 우리가 알거니와 하나님을 사랑하는 자 곧 그의 뜻대로 부르심을 입은 자들에게는 모든 것이 합력하여 선을 이루느니라 (롬8:26-28)\n",
    "\n",
    "-------\n",
    "<center><img src=\"https://github.com/idebtor/DSpy/blob/6b3676c3de29f85d2e7f30679676d1fd96d88b17/images/WelcomeToDataStructures.jpg?raw=true\" width=1000></center>\n",
    "\n",
    "__NOTE:__ The following materials have been compiled and adapted from the numerous sources including my own. Please help me to keep this tutorial up-to-date by reporting any issues or questions. Send any comments or criticisms to `idebtor@gmail.com` Your assistances and comments will be appreciated.\n",
    "\n",
    "--------"
   ]
  },
  {
   "cell_type": "markdown",
   "metadata": {},
   "source": [
    "\n",
    "# 해시 맵의 구현(Hash Map Implementation)\n",
    "\n",
    "1.1. 해시맵 추상자료형의 구현  \n",
    "1.2. 해싱 분석하기"
   ]
  },
  {
   "cell_type": "markdown",
   "metadata": {},
   "source": [
    "## 해시 맵 추상자료형의 구현\n",
    ": 파이썬으로 맵 추상자료형을 구현해봅니다."
   ]
  },
  {
   "cell_type": "markdown",
   "metadata": {},
   "source": [
    "파이썬에서 가장 유용한 자료형중 하나는 딕셔너리입니다. 딕셔너리는 key-value의 쌍으로 저장할 수 있습니다. 이때, key값은 그와 연결된 데이터 값을 얻기 위해 사용되는데, 우리는 이러한 원리를 __맵(map)/매핑(mapping)__ 이라고 부릅니다."
   ]
  },
  {
   "cell_type": "markdown",
   "metadata": {},
   "source": [
    "맵 추상자료형은 다음과 같이 정의됩니다. 맵의 구조는 순서가 정해지지 않은 key와 value의 쌍의 컬렉션으로 이루어집니다. 맵에 사용되는 키값은 모두 고유값(unique)을 갖어 데이터의 값과 일대일 관계가 성립할 수 있도록 해야합니다. 맵 추상자료형에서 사용될 연산은 다음과 같습니다."
   ]
  },
  {
   "cell_type": "markdown",
   "metadata": {},
   "source": [
    "* `Map()` : 새로운 비어있는 맵을 생성하고 리턴합니다.\n",
    "* `put(key,val)` : 맵에 새로운 key-value 쌍을 추가합니다. 맵 내에 이미 같은 키값이 존재할 경우, 이전 값을 새로운 값으로 교체합니다.\n",
    "* `get(key)` : 주어진 key값에 대한 데이터 값을 리턴합니다. 없을 경우 None을 리턴합니다.\n",
    "* `del` : 맵에 있는 key-value 쌍을 제거합니다. 사용 방식은 `del map[key]` 와 같습니다.\n",
    "* `len()` :  맵에 있는 key-value 쌍의 갯수를 리턴합니다.\n",
    "* `in` : `key in map`과 같이 사용하여 맵 내에 해당 데이터/키값의 존재 유무를 불리언값으로 리턴합니다."
   ]
  },
  {
   "cell_type": "markdown",
   "metadata": {},
   "source": [
    "딕셔너리의 큰 장점 중 하나는 키값이 주어졌을 때 해당 키와 연결된 데이터 값은 매우 빠르게 찾을 수 있다는 것입니다. 이러한 빠른 검색을 가능케 하기 위해선, 효율적인 검색이 가능하도록 구현을 잘 해야합니다. 우리가 앞서 배운 순차적 검색과 이진 검색을 사용할 수 있겠지만, 해시 테이블은 $ O(1) $의 성능을 보이기 때문에 이를 사용하는 것이 더 적절할 것입니다."
   ]
  },
  {
   "cell_type": "markdown",
   "metadata": {},
   "source": [
    "목차 2에서는 `HashTable` 클래스를 사용하여 맵 추상자료형을 구현하기 위해 두개의 리스트를 생성합니다. 첫번째 리스트인 `slot`는 키값을 갖고, 그에 상응하는 리스트인 `data`가 실제 데이터의 값을 저장할 것입니다. 따라서, 우리가 키값으로 검색을 진행하게되면, 해당 위치에 있는 data 리스트에 해당 데이터 값이 저장되어있을 것입니다. 또한, 앞서 설명했듯이, 해시 테이블의 크기는 소수로 지정하는 것이 좋습니다. 이번 예시에서는 11을 사용합니다."
   ]
  },
  {
   "cell_type": "code",
   "execution_count": 1,
   "metadata": {},
   "outputs": [],
   "source": [
    "# 목차 2\n",
    "class HashTable:\n",
    "    def __init__(self):\n",
    "        self.size = 11\n",
    "        self.slot = [None] * self.size\n",
    "        self.data = [None] * self.size"
   ]
  },
  {
   "cell_type": "markdown",
   "metadata": {},
   "source": [
    "`hashfunction`은 간단한 나머지 기법을 구현한 메서드입니다. 충돌 해결 기법은 \"더하기 1\" rehashing 기법을 적용한 linear probing을 사용할 것입니다. 목차 3에 구현된 `put` 함수는 초기에 슬롯은 비어있다고 가정을 하고, 해당 슬롯이 비어있지 않을 경우 `rehash` 함수를 반복하여 비어있는 슬롯을 찾습니다. 만약 슬롯에 같은 키값을 갖는 데이터가 저장되어있다면, 이전 데이터를 새로운 데이터로 교체하여 저장합니다."
   ]
  },
  {
   "cell_type": "code",
   "execution_count": 2,
   "metadata": {},
   "outputs": [],
   "source": [
    "# 목차 3\n",
    "def put(self,key,data):\n",
    "    hashcode = self.hashfunction(key)\n",
    "\n",
    "    if self.slot[hashcode] == None:\n",
    "        self.slot[hashcode] = key\n",
    "        self.data[hashcode] = data\n",
    "    else:\n",
    "        if self.slot[hashcode] == key:\n",
    "            self.data[hashcode] = data  #replace\n",
    "        else:\n",
    "            nextslot = self.rehash(hashcode)\n",
    "            while self.slot[nextslot] != None and self.slot[nextslot] != key:\n",
    "                nextslot = self.rehash(nextslot)\n",
    "\n",
    "        if self.slot[nextslot] == None:\n",
    "            self.slot[nextslot]=key\n",
    "            self.data[nextslot]=data\n",
    "        else:\n",
    "            self.data[nextslot] = data #replace\n",
    "\n",
    "def hashfunction(self,key,size):\n",
    "     return key%size\n",
    "\n",
    "def rehash(self,oldhash,size):\n",
    "    return (oldhash+1)%size"
   ]
  },
  {
   "cell_type": "markdown",
   "metadata": {},
   "source": [
    "이와 비슷하게, `get` 함수는 최초 해시값을 계산하는 것으로 시작합니다(목차 4 참고). 만약 최초 해시값에 해당하는 슬롯에 원하는 데이터가 있지 않다면, `rehash` 메서드를 통해 다음 슬롯을 확인하게 됩니다. 이때, 최초 확인한 슬롯으로 돌아왔는지 확인을 하여, 모든 슬롯에 대해 탐색이 완료되었음을 확인하고 결과를 리턴해주어야 합니다(line 16)."
   ]
  },
  {
   "cell_type": "markdown",
   "metadata": {},
   "source": [
    "`HashTable` 클래스가 제공할 마지막 메서드는 딕셔너리의 추가적인 기능을 더해줍니다. `__getitem__`과 `__setitem__` 메서드를 overload하여 `[]`을 사용한 접근이 가능하도록 합니다. 즉, `HashTable`의 객체를 다룰때, 우리에게 친숙한 인덱스 연산자를 활용할 수 있게 하는 것입니다."
   ]
  },
  {
   "cell_type": "code",
   "execution_count": 3,
   "metadata": {},
   "outputs": [],
   "source": [
    "# 목차 4\n",
    "def get(self,key):\n",
    "    startslot = self.hashfunction(key,len(self.slot))\n",
    "\n",
    "    data = None\n",
    "    stop = False\n",
    "    found = False\n",
    "    position = startslot\n",
    "    while self.slot[position] != None and not found and not stop:\n",
    "        if self.slot[position] == key:\n",
    "            found = True\n",
    "            data = self.data[position]\n",
    "        else:\n",
    "            position=self.rehash(position,len(self.slot))\n",
    "            if position == startslot:\n",
    "                stop = True\n",
    "    return data\n",
    "\n",
    "def __getitem__(self,key):\n",
    "    return self.get(key)\n",
    "\n",
    "def __setitem__(self,key,data):\n",
    "    self.put(key,data)"
   ]
  },
  {
   "cell_type": "markdown",
   "metadata": {},
   "source": [
    "이제, 구현한 HashTable 클래스를 사용해보겠습니다."
   ]
  },
  {
   "cell_type": "code",
   "execution_count": 4,
   "metadata": {},
   "outputs": [],
   "source": [
    "# 목차 2\n",
    "class HashTable:\n",
    "    def __init__(self):\n",
    "        self.size = 11\n",
    "        self.slot = [None] * self.size\n",
    "        self.data = [None] * self.size\n",
    "        \n",
    "    # 목차 3\n",
    "    def put(self,key,data):\n",
    "        hashcode = self.hashfunction(key)\n",
    "\n",
    "        if self.slot[hashcode] == None:\n",
    "            self.slot[hashcode] = key\n",
    "            self.data[hashcode] = data\n",
    "        else:\n",
    "            if self.slot[hashcode] == key:\n",
    "                self.data[hashcode] = data  #replace\n",
    "            else:\n",
    "                nextslot = self.rehash(hashcode)\n",
    "                while self.slot[nextslot] != None and self.slot[nextslot] != key:\n",
    "                    nextslot = self.rehash(nextslot)\n",
    "\n",
    "            if self.slot[nextslot] == None:\n",
    "                self.slot[nextslot]=key\n",
    "                self.data[nextslot]=data\n",
    "            else:\n",
    "                self.data[nextslot] = data #replace\n",
    "\n",
    "    def hashfunction(self,key):\n",
    "         return key % self.size\n",
    "\n",
    "    def rehash(self,oldhash):\n",
    "        return (oldhash+1) % self.size\n",
    "\n",
    "    # 목차 4\n",
    "    def get(self,key):\n",
    "        startslot = self.hashfunction(key)\n",
    "\n",
    "        data = None\n",
    "        stop = False\n",
    "        found = False\n",
    "        position = startslot\n",
    "        while self.slot[position] != None and not found and not stop:\n",
    "            if self.slot[position] == key:\n",
    "                found = True\n",
    "                data = self.data[position]\n",
    "            else:\n",
    "                position=self.rehash(position)\n",
    "                if position == startslot:\n",
    "                    stop = True\n",
    "        return data\n",
    "\n",
    "    def __getitem__(self,key):\n",
    "        return self.get(key)\n",
    "\n",
    "    def __setitem__(self,key,data):\n",
    "        self.put(key,data)"
   ]
  },
  {
   "cell_type": "code",
   "execution_count": 5,
   "metadata": {},
   "outputs": [
    {
     "name": "stdout",
     "output_type": "stream",
     "text": [
      "[77, 44, 55, 20, 26, 93, 17, None, None, 31, 54]\n",
      "['bird', 'goat', 'pig', 'chicken', 'dog', 'lion', 'tiger', None, None, 'cow', 'cat']\n"
     ]
    }
   ],
   "source": [
    "ht =HashTable()\n",
    "ht[54] = \"cat\"\n",
    "ht[26] = \"dog\"\n",
    "ht[93] = \"lion\"\n",
    "ht[17] = \"tiger\"\n",
    "ht[77] = \"bird\"\n",
    "ht[31] = \"cow\"\n",
    "ht[44] = \"goat\"\n",
    "ht[55] = \"pig\"\n",
    "ht[20] = \"chicken\"\n",
    "print(ht.slot)    # [77, 44, 55, 20, 26, 93, 17, None, None, 31, 54]\n",
    "print(ht.data)     # ['bird', 'goat', 'pig', 'chicken', 'dog', 'lion', 'tiger', None, None, 'cow', 'cat']"
   ]
  },
  {
   "cell_type": "markdown",
   "metadata": {},
   "source": [
    "이번엔 해시 테이블에 있는 원소에 접근하여 수정을 해볼 것입니다. 키 20에 해당하는 값이 변하는 것을 확인해보세요."
   ]
  },
  {
   "cell_type": "code",
   "execution_count": 7,
   "metadata": {},
   "outputs": [
    {
     "name": "stdout",
     "output_type": "stream",
     "text": [
      "duck\n",
      "tiger\n",
      "duck\n",
      "['bird', 'goat', 'pig', 'duck', 'dog', 'lion', 'tiger', None, None, 'cow', 'cat']\n",
      "None\n"
     ]
    }
   ],
   "source": [
    "print(ht[20])\n",
    "print(ht[17])\n",
    "ht[20] ='duck'\n",
    "print(ht[20])\n",
    "print(ht.data) # ['bird', 'goat', 'pig', 'duck', 'dog', 'lion', 'tiger', None, None, 'cow', 'cat']\n",
    "print(ht[99])  # None"
   ]
  },
  {
   "cell_type": "markdown",
   "metadata": {},
   "source": [
    "## 해싱 분석하기\n",
    ": 해싱에 대해 한번 더 생각해보고 특징을 살펴봅니다."
   ]
  },
  {
   "cell_type": "markdown",
   "metadata": {},
   "source": [
    "앞서 말한 것 처럼, 해싱에서의 검색 중 best case는 $ O(1) $를 갖습니다. 하지만, 충돌 문제가 존재하기 때문에, 단순히 비교 연산의 횟수를 정의하는 것은 쉽지 않습니다. 해싱에 대한 더 깊은 해석은 이번 수업만으로 자세히 알아볼 순 없지만, 현재까지 잘 알려진 결과를 종합하여 보았을 때, 한 데이터에 대한 비교 연산의 수를 대략적으로 계산할 수 있습니다."
   ]
  },
  {
   "cell_type": "markdown",
   "metadata": {},
   "source": [
    "해시 테이블을 분석하기 위해서 가장 중요한 정보 중 하나는 __적재율(load factor, $ \\lambda $)__ 입니다. 이론적으로, $ \\lambda $가 작을 경우, 충돌이 일어날 확률이 줄어들고, $ \\lambda $가 클 경우, 충돌이 일어날 확률이 크다는 것을 의미합니다. 즉, 적재율이 클수록 비어있는 슬롯을 찾기위한 비교 연산의 횟수가 증가함을 의미하고, chaining의 경우 한 체인에 많은 원소가 엮여있음을 의미할 것입니다."
   ]
  },
  {
   "cell_type": "markdown",
   "metadata": {},
   "source": [
    "검색은 성공적인 검색과 실패한 검색(찾는 데이터가 없는 경우)이 존재합니다. 성공적인 검색의 경우, linear probing을 사용했을 경우, 평균적인 비교 연산 횟수는 $ \\frac 1 2 (1 + \\frac 1 {1-\\lambda}) $ 이며, 실패한 검색의 경우 $ \\frac 1 2 (1 + ({\\frac 1 {1-\\lambda}})^2) $ 가 됩니다. Chaining을 사용한 경우, 성공적인 검색에선 평균적으로 $ 1 + \\frac \\lambda 2 $의 비교 연산을 실행하며, 실패한 경우 $ \\lambda $ 만큼의 비교 연산을 하게 됩니다."
   ]
  },
  {
   "cell_type": "markdown",
   "metadata": {},
   "source": [
    "# Summary"
   ]
  },
  {
   "cell_type": "markdown",
   "metadata": {},
   "source": [
    "이번 챕터에서는 해싱에 대하여 해싱을 하는 목적이 무엇이며, 해시 테이블의 기능, 효율적인 해시 함수와 충돌 해결 방법론 등에 대해 배웠습니다. 실제 데이터 베이스나 데이터 구조에서 다루는 다양한 문제에서 이러한 구조는 자주 사용됩니다. 한번 더 복습하고 예제를 풀며 공부해보시길 바랍니다."
   ]
  },
  {
   "cell_type": "markdown",
   "metadata": {},
   "source": [
    "# Problem Based Learning"
   ]
  },
  {
   "cell_type": "markdown",
   "metadata": {},
   "source": [
    "\n",
    "## [0.25p] Anagram 만들기\n",
    "\n",
    "Hash Key의 anagram 문제, 즉 두 문자열이 anagram일지라도 서로 다른 hash key를 반환할 수 있도록, 다음 주어진 `hash`함수를 수정하십시오.  \n",
    "\n",
    "참고로, 두 문자열이 나열 순서는 다르지만, 알파벳 구성이 일치하면 두 단어는 anagram이라고 합니다.  예를 들면,  \"국왕\"과 \"왕국\", \"남장\"과 \"장남\", \"cat\"과 \"act\", \"elbow\"와 \"below\"\n",
    "\n",
    "__Sample Run:__\n",
    "```\n",
    "if __name__ == '__main__':\n",
    "    print(hash(\"cat\", 11))\n",
    "    print(hash(\"act\", 11))\n",
    "    print(hash(\"elbow\", 11))\n",
    "    print(hash(\"below\", 11))\n",
    "```\n",
    "__Expected Output:__\n",
    "```\n",
    "3\n",
    "5\n",
    "0\n",
    "2\n",
    "```"
   ]
  },
  {
   "cell_type": "code",
   "execution_count": 1,
   "metadata": {},
   "outputs": [],
   "source": [
    "# Given hash method\n",
    "def hash(astring, tablesize):\n",
    "    sum = 0\n",
    "    for pos in range(len(astring)):\n",
    "        sum = sum + ord(astring[pos])\n",
    "    \n",
    "    return sum % tablesize"
   ]
  },
  {
   "cell_type": "code",
   "execution_count": 9,
   "metadata": {},
   "outputs": [],
   "source": [
    "# Possible Answer\n",
    "def hash(astring, tablesize):\n",
    "    pass"
   ]
  },
  {
   "cell_type": "code",
   "execution_count": 2,
   "metadata": {},
   "outputs": [
    {
     "name": "stdout",
     "output_type": "stream",
     "text": [
      "4\n",
      "4\n",
      "9\n",
      "9\n"
     ]
    }
   ],
   "source": [
    "if __name__ == '__main__':\n",
    "    print(hash(\"cat\", 11))\n",
    "    print(hash(\"act\", 11))\n",
    "    print(hash(\"elbow\", 11))\n",
    "    print(hash(\"below\", 11))"
   ]
  },
  {
   "cell_type": "markdown",
   "metadata": {},
   "source": [
    "## [1.75p] `HashTable` 클래스 구현하기\n",
    "\n",
    "HashTable 클래스의 메서드들 추가적으로 구현하여 __Sample Run__ 같이 출력이 되도록 하십시오. 참고로, `self.deleted = '\\0'`은 아직 사용하지 않습니다. 이 문제는 나중에 다룰 것입니다. \n",
    "\n",
    "__Sample Run:__\n",
    "```\n",
    "if __name__ == '__main__':\n",
    "    ht = HashTable()\n",
    "    keys = [54, 26, 93, 17, 77, 31, 44, 55, 20]\n",
    "    data = [\"cat\", \"dog\", \"lion\", \"ox\", \"bird\", \"cow\", \"goat\", \"pig\", \"bear\"]\n",
    "\n",
    "    for key, data in zip(keys, data):  \n",
    "        ht.put(key, data)\n",
    "\n",
    "    print(ht[20])\n",
    "    del ht[20]\n",
    "    print(ht[20])\n",
    "    print(ht)\n",
    "    ht[77] = 'BIRD'\n",
    "    ht[17] = 'KING'\n",
    "    print(ht.len())\n",
    "    print(ht)    \n",
    "    print(ht.slot)\n",
    "    print(ht.data)      \n",
    "```\n",
    "__Expected Output:__\n",
    "```\n",
    "bear\n",
    "None\n",
    "{77: 'bird', 44: 'goat', 55: 'pig', 26: 'dog', 93: 'lion', 17: 'ox', 31: 'cow', 54: 'cat'}\n",
    "8\n",
    "{77: 'BIRD', 44: 'goat', 55: 'pig', 26: 'dog', 93: 'lion', 17: 'KING', 31: 'cow', 54: 'cat'}\n",
    "[77, 44, 55, None, 26, 93, 17, None, None, 31, 54]\n",
    "['BIRD', 'goat', 'pig', None, 'dog', 'lion', 'KING', None, None, 'cow', 'cat']\n",
    "```"
   ]
  },
  {
   "cell_type": "code",
   "execution_count": 32,
   "metadata": {},
   "outputs": [
    {
     "name": "stdout",
     "output_type": "stream",
     "text": [
      "bear\n",
      "bear\n",
      "<__main__.HashTable object at 0x000002277C552F70>\n",
      "None\n",
      "<__main__.HashTable object at 0x000002277C552F70>\n",
      "[77, 44, 55, 20, 26, 93, 17, None, None, 31, 54]\n",
      "['BIRD', 'goat', 'pig', 'bear', 'dog', 'lion', 'KING', None, None, 'cow', 'cat']\n"
     ]
    }
   ],
   "source": [
    "# Given Code\n",
    "class HashTable:\n",
    "    def __init__(self):\n",
    "        self.size = 11\n",
    "        self.slot = [None] * self.size\n",
    "        self.data = [None] * self.size\n",
    "        \n",
    "    def put(self, key, data):\n",
    "        hashcode = self.hashfunction(key)\n",
    "\n",
    "        if self.slot[hashcode] == None:\n",
    "            self.slot[hashcode] = key\n",
    "            self.data[hashcode] = data\n",
    "        elif self.slot[hashcode] == key:\n",
    "            self.data[hashcode] = data          # update - replace\n",
    "        else:\n",
    "            nextslot = self.rehash(hashcode)\n",
    "            while self.slot[nextslot] is not None and self.slot[nextslot] != key:\n",
    "                nextslot = self.rehash(nextslot)\n",
    "            \n",
    "            if self.slot[nextslot] is None: \n",
    "                self.slot[nextslot] = key\n",
    "                self.data[nextslot] = data\n",
    "            else:\n",
    "                self.data[nextslot] = data #replace\n",
    "\n",
    "    def hashfunction(self, key):\n",
    "        return key % self.size\n",
    "\n",
    "    def rehash(self, oldhash):\n",
    "        return (oldhash + 1) % self.size\n",
    "\n",
    "    def get(self,key):\n",
    "        startslot = self.hashfunction(key)\n",
    "        position = startslot\n",
    "        \n",
    "        while self.slot[position] != None:\n",
    "            if self.slot[position] == key:\n",
    "                return self.data[position]\n",
    "            else:\n",
    "                position=self.rehash(position)\n",
    "                if position == startslot:\n",
    "                    return None\n",
    "        return None\n",
    "\n",
    "    def __getitem__(self,key):\n",
    "        return self.get(key)\n",
    "\n",
    "    def __setitem__(self,key,data):\n",
    "        self.put(key,data)\n",
    "        \n",
    "    # Implement From Here\n",
    "    def __delitem__(self,key):\n",
    "        pass\n",
    "\n",
    "    def len(self):\n",
    "        pass\n",
    "    \n",
    "if __name__ == '__main__':\n",
    "    ht = HashTable()\n",
    "    keys = [54, 26, 93, 17, 77, 31, 44, 55, 20]\n",
    "    data = [\"cat\", \"dog\", \"lion\", \"ox\", \"bird\", \"cow\", \"goat\", \"pig\", \"bear\"]\n",
    "\n",
    "    for key, data in zip(keys, data):  \n",
    "        ht.put(key, data)\n",
    "\n",
    "    print(ht[20])\n",
    "    del ht[20]\n",
    "    print(ht[20])\n",
    "    print(ht)\n",
    "    ht[77] = 'BIRD'\n",
    "    ht[17] = 'KING'\n",
    "    print(ht.len())\n",
    "    print(ht)    \n",
    "    print(ht.slot)\n",
    "    print(ht.data)                  "
   ]
  },
  {
   "cell_type": "markdown",
   "metadata": {},
   "source": [
    "# References\n",
    "- Problem Solving with Algorithms and Data Structures using Python, [Here](https://runestone.academy/runestone/books/published/pythonds3/Introduction/WhyStudyDataStructuresandAbstractDataTypes.html)\n",
    "    - Hashing, [Here](https://runestone.academy/ns/books/published//pythonds3/SortSearch/Hashing.html)\n"
   ]
  },
  {
   "cell_type": "markdown",
   "metadata": {},
   "source": [
    "------\n",
    "이와 같이 성령도 우리의 연약함을 도우시나니 우리는 마땅히 기도할 바를 알지 못하나 오직 성령이 말할 수 없는 탄식으로 우리를 위하여 친히 간구하시느니라 마음을 살피시는 이가 성령의 생각을 아시나니 이는 성령이 하나님의 뜻대로 성도를 위하여 간구하심이니라 우리가 알거니와 하나님을 사랑하는 자 곧 그의 뜻대로 부르심을 입은 자들에게는 모든 것이 합력하여 선을 이루느니라 (롬8:26-28)"
   ]
  }
 ],
 "metadata": {
  "kernelspec": {
   "display_name": "Python 3 (ipykernel)",
   "language": "python",
   "name": "python3"
  },
  "language_info": {
   "codemirror_mode": {
    "name": "ipython",
    "version": 3
   },
   "file_extension": ".py",
   "mimetype": "text/x-python",
   "name": "python",
   "nbconvert_exporter": "python",
   "pygments_lexer": "ipython3",
   "version": "3.8.12"
  }
 },
 "nbformat": 4,
 "nbformat_minor": 4
}
