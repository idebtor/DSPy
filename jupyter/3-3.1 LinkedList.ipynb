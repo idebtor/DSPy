{
 "cells": [
  {
   "cell_type": "markdown",
   "metadata": {},
   "source": [
    "먼저 알 것은 성경의 모든 예언은 사사로이 풀 것이 아니니 예언은 언제든지 사람의 뜻으로 낸 것이 아니요 오직 성령의 감동하심을 받은 사람들이 하나님께 받아 말한 것임이라 (벧후1:20-21)\n",
    "\n",
    "-------\n",
    "<center><img src=\"https://github.com/idebtor/DSpy/blob/6b3676c3de29f85d2e7f30679676d1fd96d88b17/images/WelcomeToDataStructures.jpg?raw=true\" width=1000></center>\n",
    "\n",
    "__NOTE:__ The following materials have been compiled and adapted from the numerous sources including my own. Please help me to keep this tutorial up-to-date by reporting any issues or questions. Send any comments or criticisms to `idebtor@gmail.com` Your assistances and comments will be appreciated.\n",
    "\n",
    "--------"
   ]
  },
  {
   "cell_type": "markdown",
   "metadata": {},
   "source": [
    "<b style=\"font-size:30px\">  Chapter 3. Linear Data Structures (선형 자료구조)</b>\n",
    "\n",
    ": 선형 자료구조란 무엇인가 (스택,큐,리스트 등)  \n",
    "\n",
    "--------------\n",
    "제 3장에서는 선형 자료구조에 대해 알아봅니다. 선형 자료구조란 무엇이며, 자료구조에 사용되는 대표적인 선형 자료구조들을 배우고 간단한 실습을 통해 구현해보며 익히게 됩니다. 자료구조의 기초가 되며, 이후 운영체제, 알고리즘, 네트워크 등 모든 영역에 활용되는 것 이므로 적극적인 자세로 재밌게 배우면 좋겠습니다!"
   ]
  },
  {
   "cell_type": "markdown",
   "metadata": {},
   "source": [
    "# 리스트\n",
    "\n",
    "1.1. Introduction  \n",
    "1.2. 리스트 추상자료형  \n",
    "1.3. 리스트 구현: 링크드 리스트  "
   ]
  },
  {
   "cell_type": "markdown",
   "metadata": {},
   "source": [
    "## Introduction\n",
    ": Linked 리스트에 대해 배웁니다."
   ]
  },
  {
   "cell_type": "markdown",
   "metadata": {},
   "source": [
    "지금까지 자료구조를 배운 스택과 큐 등의 추상자료형은 파이썬의 리스트를 사용하여 구현하였습니다. 리스트는 간단하면서도 강력한 메커니즘으로, 프로그래머가 다양한 작업에 가능하게 합니다. 하지만 리스트는 모든 프로그래밍 언어에 포함되어있지 않습니다. 이러한 경우, 프로그래머가 리스트와 같은 것을 직접 구현해야합니다.  \n",
    "리스트는 원소의 컬렉션으로서, 각 원소는 다른 원소들과의 상대적 위치를 가지고 있습니다. 이러한 종류의 리스트는 __링크드 리스트__ 라고 부릅니다. __링크드 리스트__ 에서는 첫번째 원소, 두번째 원소 등의 방식으로 원소를 부를 수 있고, 리스트의 맨앞 원소, 리스트의 맨뒤 원소를 사용할 수 있습니다.\n",
    "\n",
    "예를 들어, 시험 점수를 나타내는 정수의 집합 54, 26, 93, 17, 77, 31이 있다고 가정합시다. 이때, 리스트 구조를 표시하는 일반적인 방법인 쉼표로 값을 구분한 점을 참고하세요. 현재 리스트는 단순히 나열된 점수를 저장하고 있는 역할을 가지고, 인덱스를 통해 각 점수에 접근할 수 있습니다. 만약 시험 점수에 따른 순위 리스트를 만들면 __정렬이 된 리스트__ 가 되어(내림차순) 93, 77, 54, 31, 26, 17이 될것입니다."
   ]
  },
  {
   "cell_type": "markdown",
   "metadata": {},
   "source": [
    "## 링크드 리스트 추상자료형\n",
    ": 링크드 리스트 추상자료형의 구조와 메서드를 배웁니다."
   ]
  },
  {
   "cell_type": "markdown",
   "metadata": {},
   "source": [
    "앞서 설명한것처럼, 링크드 리스트의 구조는 원소의 컬렉션으로서, 각 원소가 다른 원소들과의 상대적인 위치를 갖는 구조를 갖습니다. 링크드 리스트에서 사용되는 연산은 다음과 같은 것들이 있습니다."
   ]
  },
  {
   "cell_type": "markdown",
   "metadata": {},
   "source": [
    "* `ListUnsorted()`: 비어있는 리스트를 생성합니다. 별다른 파라미터를 받지 않고 빈 리스트를 반환합니다.\n",
    "* `push(item)`: 리스트에 새로운 원소를 추가합니다. 추가할 원소를 받고 값을 반환하진 않습니다.\n",
    "* `push_back(item)`: 리스트에 새로운 원소를 추가합니다. 추가할 원소를 받아 리스트의 마지막 위치에 추가합니다.\n",
    "* `pop_front()`: 리스트의 가장 첫번째 원소를 제거하고, 제거한 값을 반환합니다. \n",
    "* `pop_back()`: 리스트의 가장 마지막 원소를 제거하고, 그 값을 반환합니다. \n",
    "* `pop(item)`: 주어진 원소를 리스트에서 제거하고, 그 값을 반환합니다. __(리스트에 해당 원소가 있음을 가정합니다.)__\n",
    "* `find(item)`: 주어진 원소가 리스트에 있는지 참/거짓 값으로 반환합니다.\n",
    "* `is_empty`: 리스트가 비어있는지 확인하여, 참/거짓 값을 반환합니다.\n",
    "* `size()`: 리스트에 있는 원소의 갯수를 확인합니다. 정수값을 반환합니다.\n",
    "* `index(item)`: 리스트에서 해당 원소의 위치를 확인하여 그의 인덱스를 반환합니다. \n",
    "* `insert(pos,item)`: 리스트의 특정 위치에 새로운 원소를 추가합니다. 희망하는 위치(인덱스)와 추가할 원소를 받아 리스트에 추가합니다.\n",
    "* `remove(pos)`: 리스트에서 특정 위치의 원소를 제거하고, 그 값을 반환합니다."
   ]
  },
  {
   "cell_type": "markdown",
   "metadata": {},
   "source": [
    "## 링크드 리스트 구현\n",
    ": 파이썬으로 링크드 리스트를 직접 구현해봅니다."
   ]
  },
  {
   "cell_type": "markdown",
   "metadata": {},
   "source": [
    "링크드 리스트를 구현하기 위하여 먼저 링크드 리스트(Linked List)를 구현해야합니다. 링크드 리스트는 각 원소의 위치가 서로 상대적인 관계를 갖는다는 것을 기억해봅시다. 이때 상대적인 위치관계란, 데이터의 위치가 인접한 메모리에서 연속적으로 저장되지 않아도 된다는 것을 의미합니다.\n",
    "\n",
    "예를 들어, 그림 1과 같은 원소의 컬렉션을 보십시오. 각 원소는 인접하게 나열되어있지 않고 랜덤하게 배치되어있는 것 처럼 보입니다. 만약, 이 원소들의 상대적인 관계 (ex: 원소의 앞/뒤 관계)를 가지고 있다면 단순히 링크를 따라감으로서 원소들의 상대적인 관계를 알 수 있게 됩니다."
   ]
  },
  {
   "cell_type": "markdown",
   "metadata": {},
   "source": [
    "<center><img src=\"https://github.com/idebtor/DSpy/blob/main/images/chap3/ch3-18.jpg?raw=true\" width=\"600\" title=\"Figure 1. Items Not Constrained in Their Physical Placement\"></center>\n",
    "<center>그림 1. 물리적으로 자유로운 원소들의 배치<center><br>"
   ]
  },
  {
   "cell_type": "markdown",
   "metadata": {},
   "source": [
    "<center><img src=\"https://github.com/idebtor/DSpy/blob/main/images/chap3/ch3-19.jpg?raw=true\" width=\"600\" title=\"Figure 2. Relative Positions Maintained by Explicit Links\"></center>\n",
    "<center>그림 2. 링크를 통해 상대적인 위치를 갖는 원소들<center><br>"
   ]
  },
  {
   "cell_type": "markdown",
   "metadata": {},
   "source": [
    "이때, 가장 중요한 것은 첫번째 원소의 위치가 명확히 명시되어야 한다는 것입니다. 우선 첫번째 원소가 어디에 있는지, 어떤 것인지 알게되면, 그 이후로는 다음 원소들을 추적할 수 있게 됩니다. 이는 주로 리스트의 __\"Head\"__ 로 명시됩니다. 마찬가지로, 마지막 원소는 다음 원소가 없다는 것을 알아야 합니다."
   ]
  },
  {
   "cell_type": "markdown",
   "metadata": {},
   "source": [
    "### 노드 클래스 (The `Node` Class)"
   ]
  },
  {
   "cell_type": "markdown",
   "metadata": {},
   "source": [
    "링크드 리스트 구현에 사용되는 기본 구성 요소는 __노드(node)__입니다. 각각의 노드 객체는 최소 2가지 이상의 정보를 가지고 있어야 합니다. 첫번째는 리스트 원소의 값을 가지고 있어야 합니다. 이는 주로 노드의 __데이터 영역(data field)__ 이라고 합니다. 두번째는 다음 노드에 대한 참조(링크)를 가지고 있어야 합니다. \n",
    "\n",
    "목차 1은 노드의 파이썬 구현을 보여줍니다. 노드 클래스는 앞서 말한 두가지의 정보를 갖고, data와 reference에 접근하고 수정할 수 있는 메서드를 가지고 있습니다."
   ]
  },
  {
   "cell_type": "code",
   "execution_count": 1,
   "metadata": {},
   "outputs": [],
   "source": [
    "# 목차 1\n",
    "class Node:\n",
    "    def __init__(self,initdata):\n",
    "        self._data = initdata\n",
    "        self._next = None\n",
    "\n",
    "    def get_data(self):\n",
    "        return self._data\n",
    "\n",
    "    def get_next(self):\n",
    "        return self._next\n",
    "\n",
    "    def set_data(self,newdata):\n",
    "        self._data = newdata\n",
    "\n",
    "    def set_next(self,newnext):\n",
    "        self._next = newnext"
   ]
  },
  {
   "cell_type": "markdown",
   "metadata": {},
   "source": [
    "노드 클래스는 다른 클래스와 비슷한 방식으로 생성합니다."
   ]
  },
  {
   "cell_type": "code",
   "execution_count": 2,
   "metadata": {},
   "outputs": [
    {
     "name": "stdout",
     "output_type": "stream",
     "text": [
      "93\n"
     ]
    }
   ],
   "source": [
    "temp = Node(93)\n",
    "print(temp.get_data())"
   ]
  },
  {
   "cell_type": "markdown",
   "metadata": {},
   "source": [
    "파이썬에서 제공하는 특별한 참조값인 __None__은 노드 클래스와 이후 구현할 링크드 리스트에서 아주 중요한 역할을 합니다. next가 갖는 None으로의 참조값은 다음 노드가 존재하지 않다는 것을 의미합니다. 따라서 새로운 노드를 생성할시 None을 활용하여 생성하고 값을 수정하는 것이 바람직합니다.\n",
    "\n",
    "그림 3과 그림 4는 위 예제를 그림으로 나타낸 것입니다. 데이터 영역에 93이라는 값을 주고, 다음 노드로의 참조값은 None을 가리키게 됩니다."
   ]
  },
  {
   "cell_type": "markdown",
   "metadata": {},
   "source": [
    "<center><img src=\"https://github.com/idebtor/DSpy/blob/main/images/chap3/ch3-20.jpg?raw=true\" width=\"600\" title=\"Figure 3. A Node Object Contains the Item and a Reference to the Next Node\"></center>\n",
    "<center>그림 3. 데이터와 링크 정보를 갖는 노드<center><br>"
   ]
  },
  {
   "cell_type": "markdown",
   "metadata": {},
   "source": [
    "<center><img src=\"https://github.com/idebtor/DSpy/blob/main/images/chap3/ch3-21.jpg?raw=true\" width=\"600\" title=\"Figure 4. A Typical Representation for a Node\"></center>\n",
    "<center>그림 4. 노드에 대한 전형적인 표현 그림<center><br>"
   ]
  },
  {
   "cell_type": "markdown",
   "metadata": {},
   "source": [
    "### 링크드 리스트 클래스 (The `ListUnsorted` Class)"
   ]
  },
  {
   "cell_type": "markdown",
   "metadata": {},
   "source": [
    "`ListUnsorted` 클래스는 참조(링크)로 엮여진 노드의 집합으로 만들 것입니다. 앞서 말했듯이 우리는 첫번째 노드만 안다면, 그 이후 노드는 링크를 따라 찾을 수 있습니다. 따라서 ListUnsorted 클래스 역시 첫번째 노드에 대한 참조값을 가지고 있어야 합니다. 목차 2는 생성자를 나타냅니다."
   ]
  },
  {
   "cell_type": "code",
   "execution_count": 3,
   "metadata": {},
   "outputs": [],
   "source": [
    "# 목차 2\n",
    "class ListUnsorted:\n",
    "    \n",
    "    def __init__(self):\n",
    "        self.head = None"
   ]
  },
  {
   "cell_type": "markdown",
   "metadata": {},
   "source": [
    "최초로 리스트를 생성할때 원소를 가지고 있기 때문에 다음과 같이 생성할 수 있습니다."
   ]
  },
  {
   "cell_type": "code",
   "execution_count": 4,
   "metadata": {},
   "outputs": [],
   "source": [
    "mylist = ListUnsorted()"
   ]
  },
  {
   "cell_type": "markdown",
   "metadata": {},
   "source": [
    "위 코드는 그림 5와 같은 비어있는 링크드 리스트를 생성합니다. 이렇듯, 맨앞에 사용한 시험 점수 예제를 링크드 리스트로 표현하자면 그림 6과 같을 것입니다."
   ]
  },
  {
   "cell_type": "markdown",
   "metadata": {},
   "source": [
    "<center><img src=\"https://github.com/idebtor/DSpy/blob/main/images/chap3/ch3-22.jpg?raw=true\" width=\"600\" title=\"Figure 5. An Empty List\"></center>\n",
    "<center>그림 5. 비어있는 리스트<center><br>"
   ]
  },
  {
   "cell_type": "markdown",
   "metadata": {},
   "source": [
    "<center><img src=\"https://github.com/idebtor/DSpy/blob/main/images/chap3/ch3-23.jpg?raw=true\" width=\"600\" title=\"Figure 6. A Linked List of Integers\"></center>\n",
    "<center>그림 6. 정수 데이터의 링크드 리스트 예시<center><br>"
   ]
  },
  {
   "cell_type": "markdown",
   "metadata": {},
   "source": [
    "목차 3에 보인 `is_empty` 메서드는 단순히 리스트의 \"head\"의 참조가 None을 가르키는지 확인하면 됩니다. `self.head==None`에 대한 불리언 결과값은 리스트가 비어있을 때만 참을 갖게 됩니다. 이는 앞서 강조했듯이 참조값을 None으로 설정했다는 것은 뒤에 더이상의 노드가 있지 않음을 가르키기 때문입니다."
   ]
  },
  {
   "cell_type": "code",
   "execution_count": 5,
   "metadata": {},
   "outputs": [],
   "source": [
    "# 목차 3\n",
    "def is_empty(self):\n",
    "    return self.head == None"
   ]
  },
  {
   "cell_type": "markdown",
   "metadata": {},
   "source": [
    "이제 `push`메서드를 구현하여 리스트에 새로운 원소를 추가해보겠습니다.  \n",
    "원소를 추가할때는 그 원소를 \"어디에\", \"어떻게\" 추가할 것인가가 매우 중요한 문제가 됩니다. 하지만 지금 구현하고 있는 링크드 리스트에서는 원소의 순서가 특별히 중요하지 않기 때문에, \"어디에\" 원소를 추가할 것인가는 문제가 되지 않습니다. 따라서, 리스트에 추가하기 가장 단순한 방법으로 생각해보겠습니다.\n",
    "\n",
    "링크드 리스트는 \"Head\"로 불리는 단 하나의 출입구가 존재한다는 것을 기억해보십시오. 이는 리스트의 모든 원소는 오직 첫번째 노드와 그에 저장된 next 링크를 통해 접근 가능하다는 것을 의미하고, 다시말해 리스트에 원소를 추가하기 가장 적합한 장소는 Head에 추가하는 것임을 알 수 있습니다. 그림 6에 표현된 링크드 리스트는 다음과 같이 push 메서드를 반복사용하여 만들어졌을 것입니다."
   ]
  },
  {
   "cell_type": "markdown",
   "metadata": {},
   "source": [
    "```\n",
    "mylist.push(31)\n",
    "mylist.push(77)\n",
    "mylist.push(17)\n",
    "mylist.push(93)\n",
    "mylist.push(26)\n",
    "mylist.push(54)\n",
    "```"
   ]
  },
  {
   "cell_type": "markdown",
   "metadata": {},
   "source": [
    "이때, 31은 가장 처음 리스트에 추가되었기 때문에 링크드 리스트에서는 가장 마지막 노드가 되고, 54는 첫번째 노드가 되는 것을 참고하시기 바랍니다."
   ]
  },
  {
   "cell_type": "markdown",
   "metadata": {},
   "source": [
    "`push` 메서드는 목차 4에 나타나있습니다. 리스트에 원소를 추가하는 과정은 다음과 같습니다.\n",
    "\n",
    "1. 추가할 원소의 값을 새로운 노드에 담아 저장합니다.\n",
    "2. 새로 생성한 노드의 next 참조값을, 현재 링크드 리스트의 Head, 즉 첫번째 노드의 주소값으로 지정해줍니다.\n",
    "3. 링크드 리스트의 Head를 새로 생성한 노드로 지정해줍니다."
   ]
  },
  {
   "cell_type": "markdown",
   "metadata": {},
   "source": [
    "그림 7은 위 알고리즘을 그림으로 표현한 것입니다. __원소 추가 과정의 순서__는 대단히 중요합니다. 예를 들어, 2와 3의 과정이 반대가 되면 어떻게 될까요? 그림 8은 2와 3의 과정이 바뀌었을 때의 상황을 나타낸 것입니다. 링크드 리스트의 Head 정보가 먼저 수정되었기 때문에 나머지 리스트의 정보를 잃고 자기 자신에게만 연결된 리스트가 생성되게 될 것입니다."
   ]
  },
  {
   "cell_type": "markdown",
   "metadata": {},
   "source": [
    "<center><img src=\"https://github.com/idebtor/DSpy/blob/main/images/chap3/ch3-24.jpg?raw=true\" width=\"600\" title=\"Figure 7. Adding a New Node is a Two-Step Process\"></center>\n",
    "<center>그림 7. 정수 데이터의 링크드 리스트 예시<center><br>"
   ]
  },
  {
   "cell_type": "markdown",
   "metadata": {},
   "source": [
    "<center><img src=\"https://github.com/idebtor/DSpy/blob/main/images/chap3/ch3-25.jpg?raw=true\" width=\"600\" title=\"Figure 8. Result of Reversing the Order of the Two Steps\"></center>\n",
    "<center>그림 8. 정수 데이터의 링크드 리스트 예시<center><br>"
   ]
  },
  {
   "cell_type": "markdown",
   "metadata": {},
   "source": [
    "`push`메서드에 대한 파이썬 구현은 목차 4에 나타나있습니다."
   ]
  },
  {
   "cell_type": "code",
   "execution_count": 22,
   "metadata": {},
   "outputs": [],
   "source": [
    "# 목차 4\n",
    "def push(self,item):\n",
    "    temp = Node(item)\n",
    "    temp.set_next(self.head)\n",
    "    self.head = temp"
   ]
  },
  {
   "cell_type": "markdown",
   "metadata": {},
   "source": [
    "다음으로 우리가 구현할 메서드인 `size`, `find`, `pop`은 모두 Linked list traversal이라는 기술을 활용한 메서드들입니다. _Traversal_ 이란, 시스템적으로 모든 노드를 거치는 과정을 말합니다. 이를 수행하기 위해선, 첫번째 노드에서부터의 다음 노드의 참조값을 사용하여 순차적으로 탐색을 해야합니다. 이때의 \"탐색\"을 traverse 한다고 합니다."
   ]
  },
  {
   "cell_type": "markdown",
   "metadata": {},
   "source": [
    "`size`메서드를 구현하기 위해선, 링크드 리스트를 traverse 하면서 노드의 갯수를 세야합니다. 목차 5는 링크드 리스트의 노드의 수를 세는 알고리즘을 파이썬으로 구현한 것입니다. Line 5-6을 보면 current로 저장하고 있는 노드의 위치 정보를 다음 노드로 넘어가면 'traverse'하는 과정을 볼 수 있습니다. 다음 노드의 참조값이 None이게 되면 마지막 노드임을 인지하고 탐색을 종료하게 됩니다."
   ]
  },
  {
   "cell_type": "code",
   "execution_count": 7,
   "metadata": {},
   "outputs": [],
   "source": [
    "# 목차 5\n",
    "def size(self):\n",
    "    current = self.head\n",
    "    count = 0\n",
    "    while current != None:\n",
    "        count += 1\n",
    "        current = current.get_next()\n",
    "\n",
    "    return count"
   ]
  },
  {
   "cell_type": "markdown",
   "metadata": {},
   "source": [
    "그림 9는 위 과정을 그림으로 나타낸 것입니다."
   ]
  },
  {
   "cell_type": "markdown",
   "metadata": {},
   "source": [
    "<center><img src=\"https://github.com/idebtor/DSpy/blob/main/images/chap3/ch3-26.jpg?raw=true\" width=\"600\" title=\"Figure 9. Traversing the Linked List from the Head to the End\"></center>\n",
    "<center>그림 9. 링크드 리스트의 탐색 과정<center><br>"
   ]
  },
  {
   "cell_type": "markdown",
   "metadata": {},
   "source": [
    "링크드 리스트에서 find 역시 traversal 기술을 사용하여 구현해야 합니다. 탐색을 진행하며, 현재 노드의 데이터가 찾는 데이터와 일치하는지 확인하며 다음것으로 넘어가는 것을 반복하게 됩니다. 이때, 우리가 찾는 데이터를 중간에 찾는다면 더이상 탐색하지 않고 멈출 수 있으며, 리스트의 끝까지 찾는 데이터가 없다면 리스트에 해당 데이터가 존재하지 않다고 결론지을 수 있습니다.  \n",
    "\n",
    "목차 6은 `find`메서드의 구현을 나타냅니다. `size`메서드와 마찬가지로, head에서 시작해서 순차적으로 탐색을 진행하는데, 새로운 found라는 불리언 변수를 선언하여 탐색 중간에 희망 데이터를 찾았는지 확인해줍니다."
   ]
  },
  {
   "cell_type": "code",
   "execution_count": 29,
   "metadata": {},
   "outputs": [],
   "source": [
    "# 목차 6\n",
    "def find(self,item):\n",
    "    current = self.head\n",
    "    found = False\n",
    "    while current != None and not found:\n",
    "        if current.get_data() == item:\n",
    "            found = True\n",
    "        else:\n",
    "            current = current.get_next()\n",
    "\n",
    "    return found"
   ]
  },
  {
   "cell_type": "markdown",
   "metadata": {},
   "source": [
    "`find`메서드를 통해 정수 데이터 17을 찾는다면 다음과 같이 찾을 수 있을 것입니다."
   ]
  },
  {
   "cell_type": "code",
   "execution_count": 30,
   "metadata": {},
   "outputs": [
    {
     "name": "stdout",
     "output_type": "stream",
     "text": [
      "True\n"
     ]
    }
   ],
   "source": [
    "print(mylist.find(17))"
   ]
  },
  {
   "cell_type": "markdown",
   "metadata": {},
   "source": [
    "그림 10은 해당 과정을 그림으로 나타낸 것입니다. 현재 리스트에는 17이 있기 때문에, 해당 노드까지의 탐색을 마치면 더이상 진행하지 않고 True를 반환 할 것입니다."
   ]
  },
  {
   "cell_type": "markdown",
   "metadata": {},
   "source": [
    "<center><img src=\"https://github.com/idebtor/DSpy/blob/main/images/chap3/ch3-27.jpg?raw=true\" width=\"600\" title=\"Figure 10. Successful find for the Value 17\"></center>\n",
    "<center>그림 10. 정수 데이터 17의 검색 과정<center><br>"
   ]
  },
  {
   "cell_type": "markdown",
   "metadata": {},
   "source": [
    "`pop`메서드는 두가지의 논리적 과정이 필요합니다. 첫번째로, 리스트를 탐색하여 제거하고자 하는 데이터를 찾아야합니다. 이후, 해당 데이터를 찾게되면 이를 제거해야합니다. 첫번째 과정은 find 과정과 매우 유사합니다. 앞서 구현한 `find`메서드를 그대로 활용하여, found가 True가 될시, current가 가르키는 현재의 노드를 제거하면 됩니다.  \n",
    "노드의 제거는 간단히 생각해보면 이전 노드의 링크를 현재 노드의 다음 노드로 연결시켜주면 됩니다. 하지만 안타깝게도 링크드 리스트에서는 링크를 뒤로 돌아갈 수 없기 때문에 이미 옮겨간 현재의 노드에서는 이전 노드로 돌아갈 수 없습니다. 이러한 딜레마는, traverse시 두개의 참조값을 가지고 진행하여 해결할 수 있습니다. "
   ]
  },
  {
   "cell_type": "markdown",
   "metadata": {},
   "source": [
    "`current`는 이전과 같이 탐색 과정에서의 현재 노드 정보를 가지고 있도록 활용됩니다. 이때, 새로운 참조인 `previous`를 추가로 사용합니다. previous는 항상 current 보다 한 노드 전에서 탐색을 진행합니다. 따라서, current가 탐색을 멈출 시, 우리는 previous를 활용하여 이전 노드에 접근할 수 있게 되는 것입니다."
   ]
  },
  {
   "cell_type": "markdown",
   "metadata": {},
   "source": [
    "목차 7은 `pop` 메서드의 파이썬 구현입니다. \n",
    "\n",
    "Line 3-4를 살펴보면, \"current\"는 이전 메서드들과 같이 head에 연결되어 있으나 \"previous\"는 None에 연결되어있음을 볼 수 있습니다. 이는 Head 이전의 노드는 존재하지 않기 때문이고, 앞으로 알고리즘을 진행하며 current의 참조값을 물려받기 때문에 None으로 초기화를 하는 것입니다(그림 11,12 참고). "
   ]
  },
  {
   "cell_type": "code",
   "execution_count": 26,
   "metadata": {},
   "outputs": [],
   "source": [
    "# 목차 7\n",
    "def pop(self, item):\n",
    "    current = self.head\n",
    "    previous = None\n",
    "    found = False\n",
    "    while not found:\n",
    "        if current.get_data() == item:\n",
    "            found = True\n",
    "        else:\n",
    "            previous = current\n",
    "            current = current.get_next()\n",
    "\n",
    "    if previous == None:\n",
    "        self.head = current.get_next()\n",
    "    else:\n",
    "        previous.set_next(current.get_next())"
   ]
  },
  {
   "cell_type": "markdown",
   "metadata": {},
   "source": [
    "<center><img src=\"https://github.com/idebtor/DSpy/blob/main/images/chap3/ch3-28.jpg?raw=true\" width=\"600\" title=\"Figure 11. Initial Values for the `previous` and `current` References\"></center>\n",
    "<center>그림 11. previous와 current의 초기 상태<center><br>"
   ]
  },
  {
   "cell_type": "markdown",
   "metadata": {},
   "source": [
    "<center><img src=\"https://github.com/idebtor/DSpy/blob/main/images/chap3/ch3-29.jpg?raw=true\" width=\"600\" title=\"Figure 12. `previous` and `current` Move Down the List\"></center>\n",
    "<center>그림 12. 탐색 과정에서의 previous와 current 상태<center><br>"
   ]
  },
  {
   "cell_type": "markdown",
   "metadata": {},
   "source": [
    "첫번째 과정인 탐색이 끝나면, 이제 해당 노드를 링크드 리스트에서 제거를 해야합니다. 그림 13은 일반적인 경우에서 노드를 제거하는 과정을 나타낸 것입니다. 일반적으로 리스트의 노드를 제거하는 방법은 같지만, 한가지 특별한 경우가 존재합니다. 바로 head에 해당하는 첫번째 노드의 제거입니다. 이 경우, previous는 None을 가르키고 있게되어 previous를 활용하는 것이 아니라, head의 참조값을 수정해야합니다(그림 14 참고)."
   ]
  },
  {
   "cell_type": "markdown",
   "metadata": {},
   "source": [
    "<center><img src=\"https://github.com/idebtor/DSpy/blob/main/images/chap3/ch3-30.jpg?raw=true\" width=\"600\" title=\"Figure 13. Removing an Item from the Middle of the List\"></center>\n",
    "<center>그림 13. 리스트의 중간노드의 제거<center><br>"
   ]
  },
  {
   "cell_type": "markdown",
   "metadata": {},
   "source": [
    "<center><img src=\"https://github.com/idebtor/DSpy/blob/main/images/chap3/ch3-31.jpg?raw=true\" width=\"600\" title=\"Figure 14. Removing the First Node from the List\"></center>\n",
    "<center>그림 14. 리스트의 첫번째 노드의 제거<center><br>"
   ]
  },
  {
   "cell_type": "markdown",
   "metadata": {},
   "source": [
    "목차  7에서 볼 수 있듯이, previous의 값이 None일 경우와 그렇지 않을 경우를 나누어 다르게 처리해주는 것을 볼 수 있습니다. __하지만, 이 경우가 링크드 리스트의 가장 마지막 노드를 제거할때에도 유용한지 생각해볼 필요가 있습니다. 그것은 여러분에게 맡기도록 하겠습니다.__"
   ]
  },
  {
   "cell_type": "markdown",
   "metadata": {},
   "source": [
    "노드 클래스와 링크드 리스트의 최종 파이썬 구현은 다음과 같습니다."
   ]
  },
  {
   "cell_type": "code",
   "execution_count": 2,
   "metadata": {},
   "outputs": [],
   "source": [
    "class Node:\n",
    "    def __init__(self,initdata):\n",
    "        self._data = initdata\n",
    "        self._next = None\n",
    "\n",
    "    def get_data(self):\n",
    "        return self._data\n",
    "\n",
    "    def get_next(self):\n",
    "        return self._next\n",
    "\n",
    "    def set_data(self,newdata):\n",
    "        self._data = newdata\n",
    "\n",
    "    def set_next(self,newnext):\n",
    "        self._next = newnext        "
   ]
  },
  {
   "cell_type": "code",
   "execution_count": 3,
   "metadata": {},
   "outputs": [],
   "source": [
    "class ListUnsorted:\n",
    "\n",
    "    def __init__(self):\n",
    "        self.head = None\n",
    "\n",
    "    def is_empty(self):\n",
    "        return self.head == None\n",
    "\n",
    "    def push(self,item):\n",
    "        temp = Node(item)\n",
    "        temp.set_next(self.head)\n",
    "        self.head = temp\n",
    "\n",
    "    def size(self):\n",
    "        current = self.head\n",
    "        count = 0\n",
    "        while current != None:\n",
    "            count = count + 1\n",
    "            current = current.get_next()\n",
    "\n",
    "        return count\n",
    "\n",
    "    def find(self,item):\n",
    "        current = self.head\n",
    "        found = False\n",
    "        while current != None and not found:\n",
    "            if current.get_data() == item:\n",
    "                found = True\n",
    "            else:\n",
    "                current = current.get_next()\n",
    "\n",
    "        return found\n",
    "\n",
    "    def pop(self,item):\n",
    "        current = self.head\n",
    "        previous = None\n",
    "        found = False\n",
    "        while not found:\n",
    "            if current.get_data() == item:\n",
    "                found = True\n",
    "            else:\n",
    "                previous = current\n",
    "                current = current.get_next()\n",
    "\n",
    "        if previous == None:\n",
    "            self.head = current.get_next()\n",
    "        else:\n",
    "            previous.set_next(current.get_next())"
   ]
  },
  {
   "cell_type": "code",
   "execution_count": 4,
   "metadata": {},
   "outputs": [
    {
     "name": "stdout",
     "output_type": "stream",
     "text": [
      "6\n",
      "True\n",
      "False\n",
      "True\n",
      "7\n",
      "6\n",
      "5\n",
      "4\n",
      "False\n",
      "<__main__.ListUnsorted object at 0x000001C3CDA9CAF0>\n"
     ]
    }
   ],
   "source": [
    "if __name__ == '__main__':\n",
    "    mylist = ListUnsorted()\n",
    "\n",
    "    mylist.push(31)\n",
    "    mylist.push(77)\n",
    "    mylist.push(17)\n",
    "    mylist.push(93)\n",
    "    mylist.push(26)\n",
    "    mylist.push(54)\n",
    "\n",
    "    print(mylist.size())       # 6\n",
    "    print(mylist.find(93))   # True\n",
    "    print(mylist.find(100))  # False\n",
    "\n",
    "    mylist.push(100)\n",
    "    print(mylist.find(100))  # True\n",
    "    print(mylist.size())       # 7\n",
    "\n",
    "    mylist.pop(54)\n",
    "    print(mylist.size())    # 6\n",
    "    mylist.pop(93)\n",
    "    print(mylist.size())    # 5\n",
    "    mylist.pop(31)\n",
    "    print(mylist.size())    # 4\n",
    "    print(mylist.find(93))  # False\n",
    "\n",
    "    print(mylist)"
   ]
  },
  {
   "cell_type": "markdown",
   "metadata": {},
   "source": [
    "# Summary\n",
    "\n",
    "- 위에서 마지막 부분에서 구현한 `pop(item)`메서드와 같이, 연산이 리스트의 `head`에서 이루어지는지, 혹은 다른 곳에서 일어나는지 확인하고, 그에 맞는 연산을 할 수 있도록 주의하길 바랍니다.\n",
    "\n",
    "- Linked List에서 구현해야 할 다양한 메서드들이 아직 남아 있습니다. 예를 들면, `pop_front()`, `pop_back()`, `push_back(item)`, `index(item)`, `insert(item, pos)`, `remove(pos)` 메서드입니다.  \n",
    "\n",
    "- 또한, `insert(item, pos)`와 `remove(pos)` 메서드의 경우, 리스트의 상대적 위치를 알아야합니다. 따라서 0을 시작으로 정수 인덱스를 사용해보도록 하세요."
   ]
  },
  {
   "cell_type": "markdown",
   "metadata": {},
   "source": [
    "# Discussion Questions\n",
    "\n",
    "위에서 구현한 메서드들 중에서 주어진 원소가 리스트에 있다고 가정하거나 리스트에 원소가 하나 이상 있다고 가정하는 것은, 사실상, 개발자에게나 사용자에게 합당하지 않습니다. 이러한 '가정'을 제거하는 것도 좋은 코딩 연습이 될 것입니다. 연산을 수행할 원소가 리스트에 없다면, 어떻게 처리해야 할지 생각해보십시오. \n",
    "\n",
    "* `pop(item)`: 주어진 원소를 리스트에서 제거하고, 그 값을 반환합니다. (리스트에 해당 원소가 있음을 가정합니다.)\n"
   ]
  },
  {
   "cell_type": "markdown",
   "metadata": {},
   "source": []
  },
  {
   "cell_type": "markdown",
   "metadata": {
    "tags": []
   },
   "source": [
    "# References\n",
    "- Linked Lists, [Here](https://runestone.academy/ns/books/published//pythonds3/BasicDS/Lists.html)\n",
    "- The Unordered List Abstract Data Type¶, [Here](https://runestone.academy/ns/books/published//pythonds3/BasicDS/TheUnorderedListAbstractDataType.html)"
   ]
  },
  {
   "cell_type": "markdown",
   "metadata": {},
   "source": [
    "------\n",
    "먼저 알 것은 성경의 모든 예언은 사사로이 풀 것이 아니니 예언은 언제든지 사람의 뜻으로 낸 것이 아니요 오직 성령의 감동하심을 받은 사람들이 하나님께 받아 말한 것임이라 (벧후1:20-21)"
   ]
  }
 ],
 "metadata": {
  "kernelspec": {
   "display_name": "Python 3 (ipykernel)",
   "language": "python",
   "name": "python3"
  },
  "language_info": {
   "codemirror_mode": {
    "name": "ipython",
    "version": 3
   },
   "file_extension": ".py",
   "mimetype": "text/x-python",
   "name": "python",
   "nbconvert_exporter": "python",
   "pygments_lexer": "ipython3",
   "version": "3.9.12"
  }
 },
 "nbformat": 4,
 "nbformat_minor": 4
}
