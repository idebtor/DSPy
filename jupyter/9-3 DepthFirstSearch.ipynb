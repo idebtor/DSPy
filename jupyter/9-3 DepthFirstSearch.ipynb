{
 "cells": [
  {
   "cell_type": "markdown",
   "metadata": {},
   "source": [
    "그런즉 너희는 먼저 그의 나라와 그의 의를 구하라 그리하면 이 모든 것을 너희에게 더하시리라\n",
    "그러므로 내일 일을 위하여 염려하지 말라 내일 일은 내일이 염려할 것이요 한 날의 괴로움은 그 날로 족하니라 (마6:33-34)\n",
    "\n",
    "-------\n",
    "<center><img src=\"https://github.com/idebtor/DSpy/blob/6b3676c3de29f85d2e7f30679676d1fd96d88b17/images/WelcomeToDataStructures.jpg?raw=true\" width=1000></center>\n",
    "\n",
    "__NOTE:__ The following materials have been compiled and adapted from the numerous sources including my own. Please help me to keep this tutorial up-to-date by reporting any issues or questions. Send any comments or criticisms to `idebtor@gmail.com` Your assistances and comments will be appreciated.\n",
    "\n",
    "--------"
   ]
  },
  {
   "cell_type": "markdown",
   "metadata": {},
   "source": [
    "\n",
    "<b style=\"font-size:30px\"> Chapter 9-3. Depth First Search(DFS, 깊이우선탐색) </b>\n",
    "\n",
    "# DFS Introduction\n",
    "\n",
    ": Depth First Search(깊이 우선 탐색) 알고리즘에 대해 배웁니다.\n",
    "\n",
    "__Depth First Search(DFS, 깊이 우선 탐색)__ 는 그래프의 노드를 최대한 많이 연결하며 트리의 층(level)을 깊숙히 탐색하는 탐색 알고리즘입니다. DFS를 다양한 방법으로 구현하는 것을 다음과 같이 소개합니다. \n",
    "\n",
    "- 노드 칼러링을 이용한 알고리즘\n",
    "- 재귀(Recursion)를 이용한 DFS 알고리즘\n",
    "- 반복(Interation)을 이용한 DFS 알고리즘"
   ]
  },
  {
   "cell_type": "markdown",
   "metadata": {},
   "source": [
    "## 노드 칼러링을 이용한 DFS "
   ]
  },
  {
   "cell_type": "markdown",
   "metadata": {},
   "source": [
    "__Depth First Search(DFS, 깊이 우선 탐색)__ 는 그래프의 노드를 최대한 많이 연결하며 트리의 층(level)을 깊숙히 탐색하는 탐색 알고리즘입니다. 이때, DFS는 하나 이상의 트리를 생성할 수 있습니다. 만약 DFS 알고리즘에 의해 두개 이상의 트리가 생성될 경우, 이를 __Depth First Forest__ 이라고 부릅니다. 이전에 배운 BFS와 마찬가지로 DFS는 __이전 노드(predecessor)__ 링크를 사용하여 트리를 생성합니다. 또한, DFS는 이전에 사용된 `Vertex` 클래스에 더하여 두가지 변수를 더 사용합니다. 두 변수는 __발견시간(discovery time)__ 과 __종료시간(finish time)__ 이며, 발견시간은 알고리즘 내에서 한 vertex가 발견되기 전까지의 단계(step)을 나타내고, 종료시간은 알고리즘에서 한 vertex가 검정색으로 바뀔때까지 지난 단계(step)을 나타냅니다. 이러한 발견시간과 종료시간은 이후 알고리즘에 사용될 흥미로운 속성을 갖습니다."
   ]
  },
  {
   "cell_type": "markdown",
   "metadata": {},
   "source": [
    "DFS 코드는 코드 1에 구현되어있습니다. 먼저 발견시간과 종료시간을 추적할 수 있도록 `Graph` 클래스를 상속받는 `DFSGraph` 클래스에 함수를 추가하여 구현했습니다. 이는 `Graph`클래스에 `time` 변수와 함수 `dfs`, 도움함수(helper function) `dfsvisit`를 추가하여 구현할 수 있습니다. 코드에서 line 12를 보면, DFS 코드는 특정 시작 노드에서 출발하는 것이 아니라 흰색을 갖는 모든 노드를 탐색하는 것을 알 수 있습니다. 이는 그래프의 모든 노드가 고려되었고 depth first forest에 포함되도록 하기 위함입니다."
   ]
  },
  {
   "cell_type": "markdown",
   "metadata": {},
   "source": [
    "이때 파이썬에서 한가지 생소할 수 있는 표현인 `for aVertex in self`는 `DFSGraph`를 가르키는 `self`는 DFS 그래프 내의 모든 vertex를 탐색할 수 있도록 반복할 수 있게 합니다."
   ]
  },
  {
   "cell_type": "code",
   "execution_count": 1,
   "metadata": {},
   "outputs": [],
   "source": [
    "# 코드 1\n",
    "from dspy.graphs import Graph\n",
    "class DFSGraph(Graph):\n",
    "    def __init__(self):\n",
    "        super().__init__()\n",
    "        self.time = 0\n",
    "\n",
    "    def dfs(self):\n",
    "        for aVertex in self:\n",
    "            aVertex.setColor('white')\n",
    "            aVertex.setPred(-1)\n",
    "        for aVertex in self:\n",
    "            if aVertex.getColor() == 'white':\n",
    "                self.dfsvisit(aVertex)\n",
    "\n",
    "    def dfsvisit(self,startVertex):\n",
    "        startVertex.setColor('gray')\n",
    "        self.time += 1\n",
    "        startVertex.setDiscovery(self.time)\n",
    "        for nextVertex in startVertex.getConnections():\n",
    "            if nextVertex.getColor() == 'white':\n",
    "                nextVertex.setPred(startVertex)\n",
    "                self.dfsvisit(nextVertex)\n",
    "        startVertex.setColor('black')\n",
    "        self.time += 1\n",
    "        startVertex.setFinish(self.time)"
   ]
  },
  {
   "cell_type": "markdown",
   "metadata": {},
   "source": [
    "현재 구현한 `bfs`는 시작지점으로 이어지는 path가 있는 노드만 고려하고 있으나, 그래프의 모든 노드 사이의 최단경로를 구할 수 있는 breadth first forest를 생성하는 것도 가능하다. 이는 exercise로 구현해보겠습니다. 이제 다른 두 알고리즘을 통해 그래프 알고리즘에서 depth first forest의 중요성을 살펴보겠습니다."
   ]
  },
  {
   "cell_type": "markdown",
   "metadata": {},
   "source": [
    "`dfsvisit` 메서드는 `startVertex`라는 vertex 하나로 시작하여 인접한 흰 vertex를 최대한 깊게 탐색합니다. 이때, `dfsvisit` 메서드의 코드를 자세히 관찰해보면, `bfs` 알고리즘과 아주 유사하고 `for` 반복문의 마지막 줄에서 `dfsvisit`에선 재귀호출을 사용하는 반면 `bfs`는 큐에 노드를 추가하는 차이만 존재함을 알 수 있습니다. 한가지 흥미로운 점은, `bfs`에서는 큐를 사용하는 반면, `dfsvisit`은 스택을 사용한다는 점입니다. 실제로 스택을 구현하진 않지만, 재귀적으로 호출하며 스택 구조를 내재하게 됩니다."
   ]
  },
  {
   "cell_type": "markdown",
   "metadata": {},
   "source": [
    "밑에 순차적으로 제시된 그림들은 DFS 알고리즘이 작은 그래프에서 동작하는 과정을 나타낸 것입니다. 이 그림에서 점선은 이미 확인한 edge를 의미하고, 점선이 가르키는 노드는 이미 depth first tree에 추가되었음을 의미합니다. 이는 코드에서 다른 노드가 흰색이 아닌 것을 확인하여 검증할 수 있습니다."
   ]
  },
  {
   "cell_type": "markdown",
   "metadata": {},
   "source": [
    "알고리즘은 그래프에서 vertex A에서 시작됩니다(그림 1 참고). 초기엔 모든 vertex가 흰색이기 때문에 vertex A를 탐색하게 됩니다. vertex를 방문할 때 가장 처음 하는 것은 색을 회색으로 바꾸어 탐색이 이루어짐을 나타내고, 발견시간을 1로 설정하는 것입니다. vertex A는 두개의 인접 vertex (B,D)가 있으므로 두 vertex 모두 방문해야합니다. 일단 임의적으로 알파벳 순서대로 탐색을 진행하도록 정하겠습니다."
   ]
  },
  {
   "cell_type": "markdown",
   "metadata": {},
   "source": [
    "<center> <img src=\"https://github.com/idebtor/DSpy/blob/main/images/chap8/dfs_tree_1.png?raw=true\" width=\"30%\" title=\"Figure 1. Constructing the Depth First Search Tree - 1\"> <center><br>\n",
    "<center>그림 1. DFS 트리 생성 과정 - 1<center><br>"
   ]
  },
  {
   "cell_type": "markdown",
   "metadata": {},
   "source": [
    "다음으로 vertex B를 방문합니다(그림 2 참고). vertex B를 회색으로 바꾸고 발견시간을 2로 설정합니다. 이때, vertex B 역시 두개의 인접 vertex (C,D)가 있고, 알파벳 순서대로 진행하여 vertex C로 이동합니다."
   ]
  },
  {
   "cell_type": "markdown",
   "metadata": {},
   "source": [
    "<center> <img src=\"https://github.com/idebtor/DSpy/blob/main/images/chap8/dfs_tree_2.png?raw=true\" width=\"30%\" title=\"Figure 2. Constructing the Depth First Search Tree - 2\"> <center><br>\n",
    "<center>그림 2. DFS 트리 생성 과정 - 2<center><br>"
   ]
  },
  {
   "cell_type": "markdown",
   "metadata": {},
   "source": [
    "vertex C에 이르면 되면 트리의 한 가지의 끝에 도달하게 됩니다(그림 3 참고). 따라서, vertex C에 도달하는 시점에 이를 회색으로 바꾸고 탐색시간을 3으로 설정하는 동시에 더이상 인접한 vertex가 없음을 확인합니다. 즉, vertex C를 검정색으로 바꿔도 됨을 의미하고, 종료시간을 4로 설정하게 됩니다(그림 4 참고)."
   ]
  },
  {
   "cell_type": "markdown",
   "metadata": {},
   "source": [
    "<center> <img src=\"https://github.com/idebtor/DSpy/blob/main/images/chap8/dfs_tree_3.png?raw=true\" width=\"30%\" title=\"Figure 3. Constructing the Depth First Search Tree - 3\"> <center><br>\n",
    "<center>그림 3. DFS 트리 생성 과정 - 3<center><br>"
   ]
  },
  {
   "cell_type": "markdown",
   "metadata": {},
   "source": [
    "<center> <img src=\"https://github.com/idebtor/DSpy/blob/main/images/chap8/dfs_tree_4.png?raw=true\" width=\"30%\" title=\"Figure 4. Constructing the Depth First Search Tree - 4\"> <center><br>\n",
    "<center>그림 4. DFS 트리 생성 과정 - 4<center><br>"
   ]
  },
  {
   "cell_type": "markdown",
   "metadata": {},
   "source": [
    "vertex C가 한 가지의 끝이었기 때문에 다시 vertex B로 돌아가서 그의 인접한 vertex를 이어서 탐색합니다. 이 경우, 남은 인접한 vertex인 D가 될 것입니다(그림 5 참고). vertex D는 쉽게 vertex E로 이어지게 됩니다(그림 6 참고). vertex E는 다시 2개의 인접한 vertex(B,F)가 존재합니다. 이때, 알파벳 순서에 의해 B를 우선 탐색해야하지만, 이미 회색으로 칠해져있기 때문에 알고리즘에서 이를 판별하여 다음 vertex인 F로 이동하게 됩니다(그림 7 참고)."
   ]
  },
  {
   "cell_type": "markdown",
   "metadata": {},
   "source": [
    "<center> <img src=\"https://github.com/idebtor/DSpy/blob/main/images/chap8/dfs_tree_5.png?raw=true\" width=\"30%\" title=\"Figure 5. Constructing the Depth First Search Tree - 5\"> <center><br>\n",
    "<center>그림 5. DFS 트리 생성 과정 - 5<center><br>"
   ]
  },
  {
   "cell_type": "markdown",
   "metadata": {},
   "source": [
    "<center> <img src=\"https://github.com/idebtor/DSpy/blob/main/images/chap8/dfs_tree_6.png?raw=true\" width=\"30%\" title=\"Figure 6. Constructing the Depth First Search Tree - 6\"> <center><br>\n",
    "<center>그림 6. DFS 트리 생성 과정 - 6<center><br>"
   ]
  },
  {
   "cell_type": "markdown",
   "metadata": {},
   "source": [
    "<center> <img src=\"https://github.com/idebtor/DSpy/blob/main/images/chap8/dfs_tree_7.png?raw=true\" width=\"30%\" title=\"Figure 7. Constructing the Depth First Search Tree - 7\"> <center><br>\n",
    "<center>그림 7. DFS 트리 생성 과정 - 7<center><br>"
   ]
  },
  {
   "cell_type": "markdown",
   "metadata": {},
   "source": [
    "vertex F는 인접 vertex가 C 하나밖에 없습니다. 하지만, vertex C는 이미 검정색을 갖기 때문에 알고리즘은 또하나의 가지의 탐색을 종료하게 됩니다. 이 시점부터 그림 8 부터 12까지의 과정이 진행되며 첫번째 노드로 돌아가며 종료시간 설정과 상태변경(검정색)을 수행합니다."
   ]
  },
  {
   "cell_type": "markdown",
   "metadata": {},
   "source": [
    "<center> <img src=\"https://github.com/idebtor/DSpy/blob/main/images/chap8/dfs_tree_8.png?raw=true\" width=\"30%\" title=\"Figure 8. Constructing the Depth First Search Tree - 8\"> <center><br>\n",
    "<center>그림 8. DFS 트리 생성 과정 - 8<center><br>"
   ]
  },
  {
   "cell_type": "markdown",
   "metadata": {},
   "source": [
    "<center> <img src=\"https://github.com/idebtor/DSpy/blob/main/images/chap8/dfs_tree_9.png?raw=true\" width=\"30%\" title=\"Figure 9. Constructing the Depth First Search Tree - 9\"> <center><br>\n",
    "<center>그림 9. DFS 트리 생성 과정 - 9<center><br>"
   ]
  },
  {
   "cell_type": "markdown",
   "metadata": {},
   "source": [
    "<center> <img src=\"https://github.com/idebtor/DSpy/blob/main/images/chap8/dfs_tree_10.png?raw=true\" width=\"30%\" title=\"Figure 10. Constructing the Depth First Search Tree - 10\"> <center><br>\n",
    "<center>그림 10. DFS 트리 생성 과정 - 10<center><br>"
   ]
  },
  {
   "cell_type": "markdown",
   "metadata": {},
   "source": [
    "<center> <img src=\"https://github.com/idebtor/DSpy/blob/main/images/chap8/dfs_tree_11.png?raw=true\" width=\"30%\" title=\"Figure 11. Constructing the Depth First Search Tree - 11\"> <center><br>\n",
    "<center>그림 11. DFS 트리 생성 과정 - 11<center><br>"
   ]
  },
  {
   "cell_type": "markdown",
   "metadata": {},
   "source": [
    "<center> <img src=\"https://github.com/idebtor/DSpy/blob/main/images/chap8/dfs_tree_12.png?raw=true\" width=\"30%\" title=\"Figure 12. Constructing the Depth First Search Tree - 12\"> <center><br>\n",
    "<center>그림 12. DFS 트리 생성 과정 - 12<center><br>"
   ]
  },
  {
   "cell_type": "markdown",
   "metadata": {},
   "source": [
    "각 노드의 시작과 종료 시간은 __괄호 속성(Parenthesis Property)__ 을 나타냅니다. 이 속성은 수식의 괄호와 같이 자손(children)노드는 항상 부모 노드보다 늦은 발견시간을 갖고 더 빠른 종료시간을 갖음을 의미합니다. 그림 13은 DFS 알고리즘에 의해 생성된 트리를 나타냅니다."
   ]
  },
  {
   "cell_type": "markdown",
   "metadata": {},
   "source": [
    "<center> <img src=\"https://github.com/idebtor/DSpy/blob/main/images/chap8/dfs_tree_final.png?raw=true\" width=\"30%\" title=\"Figure 13. The Resulting Depth First Search Tree\"> <center><br>\n",
    "<center>그림 13. DFS 트리 생성 결과<center><br>"
   ]
  },
  {
   "cell_type": "markdown",
   "metadata": {},
   "source": [
    "## 재귀(Recursion)를 이용한 DFS 알고리즘\n",
    "재귀를 이용한 DFS 알고리즘은 가장 간단합니다. 그러나, 재귀를 사용하기 때문에 좀 더 생각하고, 그 원리를 이해하는 것이 중요합니다. \n",
    "\n",
    "DFS 재귀 알고리즘은 다음과 같습니다 \n",
    "\n",
    "__Recursive DFS Algorithm:__\n",
    "\n",
    "1. Mark the source vertex v as visited (or save it as a part of path).\n",
    "1. For every neighbor w of v if not visited, \u000b",
    "recursively call this function for that vertex w.\n",
    "1. Stop either when all vertices are visited, or the target vertex is found."
   ]
  },
  {
   "cell_type": "markdown",
   "metadata": {},
   "source": [
    "이를 Psuedo Code로 표현하면 다음과 같습니다. \n",
    "\n",
    "__Recursive DFS Pseudo Code:__\n",
    "```\n",
    "def DFS(g, v):\n",
    "    add v to path\n",
    "    for each neighbor w of v\n",
    "        if w not in path: \n",
    "            DFS(g, w)\n",
    "```"
   ]
  },
  {
   "cell_type": "markdown",
   "metadata": {},
   "source": [
    "## DFS 알고리즘 예제 \n",
    "다음의 그래프를 edge list로 만들고, 이를 이용하여 그래프 객체를 만들어 알고리즘을 Pseudo 코드로 손코딩하고, 이를 추적해본 후, 코딩을 하는 것은 좋은 연습이 될 것입니다.\n",
    "\n",
    "<center> <img src=\"https://github.com/idebtor/DSpy/blob/355c5970bb824c7053ce2df888627df2999b9ef7/images/chap8/graphDFSabcdefg.png?raw=true\" width=\"30%\" title=\"Figure 14. Recursive DFS Example\"> </center><br>\n",
    "<center>그림 14. 재귀 DFS 예제 abcdefg.txt </center><br>\n",
    "\n",
    "위의 그래프의 edge list 파일은 다음과 같이 작성할 수 있습니다. "
   ]
  },
  {
   "cell_type": "code",
   "execution_count": 5,
   "metadata": {},
   "outputs": [
    {
     "name": "stdout",
     "output_type": "stream",
     "text": [
      "Writing abcdefg.txxt\n"
     ]
    }
   ],
   "source": [
    "%%writefile abcdefg.txxt\n",
    "A B\n",
    "A C\n",
    "A E\n",
    "B D\n",
    "B F\n",
    "C G\n",
    "E F"
   ]
  },
  {
   "cell_type": "markdown",
   "metadata": {},
   "source": [
    "이에 따른 인접 리스트를 작성해보면 다음과 같습니다.\n",
    "```\n",
    "A: B C E  \n",
    "B: A D F\n",
    "C: A G\n",
    "E: A F\n",
    "D: B\n",
    "F: B E\n",
    "G: C\n",
    "```\n",
    "\n",
    "위 인접 리스트와 recursive DFS pseudo code를 따라 추적을 해보면 다음과 같습니다. "
   ]
  },
  {
   "cell_type": "markdown",
   "metadata": {},
   "source": [
    "```\n",
    "DFS(A)\n",
    "path[A]\n",
    "A_w[B, C, E]\n",
    "    DFS(B)\n",
    "    path[A, B]\n",
    "    B_w[A, D, F]\n",
    "        DFS(D)\n",
    "        path[A, B, D]\n",
    "        D_w[B]\n",
    "        DFS(F)\n",
    "        path[A, B, D, F]\n",
    "        F_w[B, E]\n",
    "            DFS(E)\n",
    "            path[A, B, D, F, E]\n",
    "            E_w[A, F]\n",
    "    DFS(C)\n",
    "    path[A, B, D, F, E, C]\n",
    "    C_w[A, G]\n",
    "        DFS(G)\n",
    "        path[A, B, D, F, E, C, G]\n",
    "        G_w[C]       \n",
    "```"
   ]
  },
  {
   "cell_type": "markdown",
   "metadata": {},
   "source": [
    "## Recursive DFS 알고리즘 구현\n",
    "\n",
    "재귀를 사용하는 DFS 알고리즘의 pseudo code를 거의 그대로 구현한 DFS 클래스를 구현하면 다음과 같습니다. 곧바로 테스를 해볼 수 있습니다. \n",
    "\n",
    "__Expected Output:__\n",
    "```\n",
    "['A', 'B', 'D', 'F', 'E', 'C', 'G']\n",
    "```"
   ]
  },
  {
   "cell_type": "code",
   "execution_count": 3,
   "metadata": {},
   "outputs": [
    {
     "name": "stdout",
     "output_type": "stream",
     "text": [
      "A: B C E\n",
      "B: A D F\n",
      "C: A G\n",
      "E: A F\n",
      "D: B\n",
      "F: B E\n",
      "G: C\n",
      "\n",
      "['A', 'B', 'D', 'F', 'E', 'C', 'G']\n"
     ]
    }
   ],
   "source": [
    "from graph import Graph\n",
    "\n",
    "class DFS:\n",
    "    def __init__(self, g, s):\n",
    "        self._path = []\n",
    "        self.dfs(g, s)\n",
    "    \n",
    "    def dfs(self, g, v):        # recursive DFS\n",
    "        if g.countV() == len(self._path): return\n",
    "        \n",
    "        self._path.append(v)\n",
    "        for w in g.neighbors(v):\n",
    "            if w not in self._path:\n",
    "                self.dfs(g, w)\n",
    "                \n",
    "if __name__ == '__main__':\n",
    "    g = Graph(\"abcdefg.txt\")    \n",
    "    print(g)\n",
    "    dfs = DFS(g, 'A')\n",
    "    print(dfs._path)\n",
    "                "
   ]
  },
  {
   "cell_type": "markdown",
   "metadata": {},
   "source": [
    "## Iterative DFS 알고리즘\n",
    "\n",
    "__Iterative DFS Algorithm:__\n",
    "\n",
    "1. Mark the source vertex v to the stack.   \n",
    "1. Repeat if stack is not empty   \n",
    "    1. Pop stack for v and add v to path (as visited)\n",
    "    1. For each neighbor w of v, push w to stack if not in path\n",
    "    \n",
    "\n",
    "__Iterative DFS Pseudo Code:__\n",
    "```\n",
    "def IDFS(g, v):\n",
    "    push v to stack \n",
    "    while stack:\n",
    "        v = pop stack & add v to path \n",
    "        for each neighbor w of v:\n",
    "            if w not in path\n",
    "                push w stack\n",
    "```\n",
    "\n",
    "__Expected Output:__\n",
    "```\n",
    "recursive DFS: A, B, D, F, E, C, G\n",
    "iterative DFS: A, E, F, B, D, C, G\n",
    "```\n"
   ]
  },
  {
   "cell_type": "markdown",
   "metadata": {},
   "source": [
    "```\n",
    "stack: ['A']            path: []          \n",
    "stack: ['B', 'C', 'E']  path: ['A']     \n",
    "stack: ['B', 'C', 'F']  path: ['A', 'E']\n",
    "stack: ['B', 'C', 'B']  path: ['A', 'E', 'F']\n",
    "stack: ['B', 'C', 'D']  path: ['A', 'E', 'F', 'B']\n",
    "stack: ['B', 'C']       path: ['A', 'E', 'F', 'B', 'D']\n",
    "stack: ['B', 'G']       path: ['A', 'E', 'F', 'B', 'D', 'C']\n",
    "stack: ['B']            path: ['A', 'E', 'F', 'B', 'D', 'C', 'G']\n",
    "```"
   ]
  },
  {
   "cell_type": "markdown",
   "metadata": {},
   "source": [
    "## Iterative DFS 알고리즘 코딩  \n",
    "위와 같이 Pseudo Code를 추적해본 후에 코딩을 하면 좀 더 수월할 것입니다. 특히 IDFS 클래스를 DFS 클래스를 상속을 받는 subclass로 정의하면 되는데 이것을 숙제 연습문제로 남겨 둡니다. "
   ]
  },
  {
   "cell_type": "markdown",
   "metadata": {},
   "source": [
    "## DFS 알고리즘 분석\n",
    ": DFS 알고리즘의 시간복잡도를 평가해봅니다."
   ]
  },
  {
   "cell_type": "markdown",
   "metadata": {},
   "source": [
    "일반적으로 DFS알고리즘은 그래프의 모든 vertex를 한번씩 방문하기 때문에, `dfsvisit`을 제외하고 `dfs` 함수에 나오는 반복문은 $O(V)$을 갖습니다. `dfsvisit`에서는 현재 vertex의 인접리스트에 각 edge마다 반복문이 실행되기 때문에 $O(E)$를 갖습니다. 따라서, 최종적으로 DFS는 $O(V + E)$의 시간복잡도를 갖습니다."
   ]
  },
  {
   "cell_type": "code",
   "execution_count": null,
   "metadata": {},
   "outputs": [],
   "source": []
  },
  {
   "cell_type": "markdown",
   "metadata": {},
   "source": [
    "# Summary"
   ]
  },
  {
   "cell_type": "markdown",
   "metadata": {},
   "source": [
    "이전 시간에 배운 BFS에 이어 DFS 알고리즘에 대해 배웠습니다. 자칫 헷갈릴 수 있으니 둘의 차이를 정확히 구분하고 정리하며 공부하면 좋을 것 같습니다. 또한 DFS 코드에 print문을 삽입하여 알고리즘의 과정을 직접 출력하며 흐름을 따라가는 것도 도움이 될 것입니다."
   ]
  },
  {
   "cell_type": "markdown",
   "metadata": {},
   "source": [
    "# Discussion Questions"
   ]
  },
  {
   "cell_type": "markdown",
   "metadata": {},
   "source": []
  },
  {
   "cell_type": "markdown",
   "metadata": {},
   "source": [
    "# Exercises\n",
    "\n",
    "## Iterative DFS 알고리즘 코딩  \n",
    "위와 같이 Pseudo Code를 추적해본 후에 코딩을 하면 좀 더 수월할 것입니다. 특히 IDFS 클래스를 DFS 클래스를 상속을 받는 subclass로 정의하면 됩니다.\n",
    "\n",
    "<center> <img src=\"https://github.com/idebtor/DSpy/blob/14135da7b2ec5be8f266121f378571402aef08f1/images/chap8/graphIDFSroute7.png?raw=true\" width=\"60%\" title=\"Figure 1. Iterative DFS route7.txt\"> </center><br>\n",
    "<center>그림 1. IDFS route7.txt </center><br>\n",
    "\n",
    "Iterative DFS로 기대되는 인접 리스트와 IDFS 순회의 결과는 아래와 같습니다. "
   ]
  },
  {
   "cell_type": "markdown",
   "metadata": {},
   "source": [
    "__Expected Output:__\n",
    "```\n",
    "ORD: PHX HOU ATL JFK\n",
    "PHX: ORD DFW\n",
    "MCO: DFW JFK\n",
    "DFW: MCO PHX\n",
    "HOU: ORD\n",
    "JFK: MCO ORD\n",
    "ATL: ORD\n",
    "\n",
    "['ORD', 'JFK', 'MCO', 'DFW', 'PHX', 'ATL', 'HOU']\n",
    "```\n",
    "\n",
    "__Solution:__"
   ]
  },
  {
   "cell_type": "code",
   "execution_count": null,
   "metadata": {},
   "outputs": [],
   "source": [
    "class IDFS(DFS):    \n",
    "    def dfs(self, graph, v):  # iterative DFS\n",
    "        stack = [v]           # use list as a stack\n",
    "\n",
    "        while stack:\n",
    "            pass\n",
    "            # your code here\n",
    "\n",
    "if __name__ == '__main__':\n",
    "    g = Graph(\"route7.txt\")    \n",
    "    dfs = IDFS(g, \"ORD\")\n",
    "    print(dfs._path)"
   ]
  },
  {
   "cell_type": "markdown",
   "metadata": {},
   "source": [
    "## 참고자료\n",
    "- Problem Solving with Algorithms and Data Structures using Python, [Here](https://runestone.academy/runestone/books/published/pythonds3/Introduction/WhyStudyDataStructuresandAbstractDataTypes.html)\n",
    "- Python-추상적 자료형(ADT)과 자료 구조(Data Structure), [Here](https://ybdata-sci.tistory.com/16)\n"
   ]
  },
  {
   "cell_type": "markdown",
   "metadata": {},
   "source": [
    "------\n",
    "그런즉 너희는 먼저 그의 나라와 그의 의를 구하라 그리하면 이 모든 것을 너희에게 더하시리라\n",
    "그러므로 내일 일을 위하여 염려하지 말라 내일 일은 내일이 염려할 것이요 한 날의 괴로움은 그 날로 족하니라"
   ]
  }
 ],
 "metadata": {
  "kernelspec": {
   "display_name": "Python 3 (ipykernel)",
   "language": "python",
   "name": "python3"
  },
  "language_info": {
   "codemirror_mode": {
    "name": "ipython",
    "version": 3
   },
   "file_extension": ".py",
   "mimetype": "text/x-python",
   "name": "python",
   "nbconvert_exporter": "python",
   "pygments_lexer": "ipython3",
   "version": "3.8.3"
  }
 },
 "nbformat": 4,
 "nbformat_minor": 4
}
