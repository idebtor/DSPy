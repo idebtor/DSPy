{
 "cells": [
  {
   "cell_type": "markdown",
   "id": "4b088d00-7e76-46bd-a014-8fa67c0916a4",
   "metadata": {},
   "source": [
    "또 어려서부터 성경을 알았나니 성경은 능히 너로 하여금 그리스도 예수 안에 있는 믿음으로 말미암아 구원에 이르는 지혜가 있게 하느니라 모든 성경은 하나님의 감동으로 된 것으로 교훈과 책망과 바르게 함과 의로 교육하기에 유익하니 이는 하나님의 사람으로 온전하게 하며 모든 선한 일을 행할 능력을 갖추게 하려 함이라 (딤후3:15-17)\n",
    "\n",
    "-------\n",
    "<center><img src=\"https://github.com/idebtor/DSpy/blob/6b3676c3de29f85d2e7f30679676d1fd96d88b17/images/WelcomeToDataStructures.jpg?raw=true\" width=1000></center>\n",
    "\n",
    "__NOTE:__ The following materials have been compiled and adapted from the numerous sources including my own. Please help me to keep this tutorial up-to-date by reporting any issues or questions. Send any comments or criticisms to `idebtor@gmail.com` Your assistances and comments will be appreciated.\n",
    "\n",
    "--------"
   ]
  },
  {
   "cell_type": "markdown",
   "id": "1cb3a0ee-eeec-4648-92ca-1a650e9ea835",
   "metadata": {},
   "source": [
    "<b style=\"font-size:30px\">  Chapter 3. Linear Data Structures (선형 자료구조) </b>\n",
    "\n",
    ": 선형 자료구조란 무엇인가 (스택,큐,리스트 등)  \n",
    "\n",
    "--------------\n",
    "제 3장에서는 선형 자료구조에 대해 알아봅니다. 선형 자료구조란 무엇이며, 자료구조에 사용되는 대표적인 선형 자료구조들을 배우고 간단한 실습을 통해 구현해보며 익히게 됩니다. 자료구조의 기초가 되며, 이후 운영체제, 알고리즘, 네트워크 등 모든 영역에 활용되는 것 이므로 적극적인 자세로 재밌게 배우면 좋겠습니다!"
   ]
  },
  {
   "cell_type": "markdown",
   "id": "d361cd70-1e4d-46b4-8219-1cde2bc44f81",
   "metadata": {},
   "source": [
    "# Problem Based Learning: Circular Queue\n",
    "\n",
    "## Problem 1\n",
    "다음은 `QueueCircular` 클래스 코드는 강의에서 소개된 간단한 (버그를 포함한) Code snippet입니다. 주어진 스텝에 따라 가면서 Sample Run을 가이드라인으로 참고하여 `QueueCircular`클래스를 완성하십시오. "
   ]
  },
  {
   "cell_type": "code",
   "execution_count": 53,
   "id": "761a0b75-6469-4cfc-8e91-1e4f603117d7",
   "metadata": {},
   "outputs": [],
   "source": [
    "class QueueCircular:\n",
    "    def __init__(self, size):\n",
    "        self.items = [None] * size\n",
    "        self.MAX = size\n",
    "        self.front = -1\n",
    "        self.back = -1\n",
    "        \n",
    "    def enqueue(self, item): # if not full\n",
    "        if (self.back + 1) % self.MAX == self.front:\n",
    "            print(\"The circular queue is full.\")\n",
    "        elif self.front == -1:\n",
    "            self.front = 0\n",
    "            self.back = 0\n",
    "            self.items[self.back] = item\n",
    "        else:\n",
    "            self.back = (self.back + 1) % self.MAX  \n",
    "            self.items[self.back] = item\n",
    "\n",
    "    def dequeue(self): # if not empty\n",
    "        if self.front == -1:\n",
    "            print(\"The circular queue is empty.\")\n",
    "        elif self.front == self.back:\n",
    "            item = self.items[self.front]\n",
    "            self.front = -1\n",
    "            self.back = -1\n",
    "            self.items[self.back] = item\n",
    "        else:\n",
    "            item = self.items[self.front]\n",
    "            self.front = (self.front + 1) % self.MAX  \n",
    "            return item\n",
    "\n",
    "    def is_empty(self):\n",
    "        return self.front == -1"
   ]
  },
  {
   "cell_type": "markdown",
   "id": "d517e25f-9c86-480d-b893-b2adcd876936",
   "metadata": {},
   "source": [
    "### Step 1\n",
    "\n",
    "위에 주어진 `QueueCircular()` 클래스 코드에 존재하는 버그를 찾기 위하여 다양한 경우를 시험하여 보십시오. \n",
    "- 위 코드의 버그가 나타낼 수 있는 간단한 예제를 제시하십시오. \n",
    "- 위 코드의 버그를 수정한 코드를 아래 셀에 제시하고, 다시 테스트하십시오. \n",
    "\n",
    "__Place your test case to show the bug:__"
   ]
  },
  {
   "cell_type": "code",
   "execution_count": 54,
   "id": "d2ec3b1d-1e37-4353-9ddc-6500bdc068c1",
   "metadata": {},
   "outputs": [],
   "source": [
    "# a simple test case to show here the bug in the code above\n",
    "if __name__ == '__main__':  \n",
    "    q = QueueCircular(4)           \n",
    "    None"
   ]
  },
  {
   "cell_type": "markdown",
   "id": "72c8fcdf-b355-4190-91b7-1bb5f8df4a3f",
   "metadata": {},
   "source": [
    "__Place your code debugged and the simple case to test here:__"
   ]
  },
  {
   "cell_type": "code",
   "execution_count": null,
   "id": "70d51303-fa9c-492c-8782-4cb60e688793",
   "metadata": {},
   "outputs": [],
   "source": [
    "class QueueCircular:\n",
    "    def __init__(self, size):\n",
    "        self.items = [None] * size\n",
    "        self.MAX = size\n",
    "        self.front = -1\n",
    "        self.back = -1\n",
    "        \n",
    "    def enqueue(self, item): # if not full\n",
    "        if (self.back + 1) % self.MAX == self.front:\n",
    "            print(\"The circular queue is full.\")\n",
    "        elif self.front == -1:\n",
    "            self.front = 0\n",
    "            self.back = 0\n",
    "            self.items[self.back] = item\n",
    "        else:\n",
    "            self.back = (self.back + 1) % self.MAX  \n",
    "            self.items[self.back] = item\n",
    "\n",
    "    def dequeue(self): # if not empty\n",
    "        if self.front == -1:\n",
    "            print(\"The circular queue is empty.\")\n",
    "        elif self.front == self.back:\n",
    "            item = self.items[self.front]\n",
    "            self.front = -1\n",
    "            self.back = -1\n",
    "            return item\n",
    "        else:\n",
    "            item = self.items[self.front]\n",
    "            self.front = (self.front + 1) % self.MAX  \n",
    "            return item\n",
    "\n",
    "    def is_empty(self):\n",
    "        return self.front == -1\n",
    "    \n",
    "# a simple test case here to show the bug fixed in the code above\n",
    "if __name__ == '__main__':\n",
    "    None "
   ]
  },
  {
   "cell_type": "markdown",
   "id": "7cc55491-bea9-489b-b9a5-054bdb939eed",
   "metadata": {},
   "source": [
    "### Step 2\n",
    "- 코드 디버깅을 할 때, Queue의 `items`, `front`와 `back`을 출력을 해보면 도움이 됩니다. 이 세가지를 출력하는 `dumpout()` 메소드를 구현하십시오. \n",
    "- `is_full()` 메소드를 구현하십시오. 개발자가 이 메소드를 직접 사용하지 않을지라도, 클래스의 완성도를 높이며 외부 사용자가 사용할 수 있도록 하는 배려입니다. \n",
    "- 지금의 `dequeue()`를 실행하면 item을 반환되고, `front`을 조정합니다. `items[]`의 내용 자체는 변화가 없습니다.  코드를 디버깅할 때 도움이 될 수 있도록 `dequeue()`를 실행한 `items[]`의 item을 `None`으로 대체하십시오. \n",
    "- `size()` 메소드를 정의하십시오. 이 부분을 정확히 이해하면, Circluar Queue를 이해하고, 이를 구현하는데 도움이 됩니다. "
   ]
  },
  {
   "cell_type": "markdown",
   "id": "4842eb18-9d23-42a0-9aed-9a69c5173c8e",
   "metadata": {
    "tags": []
   },
   "source": [
    "__Sample Run:__\n",
    "```\n",
    "if __name__ == '__main__':\n",
    "    q = QueueCircular(4)\n",
    "    print('size:', q.size())\n",
    "    q.dumpout()\n",
    "    q.dequeue()\n",
    "    q.enqueue(12)  \n",
    "    q.enqueue(17)  \n",
    "    q.enqueue(25)  \n",
    "    q.dequeue() \n",
    "    q.enqueue(11)\n",
    "    print('size:', q.size())\n",
    "    q.dumpout()\n",
    "    print('dequeue:', q.dequeue())\n",
    "    print('dequeue:', q.dequeue()) \n",
    "    q.enqueue(55)\n",
    "    print('size:', q.size())\n",
    "    q.dumpout()   \n",
    "```"
   ]
  },
  {
   "cell_type": "markdown",
   "id": "f1f4b665-78ba-470b-a671-70bdc589bc60",
   "metadata": {
    "tags": []
   },
   "source": [
    "__Expected Output:__\n",
    "```\n",
    "size: 0\n",
    "dump items: [None, None, None, None]\n",
    "dump front:back: [-1:-1]\n",
    "The circular queue is empty[-1:-1].\n",
    "size: 3\n",
    "dump items: [None, 17, 25, 11]\n",
    "dump front:back: [1:3]\n",
    "dequeue: 17\n",
    "dequeue: 25\n",
    "size: 2\n",
    "dump items: [55, None, None, 11]\n",
    "dump front:back: [3:0]\n",
    "```"
   ]
  },
  {
   "cell_type": "code",
   "execution_count": 40,
   "id": "d2ecf803-dc32-4671-a757-50fcd442a890",
   "metadata": {},
   "outputs": [
    {
     "name": "stdout",
     "output_type": "stream",
     "text": [
      "size: 0\n",
      "dump items: [None, None, None, None]\n",
      "dump front:back: [-1:-1]\n",
      "The circular queue is empty[-1:-1].\n",
      "size: 3\n",
      "dump items: [None, 17, 25, 11]\n",
      "dump front:back: [1:3]\n",
      "dequeue: 17\n",
      "dequeue: 25\n",
      "size: 2\n",
      "dump items: [55, None, None, 11]\n",
      "dump front:back: [3:0]\n"
     ]
    }
   ],
   "source": [
    "# use the bug fixed version here, and add the code to show the specs\n",
    "class QueueCircular:\n",
    "    def __init__(self, size):\n",
    "        self.items = [None] * size\n",
    "        self.MAX = size\n",
    "        self.front = -1\n",
    "        self.back = -1\n",
    "        \n",
    "    def enqueue(self, item): # if not full\n",
    "        if (self.back + 1) % self.MAX == self.front:\n",
    "            print(\"The circular queue is full.\")\n",
    "        elif self.front == -1:\n",
    "            self.front = 0\n",
    "            self.back = 0\n",
    "            self.items[self.back] = item\n",
    "        else:\n",
    "            self.back = (self.back + 1) % self.MAX  \n",
    "            self.items[self.back] = item\n",
    "\n",
    "    def dequeue(self): # if not empty\n",
    "        if self.front == -1:\n",
    "            print(\"The circular queue is empty.\")\n",
    "        elif self.front == self.back:\n",
    "            item = self.items[self.front]\n",
    "            self.front = -1\n",
    "            self.back = -1\n",
    "            return item\n",
    "        else:\n",
    "            item = self.items[self.front]\n",
    "            self.front = (self.front + 1) % self.MAX  \n",
    "            return item\n",
    "        \n",
    "    def dumpout(self):\n",
    "        None\n",
    "        \n",
    "    def size(self):\n",
    "        None\n",
    "\n",
    "if __name__ == '__main__':\n",
    "    q = QueueCircular(4)\n",
    "    print('size:', q.size())\n",
    "    q.dumpout()\n",
    "    q.dequeue()\n",
    "    q.enqueue(12)  \n",
    "    q.enqueue(17)  \n",
    "    q.enqueue(25)  \n",
    "    q.dequeue() \n",
    "    q.enqueue(11)\n",
    "    print('size:', q.size())\n",
    "    q.dumpout()\n",
    "    print('dequeue:', q.dequeue())\n",
    "    print('dequeue:', q.dequeue()) \n",
    "    q.enqueue(55)\n",
    "    print('size:', q.size())\n",
    "    q.dumpout()        "
   ]
  },
  {
   "cell_type": "markdown",
   "id": "d6d98059-a600-4c93-9221-91bd8c90120a",
   "metadata": {},
   "source": [
    "## Problem 2\n",
    "\n",
    "### Step 1\n",
    "다음은 `QueueCircular` 클래스를 수정하여, 파이썬 `deque`의 `maxlen` 특성을 일부분 살릴 수 있는 `QueueMaxlen` 클래스를 작성하십시오. \n",
    "\n",
    "- `QueueMaxlen`는 항상 `maxlen`을 유지하며, `enqueue()`메소드에서 overflow가 일어나려고 할 때, `front`에 있는 가장 오래된 요소를 삭제하여 입력되는 최근의 요소들을 항상 입력되도록 합니다. 이러한 큐에서는 overflow가 일어나지 않습니다. \n",
    "- Default `maxlen = 3` 으로 설정합니다. \n",
    "\n",
    "__Hints:__\n",
    "- 객체의 출력을 위해 `__repr__()` 메소드를 재정의하는 것을 추천합니다. \n",
    "- 객체를 출력할 때, 요소들은 쉼표(,)로 분리되어 있습니다. "
   ]
  },
  {
   "cell_type": "markdown",
   "id": "ab9e1d03-f8db-4d25-b4f3-26a3057932ce",
   "metadata": {},
   "source": [
    "__Sample Run:__\n",
    "```\n",
    "if __name__ == '__main__':\n",
    "    four = QueueMaxlen(maxlen = 4)\n",
    "    print(four)\n",
    "    for i in range(5, 10):        # Discard 5      \n",
    "        four.enqueue(i)\n",
    "    print(four)\n",
    "    four.enqueue(1)\n",
    "    four.enqueue(2)\n",
    "    print(four)\n",
    "    four.dequeue()\n",
    "    print(four)\n",
    "    print(four.maxlen)\n",
    "```"
   ]
  },
  {
   "cell_type": "markdown",
   "id": "247f9967-d1dd-4a75-89a7-ff2512ab92bd",
   "metadata": {},
   "source": [
    "__Expected Output:__\n",
    "```\n",
    "QueueMaxlen([])\n",
    "QueueMaxlen([6, 7, 8, 9])\n",
    "QueueMaxlen([8, 9, 1, 2])\n",
    "QueueMaxlen([9, 1, 2])\n",
    "4\n",
    "```"
   ]
  },
  {
   "cell_type": "code",
   "execution_count": 1,
   "id": "a835d2a4-318e-4d09-b81e-4fcc41bacc98",
   "metadata": {},
   "outputs": [
    {
     "name": "stdout",
     "output_type": "stream",
     "text": [
      "QueueMaxlen([])\n",
      "QueueMaxlen([])\n",
      "QueueMaxlen([])\n",
      "QueueMaxlen([])\n",
      "4\n"
     ]
    }
   ],
   "source": [
    "#%%writefile queueMaxlen.py\n",
    "\n",
    "class QueueMaxlen:\n",
    "    \n",
    "    def __init__(self, maxlen = 3):\n",
    "        self.items = [None] * maxlen\n",
    "        self.maxlen = maxlen\n",
    "        self.front = -1\n",
    "        self.back = -1\n",
    "        \n",
    "    def enqueue(self, item): # if not full\n",
    "        if (self.back + 1) % self.maxlen == self.front:\n",
    "            self.dequeue()\n",
    "            self.enqueue(item)\n",
    "        elif self.front == -1:\n",
    "            self.front = 0\n",
    "            self.back = 0\n",
    "            self.items[self.back] = item\n",
    "        else:\n",
    "            self.back = (self.back + 1) % self.maxlen\n",
    "            self.items[self.back] = item\n",
    "\n",
    "    def dequeue(self): # if not empty\n",
    "        if self.front == -1:\n",
    "            print(\"The circular queue is empty\")\n",
    "        elif self.front == self.back:\n",
    "            temp = self.items[self.front]\n",
    "            self.front = -1\n",
    "            self.back = -1\n",
    "            self.items[self.back] = temp\n",
    "        else:\n",
    "            temp = self.items[self.front]\n",
    "            self.front = (self.front + 1) % self.maxlen\n",
    "            return temp\n",
    "\n",
    "    def is_empty(self):\n",
    "        return self.front == -1\n",
    "\n",
    "    def is_full(self):\n",
    "        pass\n",
    "    \n",
    "    def dumpout(self):\n",
    "        pass\n",
    "    \n",
    "    def size(self):\n",
    "        pass\n",
    "\n",
    "    def __repr__(self):            \n",
    "        pstr = 'QueueMaxlen(['\n",
    "        # your code here\n",
    "        return pstr + '])'\n",
    "    \n",
    "if __name__ == '__main__':\n",
    "    four = QueueMaxlen(maxlen = 4)\n",
    "    print(four)\n",
    "    for i in range(5, 10):        # Discard 5      \n",
    "        four.enqueue(i)\n",
    "    print(four)\n",
    "    four.enqueue(1)\n",
    "    four.enqueue(2)\n",
    "    print(four)\n",
    "    four.dequeue()\n",
    "    print(four)\n",
    "    print(four.maxlen)\n"
   ]
  },
  {
   "cell_type": "markdown",
   "id": "74f53252-3da0-44ff-b235-23f51d5b71b5",
   "metadata": {},
   "source": [
    "### Step 2: \n",
    "\n",
    "`QueueMaxlen` 클래스의 출력 기능을 조금 더 확장하여, 만약 요소가 `str` type일 경우 큰 따옴표(\")을 추가합니다.\n",
    " \n",
    " __Sample Run:__\n",
    "```\n",
    "if __name__ == '__main__':\n",
    "    sites = (\"google.com\", \"yahoo.com\", \"bing.com\", \"John\")\n",
    "    pages = QueueMaxlen(maxlen = 3)     # Discard \"google.com\"\n",
    "    for site in sites:\n",
    "        pages.enqueue(site)\n",
    "    print(pages)\n",
    "    pages.enqueue(316)\n",
    "    pages.enqueue(\"love\")\n",
    "    print(pages)\n",
    "    print(pages.maxlen)\n",
    "```\n",
    "\n",
    "__Expected Output:__\n",
    "```\n",
    "QueueMaxlen([\"yahoo.com\", \"bing.com\", \"John\"])\n",
    "QueueMaxlen([\"John\", 316, \"love\"])\n",
    "3\n",
    "```"
   ]
  },
  {
   "cell_type": "code",
   "execution_count": 103,
   "id": "4c848aa1-674c-4012-8f1e-fb778c32b9a8",
   "metadata": {},
   "outputs": [
    {
     "name": "stdout",
     "output_type": "stream",
     "text": [
      "QueueMaxlen([\"yahoo.com\", \"bing.com\", \"John\"])\n",
      "QueueMaxlen([\"John\", 316, \"love\"])\n",
      "3\n"
     ]
    }
   ],
   "source": [
    "if __name__ == '__main__':\n",
    "    sites = (\"google.com\", \"yahoo.com\", \"bing.com\", \"John\")\n",
    "    pages = QueueMaxlen(maxlen = 3)     # Discard \"google.com\"\n",
    "    for site in sites:\n",
    "        pages.enqueue(site)\n",
    "    print(pages)\n",
    "    pages.enqueue(316)\n",
    "    pages.enqueue(\"love\")\n",
    "    print(pages)\n",
    "    print(pages.maxlen)"
   ]
  },
  {
   "cell_type": "markdown",
   "id": "a6333c01-62fd-4425-a07e-315c938a086a",
   "metadata": {},
   "source": [
    "## Problem 3 - Subclass `QueueMaxlenSub`\n",
    "\n",
    "위에서는 QueueCircular 클래스를 복사하고 필요한 부분을 수정하여 QueueMaxLen 클래스를 만들었습니다. 그런데, OOP의 상속개념을 사용하면, QueueCircular에 구현한 부분을 반복하지 않고, 다른 부분만 구현하여 동일한 결과를 얻을 수 있습니다. \n",
    "\n",
    "이번에는 `QueueCircular` 클래스(Superclass)를 상속받아, `QueueMaxlenSub` 클래스(Subclass)를 구현하십시오. 객체지향프로그래밍(OOP)의 중요한 상속(inhertance)특성을 잘 활용하고, __반드시 필요한 메소드들만__ 구현하십시오. 모든 기능은 Problem 2와 같고, 테스트 스크립트도 같지만(물론, 클래스 이름은 다름), 여기 코딩은 좀 더 간단해지는 것을 확인할 수 있습니다.    \n",
    "\n",
    "- 여기서 클래스 이름은 `QueueMaxlenSub`인 것에 유의하십시오. "
   ]
  },
  {
   "cell_type": "code",
   "execution_count": null,
   "id": "e6fb2993-000f-4cd5-baa9-81b9f6cef1f2",
   "metadata": {},
   "outputs": [],
   "source": [
    "#%%writefile queueMaxlenSub.py\n",
    "\n",
    "None"
   ]
  },
  {
   "cell_type": "markdown",
   "id": "05b5c346-1421-48bf-be85-9a3a18cba3ac",
   "metadata": {},
   "source": [
    "### Test 1"
   ]
  },
  {
   "cell_type": "code",
   "execution_count": 14,
   "id": "8aada3d0-b2fb-45e8-9339-a96b05f2fe64",
   "metadata": {},
   "outputs": [
    {
     "name": "stdout",
     "output_type": "stream",
     "text": [
      "QueueMaxlen([])\n",
      "QueueMaxlen([6, 7, 8, 9])\n",
      "QueueMaxlen([8, 9, 1, 2])\n",
      "QueueMaxlen([9, 1, 2])\n",
      "4\n"
     ]
    }
   ],
   "source": [
    "if __name__ == '__main__':\n",
    "    four = QueueMaxlenSub(maxlen = 4)\n",
    "    print(four)\n",
    "    for i in range(5, 10):        # Discard 5      \n",
    "        four.enqueue(i)\n",
    "    print(four)\n",
    "    four.enqueue(1)\n",
    "    four.enqueue(2)\n",
    "    print(four)\n",
    "    four.dequeue()\n",
    "    print(four)\n",
    "    print(four.maxlen)"
   ]
  },
  {
   "cell_type": "markdown",
   "id": "71e3ec7a-6303-491e-8c90-7aacd670d8a8",
   "metadata": {},
   "source": [
    "### Test 2"
   ]
  },
  {
   "cell_type": "code",
   "execution_count": 15,
   "id": "0a5a478e-37c2-43fc-8e46-68e94ad1b4cd",
   "metadata": {},
   "outputs": [
    {
     "name": "stdout",
     "output_type": "stream",
     "text": [
      "QueueMaxlen([\"yahoo.com\", \"bing.com\", \"John\"])\n",
      "QueueMaxlen([316, \"love\", 2819])\n",
      "3\n"
     ]
    }
   ],
   "source": [
    "if __name__ == '__main__':\n",
    "    sites = (\"google.com\", \"yahoo.com\", \"bing.com\", \"John\")\n",
    "    pages = QueueMaxlenSub(maxlen = 3)     # Discard \"google.com\"\n",
    "    for site in sites:\n",
    "        pages.enqueue(site)\n",
    "    print(pages)\n",
    "    pages.enqueue(316)\n",
    "    pages.enqueue(\"love\")\n",
    "    pages.enqueue(2819)\n",
    "    print(pages)\n",
    "    print(pages.maxlen)"
   ]
  },
  {
   "cell_type": "markdown",
   "id": "a3fa2a79-9559-4b52-b7f1-63ed161190cf",
   "metadata": {},
   "source": [
    "# Challenge Bonus Problem: 2points + 2points(발표 포함)\n",
    "\n",
    "이 보너스 문제는 상대평가와 절대평가를 병행합니다. 절대 평가로 아래 명시된 구현 조건을 다 만족하면 2점이 주어지고, 또한 상대적으로 가장 잘 구현한 코드와 정리(문서)한 학우들 1~3명에게 Extrea 2점이 주어지며, 시간이 허락되면 수업 시간에 발표를 진행합니다.  지금까지 공부해온 것처럼, 코딩을 잘할 뿐만 아니라 독자들이 잘 이해하며 Presentation(or Documentation)하는 것이 중요합니다. "
   ]
  },
  {
   "cell_type": "markdown",
   "id": "8722be22-a164-4085-bdac-fdcb253b4a36",
   "metadata": {},
   "source": [
    "__Dynamically Resizable Circular Queue__\n",
    "\n",
    "- 큐의 요소를 저장하는 items의 크기를 Successive Doubling 알고리즘으로 구현하는 클래스는 __QueueCircularDy__, 반면에 일정한 크기로 items를 증가하는 클래스는 __QueueCircularRe__ 로 각각 이름하여 구현합니다. \n",
    "\n",
    "- Successive Doubling은 Queue size가 full인 상태(size == capacity)에서 enqueue 요청이 있을 경우, Queue capacity를 두 배로 확장합니다. 또한 dequeue를 실행한 직후, Queue size를 점검하여 capacity의 quarter full(1/4)이면, Queue capacity를 half(1/2)로 줄입니다.  \n",
    "\n",
    "- QueueCirculaRe 즉 Fixed size로 capacity를 조정할 때는 일정한 크기 N(N = 10, 100 혹은 1,000)만큼씩 늘리거나 줄입니다. Queue size가 full인 상태(size == capacity)에서 enqueue 요청이 있을 경우, Queue capacity를 일정한 크기 N만큼을 늘립니다. 또한 dequeue를 실행한 직후, Queue size를 점검하여 capacity가 2N 만큼 여유가 있게 되면, Queue capacity를 N만큼 줄입니다.   \n",
    "    - 예를 들면, N = 10 인 경우입니다. 10씩 증가하며 capacity = 50, size = 45인 상태에서, 연속된 dequeue로 말미암아 size가 30이 되면, capacity를 50에서 40으로 줄입니다. \n",
    "    - 참고로, QueueCircularRe 경우, capacity를 어떻게 조정하는 것이 바람직한지 알려지지 않았습니다.  다만, 여기 spec은 나의 제안이며, 만약 여러분에게 더 좋은 제안이나 대안이 있으면 여기서 설명하고 구현하는 것을 환영합니다.    \n",
    "\n",
    "- 각각의 클래스의 Time Complexity 테스트하는 코드를 작성하십시오.   \n",
    "    - 테스트할 때는 각각의 클래스의 queue 요소들이 증가할 때와 감소할 때, capacity와 size의 변화를 관찰할 수 있어야 합니다. \n",
    "    - Queue items의 빈 곳은 None으로 채워둡니다.    \n",
    "\n",
    "- 각각의 클래스의 Time Complexity 테스트하는 코드를 작성하십시오.   \n",
    "    - 테스트할 때는 각각의 클래스의 queue 요소들이 증가할 때와 감소할 때, capacity와 size의 변화를 관찰할 수 있어야 합니다. \n",
    "    - Queue items의 빈 곳은 None으로 채워둡니다. \n",
    "\n",
    "- 각각의 클래스에 대해 Empirical Time analysis를 진행하여 O(n) 혹은 O(n^2)인지를 숫자적으로 계산하고, 또한 그래프로 나타내십시오. "
   ]
  },
  {
   "cell_type": "code",
   "execution_count": null,
   "id": "8fae41ef-fa51-4d07-a02c-86cdbf5cbb1e",
   "metadata": {},
   "outputs": [],
   "source": []
  },
  {
   "cell_type": "markdown",
   "id": "32e2f6bf-3a77-4629-af52-1755ce53b80c",
   "metadata": {},
   "source": [
    "# Applications of Circular Queue\n",
    "- CPU scheduling\n",
    "- Memory management\n",
    "- Traffic Management"
   ]
  },
  {
   "cell_type": "markdown",
   "id": "b3c77f2a-9f54-48ec-81bb-6e92ab6a7e96",
   "metadata": {},
   "source": [
    "# Reference\n",
    "- Circular Queue Data Structure, [Here](https://www.programiz.com/dsa/circular-queue)"
   ]
  },
  {
   "cell_type": "markdown",
   "id": "369bce1b-21a1-4af2-9ded-8e0312ff278f",
   "metadata": {},
   "source": [
    "------\n",
    "또 어려서부터 성경을 알았나니 성경은 능히 너로 하여금 그리스도 예수 안에 있는 믿음으로 말미암아 구원에 이르는 지혜가 있게 하느니라 모든 성경은 하나님의 감동으로 된 것으로 교훈과 책망과 바르게 함과 의로 교육하기에 유익하니 이는 하나님의 사람으로 온전하게 하며 모든 선한 일을 행할 능력을 갖추게 하려 함이라 (딤후3:15-17)"
   ]
  }
 ],
 "metadata": {
  "kernelspec": {
   "display_name": "Python 3 (ipykernel)",
   "language": "python",
   "name": "python3"
  },
  "language_info": {
   "codemirror_mode": {
    "name": "ipython",
    "version": 3
   },
   "file_extension": ".py",
   "mimetype": "text/x-python",
   "name": "python",
   "nbconvert_exporter": "python",
   "pygments_lexer": "ipython3",
   "version": "3.8.12"
  },
  "toc-autonumbering": true
 },
 "nbformat": 4,
 "nbformat_minor": 5
}
