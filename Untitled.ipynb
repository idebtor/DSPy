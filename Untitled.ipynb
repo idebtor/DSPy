{
 "cells": [
  {
   "cell_type": "code",
   "execution_count": 1,
   "id": "f5672323-f60f-4430-b042-5be5de5c01ca",
   "metadata": {},
   "outputs": [],
   "source": [
    "def mean(data):\n",
    "    sum = 0\n",
    "    try:\n",
    "        for x in data:\n",
    "            sum += x\n",
    "        return sum / len(data)\n",
    "    except ZeroDivisionError:\n",
    "        print('Joyful error: Divide by zero')\n",
    "    except TypeError:\n",
    "        print('Joyful error: The list must contain only numbers')\n"
   ]
  },
  {
   "cell_type": "code",
   "execution_count": 2,
   "id": "bf0f6f20-98e3-499d-8d06-ba8612ce4abb",
   "metadata": {},
   "outputs": [
    {
     "name": "stdout",
     "output_type": "stream",
     "text": [
      "Joyful error: The list must contain only numbers\n",
      "Joyful error: Divide by zero\n",
      "3.0 None None\n"
     ]
    }
   ],
   "source": [
    "a = mean([1,3,2,4,5])\n",
    "b = mean([1,3,'5',4,5])\n",
    "c = mean([])\n",
    "print(a, b, c)\n"
   ]
  },
  {
   "cell_type": "code",
   "execution_count": null,
   "id": "cac3e17f-dee8-40c9-b1ec-5d01fa0b03a0",
   "metadata": {},
   "outputs": [],
   "source": [
    "def mean(data):\n",
    "    sum = 0\n",
    "    try:\n",
    "        for x in data:\n",
    "            sum += x\n",
    "        return sum / len(data)\n",
    "        return mean\n",
    "    except ZeroDivisionError:\n",
    "        print('The list must have at least one element')\n",
    "    except TypeError as e:\n",
    "        print('The list must contain only numbers')"
   ]
  },
  {
   "cell_type": "code",
   "execution_count": null,
   "id": "a7bbc00b-ef6e-477f-a76a-cbdecda7e71a",
   "metadata": {},
   "outputs": [],
   "source": [
    "a = mean([1,3,2,4,5])\n",
    "b = mean([1,3,'5',4,5])\n",
    "c = mean([])\n",
    "print(a, b, c)\n"
   ]
  },
  {
   "cell_type": "code",
   "execution_count": null,
   "id": "7e08bed1-8919-42fb-9848-d45ef495a1c4",
   "metadata": {},
   "outputs": [],
   "source": [
    "def getSum(data):\n",
    "    total = 0\n",
    "    if len(data) < 1:\n",
    "        raise ValueError('Joyful error: The list must have at least one element')\n",
    "    try:\n",
    "        for x in data:\n",
    "            total += x\n",
    "        return total\n",
    "    except ValueError:\n",
    "        print('Joyful error: The list must contain only numbers')\n",
    "    except TypeError:\n",
    "        print('Joyful error: Invalid number found in the list')\n"
   ]
  },
  {
   "cell_type": "code",
   "execution_count": null,
   "id": "af5760d4-1680-453b-8c8e-3f1b341dd164",
   "metadata": {},
   "outputs": [],
   "source": [
    "try:\n",
    "    a = getSum([1,3,2,4,5])\n",
    "    b = getSum([1,3,'5',4,5])\n",
    "    c = getSum([])\n",
    "except Exception as e:\n",
    "    print(e)\n",
    "print(a, b, c)\n"
   ]
  },
  {
   "cell_type": "code",
   "execution_count": 3,
   "id": "4b56577c-8b8f-4cd8-a94c-54528a9e5c85",
   "metadata": {},
   "outputs": [],
   "source": [
    "def getSum(data):\n",
    "    total = 0\n",
    "    if len(data) < 1:\n",
    "        raise ValueError('Joyful error: Have at least one element')\n",
    "    try:\n",
    "        for x in data:\n",
    "            total += x\n",
    "        return total\n",
    "    except TypeError as e:\n",
    "        print('Joyful error: Invalid number found in the list')\n",
    "        print(e)"
   ]
  },
  {
   "cell_type": "code",
   "execution_count": 4,
   "id": "ae0c1cd1-679c-4e49-841f-d238238d6068",
   "metadata": {},
   "outputs": [
    {
     "name": "stdout",
     "output_type": "stream",
     "text": [
      "Joyful error: Invalid number found in the list\n",
      "unsupported operand type(s) for +=: 'int' and 'str'\n",
      "Joyful error: Have at least one element\n"
     ]
    }
   ],
   "source": [
    "try:\n",
    "    a = getSum([1,3,2,4,5])\n",
    "    b = getSum([1,3,'5',4,5])\n",
    "    c = getSum([])\n",
    "    print(a, b, c)\n",
    "except Exception as e:\n",
    "    print(e)"
   ]
  },
  {
   "cell_type": "code",
   "execution_count": null,
   "id": "0c654fdf-d37e-49ae-8a47-ddf45d2e3d01",
   "metadata": {},
   "outputs": [],
   "source": []
  },
  {
   "cell_type": "code",
   "execution_count": null,
   "id": "1d995132-b66d-4428-9ce1-ec229ebcbc7d",
   "metadata": {},
   "outputs": [],
   "source": []
  }
 ],
 "metadata": {
  "kernelspec": {
   "display_name": "Python 3",
   "language": "python",
   "name": "python3"
  },
  "language_info": {
   "codemirror_mode": {
    "name": "ipython",
    "version": 3
   },
   "file_extension": ".py",
   "mimetype": "text/x-python",
   "name": "python",
   "nbconvert_exporter": "python",
   "pygments_lexer": "ipython3",
   "version": "3.8.8"
  }
 },
 "nbformat": 4,
 "nbformat_minor": 5
}
